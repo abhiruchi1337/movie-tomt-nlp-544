{
  "nbformat": 4,
  "nbformat_minor": 0,
  "metadata": {
    "colab": {
      "provenance": [],
      "collapsed_sections": [
        "mdqkz2oPjrhx",
        "4xJNlOza2qpU"
      ]
    },
    "kernelspec": {
      "name": "python3",
      "display_name": "Python 3"
    },
    "language_info": {
      "name": "python"
    },
    "accelerator": "GPU",
    "gpuClass": "standard",
    "widgets": {
      "application/vnd.jupyter.widget-state+json": {
        "a5d9d70986244aa3b4db4156724a49de": {
          "model_module": "@jupyter-widgets/controls",
          "model_name": "HBoxModel",
          "model_module_version": "1.5.0",
          "state": {
            "_dom_classes": [],
            "_model_module": "@jupyter-widgets/controls",
            "_model_module_version": "1.5.0",
            "_model_name": "HBoxModel",
            "_view_count": null,
            "_view_module": "@jupyter-widgets/controls",
            "_view_module_version": "1.5.0",
            "_view_name": "HBoxView",
            "box_style": "",
            "children": [
              "IPY_MODEL_7fb7be95601b4edaaa0cde6074d1be46",
              "IPY_MODEL_e900d1206559483d9ef0e46107374419",
              "IPY_MODEL_6de928f0eadf497fb7f7b8179dcf8e1e"
            ],
            "layout": "IPY_MODEL_feacbad0f48e4dfa8d391ee51ae5cc3e"
          }
        },
        "7fb7be95601b4edaaa0cde6074d1be46": {
          "model_module": "@jupyter-widgets/controls",
          "model_name": "HTMLModel",
          "model_module_version": "1.5.0",
          "state": {
            "_dom_classes": [],
            "_model_module": "@jupyter-widgets/controls",
            "_model_module_version": "1.5.0",
            "_model_name": "HTMLModel",
            "_view_count": null,
            "_view_module": "@jupyter-widgets/controls",
            "_view_module_version": "1.5.0",
            "_view_name": "HTMLView",
            "description": "",
            "description_tooltip": null,
            "layout": "IPY_MODEL_ae734a07a2f44813b27a3b788b7d6589",
            "placeholder": "​",
            "style": "IPY_MODEL_a35fe1429ce74fbb80c488998ae81e9c",
            "value": "Downloading: 100%"
          }
        },
        "e900d1206559483d9ef0e46107374419": {
          "model_module": "@jupyter-widgets/controls",
          "model_name": "FloatProgressModel",
          "model_module_version": "1.5.0",
          "state": {
            "_dom_classes": [],
            "_model_module": "@jupyter-widgets/controls",
            "_model_module_version": "1.5.0",
            "_model_name": "FloatProgressModel",
            "_view_count": null,
            "_view_module": "@jupyter-widgets/controls",
            "_view_module_version": "1.5.0",
            "_view_name": "ProgressView",
            "bar_style": "success",
            "description": "",
            "description_tooltip": null,
            "layout": "IPY_MODEL_cead1e235547419bb9db92402d886b23",
            "max": 231508,
            "min": 0,
            "orientation": "horizontal",
            "style": "IPY_MODEL_33cf755a4e674eb8b0ca4d27bef1d391",
            "value": 231508
          }
        },
        "6de928f0eadf497fb7f7b8179dcf8e1e": {
          "model_module": "@jupyter-widgets/controls",
          "model_name": "HTMLModel",
          "model_module_version": "1.5.0",
          "state": {
            "_dom_classes": [],
            "_model_module": "@jupyter-widgets/controls",
            "_model_module_version": "1.5.0",
            "_model_name": "HTMLModel",
            "_view_count": null,
            "_view_module": "@jupyter-widgets/controls",
            "_view_module_version": "1.5.0",
            "_view_name": "HTMLView",
            "description": "",
            "description_tooltip": null,
            "layout": "IPY_MODEL_7ebec6b51f5a478c9ffd7dffb3ca0e67",
            "placeholder": "​",
            "style": "IPY_MODEL_3597d1dabddb41b4be0c4117b897fc7c",
            "value": " 232k/232k [00:00&lt;00:00, 7.70kB/s]"
          }
        },
        "feacbad0f48e4dfa8d391ee51ae5cc3e": {
          "model_module": "@jupyter-widgets/base",
          "model_name": "LayoutModel",
          "model_module_version": "1.2.0",
          "state": {
            "_model_module": "@jupyter-widgets/base",
            "_model_module_version": "1.2.0",
            "_model_name": "LayoutModel",
            "_view_count": null,
            "_view_module": "@jupyter-widgets/base",
            "_view_module_version": "1.2.0",
            "_view_name": "LayoutView",
            "align_content": null,
            "align_items": null,
            "align_self": null,
            "border": null,
            "bottom": null,
            "display": null,
            "flex": null,
            "flex_flow": null,
            "grid_area": null,
            "grid_auto_columns": null,
            "grid_auto_flow": null,
            "grid_auto_rows": null,
            "grid_column": null,
            "grid_gap": null,
            "grid_row": null,
            "grid_template_areas": null,
            "grid_template_columns": null,
            "grid_template_rows": null,
            "height": null,
            "justify_content": null,
            "justify_items": null,
            "left": null,
            "margin": null,
            "max_height": null,
            "max_width": null,
            "min_height": null,
            "min_width": null,
            "object_fit": null,
            "object_position": null,
            "order": null,
            "overflow": null,
            "overflow_x": null,
            "overflow_y": null,
            "padding": null,
            "right": null,
            "top": null,
            "visibility": null,
            "width": null
          }
        },
        "ae734a07a2f44813b27a3b788b7d6589": {
          "model_module": "@jupyter-widgets/base",
          "model_name": "LayoutModel",
          "model_module_version": "1.2.0",
          "state": {
            "_model_module": "@jupyter-widgets/base",
            "_model_module_version": "1.2.0",
            "_model_name": "LayoutModel",
            "_view_count": null,
            "_view_module": "@jupyter-widgets/base",
            "_view_module_version": "1.2.0",
            "_view_name": "LayoutView",
            "align_content": null,
            "align_items": null,
            "align_self": null,
            "border": null,
            "bottom": null,
            "display": null,
            "flex": null,
            "flex_flow": null,
            "grid_area": null,
            "grid_auto_columns": null,
            "grid_auto_flow": null,
            "grid_auto_rows": null,
            "grid_column": null,
            "grid_gap": null,
            "grid_row": null,
            "grid_template_areas": null,
            "grid_template_columns": null,
            "grid_template_rows": null,
            "height": null,
            "justify_content": null,
            "justify_items": null,
            "left": null,
            "margin": null,
            "max_height": null,
            "max_width": null,
            "min_height": null,
            "min_width": null,
            "object_fit": null,
            "object_position": null,
            "order": null,
            "overflow": null,
            "overflow_x": null,
            "overflow_y": null,
            "padding": null,
            "right": null,
            "top": null,
            "visibility": null,
            "width": null
          }
        },
        "a35fe1429ce74fbb80c488998ae81e9c": {
          "model_module": "@jupyter-widgets/controls",
          "model_name": "DescriptionStyleModel",
          "model_module_version": "1.5.0",
          "state": {
            "_model_module": "@jupyter-widgets/controls",
            "_model_module_version": "1.5.0",
            "_model_name": "DescriptionStyleModel",
            "_view_count": null,
            "_view_module": "@jupyter-widgets/base",
            "_view_module_version": "1.2.0",
            "_view_name": "StyleView",
            "description_width": ""
          }
        },
        "cead1e235547419bb9db92402d886b23": {
          "model_module": "@jupyter-widgets/base",
          "model_name": "LayoutModel",
          "model_module_version": "1.2.0",
          "state": {
            "_model_module": "@jupyter-widgets/base",
            "_model_module_version": "1.2.0",
            "_model_name": "LayoutModel",
            "_view_count": null,
            "_view_module": "@jupyter-widgets/base",
            "_view_module_version": "1.2.0",
            "_view_name": "LayoutView",
            "align_content": null,
            "align_items": null,
            "align_self": null,
            "border": null,
            "bottom": null,
            "display": null,
            "flex": null,
            "flex_flow": null,
            "grid_area": null,
            "grid_auto_columns": null,
            "grid_auto_flow": null,
            "grid_auto_rows": null,
            "grid_column": null,
            "grid_gap": null,
            "grid_row": null,
            "grid_template_areas": null,
            "grid_template_columns": null,
            "grid_template_rows": null,
            "height": null,
            "justify_content": null,
            "justify_items": null,
            "left": null,
            "margin": null,
            "max_height": null,
            "max_width": null,
            "min_height": null,
            "min_width": null,
            "object_fit": null,
            "object_position": null,
            "order": null,
            "overflow": null,
            "overflow_x": null,
            "overflow_y": null,
            "padding": null,
            "right": null,
            "top": null,
            "visibility": null,
            "width": null
          }
        },
        "33cf755a4e674eb8b0ca4d27bef1d391": {
          "model_module": "@jupyter-widgets/controls",
          "model_name": "ProgressStyleModel",
          "model_module_version": "1.5.0",
          "state": {
            "_model_module": "@jupyter-widgets/controls",
            "_model_module_version": "1.5.0",
            "_model_name": "ProgressStyleModel",
            "_view_count": null,
            "_view_module": "@jupyter-widgets/base",
            "_view_module_version": "1.2.0",
            "_view_name": "StyleView",
            "bar_color": null,
            "description_width": ""
          }
        },
        "7ebec6b51f5a478c9ffd7dffb3ca0e67": {
          "model_module": "@jupyter-widgets/base",
          "model_name": "LayoutModel",
          "model_module_version": "1.2.0",
          "state": {
            "_model_module": "@jupyter-widgets/base",
            "_model_module_version": "1.2.0",
            "_model_name": "LayoutModel",
            "_view_count": null,
            "_view_module": "@jupyter-widgets/base",
            "_view_module_version": "1.2.0",
            "_view_name": "LayoutView",
            "align_content": null,
            "align_items": null,
            "align_self": null,
            "border": null,
            "bottom": null,
            "display": null,
            "flex": null,
            "flex_flow": null,
            "grid_area": null,
            "grid_auto_columns": null,
            "grid_auto_flow": null,
            "grid_auto_rows": null,
            "grid_column": null,
            "grid_gap": null,
            "grid_row": null,
            "grid_template_areas": null,
            "grid_template_columns": null,
            "grid_template_rows": null,
            "height": null,
            "justify_content": null,
            "justify_items": null,
            "left": null,
            "margin": null,
            "max_height": null,
            "max_width": null,
            "min_height": null,
            "min_width": null,
            "object_fit": null,
            "object_position": null,
            "order": null,
            "overflow": null,
            "overflow_x": null,
            "overflow_y": null,
            "padding": null,
            "right": null,
            "top": null,
            "visibility": null,
            "width": null
          }
        },
        "3597d1dabddb41b4be0c4117b897fc7c": {
          "model_module": "@jupyter-widgets/controls",
          "model_name": "DescriptionStyleModel",
          "model_module_version": "1.5.0",
          "state": {
            "_model_module": "@jupyter-widgets/controls",
            "_model_module_version": "1.5.0",
            "_model_name": "DescriptionStyleModel",
            "_view_count": null,
            "_view_module": "@jupyter-widgets/base",
            "_view_module_version": "1.2.0",
            "_view_name": "StyleView",
            "description_width": ""
          }
        },
        "f0d887a3cb2543fa9449c786f37f1e74": {
          "model_module": "@jupyter-widgets/controls",
          "model_name": "HBoxModel",
          "model_module_version": "1.5.0",
          "state": {
            "_dom_classes": [],
            "_model_module": "@jupyter-widgets/controls",
            "_model_module_version": "1.5.0",
            "_model_name": "HBoxModel",
            "_view_count": null,
            "_view_module": "@jupyter-widgets/controls",
            "_view_module_version": "1.5.0",
            "_view_name": "HBoxView",
            "box_style": "",
            "children": [
              "IPY_MODEL_983e237e958a41ba9ff6e7240f737957",
              "IPY_MODEL_927fed8fdbbc485c8e98725b4bf249ca",
              "IPY_MODEL_61a3cfa8883e4224a45925b7086e0435"
            ],
            "layout": "IPY_MODEL_0f11de31afc04530bc09df8164d46cc5"
          }
        },
        "983e237e958a41ba9ff6e7240f737957": {
          "model_module": "@jupyter-widgets/controls",
          "model_name": "HTMLModel",
          "model_module_version": "1.5.0",
          "state": {
            "_dom_classes": [],
            "_model_module": "@jupyter-widgets/controls",
            "_model_module_version": "1.5.0",
            "_model_name": "HTMLModel",
            "_view_count": null,
            "_view_module": "@jupyter-widgets/controls",
            "_view_module_version": "1.5.0",
            "_view_name": "HTMLView",
            "description": "",
            "description_tooltip": null,
            "layout": "IPY_MODEL_4ba6d0ffdd1044f2974487e54d673c94",
            "placeholder": "​",
            "style": "IPY_MODEL_4f08c6028ea64d278b92bedee54ff2d1",
            "value": "Downloading: 100%"
          }
        },
        "927fed8fdbbc485c8e98725b4bf249ca": {
          "model_module": "@jupyter-widgets/controls",
          "model_name": "FloatProgressModel",
          "model_module_version": "1.5.0",
          "state": {
            "_dom_classes": [],
            "_model_module": "@jupyter-widgets/controls",
            "_model_module_version": "1.5.0",
            "_model_name": "FloatProgressModel",
            "_view_count": null,
            "_view_module": "@jupyter-widgets/controls",
            "_view_module_version": "1.5.0",
            "_view_name": "ProgressView",
            "bar_style": "success",
            "description": "",
            "description_tooltip": null,
            "layout": "IPY_MODEL_0e3b2c52ed1e406d8771efa51ee64102",
            "max": 28,
            "min": 0,
            "orientation": "horizontal",
            "style": "IPY_MODEL_76647794bded472da7a9de5861640346",
            "value": 28
          }
        },
        "61a3cfa8883e4224a45925b7086e0435": {
          "model_module": "@jupyter-widgets/controls",
          "model_name": "HTMLModel",
          "model_module_version": "1.5.0",
          "state": {
            "_dom_classes": [],
            "_model_module": "@jupyter-widgets/controls",
            "_model_module_version": "1.5.0",
            "_model_name": "HTMLModel",
            "_view_count": null,
            "_view_module": "@jupyter-widgets/controls",
            "_view_module_version": "1.5.0",
            "_view_name": "HTMLView",
            "description": "",
            "description_tooltip": null,
            "layout": "IPY_MODEL_3af81114fe73435a8b7a8b4b2d09b70a",
            "placeholder": "​",
            "style": "IPY_MODEL_70d3397f260d4cdcadc7500964e261ec",
            "value": " 28.0/28.0 [00:00&lt;00:00, 219B/s]"
          }
        },
        "0f11de31afc04530bc09df8164d46cc5": {
          "model_module": "@jupyter-widgets/base",
          "model_name": "LayoutModel",
          "model_module_version": "1.2.0",
          "state": {
            "_model_module": "@jupyter-widgets/base",
            "_model_module_version": "1.2.0",
            "_model_name": "LayoutModel",
            "_view_count": null,
            "_view_module": "@jupyter-widgets/base",
            "_view_module_version": "1.2.0",
            "_view_name": "LayoutView",
            "align_content": null,
            "align_items": null,
            "align_self": null,
            "border": null,
            "bottom": null,
            "display": null,
            "flex": null,
            "flex_flow": null,
            "grid_area": null,
            "grid_auto_columns": null,
            "grid_auto_flow": null,
            "grid_auto_rows": null,
            "grid_column": null,
            "grid_gap": null,
            "grid_row": null,
            "grid_template_areas": null,
            "grid_template_columns": null,
            "grid_template_rows": null,
            "height": null,
            "justify_content": null,
            "justify_items": null,
            "left": null,
            "margin": null,
            "max_height": null,
            "max_width": null,
            "min_height": null,
            "min_width": null,
            "object_fit": null,
            "object_position": null,
            "order": null,
            "overflow": null,
            "overflow_x": null,
            "overflow_y": null,
            "padding": null,
            "right": null,
            "top": null,
            "visibility": null,
            "width": null
          }
        },
        "4ba6d0ffdd1044f2974487e54d673c94": {
          "model_module": "@jupyter-widgets/base",
          "model_name": "LayoutModel",
          "model_module_version": "1.2.0",
          "state": {
            "_model_module": "@jupyter-widgets/base",
            "_model_module_version": "1.2.0",
            "_model_name": "LayoutModel",
            "_view_count": null,
            "_view_module": "@jupyter-widgets/base",
            "_view_module_version": "1.2.0",
            "_view_name": "LayoutView",
            "align_content": null,
            "align_items": null,
            "align_self": null,
            "border": null,
            "bottom": null,
            "display": null,
            "flex": null,
            "flex_flow": null,
            "grid_area": null,
            "grid_auto_columns": null,
            "grid_auto_flow": null,
            "grid_auto_rows": null,
            "grid_column": null,
            "grid_gap": null,
            "grid_row": null,
            "grid_template_areas": null,
            "grid_template_columns": null,
            "grid_template_rows": null,
            "height": null,
            "justify_content": null,
            "justify_items": null,
            "left": null,
            "margin": null,
            "max_height": null,
            "max_width": null,
            "min_height": null,
            "min_width": null,
            "object_fit": null,
            "object_position": null,
            "order": null,
            "overflow": null,
            "overflow_x": null,
            "overflow_y": null,
            "padding": null,
            "right": null,
            "top": null,
            "visibility": null,
            "width": null
          }
        },
        "4f08c6028ea64d278b92bedee54ff2d1": {
          "model_module": "@jupyter-widgets/controls",
          "model_name": "DescriptionStyleModel",
          "model_module_version": "1.5.0",
          "state": {
            "_model_module": "@jupyter-widgets/controls",
            "_model_module_version": "1.5.0",
            "_model_name": "DescriptionStyleModel",
            "_view_count": null,
            "_view_module": "@jupyter-widgets/base",
            "_view_module_version": "1.2.0",
            "_view_name": "StyleView",
            "description_width": ""
          }
        },
        "0e3b2c52ed1e406d8771efa51ee64102": {
          "model_module": "@jupyter-widgets/base",
          "model_name": "LayoutModel",
          "model_module_version": "1.2.0",
          "state": {
            "_model_module": "@jupyter-widgets/base",
            "_model_module_version": "1.2.0",
            "_model_name": "LayoutModel",
            "_view_count": null,
            "_view_module": "@jupyter-widgets/base",
            "_view_module_version": "1.2.0",
            "_view_name": "LayoutView",
            "align_content": null,
            "align_items": null,
            "align_self": null,
            "border": null,
            "bottom": null,
            "display": null,
            "flex": null,
            "flex_flow": null,
            "grid_area": null,
            "grid_auto_columns": null,
            "grid_auto_flow": null,
            "grid_auto_rows": null,
            "grid_column": null,
            "grid_gap": null,
            "grid_row": null,
            "grid_template_areas": null,
            "grid_template_columns": null,
            "grid_template_rows": null,
            "height": null,
            "justify_content": null,
            "justify_items": null,
            "left": null,
            "margin": null,
            "max_height": null,
            "max_width": null,
            "min_height": null,
            "min_width": null,
            "object_fit": null,
            "object_position": null,
            "order": null,
            "overflow": null,
            "overflow_x": null,
            "overflow_y": null,
            "padding": null,
            "right": null,
            "top": null,
            "visibility": null,
            "width": null
          }
        },
        "76647794bded472da7a9de5861640346": {
          "model_module": "@jupyter-widgets/controls",
          "model_name": "ProgressStyleModel",
          "model_module_version": "1.5.0",
          "state": {
            "_model_module": "@jupyter-widgets/controls",
            "_model_module_version": "1.5.0",
            "_model_name": "ProgressStyleModel",
            "_view_count": null,
            "_view_module": "@jupyter-widgets/base",
            "_view_module_version": "1.2.0",
            "_view_name": "StyleView",
            "bar_color": null,
            "description_width": ""
          }
        },
        "3af81114fe73435a8b7a8b4b2d09b70a": {
          "model_module": "@jupyter-widgets/base",
          "model_name": "LayoutModel",
          "model_module_version": "1.2.0",
          "state": {
            "_model_module": "@jupyter-widgets/base",
            "_model_module_version": "1.2.0",
            "_model_name": "LayoutModel",
            "_view_count": null,
            "_view_module": "@jupyter-widgets/base",
            "_view_module_version": "1.2.0",
            "_view_name": "LayoutView",
            "align_content": null,
            "align_items": null,
            "align_self": null,
            "border": null,
            "bottom": null,
            "display": null,
            "flex": null,
            "flex_flow": null,
            "grid_area": null,
            "grid_auto_columns": null,
            "grid_auto_flow": null,
            "grid_auto_rows": null,
            "grid_column": null,
            "grid_gap": null,
            "grid_row": null,
            "grid_template_areas": null,
            "grid_template_columns": null,
            "grid_template_rows": null,
            "height": null,
            "justify_content": null,
            "justify_items": null,
            "left": null,
            "margin": null,
            "max_height": null,
            "max_width": null,
            "min_height": null,
            "min_width": null,
            "object_fit": null,
            "object_position": null,
            "order": null,
            "overflow": null,
            "overflow_x": null,
            "overflow_y": null,
            "padding": null,
            "right": null,
            "top": null,
            "visibility": null,
            "width": null
          }
        },
        "70d3397f260d4cdcadc7500964e261ec": {
          "model_module": "@jupyter-widgets/controls",
          "model_name": "DescriptionStyleModel",
          "model_module_version": "1.5.0",
          "state": {
            "_model_module": "@jupyter-widgets/controls",
            "_model_module_version": "1.5.0",
            "_model_name": "DescriptionStyleModel",
            "_view_count": null,
            "_view_module": "@jupyter-widgets/base",
            "_view_module_version": "1.2.0",
            "_view_name": "StyleView",
            "description_width": ""
          }
        },
        "973dcedc9ba24c68b309e8ba7537e75f": {
          "model_module": "@jupyter-widgets/controls",
          "model_name": "HBoxModel",
          "model_module_version": "1.5.0",
          "state": {
            "_dom_classes": [],
            "_model_module": "@jupyter-widgets/controls",
            "_model_module_version": "1.5.0",
            "_model_name": "HBoxModel",
            "_view_count": null,
            "_view_module": "@jupyter-widgets/controls",
            "_view_module_version": "1.5.0",
            "_view_name": "HBoxView",
            "box_style": "",
            "children": [
              "IPY_MODEL_513448cf9f6d4ec6850b51a023891569",
              "IPY_MODEL_9c12a80ed9ec4e2ebdf68f5d79ac5c4d",
              "IPY_MODEL_b298b984f1aa41918de6235337965fbf"
            ],
            "layout": "IPY_MODEL_b809ed74d38f4a65a157a5da33406157"
          }
        },
        "513448cf9f6d4ec6850b51a023891569": {
          "model_module": "@jupyter-widgets/controls",
          "model_name": "HTMLModel",
          "model_module_version": "1.5.0",
          "state": {
            "_dom_classes": [],
            "_model_module": "@jupyter-widgets/controls",
            "_model_module_version": "1.5.0",
            "_model_name": "HTMLModel",
            "_view_count": null,
            "_view_module": "@jupyter-widgets/controls",
            "_view_module_version": "1.5.0",
            "_view_name": "HTMLView",
            "description": "",
            "description_tooltip": null,
            "layout": "IPY_MODEL_25dd3d1c302b4c718c8dce1842c07d1e",
            "placeholder": "​",
            "style": "IPY_MODEL_ce967f6d0d444d308b783481c1a1dd4d",
            "value": "Downloading: 100%"
          }
        },
        "9c12a80ed9ec4e2ebdf68f5d79ac5c4d": {
          "model_module": "@jupyter-widgets/controls",
          "model_name": "FloatProgressModel",
          "model_module_version": "1.5.0",
          "state": {
            "_dom_classes": [],
            "_model_module": "@jupyter-widgets/controls",
            "_model_module_version": "1.5.0",
            "_model_name": "FloatProgressModel",
            "_view_count": null,
            "_view_module": "@jupyter-widgets/controls",
            "_view_module_version": "1.5.0",
            "_view_name": "ProgressView",
            "bar_style": "success",
            "description": "",
            "description_tooltip": null,
            "layout": "IPY_MODEL_8a057455ef6d483aa21cbb53b36df873",
            "max": 570,
            "min": 0,
            "orientation": "horizontal",
            "style": "IPY_MODEL_5583c69f3e6c448092419469bbbfd63d",
            "value": 570
          }
        },
        "b298b984f1aa41918de6235337965fbf": {
          "model_module": "@jupyter-widgets/controls",
          "model_name": "HTMLModel",
          "model_module_version": "1.5.0",
          "state": {
            "_dom_classes": [],
            "_model_module": "@jupyter-widgets/controls",
            "_model_module_version": "1.5.0",
            "_model_name": "HTMLModel",
            "_view_count": null,
            "_view_module": "@jupyter-widgets/controls",
            "_view_module_version": "1.5.0",
            "_view_name": "HTMLView",
            "description": "",
            "description_tooltip": null,
            "layout": "IPY_MODEL_de9bdcd8cc9046e68369cf6cdb87814f",
            "placeholder": "​",
            "style": "IPY_MODEL_ccf9a840e8504895ba1a9863e4479261",
            "value": " 570/570 [00:00&lt;00:00, 4.78kB/s]"
          }
        },
        "b809ed74d38f4a65a157a5da33406157": {
          "model_module": "@jupyter-widgets/base",
          "model_name": "LayoutModel",
          "model_module_version": "1.2.0",
          "state": {
            "_model_module": "@jupyter-widgets/base",
            "_model_module_version": "1.2.0",
            "_model_name": "LayoutModel",
            "_view_count": null,
            "_view_module": "@jupyter-widgets/base",
            "_view_module_version": "1.2.0",
            "_view_name": "LayoutView",
            "align_content": null,
            "align_items": null,
            "align_self": null,
            "border": null,
            "bottom": null,
            "display": null,
            "flex": null,
            "flex_flow": null,
            "grid_area": null,
            "grid_auto_columns": null,
            "grid_auto_flow": null,
            "grid_auto_rows": null,
            "grid_column": null,
            "grid_gap": null,
            "grid_row": null,
            "grid_template_areas": null,
            "grid_template_columns": null,
            "grid_template_rows": null,
            "height": null,
            "justify_content": null,
            "justify_items": null,
            "left": null,
            "margin": null,
            "max_height": null,
            "max_width": null,
            "min_height": null,
            "min_width": null,
            "object_fit": null,
            "object_position": null,
            "order": null,
            "overflow": null,
            "overflow_x": null,
            "overflow_y": null,
            "padding": null,
            "right": null,
            "top": null,
            "visibility": null,
            "width": null
          }
        },
        "25dd3d1c302b4c718c8dce1842c07d1e": {
          "model_module": "@jupyter-widgets/base",
          "model_name": "LayoutModel",
          "model_module_version": "1.2.0",
          "state": {
            "_model_module": "@jupyter-widgets/base",
            "_model_module_version": "1.2.0",
            "_model_name": "LayoutModel",
            "_view_count": null,
            "_view_module": "@jupyter-widgets/base",
            "_view_module_version": "1.2.0",
            "_view_name": "LayoutView",
            "align_content": null,
            "align_items": null,
            "align_self": null,
            "border": null,
            "bottom": null,
            "display": null,
            "flex": null,
            "flex_flow": null,
            "grid_area": null,
            "grid_auto_columns": null,
            "grid_auto_flow": null,
            "grid_auto_rows": null,
            "grid_column": null,
            "grid_gap": null,
            "grid_row": null,
            "grid_template_areas": null,
            "grid_template_columns": null,
            "grid_template_rows": null,
            "height": null,
            "justify_content": null,
            "justify_items": null,
            "left": null,
            "margin": null,
            "max_height": null,
            "max_width": null,
            "min_height": null,
            "min_width": null,
            "object_fit": null,
            "object_position": null,
            "order": null,
            "overflow": null,
            "overflow_x": null,
            "overflow_y": null,
            "padding": null,
            "right": null,
            "top": null,
            "visibility": null,
            "width": null
          }
        },
        "ce967f6d0d444d308b783481c1a1dd4d": {
          "model_module": "@jupyter-widgets/controls",
          "model_name": "DescriptionStyleModel",
          "model_module_version": "1.5.0",
          "state": {
            "_model_module": "@jupyter-widgets/controls",
            "_model_module_version": "1.5.0",
            "_model_name": "DescriptionStyleModel",
            "_view_count": null,
            "_view_module": "@jupyter-widgets/base",
            "_view_module_version": "1.2.0",
            "_view_name": "StyleView",
            "description_width": ""
          }
        },
        "8a057455ef6d483aa21cbb53b36df873": {
          "model_module": "@jupyter-widgets/base",
          "model_name": "LayoutModel",
          "model_module_version": "1.2.0",
          "state": {
            "_model_module": "@jupyter-widgets/base",
            "_model_module_version": "1.2.0",
            "_model_name": "LayoutModel",
            "_view_count": null,
            "_view_module": "@jupyter-widgets/base",
            "_view_module_version": "1.2.0",
            "_view_name": "LayoutView",
            "align_content": null,
            "align_items": null,
            "align_self": null,
            "border": null,
            "bottom": null,
            "display": null,
            "flex": null,
            "flex_flow": null,
            "grid_area": null,
            "grid_auto_columns": null,
            "grid_auto_flow": null,
            "grid_auto_rows": null,
            "grid_column": null,
            "grid_gap": null,
            "grid_row": null,
            "grid_template_areas": null,
            "grid_template_columns": null,
            "grid_template_rows": null,
            "height": null,
            "justify_content": null,
            "justify_items": null,
            "left": null,
            "margin": null,
            "max_height": null,
            "max_width": null,
            "min_height": null,
            "min_width": null,
            "object_fit": null,
            "object_position": null,
            "order": null,
            "overflow": null,
            "overflow_x": null,
            "overflow_y": null,
            "padding": null,
            "right": null,
            "top": null,
            "visibility": null,
            "width": null
          }
        },
        "5583c69f3e6c448092419469bbbfd63d": {
          "model_module": "@jupyter-widgets/controls",
          "model_name": "ProgressStyleModel",
          "model_module_version": "1.5.0",
          "state": {
            "_model_module": "@jupyter-widgets/controls",
            "_model_module_version": "1.5.0",
            "_model_name": "ProgressStyleModel",
            "_view_count": null,
            "_view_module": "@jupyter-widgets/base",
            "_view_module_version": "1.2.0",
            "_view_name": "StyleView",
            "bar_color": null,
            "description_width": ""
          }
        },
        "de9bdcd8cc9046e68369cf6cdb87814f": {
          "model_module": "@jupyter-widgets/base",
          "model_name": "LayoutModel",
          "model_module_version": "1.2.0",
          "state": {
            "_model_module": "@jupyter-widgets/base",
            "_model_module_version": "1.2.0",
            "_model_name": "LayoutModel",
            "_view_count": null,
            "_view_module": "@jupyter-widgets/base",
            "_view_module_version": "1.2.0",
            "_view_name": "LayoutView",
            "align_content": null,
            "align_items": null,
            "align_self": null,
            "border": null,
            "bottom": null,
            "display": null,
            "flex": null,
            "flex_flow": null,
            "grid_area": null,
            "grid_auto_columns": null,
            "grid_auto_flow": null,
            "grid_auto_rows": null,
            "grid_column": null,
            "grid_gap": null,
            "grid_row": null,
            "grid_template_areas": null,
            "grid_template_columns": null,
            "grid_template_rows": null,
            "height": null,
            "justify_content": null,
            "justify_items": null,
            "left": null,
            "margin": null,
            "max_height": null,
            "max_width": null,
            "min_height": null,
            "min_width": null,
            "object_fit": null,
            "object_position": null,
            "order": null,
            "overflow": null,
            "overflow_x": null,
            "overflow_y": null,
            "padding": null,
            "right": null,
            "top": null,
            "visibility": null,
            "width": null
          }
        },
        "ccf9a840e8504895ba1a9863e4479261": {
          "model_module": "@jupyter-widgets/controls",
          "model_name": "DescriptionStyleModel",
          "model_module_version": "1.5.0",
          "state": {
            "_model_module": "@jupyter-widgets/controls",
            "_model_module_version": "1.5.0",
            "_model_name": "DescriptionStyleModel",
            "_view_count": null,
            "_view_module": "@jupyter-widgets/base",
            "_view_module_version": "1.2.0",
            "_view_name": "StyleView",
            "description_width": ""
          }
        },
        "6deaa961091240078bbb668e13119631": {
          "model_module": "@jupyter-widgets/controls",
          "model_name": "HBoxModel",
          "model_module_version": "1.5.0",
          "state": {
            "_dom_classes": [],
            "_model_module": "@jupyter-widgets/controls",
            "_model_module_version": "1.5.0",
            "_model_name": "HBoxModel",
            "_view_count": null,
            "_view_module": "@jupyter-widgets/controls",
            "_view_module_version": "1.5.0",
            "_view_name": "HBoxView",
            "box_style": "",
            "children": [
              "IPY_MODEL_2e323d766d50492db4b722119f84473c",
              "IPY_MODEL_365868b2c25c489884920063d2f29b7e",
              "IPY_MODEL_c1521cbfcaeb4ca5aadd37c11f97b153"
            ],
            "layout": "IPY_MODEL_4fcaaba2d52344afb642503807abaedf"
          }
        },
        "2e323d766d50492db4b722119f84473c": {
          "model_module": "@jupyter-widgets/controls",
          "model_name": "HTMLModel",
          "model_module_version": "1.5.0",
          "state": {
            "_dom_classes": [],
            "_model_module": "@jupyter-widgets/controls",
            "_model_module_version": "1.5.0",
            "_model_name": "HTMLModel",
            "_view_count": null,
            "_view_module": "@jupyter-widgets/controls",
            "_view_module_version": "1.5.0",
            "_view_name": "HTMLView",
            "description": "",
            "description_tooltip": null,
            "layout": "IPY_MODEL_6d0354eefe5d4ae288d8e3c75a106276",
            "placeholder": "​",
            "style": "IPY_MODEL_56ba6a0aa7a3497dbb1b4d65d73179af",
            "value": "Downloading: 100%"
          }
        },
        "365868b2c25c489884920063d2f29b7e": {
          "model_module": "@jupyter-widgets/controls",
          "model_name": "FloatProgressModel",
          "model_module_version": "1.5.0",
          "state": {
            "_dom_classes": [],
            "_model_module": "@jupyter-widgets/controls",
            "_model_module_version": "1.5.0",
            "_model_name": "FloatProgressModel",
            "_view_count": null,
            "_view_module": "@jupyter-widgets/controls",
            "_view_module_version": "1.5.0",
            "_view_name": "ProgressView",
            "bar_style": "success",
            "description": "",
            "description_tooltip": null,
            "layout": "IPY_MODEL_14a8fee5986740a7aff55776af827360",
            "max": 440473133,
            "min": 0,
            "orientation": "horizontal",
            "style": "IPY_MODEL_cb2292b05b694e2da6146bda008ec68d",
            "value": 440473133
          }
        },
        "c1521cbfcaeb4ca5aadd37c11f97b153": {
          "model_module": "@jupyter-widgets/controls",
          "model_name": "HTMLModel",
          "model_module_version": "1.5.0",
          "state": {
            "_dom_classes": [],
            "_model_module": "@jupyter-widgets/controls",
            "_model_module_version": "1.5.0",
            "_model_name": "HTMLModel",
            "_view_count": null,
            "_view_module": "@jupyter-widgets/controls",
            "_view_module_version": "1.5.0",
            "_view_name": "HTMLView",
            "description": "",
            "description_tooltip": null,
            "layout": "IPY_MODEL_b19afbb8e1614e11963705a56f315b43",
            "placeholder": "​",
            "style": "IPY_MODEL_fe9804211665494caff4a3cdf7339a4a",
            "value": " 440M/440M [00:14&lt;00:00, 29.8MB/s]"
          }
        },
        "4fcaaba2d52344afb642503807abaedf": {
          "model_module": "@jupyter-widgets/base",
          "model_name": "LayoutModel",
          "model_module_version": "1.2.0",
          "state": {
            "_model_module": "@jupyter-widgets/base",
            "_model_module_version": "1.2.0",
            "_model_name": "LayoutModel",
            "_view_count": null,
            "_view_module": "@jupyter-widgets/base",
            "_view_module_version": "1.2.0",
            "_view_name": "LayoutView",
            "align_content": null,
            "align_items": null,
            "align_self": null,
            "border": null,
            "bottom": null,
            "display": null,
            "flex": null,
            "flex_flow": null,
            "grid_area": null,
            "grid_auto_columns": null,
            "grid_auto_flow": null,
            "grid_auto_rows": null,
            "grid_column": null,
            "grid_gap": null,
            "grid_row": null,
            "grid_template_areas": null,
            "grid_template_columns": null,
            "grid_template_rows": null,
            "height": null,
            "justify_content": null,
            "justify_items": null,
            "left": null,
            "margin": null,
            "max_height": null,
            "max_width": null,
            "min_height": null,
            "min_width": null,
            "object_fit": null,
            "object_position": null,
            "order": null,
            "overflow": null,
            "overflow_x": null,
            "overflow_y": null,
            "padding": null,
            "right": null,
            "top": null,
            "visibility": null,
            "width": null
          }
        },
        "6d0354eefe5d4ae288d8e3c75a106276": {
          "model_module": "@jupyter-widgets/base",
          "model_name": "LayoutModel",
          "model_module_version": "1.2.0",
          "state": {
            "_model_module": "@jupyter-widgets/base",
            "_model_module_version": "1.2.0",
            "_model_name": "LayoutModel",
            "_view_count": null,
            "_view_module": "@jupyter-widgets/base",
            "_view_module_version": "1.2.0",
            "_view_name": "LayoutView",
            "align_content": null,
            "align_items": null,
            "align_self": null,
            "border": null,
            "bottom": null,
            "display": null,
            "flex": null,
            "flex_flow": null,
            "grid_area": null,
            "grid_auto_columns": null,
            "grid_auto_flow": null,
            "grid_auto_rows": null,
            "grid_column": null,
            "grid_gap": null,
            "grid_row": null,
            "grid_template_areas": null,
            "grid_template_columns": null,
            "grid_template_rows": null,
            "height": null,
            "justify_content": null,
            "justify_items": null,
            "left": null,
            "margin": null,
            "max_height": null,
            "max_width": null,
            "min_height": null,
            "min_width": null,
            "object_fit": null,
            "object_position": null,
            "order": null,
            "overflow": null,
            "overflow_x": null,
            "overflow_y": null,
            "padding": null,
            "right": null,
            "top": null,
            "visibility": null,
            "width": null
          }
        },
        "56ba6a0aa7a3497dbb1b4d65d73179af": {
          "model_module": "@jupyter-widgets/controls",
          "model_name": "DescriptionStyleModel",
          "model_module_version": "1.5.0",
          "state": {
            "_model_module": "@jupyter-widgets/controls",
            "_model_module_version": "1.5.0",
            "_model_name": "DescriptionStyleModel",
            "_view_count": null,
            "_view_module": "@jupyter-widgets/base",
            "_view_module_version": "1.2.0",
            "_view_name": "StyleView",
            "description_width": ""
          }
        },
        "14a8fee5986740a7aff55776af827360": {
          "model_module": "@jupyter-widgets/base",
          "model_name": "LayoutModel",
          "model_module_version": "1.2.0",
          "state": {
            "_model_module": "@jupyter-widgets/base",
            "_model_module_version": "1.2.0",
            "_model_name": "LayoutModel",
            "_view_count": null,
            "_view_module": "@jupyter-widgets/base",
            "_view_module_version": "1.2.0",
            "_view_name": "LayoutView",
            "align_content": null,
            "align_items": null,
            "align_self": null,
            "border": null,
            "bottom": null,
            "display": null,
            "flex": null,
            "flex_flow": null,
            "grid_area": null,
            "grid_auto_columns": null,
            "grid_auto_flow": null,
            "grid_auto_rows": null,
            "grid_column": null,
            "grid_gap": null,
            "grid_row": null,
            "grid_template_areas": null,
            "grid_template_columns": null,
            "grid_template_rows": null,
            "height": null,
            "justify_content": null,
            "justify_items": null,
            "left": null,
            "margin": null,
            "max_height": null,
            "max_width": null,
            "min_height": null,
            "min_width": null,
            "object_fit": null,
            "object_position": null,
            "order": null,
            "overflow": null,
            "overflow_x": null,
            "overflow_y": null,
            "padding": null,
            "right": null,
            "top": null,
            "visibility": null,
            "width": null
          }
        },
        "cb2292b05b694e2da6146bda008ec68d": {
          "model_module": "@jupyter-widgets/controls",
          "model_name": "ProgressStyleModel",
          "model_module_version": "1.5.0",
          "state": {
            "_model_module": "@jupyter-widgets/controls",
            "_model_module_version": "1.5.0",
            "_model_name": "ProgressStyleModel",
            "_view_count": null,
            "_view_module": "@jupyter-widgets/base",
            "_view_module_version": "1.2.0",
            "_view_name": "StyleView",
            "bar_color": null,
            "description_width": ""
          }
        },
        "b19afbb8e1614e11963705a56f315b43": {
          "model_module": "@jupyter-widgets/base",
          "model_name": "LayoutModel",
          "model_module_version": "1.2.0",
          "state": {
            "_model_module": "@jupyter-widgets/base",
            "_model_module_version": "1.2.0",
            "_model_name": "LayoutModel",
            "_view_count": null,
            "_view_module": "@jupyter-widgets/base",
            "_view_module_version": "1.2.0",
            "_view_name": "LayoutView",
            "align_content": null,
            "align_items": null,
            "align_self": null,
            "border": null,
            "bottom": null,
            "display": null,
            "flex": null,
            "flex_flow": null,
            "grid_area": null,
            "grid_auto_columns": null,
            "grid_auto_flow": null,
            "grid_auto_rows": null,
            "grid_column": null,
            "grid_gap": null,
            "grid_row": null,
            "grid_template_areas": null,
            "grid_template_columns": null,
            "grid_template_rows": null,
            "height": null,
            "justify_content": null,
            "justify_items": null,
            "left": null,
            "margin": null,
            "max_height": null,
            "max_width": null,
            "min_height": null,
            "min_width": null,
            "object_fit": null,
            "object_position": null,
            "order": null,
            "overflow": null,
            "overflow_x": null,
            "overflow_y": null,
            "padding": null,
            "right": null,
            "top": null,
            "visibility": null,
            "width": null
          }
        },
        "fe9804211665494caff4a3cdf7339a4a": {
          "model_module": "@jupyter-widgets/controls",
          "model_name": "DescriptionStyleModel",
          "model_module_version": "1.5.0",
          "state": {
            "_model_module": "@jupyter-widgets/controls",
            "_model_module_version": "1.5.0",
            "_model_name": "DescriptionStyleModel",
            "_view_count": null,
            "_view_module": "@jupyter-widgets/base",
            "_view_module_version": "1.2.0",
            "_view_name": "StyleView",
            "description_width": ""
          }
        },
        "92c7bd69d1204fda9ee9ab674f58a4c9": {
          "model_module": "@jupyter-widgets/controls",
          "model_name": "HBoxModel",
          "model_module_version": "1.5.0",
          "state": {
            "_dom_classes": [],
            "_model_module": "@jupyter-widgets/controls",
            "_model_module_version": "1.5.0",
            "_model_name": "HBoxModel",
            "_view_count": null,
            "_view_module": "@jupyter-widgets/controls",
            "_view_module_version": "1.5.0",
            "_view_name": "HBoxView",
            "box_style": "",
            "children": [
              "IPY_MODEL_9c3f4c2439a5403e878a7b359885eb7e",
              "IPY_MODEL_76baf1b9bed9413882e3154204fe09df",
              "IPY_MODEL_2ec4bcec89af4b87a780ba04e524d81e"
            ],
            "layout": "IPY_MODEL_c8f8db8306404683b30eb10820c1233d"
          }
        },
        "9c3f4c2439a5403e878a7b359885eb7e": {
          "model_module": "@jupyter-widgets/controls",
          "model_name": "HTMLModel",
          "model_module_version": "1.5.0",
          "state": {
            "_dom_classes": [],
            "_model_module": "@jupyter-widgets/controls",
            "_model_module_version": "1.5.0",
            "_model_name": "HTMLModel",
            "_view_count": null,
            "_view_module": "@jupyter-widgets/controls",
            "_view_module_version": "1.5.0",
            "_view_name": "HTMLView",
            "description": "",
            "description_tooltip": null,
            "layout": "IPY_MODEL_3fb4604253774a1ea7f4784816b0a3fa",
            "placeholder": "​",
            "style": "IPY_MODEL_8d18fc93d49443949f8f4d856fe07416",
            "value": "Downloading builder script: 100%"
          }
        },
        "76baf1b9bed9413882e3154204fe09df": {
          "model_module": "@jupyter-widgets/controls",
          "model_name": "FloatProgressModel",
          "model_module_version": "1.5.0",
          "state": {
            "_dom_classes": [],
            "_model_module": "@jupyter-widgets/controls",
            "_model_module_version": "1.5.0",
            "_model_name": "FloatProgressModel",
            "_view_count": null,
            "_view_module": "@jupyter-widgets/controls",
            "_view_module_version": "1.5.0",
            "_view_name": "ProgressView",
            "bar_style": "success",
            "description": "",
            "description_tooltip": null,
            "layout": "IPY_MODEL_5ab00ab5d6c34998a31845462c6c119c",
            "max": 7950,
            "min": 0,
            "orientation": "horizontal",
            "style": "IPY_MODEL_c8ecbd78e27d41dd9f279ef2f58f5597",
            "value": 7950
          }
        },
        "2ec4bcec89af4b87a780ba04e524d81e": {
          "model_module": "@jupyter-widgets/controls",
          "model_name": "HTMLModel",
          "model_module_version": "1.5.0",
          "state": {
            "_dom_classes": [],
            "_model_module": "@jupyter-widgets/controls",
            "_model_module_version": "1.5.0",
            "_model_name": "HTMLModel",
            "_view_count": null,
            "_view_module": "@jupyter-widgets/controls",
            "_view_module_version": "1.5.0",
            "_view_name": "HTMLView",
            "description": "",
            "description_tooltip": null,
            "layout": "IPY_MODEL_b60f472b90234fafa8640082eda0286b",
            "placeholder": "​",
            "style": "IPY_MODEL_4c09f8eaeadd44018460bd30ccb71922",
            "value": " 7.95k/7.95k [00:00&lt;00:00, 84.0kB/s]"
          }
        },
        "c8f8db8306404683b30eb10820c1233d": {
          "model_module": "@jupyter-widgets/base",
          "model_name": "LayoutModel",
          "model_module_version": "1.2.0",
          "state": {
            "_model_module": "@jupyter-widgets/base",
            "_model_module_version": "1.2.0",
            "_model_name": "LayoutModel",
            "_view_count": null,
            "_view_module": "@jupyter-widgets/base",
            "_view_module_version": "1.2.0",
            "_view_name": "LayoutView",
            "align_content": null,
            "align_items": null,
            "align_self": null,
            "border": null,
            "bottom": null,
            "display": null,
            "flex": null,
            "flex_flow": null,
            "grid_area": null,
            "grid_auto_columns": null,
            "grid_auto_flow": null,
            "grid_auto_rows": null,
            "grid_column": null,
            "grid_gap": null,
            "grid_row": null,
            "grid_template_areas": null,
            "grid_template_columns": null,
            "grid_template_rows": null,
            "height": null,
            "justify_content": null,
            "justify_items": null,
            "left": null,
            "margin": null,
            "max_height": null,
            "max_width": null,
            "min_height": null,
            "min_width": null,
            "object_fit": null,
            "object_position": null,
            "order": null,
            "overflow": null,
            "overflow_x": null,
            "overflow_y": null,
            "padding": null,
            "right": null,
            "top": null,
            "visibility": null,
            "width": null
          }
        },
        "3fb4604253774a1ea7f4784816b0a3fa": {
          "model_module": "@jupyter-widgets/base",
          "model_name": "LayoutModel",
          "model_module_version": "1.2.0",
          "state": {
            "_model_module": "@jupyter-widgets/base",
            "_model_module_version": "1.2.0",
            "_model_name": "LayoutModel",
            "_view_count": null,
            "_view_module": "@jupyter-widgets/base",
            "_view_module_version": "1.2.0",
            "_view_name": "LayoutView",
            "align_content": null,
            "align_items": null,
            "align_self": null,
            "border": null,
            "bottom": null,
            "display": null,
            "flex": null,
            "flex_flow": null,
            "grid_area": null,
            "grid_auto_columns": null,
            "grid_auto_flow": null,
            "grid_auto_rows": null,
            "grid_column": null,
            "grid_gap": null,
            "grid_row": null,
            "grid_template_areas": null,
            "grid_template_columns": null,
            "grid_template_rows": null,
            "height": null,
            "justify_content": null,
            "justify_items": null,
            "left": null,
            "margin": null,
            "max_height": null,
            "max_width": null,
            "min_height": null,
            "min_width": null,
            "object_fit": null,
            "object_position": null,
            "order": null,
            "overflow": null,
            "overflow_x": null,
            "overflow_y": null,
            "padding": null,
            "right": null,
            "top": null,
            "visibility": null,
            "width": null
          }
        },
        "8d18fc93d49443949f8f4d856fe07416": {
          "model_module": "@jupyter-widgets/controls",
          "model_name": "DescriptionStyleModel",
          "model_module_version": "1.5.0",
          "state": {
            "_model_module": "@jupyter-widgets/controls",
            "_model_module_version": "1.5.0",
            "_model_name": "DescriptionStyleModel",
            "_view_count": null,
            "_view_module": "@jupyter-widgets/base",
            "_view_module_version": "1.2.0",
            "_view_name": "StyleView",
            "description_width": ""
          }
        },
        "5ab00ab5d6c34998a31845462c6c119c": {
          "model_module": "@jupyter-widgets/base",
          "model_name": "LayoutModel",
          "model_module_version": "1.2.0",
          "state": {
            "_model_module": "@jupyter-widgets/base",
            "_model_module_version": "1.2.0",
            "_model_name": "LayoutModel",
            "_view_count": null,
            "_view_module": "@jupyter-widgets/base",
            "_view_module_version": "1.2.0",
            "_view_name": "LayoutView",
            "align_content": null,
            "align_items": null,
            "align_self": null,
            "border": null,
            "bottom": null,
            "display": null,
            "flex": null,
            "flex_flow": null,
            "grid_area": null,
            "grid_auto_columns": null,
            "grid_auto_flow": null,
            "grid_auto_rows": null,
            "grid_column": null,
            "grid_gap": null,
            "grid_row": null,
            "grid_template_areas": null,
            "grid_template_columns": null,
            "grid_template_rows": null,
            "height": null,
            "justify_content": null,
            "justify_items": null,
            "left": null,
            "margin": null,
            "max_height": null,
            "max_width": null,
            "min_height": null,
            "min_width": null,
            "object_fit": null,
            "object_position": null,
            "order": null,
            "overflow": null,
            "overflow_x": null,
            "overflow_y": null,
            "padding": null,
            "right": null,
            "top": null,
            "visibility": null,
            "width": null
          }
        },
        "c8ecbd78e27d41dd9f279ef2f58f5597": {
          "model_module": "@jupyter-widgets/controls",
          "model_name": "ProgressStyleModel",
          "model_module_version": "1.5.0",
          "state": {
            "_model_module": "@jupyter-widgets/controls",
            "_model_module_version": "1.5.0",
            "_model_name": "ProgressStyleModel",
            "_view_count": null,
            "_view_module": "@jupyter-widgets/base",
            "_view_module_version": "1.2.0",
            "_view_name": "StyleView",
            "bar_color": null,
            "description_width": ""
          }
        },
        "b60f472b90234fafa8640082eda0286b": {
          "model_module": "@jupyter-widgets/base",
          "model_name": "LayoutModel",
          "model_module_version": "1.2.0",
          "state": {
            "_model_module": "@jupyter-widgets/base",
            "_model_module_version": "1.2.0",
            "_model_name": "LayoutModel",
            "_view_count": null,
            "_view_module": "@jupyter-widgets/base",
            "_view_module_version": "1.2.0",
            "_view_name": "LayoutView",
            "align_content": null,
            "align_items": null,
            "align_self": null,
            "border": null,
            "bottom": null,
            "display": null,
            "flex": null,
            "flex_flow": null,
            "grid_area": null,
            "grid_auto_columns": null,
            "grid_auto_flow": null,
            "grid_auto_rows": null,
            "grid_column": null,
            "grid_gap": null,
            "grid_row": null,
            "grid_template_areas": null,
            "grid_template_columns": null,
            "grid_template_rows": null,
            "height": null,
            "justify_content": null,
            "justify_items": null,
            "left": null,
            "margin": null,
            "max_height": null,
            "max_width": null,
            "min_height": null,
            "min_width": null,
            "object_fit": null,
            "object_position": null,
            "order": null,
            "overflow": null,
            "overflow_x": null,
            "overflow_y": null,
            "padding": null,
            "right": null,
            "top": null,
            "visibility": null,
            "width": null
          }
        },
        "4c09f8eaeadd44018460bd30ccb71922": {
          "model_module": "@jupyter-widgets/controls",
          "model_name": "DescriptionStyleModel",
          "model_module_version": "1.5.0",
          "state": {
            "_model_module": "@jupyter-widgets/controls",
            "_model_module_version": "1.5.0",
            "_model_name": "DescriptionStyleModel",
            "_view_count": null,
            "_view_module": "@jupyter-widgets/base",
            "_view_module_version": "1.2.0",
            "_view_name": "StyleView",
            "description_width": ""
          }
        },
        "60d3246fcf9a429789e04a617e3a31df": {
          "model_module": "@jupyter-widgets/controls",
          "model_name": "HBoxModel",
          "model_module_version": "1.5.0",
          "state": {
            "_dom_classes": [],
            "_model_module": "@jupyter-widgets/controls",
            "_model_module_version": "1.5.0",
            "_model_name": "HBoxModel",
            "_view_count": null,
            "_view_module": "@jupyter-widgets/controls",
            "_view_module_version": "1.5.0",
            "_view_name": "HBoxView",
            "box_style": "",
            "children": [
              "IPY_MODEL_6e2aa6908f804f6cac775350552798f8",
              "IPY_MODEL_628eb240a97247f1be048e8f65702365",
              "IPY_MODEL_1af924b870f64481a967d61e8852160e"
            ],
            "layout": "IPY_MODEL_15375a2e9aec45caa508cd017d22629b"
          }
        },
        "6e2aa6908f804f6cac775350552798f8": {
          "model_module": "@jupyter-widgets/controls",
          "model_name": "HTMLModel",
          "model_module_version": "1.5.0",
          "state": {
            "_dom_classes": [],
            "_model_module": "@jupyter-widgets/controls",
            "_model_module_version": "1.5.0",
            "_model_name": "HTMLModel",
            "_view_count": null,
            "_view_module": "@jupyter-widgets/controls",
            "_view_module_version": "1.5.0",
            "_view_name": "HTMLView",
            "description": "",
            "description_tooltip": null,
            "layout": "IPY_MODEL_36af41c0a57c46c0aa77b464fc37aae5",
            "placeholder": "​",
            "style": "IPY_MODEL_8aca06f878a64ac7aec8abd82406ec9e",
            "value": "Downloading: 100%"
          }
        },
        "628eb240a97247f1be048e8f65702365": {
          "model_module": "@jupyter-widgets/controls",
          "model_name": "FloatProgressModel",
          "model_module_version": "1.5.0",
          "state": {
            "_dom_classes": [],
            "_model_module": "@jupyter-widgets/controls",
            "_model_module_version": "1.5.0",
            "_model_name": "FloatProgressModel",
            "_view_count": null,
            "_view_module": "@jupyter-widgets/controls",
            "_view_module_version": "1.5.0",
            "_view_name": "ProgressView",
            "bar_style": "success",
            "description": "",
            "description_tooltip": null,
            "layout": "IPY_MODEL_fb870f3d61294707a40e29367e6e9f1a",
            "max": 28,
            "min": 0,
            "orientation": "horizontal",
            "style": "IPY_MODEL_41315539b1204495a29cca9eb381a912",
            "value": 28
          }
        },
        "1af924b870f64481a967d61e8852160e": {
          "model_module": "@jupyter-widgets/controls",
          "model_name": "HTMLModel",
          "model_module_version": "1.5.0",
          "state": {
            "_dom_classes": [],
            "_model_module": "@jupyter-widgets/controls",
            "_model_module_version": "1.5.0",
            "_model_name": "HTMLModel",
            "_view_count": null,
            "_view_module": "@jupyter-widgets/controls",
            "_view_module_version": "1.5.0",
            "_view_name": "HTMLView",
            "description": "",
            "description_tooltip": null,
            "layout": "IPY_MODEL_68e9e2ad53ea4b67b0781ca29b9d9e7e",
            "placeholder": "​",
            "style": "IPY_MODEL_939a91ff57414a3c95cdfa8cd21b428a",
            "value": " 28.0/28.0 [00:00&lt;00:00, 293B/s]"
          }
        },
        "15375a2e9aec45caa508cd017d22629b": {
          "model_module": "@jupyter-widgets/base",
          "model_name": "LayoutModel",
          "model_module_version": "1.2.0",
          "state": {
            "_model_module": "@jupyter-widgets/base",
            "_model_module_version": "1.2.0",
            "_model_name": "LayoutModel",
            "_view_count": null,
            "_view_module": "@jupyter-widgets/base",
            "_view_module_version": "1.2.0",
            "_view_name": "LayoutView",
            "align_content": null,
            "align_items": null,
            "align_self": null,
            "border": null,
            "bottom": null,
            "display": null,
            "flex": null,
            "flex_flow": null,
            "grid_area": null,
            "grid_auto_columns": null,
            "grid_auto_flow": null,
            "grid_auto_rows": null,
            "grid_column": null,
            "grid_gap": null,
            "grid_row": null,
            "grid_template_areas": null,
            "grid_template_columns": null,
            "grid_template_rows": null,
            "height": null,
            "justify_content": null,
            "justify_items": null,
            "left": null,
            "margin": null,
            "max_height": null,
            "max_width": null,
            "min_height": null,
            "min_width": null,
            "object_fit": null,
            "object_position": null,
            "order": null,
            "overflow": null,
            "overflow_x": null,
            "overflow_y": null,
            "padding": null,
            "right": null,
            "top": null,
            "visibility": null,
            "width": null
          }
        },
        "36af41c0a57c46c0aa77b464fc37aae5": {
          "model_module": "@jupyter-widgets/base",
          "model_name": "LayoutModel",
          "model_module_version": "1.2.0",
          "state": {
            "_model_module": "@jupyter-widgets/base",
            "_model_module_version": "1.2.0",
            "_model_name": "LayoutModel",
            "_view_count": null,
            "_view_module": "@jupyter-widgets/base",
            "_view_module_version": "1.2.0",
            "_view_name": "LayoutView",
            "align_content": null,
            "align_items": null,
            "align_self": null,
            "border": null,
            "bottom": null,
            "display": null,
            "flex": null,
            "flex_flow": null,
            "grid_area": null,
            "grid_auto_columns": null,
            "grid_auto_flow": null,
            "grid_auto_rows": null,
            "grid_column": null,
            "grid_gap": null,
            "grid_row": null,
            "grid_template_areas": null,
            "grid_template_columns": null,
            "grid_template_rows": null,
            "height": null,
            "justify_content": null,
            "justify_items": null,
            "left": null,
            "margin": null,
            "max_height": null,
            "max_width": null,
            "min_height": null,
            "min_width": null,
            "object_fit": null,
            "object_position": null,
            "order": null,
            "overflow": null,
            "overflow_x": null,
            "overflow_y": null,
            "padding": null,
            "right": null,
            "top": null,
            "visibility": null,
            "width": null
          }
        },
        "8aca06f878a64ac7aec8abd82406ec9e": {
          "model_module": "@jupyter-widgets/controls",
          "model_name": "DescriptionStyleModel",
          "model_module_version": "1.5.0",
          "state": {
            "_model_module": "@jupyter-widgets/controls",
            "_model_module_version": "1.5.0",
            "_model_name": "DescriptionStyleModel",
            "_view_count": null,
            "_view_module": "@jupyter-widgets/base",
            "_view_module_version": "1.2.0",
            "_view_name": "StyleView",
            "description_width": ""
          }
        },
        "fb870f3d61294707a40e29367e6e9f1a": {
          "model_module": "@jupyter-widgets/base",
          "model_name": "LayoutModel",
          "model_module_version": "1.2.0",
          "state": {
            "_model_module": "@jupyter-widgets/base",
            "_model_module_version": "1.2.0",
            "_model_name": "LayoutModel",
            "_view_count": null,
            "_view_module": "@jupyter-widgets/base",
            "_view_module_version": "1.2.0",
            "_view_name": "LayoutView",
            "align_content": null,
            "align_items": null,
            "align_self": null,
            "border": null,
            "bottom": null,
            "display": null,
            "flex": null,
            "flex_flow": null,
            "grid_area": null,
            "grid_auto_columns": null,
            "grid_auto_flow": null,
            "grid_auto_rows": null,
            "grid_column": null,
            "grid_gap": null,
            "grid_row": null,
            "grid_template_areas": null,
            "grid_template_columns": null,
            "grid_template_rows": null,
            "height": null,
            "justify_content": null,
            "justify_items": null,
            "left": null,
            "margin": null,
            "max_height": null,
            "max_width": null,
            "min_height": null,
            "min_width": null,
            "object_fit": null,
            "object_position": null,
            "order": null,
            "overflow": null,
            "overflow_x": null,
            "overflow_y": null,
            "padding": null,
            "right": null,
            "top": null,
            "visibility": null,
            "width": null
          }
        },
        "41315539b1204495a29cca9eb381a912": {
          "model_module": "@jupyter-widgets/controls",
          "model_name": "ProgressStyleModel",
          "model_module_version": "1.5.0",
          "state": {
            "_model_module": "@jupyter-widgets/controls",
            "_model_module_version": "1.5.0",
            "_model_name": "ProgressStyleModel",
            "_view_count": null,
            "_view_module": "@jupyter-widgets/base",
            "_view_module_version": "1.2.0",
            "_view_name": "StyleView",
            "bar_color": null,
            "description_width": ""
          }
        },
        "68e9e2ad53ea4b67b0781ca29b9d9e7e": {
          "model_module": "@jupyter-widgets/base",
          "model_name": "LayoutModel",
          "model_module_version": "1.2.0",
          "state": {
            "_model_module": "@jupyter-widgets/base",
            "_model_module_version": "1.2.0",
            "_model_name": "LayoutModel",
            "_view_count": null,
            "_view_module": "@jupyter-widgets/base",
            "_view_module_version": "1.2.0",
            "_view_name": "LayoutView",
            "align_content": null,
            "align_items": null,
            "align_self": null,
            "border": null,
            "bottom": null,
            "display": null,
            "flex": null,
            "flex_flow": null,
            "grid_area": null,
            "grid_auto_columns": null,
            "grid_auto_flow": null,
            "grid_auto_rows": null,
            "grid_column": null,
            "grid_gap": null,
            "grid_row": null,
            "grid_template_areas": null,
            "grid_template_columns": null,
            "grid_template_rows": null,
            "height": null,
            "justify_content": null,
            "justify_items": null,
            "left": null,
            "margin": null,
            "max_height": null,
            "max_width": null,
            "min_height": null,
            "min_width": null,
            "object_fit": null,
            "object_position": null,
            "order": null,
            "overflow": null,
            "overflow_x": null,
            "overflow_y": null,
            "padding": null,
            "right": null,
            "top": null,
            "visibility": null,
            "width": null
          }
        },
        "939a91ff57414a3c95cdfa8cd21b428a": {
          "model_module": "@jupyter-widgets/controls",
          "model_name": "DescriptionStyleModel",
          "model_module_version": "1.5.0",
          "state": {
            "_model_module": "@jupyter-widgets/controls",
            "_model_module_version": "1.5.0",
            "_model_name": "DescriptionStyleModel",
            "_view_count": null,
            "_view_module": "@jupyter-widgets/base",
            "_view_module_version": "1.2.0",
            "_view_name": "StyleView",
            "description_width": ""
          }
        },
        "a6eb63c5127d4217a7177eab6160c64d": {
          "model_module": "@jupyter-widgets/controls",
          "model_name": "HBoxModel",
          "model_module_version": "1.5.0",
          "state": {
            "_dom_classes": [],
            "_model_module": "@jupyter-widgets/controls",
            "_model_module_version": "1.5.0",
            "_model_name": "HBoxModel",
            "_view_count": null,
            "_view_module": "@jupyter-widgets/controls",
            "_view_module_version": "1.5.0",
            "_view_name": "HBoxView",
            "box_style": "",
            "children": [
              "IPY_MODEL_6a7e883247f847d4a1400ac4903d125a",
              "IPY_MODEL_e06c17ed732a4ff6a144b0b722bdd7de",
              "IPY_MODEL_31f306c4a6c4407cb0b5c2b4f33db53b"
            ],
            "layout": "IPY_MODEL_5fcae2533ae84bdc85d721b55e3eb7d3"
          }
        },
        "6a7e883247f847d4a1400ac4903d125a": {
          "model_module": "@jupyter-widgets/controls",
          "model_name": "HTMLModel",
          "model_module_version": "1.5.0",
          "state": {
            "_dom_classes": [],
            "_model_module": "@jupyter-widgets/controls",
            "_model_module_version": "1.5.0",
            "_model_name": "HTMLModel",
            "_view_count": null,
            "_view_module": "@jupyter-widgets/controls",
            "_view_module_version": "1.5.0",
            "_view_name": "HTMLView",
            "description": "",
            "description_tooltip": null,
            "layout": "IPY_MODEL_174bcf2352cc4ffaab4b40ec3fc0ab28",
            "placeholder": "​",
            "style": "IPY_MODEL_a8c358409e964221b32f2655a512c09e",
            "value": "Downloading: 100%"
          }
        },
        "e06c17ed732a4ff6a144b0b722bdd7de": {
          "model_module": "@jupyter-widgets/controls",
          "model_name": "FloatProgressModel",
          "model_module_version": "1.5.0",
          "state": {
            "_dom_classes": [],
            "_model_module": "@jupyter-widgets/controls",
            "_model_module_version": "1.5.0",
            "_model_name": "FloatProgressModel",
            "_view_count": null,
            "_view_module": "@jupyter-widgets/controls",
            "_view_module_version": "1.5.0",
            "_view_name": "ProgressView",
            "bar_style": "success",
            "description": "",
            "description_tooltip": null,
            "layout": "IPY_MODEL_c657f49823a44a9e9c18bc3dcb305ee5",
            "max": 483,
            "min": 0,
            "orientation": "horizontal",
            "style": "IPY_MODEL_9399f4f6d850412ea0be634d4431d25b",
            "value": 483
          }
        },
        "31f306c4a6c4407cb0b5c2b4f33db53b": {
          "model_module": "@jupyter-widgets/controls",
          "model_name": "HTMLModel",
          "model_module_version": "1.5.0",
          "state": {
            "_dom_classes": [],
            "_model_module": "@jupyter-widgets/controls",
            "_model_module_version": "1.5.0",
            "_model_name": "HTMLModel",
            "_view_count": null,
            "_view_module": "@jupyter-widgets/controls",
            "_view_module_version": "1.5.0",
            "_view_name": "HTMLView",
            "description": "",
            "description_tooltip": null,
            "layout": "IPY_MODEL_f21433f21f2d4f9e83b513cee9ba37c9",
            "placeholder": "​",
            "style": "IPY_MODEL_b0190b8805034e69a27d927aa628936c",
            "value": " 483/483 [00:00&lt;00:00, 6.34kB/s]"
          }
        },
        "5fcae2533ae84bdc85d721b55e3eb7d3": {
          "model_module": "@jupyter-widgets/base",
          "model_name": "LayoutModel",
          "model_module_version": "1.2.0",
          "state": {
            "_model_module": "@jupyter-widgets/base",
            "_model_module_version": "1.2.0",
            "_model_name": "LayoutModel",
            "_view_count": null,
            "_view_module": "@jupyter-widgets/base",
            "_view_module_version": "1.2.0",
            "_view_name": "LayoutView",
            "align_content": null,
            "align_items": null,
            "align_self": null,
            "border": null,
            "bottom": null,
            "display": null,
            "flex": null,
            "flex_flow": null,
            "grid_area": null,
            "grid_auto_columns": null,
            "grid_auto_flow": null,
            "grid_auto_rows": null,
            "grid_column": null,
            "grid_gap": null,
            "grid_row": null,
            "grid_template_areas": null,
            "grid_template_columns": null,
            "grid_template_rows": null,
            "height": null,
            "justify_content": null,
            "justify_items": null,
            "left": null,
            "margin": null,
            "max_height": null,
            "max_width": null,
            "min_height": null,
            "min_width": null,
            "object_fit": null,
            "object_position": null,
            "order": null,
            "overflow": null,
            "overflow_x": null,
            "overflow_y": null,
            "padding": null,
            "right": null,
            "top": null,
            "visibility": null,
            "width": null
          }
        },
        "174bcf2352cc4ffaab4b40ec3fc0ab28": {
          "model_module": "@jupyter-widgets/base",
          "model_name": "LayoutModel",
          "model_module_version": "1.2.0",
          "state": {
            "_model_module": "@jupyter-widgets/base",
            "_model_module_version": "1.2.0",
            "_model_name": "LayoutModel",
            "_view_count": null,
            "_view_module": "@jupyter-widgets/base",
            "_view_module_version": "1.2.0",
            "_view_name": "LayoutView",
            "align_content": null,
            "align_items": null,
            "align_self": null,
            "border": null,
            "bottom": null,
            "display": null,
            "flex": null,
            "flex_flow": null,
            "grid_area": null,
            "grid_auto_columns": null,
            "grid_auto_flow": null,
            "grid_auto_rows": null,
            "grid_column": null,
            "grid_gap": null,
            "grid_row": null,
            "grid_template_areas": null,
            "grid_template_columns": null,
            "grid_template_rows": null,
            "height": null,
            "justify_content": null,
            "justify_items": null,
            "left": null,
            "margin": null,
            "max_height": null,
            "max_width": null,
            "min_height": null,
            "min_width": null,
            "object_fit": null,
            "object_position": null,
            "order": null,
            "overflow": null,
            "overflow_x": null,
            "overflow_y": null,
            "padding": null,
            "right": null,
            "top": null,
            "visibility": null,
            "width": null
          }
        },
        "a8c358409e964221b32f2655a512c09e": {
          "model_module": "@jupyter-widgets/controls",
          "model_name": "DescriptionStyleModel",
          "model_module_version": "1.5.0",
          "state": {
            "_model_module": "@jupyter-widgets/controls",
            "_model_module_version": "1.5.0",
            "_model_name": "DescriptionStyleModel",
            "_view_count": null,
            "_view_module": "@jupyter-widgets/base",
            "_view_module_version": "1.2.0",
            "_view_name": "StyleView",
            "description_width": ""
          }
        },
        "c657f49823a44a9e9c18bc3dcb305ee5": {
          "model_module": "@jupyter-widgets/base",
          "model_name": "LayoutModel",
          "model_module_version": "1.2.0",
          "state": {
            "_model_module": "@jupyter-widgets/base",
            "_model_module_version": "1.2.0",
            "_model_name": "LayoutModel",
            "_view_count": null,
            "_view_module": "@jupyter-widgets/base",
            "_view_module_version": "1.2.0",
            "_view_name": "LayoutView",
            "align_content": null,
            "align_items": null,
            "align_self": null,
            "border": null,
            "bottom": null,
            "display": null,
            "flex": null,
            "flex_flow": null,
            "grid_area": null,
            "grid_auto_columns": null,
            "grid_auto_flow": null,
            "grid_auto_rows": null,
            "grid_column": null,
            "grid_gap": null,
            "grid_row": null,
            "grid_template_areas": null,
            "grid_template_columns": null,
            "grid_template_rows": null,
            "height": null,
            "justify_content": null,
            "justify_items": null,
            "left": null,
            "margin": null,
            "max_height": null,
            "max_width": null,
            "min_height": null,
            "min_width": null,
            "object_fit": null,
            "object_position": null,
            "order": null,
            "overflow": null,
            "overflow_x": null,
            "overflow_y": null,
            "padding": null,
            "right": null,
            "top": null,
            "visibility": null,
            "width": null
          }
        },
        "9399f4f6d850412ea0be634d4431d25b": {
          "model_module": "@jupyter-widgets/controls",
          "model_name": "ProgressStyleModel",
          "model_module_version": "1.5.0",
          "state": {
            "_model_module": "@jupyter-widgets/controls",
            "_model_module_version": "1.5.0",
            "_model_name": "ProgressStyleModel",
            "_view_count": null,
            "_view_module": "@jupyter-widgets/base",
            "_view_module_version": "1.2.0",
            "_view_name": "StyleView",
            "bar_color": null,
            "description_width": ""
          }
        },
        "f21433f21f2d4f9e83b513cee9ba37c9": {
          "model_module": "@jupyter-widgets/base",
          "model_name": "LayoutModel",
          "model_module_version": "1.2.0",
          "state": {
            "_model_module": "@jupyter-widgets/base",
            "_model_module_version": "1.2.0",
            "_model_name": "LayoutModel",
            "_view_count": null,
            "_view_module": "@jupyter-widgets/base",
            "_view_module_version": "1.2.0",
            "_view_name": "LayoutView",
            "align_content": null,
            "align_items": null,
            "align_self": null,
            "border": null,
            "bottom": null,
            "display": null,
            "flex": null,
            "flex_flow": null,
            "grid_area": null,
            "grid_auto_columns": null,
            "grid_auto_flow": null,
            "grid_auto_rows": null,
            "grid_column": null,
            "grid_gap": null,
            "grid_row": null,
            "grid_template_areas": null,
            "grid_template_columns": null,
            "grid_template_rows": null,
            "height": null,
            "justify_content": null,
            "justify_items": null,
            "left": null,
            "margin": null,
            "max_height": null,
            "max_width": null,
            "min_height": null,
            "min_width": null,
            "object_fit": null,
            "object_position": null,
            "order": null,
            "overflow": null,
            "overflow_x": null,
            "overflow_y": null,
            "padding": null,
            "right": null,
            "top": null,
            "visibility": null,
            "width": null
          }
        },
        "b0190b8805034e69a27d927aa628936c": {
          "model_module": "@jupyter-widgets/controls",
          "model_name": "DescriptionStyleModel",
          "model_module_version": "1.5.0",
          "state": {
            "_model_module": "@jupyter-widgets/controls",
            "_model_module_version": "1.5.0",
            "_model_name": "DescriptionStyleModel",
            "_view_count": null,
            "_view_module": "@jupyter-widgets/base",
            "_view_module_version": "1.2.0",
            "_view_name": "StyleView",
            "description_width": ""
          }
        },
        "146ac7edb5ac44eca2d70d5a15728229": {
          "model_module": "@jupyter-widgets/controls",
          "model_name": "HBoxModel",
          "model_module_version": "1.5.0",
          "state": {
            "_dom_classes": [],
            "_model_module": "@jupyter-widgets/controls",
            "_model_module_version": "1.5.0",
            "_model_name": "HBoxModel",
            "_view_count": null,
            "_view_module": "@jupyter-widgets/controls",
            "_view_module_version": "1.5.0",
            "_view_name": "HBoxView",
            "box_style": "",
            "children": [
              "IPY_MODEL_e095623ac87f40709a0e6a3ce9869838",
              "IPY_MODEL_24c7ea1e385b4189bf43526e0c396bec",
              "IPY_MODEL_9fddbbb15e95452dbf6f32256b331e45"
            ],
            "layout": "IPY_MODEL_1bfcbf44c6e2415b959d8fe343e48017"
          }
        },
        "e095623ac87f40709a0e6a3ce9869838": {
          "model_module": "@jupyter-widgets/controls",
          "model_name": "HTMLModel",
          "model_module_version": "1.5.0",
          "state": {
            "_dom_classes": [],
            "_model_module": "@jupyter-widgets/controls",
            "_model_module_version": "1.5.0",
            "_model_name": "HTMLModel",
            "_view_count": null,
            "_view_module": "@jupyter-widgets/controls",
            "_view_module_version": "1.5.0",
            "_view_name": "HTMLView",
            "description": "",
            "description_tooltip": null,
            "layout": "IPY_MODEL_4d47917c4f064a548cbee3e4402bbb3c",
            "placeholder": "​",
            "style": "IPY_MODEL_79e067dd5c6f4617aadf9cdcd51d9e07",
            "value": "Downloading: 100%"
          }
        },
        "24c7ea1e385b4189bf43526e0c396bec": {
          "model_module": "@jupyter-widgets/controls",
          "model_name": "FloatProgressModel",
          "model_module_version": "1.5.0",
          "state": {
            "_dom_classes": [],
            "_model_module": "@jupyter-widgets/controls",
            "_model_module_version": "1.5.0",
            "_model_name": "FloatProgressModel",
            "_view_count": null,
            "_view_module": "@jupyter-widgets/controls",
            "_view_module_version": "1.5.0",
            "_view_name": "ProgressView",
            "bar_style": "success",
            "description": "",
            "description_tooltip": null,
            "layout": "IPY_MODEL_47e910f21fc841fe82aeb623230aef32",
            "max": 231508,
            "min": 0,
            "orientation": "horizontal",
            "style": "IPY_MODEL_7f8cb38bd898449f9be5971643ff436b",
            "value": 231508
          }
        },
        "9fddbbb15e95452dbf6f32256b331e45": {
          "model_module": "@jupyter-widgets/controls",
          "model_name": "HTMLModel",
          "model_module_version": "1.5.0",
          "state": {
            "_dom_classes": [],
            "_model_module": "@jupyter-widgets/controls",
            "_model_module_version": "1.5.0",
            "_model_name": "HTMLModel",
            "_view_count": null,
            "_view_module": "@jupyter-widgets/controls",
            "_view_module_version": "1.5.0",
            "_view_name": "HTMLView",
            "description": "",
            "description_tooltip": null,
            "layout": "IPY_MODEL_9bc3356aa94f40c6983c5bec04066c5c",
            "placeholder": "​",
            "style": "IPY_MODEL_980a50620c7a48bf84e394234d97d56a",
            "value": " 232k/232k [00:00&lt;00:00, 273kB/s]"
          }
        },
        "1bfcbf44c6e2415b959d8fe343e48017": {
          "model_module": "@jupyter-widgets/base",
          "model_name": "LayoutModel",
          "model_module_version": "1.2.0",
          "state": {
            "_model_module": "@jupyter-widgets/base",
            "_model_module_version": "1.2.0",
            "_model_name": "LayoutModel",
            "_view_count": null,
            "_view_module": "@jupyter-widgets/base",
            "_view_module_version": "1.2.0",
            "_view_name": "LayoutView",
            "align_content": null,
            "align_items": null,
            "align_self": null,
            "border": null,
            "bottom": null,
            "display": null,
            "flex": null,
            "flex_flow": null,
            "grid_area": null,
            "grid_auto_columns": null,
            "grid_auto_flow": null,
            "grid_auto_rows": null,
            "grid_column": null,
            "grid_gap": null,
            "grid_row": null,
            "grid_template_areas": null,
            "grid_template_columns": null,
            "grid_template_rows": null,
            "height": null,
            "justify_content": null,
            "justify_items": null,
            "left": null,
            "margin": null,
            "max_height": null,
            "max_width": null,
            "min_height": null,
            "min_width": null,
            "object_fit": null,
            "object_position": null,
            "order": null,
            "overflow": null,
            "overflow_x": null,
            "overflow_y": null,
            "padding": null,
            "right": null,
            "top": null,
            "visibility": null,
            "width": null
          }
        },
        "4d47917c4f064a548cbee3e4402bbb3c": {
          "model_module": "@jupyter-widgets/base",
          "model_name": "LayoutModel",
          "model_module_version": "1.2.0",
          "state": {
            "_model_module": "@jupyter-widgets/base",
            "_model_module_version": "1.2.0",
            "_model_name": "LayoutModel",
            "_view_count": null,
            "_view_module": "@jupyter-widgets/base",
            "_view_module_version": "1.2.0",
            "_view_name": "LayoutView",
            "align_content": null,
            "align_items": null,
            "align_self": null,
            "border": null,
            "bottom": null,
            "display": null,
            "flex": null,
            "flex_flow": null,
            "grid_area": null,
            "grid_auto_columns": null,
            "grid_auto_flow": null,
            "grid_auto_rows": null,
            "grid_column": null,
            "grid_gap": null,
            "grid_row": null,
            "grid_template_areas": null,
            "grid_template_columns": null,
            "grid_template_rows": null,
            "height": null,
            "justify_content": null,
            "justify_items": null,
            "left": null,
            "margin": null,
            "max_height": null,
            "max_width": null,
            "min_height": null,
            "min_width": null,
            "object_fit": null,
            "object_position": null,
            "order": null,
            "overflow": null,
            "overflow_x": null,
            "overflow_y": null,
            "padding": null,
            "right": null,
            "top": null,
            "visibility": null,
            "width": null
          }
        },
        "79e067dd5c6f4617aadf9cdcd51d9e07": {
          "model_module": "@jupyter-widgets/controls",
          "model_name": "DescriptionStyleModel",
          "model_module_version": "1.5.0",
          "state": {
            "_model_module": "@jupyter-widgets/controls",
            "_model_module_version": "1.5.0",
            "_model_name": "DescriptionStyleModel",
            "_view_count": null,
            "_view_module": "@jupyter-widgets/base",
            "_view_module_version": "1.2.0",
            "_view_name": "StyleView",
            "description_width": ""
          }
        },
        "47e910f21fc841fe82aeb623230aef32": {
          "model_module": "@jupyter-widgets/base",
          "model_name": "LayoutModel",
          "model_module_version": "1.2.0",
          "state": {
            "_model_module": "@jupyter-widgets/base",
            "_model_module_version": "1.2.0",
            "_model_name": "LayoutModel",
            "_view_count": null,
            "_view_module": "@jupyter-widgets/base",
            "_view_module_version": "1.2.0",
            "_view_name": "LayoutView",
            "align_content": null,
            "align_items": null,
            "align_self": null,
            "border": null,
            "bottom": null,
            "display": null,
            "flex": null,
            "flex_flow": null,
            "grid_area": null,
            "grid_auto_columns": null,
            "grid_auto_flow": null,
            "grid_auto_rows": null,
            "grid_column": null,
            "grid_gap": null,
            "grid_row": null,
            "grid_template_areas": null,
            "grid_template_columns": null,
            "grid_template_rows": null,
            "height": null,
            "justify_content": null,
            "justify_items": null,
            "left": null,
            "margin": null,
            "max_height": null,
            "max_width": null,
            "min_height": null,
            "min_width": null,
            "object_fit": null,
            "object_position": null,
            "order": null,
            "overflow": null,
            "overflow_x": null,
            "overflow_y": null,
            "padding": null,
            "right": null,
            "top": null,
            "visibility": null,
            "width": null
          }
        },
        "7f8cb38bd898449f9be5971643ff436b": {
          "model_module": "@jupyter-widgets/controls",
          "model_name": "ProgressStyleModel",
          "model_module_version": "1.5.0",
          "state": {
            "_model_module": "@jupyter-widgets/controls",
            "_model_module_version": "1.5.0",
            "_model_name": "ProgressStyleModel",
            "_view_count": null,
            "_view_module": "@jupyter-widgets/base",
            "_view_module_version": "1.2.0",
            "_view_name": "StyleView",
            "bar_color": null,
            "description_width": ""
          }
        },
        "9bc3356aa94f40c6983c5bec04066c5c": {
          "model_module": "@jupyter-widgets/base",
          "model_name": "LayoutModel",
          "model_module_version": "1.2.0",
          "state": {
            "_model_module": "@jupyter-widgets/base",
            "_model_module_version": "1.2.0",
            "_model_name": "LayoutModel",
            "_view_count": null,
            "_view_module": "@jupyter-widgets/base",
            "_view_module_version": "1.2.0",
            "_view_name": "LayoutView",
            "align_content": null,
            "align_items": null,
            "align_self": null,
            "border": null,
            "bottom": null,
            "display": null,
            "flex": null,
            "flex_flow": null,
            "grid_area": null,
            "grid_auto_columns": null,
            "grid_auto_flow": null,
            "grid_auto_rows": null,
            "grid_column": null,
            "grid_gap": null,
            "grid_row": null,
            "grid_template_areas": null,
            "grid_template_columns": null,
            "grid_template_rows": null,
            "height": null,
            "justify_content": null,
            "justify_items": null,
            "left": null,
            "margin": null,
            "max_height": null,
            "max_width": null,
            "min_height": null,
            "min_width": null,
            "object_fit": null,
            "object_position": null,
            "order": null,
            "overflow": null,
            "overflow_x": null,
            "overflow_y": null,
            "padding": null,
            "right": null,
            "top": null,
            "visibility": null,
            "width": null
          }
        },
        "980a50620c7a48bf84e394234d97d56a": {
          "model_module": "@jupyter-widgets/controls",
          "model_name": "DescriptionStyleModel",
          "model_module_version": "1.5.0",
          "state": {
            "_model_module": "@jupyter-widgets/controls",
            "_model_module_version": "1.5.0",
            "_model_name": "DescriptionStyleModel",
            "_view_count": null,
            "_view_module": "@jupyter-widgets/base",
            "_view_module_version": "1.2.0",
            "_view_name": "StyleView",
            "description_width": ""
          }
        },
        "1dcf6b7744d24c0aa1cde8467720d8d3": {
          "model_module": "@jupyter-widgets/controls",
          "model_name": "HBoxModel",
          "model_module_version": "1.5.0",
          "state": {
            "_dom_classes": [],
            "_model_module": "@jupyter-widgets/controls",
            "_model_module_version": "1.5.0",
            "_model_name": "HBoxModel",
            "_view_count": null,
            "_view_module": "@jupyter-widgets/controls",
            "_view_module_version": "1.5.0",
            "_view_name": "HBoxView",
            "box_style": "",
            "children": [
              "IPY_MODEL_d3129da715e84be7aa9516a4a487ff44",
              "IPY_MODEL_25cec24a0c774ff09f03985a5d3cc8d4",
              "IPY_MODEL_873f9317f91c4eca90f6de85cb8df334"
            ],
            "layout": "IPY_MODEL_26ac9f5c2d654a45a45337e1da1a35c1"
          }
        },
        "d3129da715e84be7aa9516a4a487ff44": {
          "model_module": "@jupyter-widgets/controls",
          "model_name": "HTMLModel",
          "model_module_version": "1.5.0",
          "state": {
            "_dom_classes": [],
            "_model_module": "@jupyter-widgets/controls",
            "_model_module_version": "1.5.0",
            "_model_name": "HTMLModel",
            "_view_count": null,
            "_view_module": "@jupyter-widgets/controls",
            "_view_module_version": "1.5.0",
            "_view_name": "HTMLView",
            "description": "",
            "description_tooltip": null,
            "layout": "IPY_MODEL_1846aa3de68246eca4be31092f9c5d9c",
            "placeholder": "​",
            "style": "IPY_MODEL_d7572e616a704f0d9eb02cc4ab186572",
            "value": "Downloading: 100%"
          }
        },
        "25cec24a0c774ff09f03985a5d3cc8d4": {
          "model_module": "@jupyter-widgets/controls",
          "model_name": "FloatProgressModel",
          "model_module_version": "1.5.0",
          "state": {
            "_dom_classes": [],
            "_model_module": "@jupyter-widgets/controls",
            "_model_module_version": "1.5.0",
            "_model_name": "FloatProgressModel",
            "_view_count": null,
            "_view_module": "@jupyter-widgets/controls",
            "_view_module_version": "1.5.0",
            "_view_name": "ProgressView",
            "bar_style": "success",
            "description": "",
            "description_tooltip": null,
            "layout": "IPY_MODEL_a128d6e3b994427583d24e2b5f1e125e",
            "max": 267967963,
            "min": 0,
            "orientation": "horizontal",
            "style": "IPY_MODEL_63fcaceac3894a778e3e969587bb7aa0",
            "value": 267967963
          }
        },
        "873f9317f91c4eca90f6de85cb8df334": {
          "model_module": "@jupyter-widgets/controls",
          "model_name": "HTMLModel",
          "model_module_version": "1.5.0",
          "state": {
            "_dom_classes": [],
            "_model_module": "@jupyter-widgets/controls",
            "_model_module_version": "1.5.0",
            "_model_name": "HTMLModel",
            "_view_count": null,
            "_view_module": "@jupyter-widgets/controls",
            "_view_module_version": "1.5.0",
            "_view_name": "HTMLView",
            "description": "",
            "description_tooltip": null,
            "layout": "IPY_MODEL_9adcbeb2cf5c45d9b104c2810ce9dc70",
            "placeholder": "​",
            "style": "IPY_MODEL_f27a3a42575645ce82ef91cac82e00f4",
            "value": " 268M/268M [00:05&lt;00:00, 57.9MB/s]"
          }
        },
        "26ac9f5c2d654a45a45337e1da1a35c1": {
          "model_module": "@jupyter-widgets/base",
          "model_name": "LayoutModel",
          "model_module_version": "1.2.0",
          "state": {
            "_model_module": "@jupyter-widgets/base",
            "_model_module_version": "1.2.0",
            "_model_name": "LayoutModel",
            "_view_count": null,
            "_view_module": "@jupyter-widgets/base",
            "_view_module_version": "1.2.0",
            "_view_name": "LayoutView",
            "align_content": null,
            "align_items": null,
            "align_self": null,
            "border": null,
            "bottom": null,
            "display": null,
            "flex": null,
            "flex_flow": null,
            "grid_area": null,
            "grid_auto_columns": null,
            "grid_auto_flow": null,
            "grid_auto_rows": null,
            "grid_column": null,
            "grid_gap": null,
            "grid_row": null,
            "grid_template_areas": null,
            "grid_template_columns": null,
            "grid_template_rows": null,
            "height": null,
            "justify_content": null,
            "justify_items": null,
            "left": null,
            "margin": null,
            "max_height": null,
            "max_width": null,
            "min_height": null,
            "min_width": null,
            "object_fit": null,
            "object_position": null,
            "order": null,
            "overflow": null,
            "overflow_x": null,
            "overflow_y": null,
            "padding": null,
            "right": null,
            "top": null,
            "visibility": null,
            "width": null
          }
        },
        "1846aa3de68246eca4be31092f9c5d9c": {
          "model_module": "@jupyter-widgets/base",
          "model_name": "LayoutModel",
          "model_module_version": "1.2.0",
          "state": {
            "_model_module": "@jupyter-widgets/base",
            "_model_module_version": "1.2.0",
            "_model_name": "LayoutModel",
            "_view_count": null,
            "_view_module": "@jupyter-widgets/base",
            "_view_module_version": "1.2.0",
            "_view_name": "LayoutView",
            "align_content": null,
            "align_items": null,
            "align_self": null,
            "border": null,
            "bottom": null,
            "display": null,
            "flex": null,
            "flex_flow": null,
            "grid_area": null,
            "grid_auto_columns": null,
            "grid_auto_flow": null,
            "grid_auto_rows": null,
            "grid_column": null,
            "grid_gap": null,
            "grid_row": null,
            "grid_template_areas": null,
            "grid_template_columns": null,
            "grid_template_rows": null,
            "height": null,
            "justify_content": null,
            "justify_items": null,
            "left": null,
            "margin": null,
            "max_height": null,
            "max_width": null,
            "min_height": null,
            "min_width": null,
            "object_fit": null,
            "object_position": null,
            "order": null,
            "overflow": null,
            "overflow_x": null,
            "overflow_y": null,
            "padding": null,
            "right": null,
            "top": null,
            "visibility": null,
            "width": null
          }
        },
        "d7572e616a704f0d9eb02cc4ab186572": {
          "model_module": "@jupyter-widgets/controls",
          "model_name": "DescriptionStyleModel",
          "model_module_version": "1.5.0",
          "state": {
            "_model_module": "@jupyter-widgets/controls",
            "_model_module_version": "1.5.0",
            "_model_name": "DescriptionStyleModel",
            "_view_count": null,
            "_view_module": "@jupyter-widgets/base",
            "_view_module_version": "1.2.0",
            "_view_name": "StyleView",
            "description_width": ""
          }
        },
        "a128d6e3b994427583d24e2b5f1e125e": {
          "model_module": "@jupyter-widgets/base",
          "model_name": "LayoutModel",
          "model_module_version": "1.2.0",
          "state": {
            "_model_module": "@jupyter-widgets/base",
            "_model_module_version": "1.2.0",
            "_model_name": "LayoutModel",
            "_view_count": null,
            "_view_module": "@jupyter-widgets/base",
            "_view_module_version": "1.2.0",
            "_view_name": "LayoutView",
            "align_content": null,
            "align_items": null,
            "align_self": null,
            "border": null,
            "bottom": null,
            "display": null,
            "flex": null,
            "flex_flow": null,
            "grid_area": null,
            "grid_auto_columns": null,
            "grid_auto_flow": null,
            "grid_auto_rows": null,
            "grid_column": null,
            "grid_gap": null,
            "grid_row": null,
            "grid_template_areas": null,
            "grid_template_columns": null,
            "grid_template_rows": null,
            "height": null,
            "justify_content": null,
            "justify_items": null,
            "left": null,
            "margin": null,
            "max_height": null,
            "max_width": null,
            "min_height": null,
            "min_width": null,
            "object_fit": null,
            "object_position": null,
            "order": null,
            "overflow": null,
            "overflow_x": null,
            "overflow_y": null,
            "padding": null,
            "right": null,
            "top": null,
            "visibility": null,
            "width": null
          }
        },
        "63fcaceac3894a778e3e969587bb7aa0": {
          "model_module": "@jupyter-widgets/controls",
          "model_name": "ProgressStyleModel",
          "model_module_version": "1.5.0",
          "state": {
            "_model_module": "@jupyter-widgets/controls",
            "_model_module_version": "1.5.0",
            "_model_name": "ProgressStyleModel",
            "_view_count": null,
            "_view_module": "@jupyter-widgets/base",
            "_view_module_version": "1.2.0",
            "_view_name": "StyleView",
            "bar_color": null,
            "description_width": ""
          }
        },
        "9adcbeb2cf5c45d9b104c2810ce9dc70": {
          "model_module": "@jupyter-widgets/base",
          "model_name": "LayoutModel",
          "model_module_version": "1.2.0",
          "state": {
            "_model_module": "@jupyter-widgets/base",
            "_model_module_version": "1.2.0",
            "_model_name": "LayoutModel",
            "_view_count": null,
            "_view_module": "@jupyter-widgets/base",
            "_view_module_version": "1.2.0",
            "_view_name": "LayoutView",
            "align_content": null,
            "align_items": null,
            "align_self": null,
            "border": null,
            "bottom": null,
            "display": null,
            "flex": null,
            "flex_flow": null,
            "grid_area": null,
            "grid_auto_columns": null,
            "grid_auto_flow": null,
            "grid_auto_rows": null,
            "grid_column": null,
            "grid_gap": null,
            "grid_row": null,
            "grid_template_areas": null,
            "grid_template_columns": null,
            "grid_template_rows": null,
            "height": null,
            "justify_content": null,
            "justify_items": null,
            "left": null,
            "margin": null,
            "max_height": null,
            "max_width": null,
            "min_height": null,
            "min_width": null,
            "object_fit": null,
            "object_position": null,
            "order": null,
            "overflow": null,
            "overflow_x": null,
            "overflow_y": null,
            "padding": null,
            "right": null,
            "top": null,
            "visibility": null,
            "width": null
          }
        },
        "f27a3a42575645ce82ef91cac82e00f4": {
          "model_module": "@jupyter-widgets/controls",
          "model_name": "DescriptionStyleModel",
          "model_module_version": "1.5.0",
          "state": {
            "_model_module": "@jupyter-widgets/controls",
            "_model_module_version": "1.5.0",
            "_model_name": "DescriptionStyleModel",
            "_view_count": null,
            "_view_module": "@jupyter-widgets/base",
            "_view_module_version": "1.2.0",
            "_view_name": "StyleView",
            "description_width": ""
          }
        }
      }
    }
  },
  "cells": [
    {
      "cell_type": "markdown",
      "source": [
        "# Imports"
      ],
      "metadata": {
        "id": "6zUcDT73qn5r"
      }
    },
    {
      "cell_type": "code",
      "execution_count": null,
      "metadata": {
        "colab": {
          "base_uri": "https://localhost:8080/"
        },
        "id": "SrARUSQliGNi",
        "outputId": "70b279c5-8d41-4484-847b-e810547c6447"
      },
      "outputs": [
        {
          "output_type": "stream",
          "name": "stdout",
          "text": [
            "Mounted at /content/drive\n"
          ]
        }
      ],
      "source": [
        "from google.colab import drive\n",
        "drive.mount('/content/drive')"
      ]
    },
    {
      "cell_type": "code",
      "source": [
        "import pandas as pd\n",
        "import numpy as np\n",
        "import re\n",
        "import json\n",
        "import tqdm"
      ],
      "metadata": {
        "id": "sXBv3kzhiJWp"
      },
      "execution_count": null,
      "outputs": []
    },
    {
      "cell_type": "markdown",
      "source": [
        "# Data load"
      ],
      "metadata": {
        "id": "nZPQKYFaqqAl"
      }
    },
    {
      "cell_type": "code",
      "source": [
        "DATA_PATH = '../data/test_data_tomt/'"
      ],
      "metadata": {
        "id": "xqvt5PhziPDY"
      },
      "execution_count": null,
      "outputs": []
    },
    {
      "cell_type": "code",
      "source": [
        "with open(DATA_PATH+'sentenceWikiScrappedUpdated.txt', \"r\") as wiki:\n",
        "  dataset = json.loads(wiki.read())\n",
        "dataset"
      ],
      "metadata": {
        "colab": {
          "base_uri": "https://localhost:8080/"
        },
        "id": "8bulcxEviqXN",
        "outputId": "a67c7e28-d901-4608-bcfc-181e306302cc"
      },
      "execution_count": null,
      "outputs": [
        {
          "output_type": "execute_result",
          "data": {
            "text/plain": [
              "{'Movies': ['Twisted',\n",
              "  'Chatroom',\n",
              "  'The 10th Kingdom',\n",
              "  'The Dragon Ring',\n",
              "  'Nowhere',\n",
              "  'Deadend',\n",
              "  'The Warlord',\n",
              "  'The Final',\n",
              "  'Tales of the Night',\n",
              "  'The Watcher in the Woods'],\n",
              " 'Plots': [['One evening, the Collins, Phillip and Evelyn, a married couple with two children, discover their maid, Mrs. Murdock, dead at the end of their steps; her neck is broken.',\n",
              "   'Evidently, she had an accident; now they need a new babysitter for an upcoming party.',\n",
              "   'The sensible Helen meets little Susan Collins at the discount market and likes her, so she offers to do the job.',\n",
              "   \"She does not know Susan's teenage brother Mark (Christian Slater): technically skilled and good in school, but restive and cunning.\",\n",
              "   'Mark also listens regularly to German marching music from the Third Reich.',\n",
              "   'As soon as the parents have left, he psychologically terrorizes Helen and his sister with electronic tricks.',\n",
              "   'Williams (Karl Taylor), a school jock whom Mark burned earlier in science class, comes to the Collins home out for revenge; Mark kills him with a fencing sword.',\n",
              "   'Ultimately, Mark himself is killed when Helen, defending herself, knocks him onto his spiked German helmet.',\n",
              "   \"Mark's parents come home to find the house in shambles; Evelyn puts the blame on Helen and tries to have her arrested, unaware that Mark lies dead upstairs.\",\n",
              "   \"Phillip has already looked in their children's rooms, presumably finding Mark's body, but instead offers Helen a ride home.\",\n",
              "   'Helen simply turns down the offer and drives back home herself, with Phillip refusing to have her arrested immediately and suggesting they clean up the house.',\n",
              "   \"Secretly, Susan dons her late brother's glasses and proceeds to listen to his Nazi music and the cycle begins anew.\"],\n",
              "  ['William Collins is a depressed teenage boy recovering from self-harm and regularly goes online to chatrooms.',\n",
              "   'One day, he decides to open a chatroom himself and calls it \"Chelsea Teens!',\n",
              "   '\", where he meets Jim, Eva, Emily and Mo.',\n",
              "   'There is no real subject matter in \"Chelsea Teens!',\n",
              "   '\", which instead focuses on the lives of each one as they talk.',\n",
              "   'Even though they only really communicate through text, they are depicted in an old hotel-like room and actually having contact.',\n",
              "   'William is a loner who lives with his parents.',\n",
              "   'He hates both his parents, blaming them for his past, and lives his entire life on the Internet.',\n",
              "   'Jim is another loner who is suffering from depression following his father leaving him and his mother.',\n",
              "   'Eva, a model, is constantly bullied by her co-workers for her appearance.',\n",
              "   'Emily feels distant from her parents and does not feel like she receives enough attention.',\n",
              "   \"Mo believes himself to be a pedophile because he is attracted to his friend Si's prepubescent sister, Keisha.\",\n",
              "   'William sees it to himself to help them in a crude manner.',\n",
              "   \"He Photoshops embarrassing pictures of Eva's co-worker and posts them online.\",\n",
              "   'He convinces Jim to flush down his antidepressants to make himself feel more relaxed and to reveal his face behind the depressants, his true identity.',\n",
              "   'He tells Emily to do some dirty work, teaming up with Eva.',\n",
              "   'They devise ways in which Emily could be more violent and make it look like somebody is harassing her family, which makes her parents try to protect her more.',\n",
              "   'He tells Mo to tell Si the truth, but this backfires when Si calls him a pervert and attacks him.',\n",
              "   'William becomes darker and more menacing and even begins to watch people commit suicide.',\n",
              "   'He then takes it upon himself to coerce Jim into committing suicide.',\n",
              "   \"His plans are halted though when his computer and phone are taken away from him by his father, who when looking through William's computer, finds one of the suicide videos.\",\n",
              "   'William gets his backup computer and phone and goes after Jim, who meets up with him at London Zoo.',\n",
              "   \"Mo and the others discover about William's intended actions and go to stop him, meeting up in person and trying to follow William and Jim around London.\",\n",
              "   'Jim makes it to the zoo first but decides to not do it.',\n",
              "   'He tries to leave, but William chases him.',\n",
              "   'William catches Jim, who refuses to shoot himself and throws the gun to the floor.',\n",
              "   'When William gets it and comes back, Eva punches him and the rest of the crew comes, followed by the police.',\n",
              "   'William tries to escape but only manages to climb up some crates.',\n",
              "   'He then falls in front of the speeding train behind the crates and is killed.',\n",
              "   \"The teens leave without talking to each other; William's account is shut down.\",\n",
              "   'William walks in a chat tunnel as the light gradually fades.'],\n",
              "  ['In a hidden realm, fairy tale characters inhabit nine magical kingdoms where an Evil Queen plots to rule them.',\n",
              "   'She is held in a Fourth Kingdom prison.',\n",
              "   'This kingdom is under the rule of Prince Wendell, the spoiled, arrogant grandson of Snow White.',\n",
              "   'Weeks before his coronation ceremony, the Queen enlists the help of the brutal Troll King and his three children to release her right before the Prince makes his annual visit to the prison.',\n",
              "   'Prince Wendell is captured by the Evil Queen, who is his wicked stepmother.',\n",
              "   'She turns him into a Golden Retriever while her very own retriever is transformed into a facsimile of Wendell.',\n",
              "   'In a panic, the transformed Prince flees through the prison, stumbles across a mirror portal in the basement, and is transported to New York City.',\n",
              "   'The Troll King orders his bumbling children Burly, Blabberwort, and Bluebell to bring back the escaped Prince while the Queen releases a half-wolf prisoner (who is simply called Wolf) to retrieve him instead.',\n",
              "   'Meanwhile, regular Manhattan inhabitants, headstrong waitress Virginia Lewis and her oafish father Tony are entangled in the mishaps caused by the new magical arrivals to the city, including Wolf falling helplessly in love with Virginia and Tony being given six wishes (which he foolishly uses for personal gain, upon which they have a tendency to backfire).',\n",
              "   \"With Virginia having already determined that the transformed Wendell (named by a fellow waitress as 'Prince' even before Virginia learns his identity)--is more than just a normal dog, Tony uses his last wish to acquire the ability to understand the dog, who urges them to travel back to The Nine Kingdoms with him to break the spell.\",\n",
              "   'Tony, feeling responsible for Prince, reluctantly accepts, and Virginia and Tony are taken back to the realm through the magic mirror.',\n",
              "   'At first, Tony and Virginia are desperate to just get home, while the magic mirror is being taken from place to place around the Kingdoms - being cleared out of the prison, taken as a prize for a sheep-rearing contest, and then sold in an auction.',\n",
              "   \"The group travels the lands in pursuit of the mirror, facing many dangers and challenges in the process, including Virginia's hair being enchanted to an impossible length, pursuit by the Queen's Huntsman, and a conspiracy by the descendants of Little Bo Peep to control a town's wishing well.\",\n",
              "   'During their journey, Wolf questions his loyalty to the Queen in order to gain favor with stubborn Virginia and quickly sides with them.',\n",
              "   'This act prompts the Queen to send her relentless and cold-blooded Huntsman to capture the Prince along with Virginia and Tony.',\n",
              "   'Virginia eventually meets the ghost of Snow White, who reveals she is destined to save the Nine Kingdoms.',\n",
              "   'Tony also recognizes the Queen as his long lost wife and Virginia’s mother.',\n",
              "   'They travel to the castle to stop her, but Wolf seems to have betrayed Tony and Virginia.',\n",
              "   'They are thrown into the dungeons where Tony reveals to Virginia that her mother had been suffering a mental breakdown and had tried to drown Virginia the night she left.',\n",
              "   'The Queen has her imposter Prince Wendell crowned king and then tries to poison all the monarchs who attend the ceremony.',\n",
              "   'Luckily, Wolf had switched the poison for a sleeping potion, so everyone wakes up unharmed.',\n",
              "   'Virginia must kill the Evil Queen in self-defense, which pains her greatly.',\n",
              "   'The real Prince Wendell turns back into a human and takes the throne, pardoning the trolls, and allowing them to return to their kingdom after the death of their father.',\n",
              "   'Grateful to Tony for all of his help, Prince Wendell offers him a job at the palace, which he accepts.',\n",
              "   'Virginia and Wolf, now expecting a child, return to New York City.'],\n",
              "  ['Desideria is the eldest daughter of the Dragon King and Queen, rulers of a powerful conquering kingdom.',\n",
              "   'Selvaggia is the magical adopted daughter of the Dragon King and Queen, and although she is constantly playing tricks to get her elder sister in trouble, she is frequently praised as being the smarter and better daughter.',\n",
              "   'As the eldest birth daughter of the Dragon King, Desideria is due to inherit the Dragon Ring, the highest symbol of power in the kingdom, but she can only do so once she has chosen a husband.',\n",
              "   'Unfortunately, the prince that finally catches her attention is Prince Victor, a rebel prince who has fought against her father and is to be sentenced to death for his treachery.',\n",
              "   'Desideria helps Victor escape from the castle prisons, but her father catches her in the act and she is punished.',\n",
              "   'The Dragon King decides to let all the princes in his conquered kingdoms fight in a tournament for her hand in marriage, but when Desideria sees that all the princes are selfish, cruel men, she runs away.',\n",
              "   'When the Dragon King discovers that she has fled, he declares that Desideria has forfeited her right to the throne and Selvaggia will become the new prize.',\n",
              "   'But unknown to him, the jealous Selvaggia wants to beat her elder sister completely.',\n",
              "   'Desideria eventually ends up in the desert, where she is saved from the Witches of the Sand by none other than Prince Victor himself.',\n",
              "   'She learns from him and other rebels in his camp that her beloved father is actually a cruel and vicious ruler.',\n",
              "   \"Just as she agrees to fight at Victor's side, Selvaggia casts a spell from the castle, causing Victor to fall in love with her and rush to join the tournament to win Selvaggia's hand.\"],\n",
              "  ['Dark and Mel are a bisexual couple in an open relationship.',\n",
              "   'Mel is dating a girl named Lucifer, who Dark hates, while Dark is interested in a mysterious boy he keeps running into named Montgomery.',\n",
              "   \"The three of them meet up at a café they frequent, where we're introduced to other teens they know, such as Alyssa, Dingbat and Egg and Dark's friend Cowboy, and they discuss a party being held that night by a man they know named Jujyfruit.\",\n",
              "   'Egg runs into an unnamed TV star from Baywatch (played by Baywatch actor Jaason Simmons).',\n",
              "   'Cowboy tells Dark about the heroin addiction his boyfriend Bart suffers with.',\n",
              "   'He offers Bart the chance to fix their relationship if he stops using drugs, but he declines.',\n",
              "   \"Alyssa and Dingbat meet with Ducky, Egg's brother and Dingbat's crush, before Alyssa meets up with her boyfriend Elvis.\",\n",
              "   'While waiting at a bus stop, Dark sees three valley girls killed by an alien, which he tries to catch on video before it disappears.',\n",
              "   \"At the Baywatch star's place, he and Egg watch TV together before he tries to make a move on her.\",\n",
              "   'She rejects his advances, angering him and leading to him raping her.',\n",
              "   'Dark and his friends play a drugged out game of hide and seek, during which Montgomery gets abducted by the same alien from earlier, who Dark runs into in a locker room.',\n",
              "   'Egg and Bart both return home and watch the same televangelist, Moses Helper, on TV, who encourages the two to commit suicide in order to reach heaven.',\n",
              "   \"When he fails to convince Mel to become monogamous at Jujyfruit's party, Dark goes outside and is joined by Dingbat.\",\n",
              "   \"Suddenly Ducky, after hearing about his sister's suicide, leaps into a swimming pool, with Dingbat using CPR to resuscitate him.\",\n",
              "   'Going back into the party, Dark enters a kitchen where he sees the same alien from earlier.',\n",
              "   'He meets with Handjob and begins to tell him about his day before Alyssa and Elvis arrive.',\n",
              "   'Elvis claims Handjob sold him cut drugs and beats him to death with a can of tomato soup.',\n",
              "   'Dark returns home and records a diary entry on his video camera, saying how he\\'s \"totally doomed\".',\n",
              "   'As he attempts to sleep, Montgomery knocks on his window.',\n",
              "   'Dark lets him in as he explains that he was abducted and experimented on by aliens who intend to invade Earth.',\n",
              "   'The two lie down in bed together and Montgomery asks if he can spend the night, with Dark agreeing only if he promises to never leave.',\n",
              "   'The two close their eyes but are disturbed, as Montgomery goes into a coughing fit, then explodes into a shower of blood, leaving only a cockroach-like alien who exclaims, \"I\\'m outta here,\" before crawling out of the window.',\n",
              "   'A blood-covered Dark turns to the audience, staring with his mouth wide open.'],\n",
              "  ['Driving on Christmas Eve with his family, Frank Harrington decides to take a short cut through a remote location.',\n",
              "   'In the car with him: his wife Laura, his son, Richard, his daughter, Marion, and her boyfriend, Brad.',\n",
              "   'It is night, and as Frank drives, he begins to fall asleep at the wheel, only to be woken by the screams of his family, warning him of an oncoming vehicle.',\n",
              "   'He narrowly avoids the vehicle, and after an inspection of his car, continues to drive.',\n",
              "   'Confused, Laura questions her husband as to why he didn\\'t take the usual route to her mother-in-law\\'s house; he claims he was \"bored\" and fancied a change.',\n",
              "   'As the siblings bicker, Frank abruptly stops the car, claiming he saw a young woman dressed in white in the forest.',\n",
              "   \"The woman appears at Frank's window, holding a baby.\",\n",
              "   'Marion, seeing how distressed the woman appears to be, and realizing that she needs help, offers to walk so that they can take the woman in the car to a house for help.',\n",
              "   'The woman gets into the car, and as the family ask her questions, she remains silent.',\n",
              "   'They arrive at a wooden cabin, and Laura and Frank go in to investigate.',\n",
              "   'Meanwhile, Richard goes to masturbate in the woods, leaving Brad in the car with the woman and her child.',\n",
              "   'Brad begins questioning the woman and telling the woman his plans to propose to Marion, meanwhile Marion walks along the road to catch up with the family and rehearses how she plans to break up with Brad.',\n",
              "   'The woman tells Brad the name of her child; Amy, and passes her to him.',\n",
              "   'A confused Brad asks how the child can breathe with the blankets covering her face, the woman replies that the baby is dead.',\n",
              "   'Confused, Brad lifts the blankets to discover what appears to be the corpse of the child, and screams.',\n",
              "   'The camera changes back to Richard, who hears the scream and immediately runs back to the car.',\n",
              "   'Brad and the woman are nowhere to be seen.',\n",
              "   'However, Marion sees a hearse driving down the road, and as she turns to look, she sees Brad screaming for help in the back of it.',\n",
              "   'She runs back to the family and makes them drive after the hearse.',\n",
              "   'Frank once again stops the car after they hit something in the road.',\n",
              "   \"He finds Brad's mutilated body, and as Marion goes into a state of shock, Laura attempts to call the police using Brad's cellphone.\",\n",
              "   'However, the other end of the line is a woman begging for help.',\n",
              "   \"Disturbed by this, Laura doesn't tell the rest of the family.\",\n",
              "   'As they begin driving again, Marion sits silently.',\n",
              "   \"As tension rises, Laura questions Frank's ability to direct them.\",\n",
              "   'They argue, and he tells Laura that he hates visiting her family.',\n",
              "   'Frank abruptly stops the car once again when he sees a baby carriage in the road.',\n",
              "   'Richard gets out to look and pretends to be pulled into the carriage, scaring his parents.',\n",
              "   'They get back into the car, only to stop again.',\n",
              "   'This time Richard gets picked up by the same hearse as before.',\n",
              "   'While the three run to save Richard, Frank sees the \"woman in white\" again.',\n",
              "   \"They find Richard's body and Laura begins to show signs of insanity.\",\n",
              "   'Driving with his daughter in the front of the car, Marion appears to have returned to normal, and the family pass a sign that says \"Marcott\".',\n",
              "   \"Frank realizes that this must be a military road, and that's why it's not on the map.\",\n",
              "   'During another stop, Laura shoots Frank in the leg with a shotgun that they unwrapped, which was a present for a family member.',\n",
              "   'After dressing the wound, they begin the drive again.',\n",
              "   'Shortly after, Laura talks about seeing the face of a friend who had died 20 years earlier in the woods.',\n",
              "   'She demands to visit with her departed friend, and upon Frank refusing, jumps out of the moving vehicle.',\n",
              "   'Frank stops and they search for Laura until the hearse appears once again.',\n",
              "   'Frank tries to shoot the driver but the car begins backing up as Laura appears.',\n",
              "   'She is disheveled and begins babbling with her brain exposed from the back of her head, revealing Frank had accidentally shot her instead.',\n",
              "   'Laura collapses and dies.',\n",
              "   'Putting her in the back of the car, Frank and Marion continue driving.',\n",
              "   'They come across the same ranger station they had stopped at earlier, and Frank is attacked in the dark by the lady in white.',\n",
              "   'Afterward, Frank has a noticeable change in demeanor, much like his wife and daughter, and punches Marion unconscious.',\n",
              "   'He sees the woman in white go into the woods once again, and chases her with the shotgun.',\n",
              "   'He begins screaming and shooting the gun, only to be quickly dispatched in the dark.',\n",
              "   'Marion awakens and starts the car.',\n",
              "   'She begins to drive when the car suddenly runs out of gas.',\n",
              "   'She begins to walk and sees body bags containing her dead family members in the middle of the road.',\n",
              "   'As she cries the hearse pulls up, but the woman in white appears behind her.',\n",
              "   \"She tells a frightened Marion that the hearse isn't there for her before getting into the hearse and driving off, leaving Marion alone with her dead family.\",\n",
              "   'Marion suddenly awakens in the hospital, heavily bandaged.',\n",
              "   'The doctor tells her of her coma and assures Marion that she and the baby will be fine.',\n",
              "   'On the way out of the hospital, the doctor talks to a man claiming to be the one that found the family after the car crash.',\n",
              "   'The car is then seen being pulled from a wreck, and the doctor discusses the accident.',\n",
              "   'The man confirms that the whole family, except Marion, have died, and that the crash has also claimed the life of a young woman and her baby in the other car.',\n",
              "   'He asks the doctor for her name, and she reveals to him that it is Dr. Marcott.',\n",
              "   'The viewer gets the impression that Marion dreamed of how her family had died while in a coma, and that the hearse not picking her up was her dream telling her that she would live.',\n",
              "   \"As the doctor tries to leave, her car fails to start, and the man who found the family offers her a lift in the same hearse from Marion's dream.\",\n",
              "   'As the credits roll, two workers are seen sweeping up debris from the crash.',\n",
              "   'They find a note Frank had previously written in the car with Marion before their final stop, insinuating that the experiences of the family were real.'],\n",
              "  ['The movie opens in the living room of a very luxurious house.',\n",
              "   'A man named Heenoc Xian (John Pyper-Ferguson), is reading his book when his concentration suddenly drifts away and he reminisces about his life in chronological order, from being a pilot during his Academy years, to a freedom fighter, and to eventually, a warlord.',\n",
              "   'He recalls the latter with irony as he narrates the tale of those particular events of his life.',\n",
              "   'It begins on the planet Caliban 5, ruled by none other than Warlord Heenoc Xian.',\n",
              "   'A young man named Justin Thorpe (John Corbett), a petty thief who carves out a living for himself by trading items he obtained through stealing and salvaging, comes home one night to his battered, run-down house as he is greeted by his kid sister, Nova (J. Madison Wright), a precocious pre-teen.',\n",
              "   'Their parents are revealed to be dead, and they are all that remains of their family.',\n",
              "   'Their lives have a routine and their evenings usually end with Nova teaching Thorpe to read a chapter of a book each night.',\n",
              "   'The two siblings have learnt to make the most of the situation and are content.',\n",
              "   'However, one day, Thorpe returns from his morning routine and discovers that Nova has disappeared.',\n",
              "   'Knowing his sister would never run away from home, Thorpe comes to the conclusion that she had been kidnapped, but does not know who the kidnapper is and why she was taken.',\n",
              "   'Frantic and desperate, Thorpe turns to Warlord Xian for help.',\n",
              "   'Despite his ominous title, Xian is not entirely a warmonger, considering his heroic past; he listens to his people and is sympathetic towards them, and has provided a reasonable amount of order and security in a chaotic world, despite the fact that some of the people under his rule have expressed a degree of ungratefulness and resentment towards him.',\n",
              "   \"He listens to Thorpe's grievance, and while he feels for him, he cannot help him because he does not have enough possessions to trade for Xian's services.\",\n",
              "   \"With that, Thorpe leaves in anger but is suddenly met by Nova's best friend Maggi Sorenson (Elisabeth Harnois), a cute and cynical teenager who happens to be the granddaughter of General Lars Sorenson (played by veteran Australian actor Rod Taylor), a man who was a former soldier of the now extinct Galactic Republic.\",\n",
              "   'Maggi introduces her grandfather to Thorpe.',\n",
              "   'Sorenson knows what Thorpe wants and offers to help him by searching for Nova using his starship, the Osiris.',\n",
              "   \"However, he informs Thorpe that he must help him first by applying his thieving skills to steal precious jewels from the Warlord Xian's treasure chest, so that he can pay someone to fix his ship.\",\n",
              "   \"Thorpe and Maggi are nearly caught by the Warlord's henchmen, but they subdue them and eventually succeed in obtaining the goods from the treasure chest.\",\n",
              "   'Before long, Thorpe, Sorenson, and Maggi arrive on a shuttlecraft to the Osiris, a sleek ship that resembles a shark, parked out in deep space.',\n",
              "   'Once inside the ship, they bump into Thorpe\\'s long-time friend, Wally Price (Darryl Theirse), a man who has \"really strong feelings\" but is not actually a telepath or a psychic.',\n",
              "   'Sorenson is greatly puzzled about how he managed to get inside the Osiris, since the ship is genetically keyed.',\n",
              "   \"Wally convinces the gang that his extraordinary intuition will aid in Thorpe's search for Nova.\",\n",
              "   'All that remains now is for the ship to be repaired.',\n",
              "   'Sorenson hires cloaked humanoid aliens, a race known only as \"The Engineers\" to repair the ship\\'s engine.',\n",
              "   'These beings have no interest in communicating with other lifeforms; the only thing they care for is technology.',\n",
              "   'As soon as the ship is fixed, The Engineers leave.',\n",
              "   'Later, Sorenson informs Thorpe that he has a vague idea of where Nova is being held captive.',\n",
              "   'However, Sorenson has his own agenda for helping Thorpe: he wants to rebuild the old Republic and to do that he needs to find Trajan Cabel, the grandson of the last Proconsul, Julius Cabel.',\n",
              "   \"For this purpose he hires an Arbitrator, a diplomatic mercenary, who, to his surprise, turns out to be Rula Kor (Carolyn McCormick), Sorenson's daughter!\",\n",
              "   'She brings along her mute and beautiful bodyguard Jana (Marjorie Monaghan) for protection, should the need arise.',\n",
              "   'Their surprise is magnified when she tells the men that The Engineers are the ones who are holding Nova prisoner.',\n",
              "   'Sorenson then confesses to Thorpe that he knew all along that The Engineers were the ones who kidnapped Nova, but he did not want Thorpe to know beforehand because The Engineers were the only ones who knew how to fix the ship.',\n",
              "   'Had he told Thorpe beforehand, the ship would have remained dead in space and they would have no way of rescuing Nova.',\n",
              "   \"Initially, Thorpe is peeved at Sorenson for misleading him, but Wally informs him that in spite of Sorenson's questionable agenda, he senses that his heart is in the right place.\",\n",
              "   \"As a result, Thorpe and Sorenson make a pact to be upfront with each other from then on, and set a course to rescue Nova, based on Rula's reliable sources.\",\n",
              "   'Meanwhile, the Warlord is hell-bent on capturing Thorpe for stealing from him, and is hot on his trail in his battleship, the Daedalus.',\n",
              "   'He chases Thorpe and his crew through a volcanic planet and fires on his ship with vengeance, but the Osiris escapes and finds itself face-to-face with a cloaked planet in deep space, the homeworld of The Engineers.',\n",
              "   \"They allow the crew of the Osiris to come down to their planet using the Osiris's teleportation system, known as a multi-spatial transverse system which works by folding space (a variation of a wormhole), after which they explain why they kidnapped Nova: she is a supergenius and they need her vast intellect for their Sublime Plenum, a huge amalgamation of their greatest ancestors’ minds and souls, which turns out to be a grotesque exhibit of goo filled with countless bodies mixed together with tentacles, its aim: to eliminate all emotion and the concept of family.\",\n",
              "   'The crew of the Osiris does not stand for this, especially Thorpe.',\n",
              "   \"Rula makes The Engineers an offer in exchange for Nova's life, but they refuse.\",\n",
              "   'With that, Thorpe snatches Nova from the clutches of The Engineers, only managing to convince her to leave by stressing the need for family and love.',\n",
              "   'The crew make it back to the Osiris, but Nova is grabbed away at the last minute while the Osiris faces another attack by the Daedalus.',\n",
              "   'However, Sorenson offers Xian a truce and allows him to come on board the Osiris to explain the current crisis.',\n",
              "   'When Xian learns of The Engineers’ plan, he offers his services.',\n",
              "   \"With Xian's help, they destroy the Sublime Plenum, leaving The Engineers in defeat and rescue Nova again, this time with success.\",\n",
              "   'During all this, Sorenson discovers that Xian is the man he has been looking for all along: he is Trajan Cabel, the man who is destined to help rebuild the old Galactic Republic.',\n",
              "   'However, Xian is not thrilled about the idea; he was greatly opposed to the formation of a new Republic, which is why he left his former life, changed his name to Heenoc Xian, and became a warlord.',\n",
              "   'In spite of this, Xian decides to help Thorpe rebuild the Galactic Republic with new ideals and values.',\n",
              "   'Sorenson steps down as General and gives Thorpe the Osiris for him to command with Nova at his side, Maggi as his pilot/navigator, Wally as the computer expert, Rula as an arbitrator, and Jana as chief of security.',\n",
              "   'As for Xian, he remains on the Daedalus but provides his expertise in strategy and war tactics to Thorpe, acting as his counsel.',\n",
              "   \"With the Osiris and Daedalus as the only relics of the Old Galaxy Republic, it is a new beginning for humanity's reemergence to the stars.\"],\n",
              "  ['A disfigured teenage girl enters a restaurant and quickly draws the attention of everyone there.',\n",
              "   'She begins crying, and a flashback begins...',\n",
              "   'In high school, Ravi gets bullied by Bradley and Bernard.',\n",
              "   'Emily is taunted and abused by three girls, Heather, Bridget, and Kelli.',\n",
              "   'Dane, another outcast, has an old, secluded house in the woods which he inherited from his late uncle.',\n",
              "   'Kurtis is a likable student and an aspiring actor.',\n",
              "   'He invites his schoolmates to a video shoot.',\n",
              "   'There, Bradley and Bernard insult Ravi in the restroom and break his camera.',\n",
              "   'Dane stumbles in, and Bradley intimidates him, revealing that he has been bullying Dane as well.',\n",
              "   'The next day at school, after learning of the incident, Kurtis confronts Bradley, asking him to leave his friends alone.',\n",
              "   'The outcasts, Emily, Jack, Ravi and Andy and Dane, decide to get revenge on the bullies and send a message to the community.',\n",
              "   'Among their inspirations are horror films and lessons in class about deadly chemicals and torture methods of old cultures.',\n",
              "   \"They plan to spare Kurtis, as he doesn't mistreat them.\",\n",
              "   \"They prepare a costume party at Dane's secluded house and invite the bullies over.\",\n",
              "   'They lace the punch bowl with a drug, causing everyone who drinks from it to fall unconscious.',\n",
              "   'They see Kurtis among the group but still proceed with the plan.',\n",
              "   'When the teens wake up, they find themselves chained together.',\n",
              "   'The outcasts then declare their intention to make them suffer a fate worse than death, as revenge for the years they have suffered from bullying.',\n",
              "   'In their first act of violence, Jack shoots Miles, a loud-mouthed teenager, with a cattle gun to his face and knee.',\n",
              "   'One boy, Tommy, flees for help, but steps into a bear trap in the woods.',\n",
              "   'Three boys nicknamed The Triplets, who help the outcasts, capture and bring him back to the house.',\n",
              "   'Ravi immobilizes and silences a drug at Bernard and then is tortured with needles by Emily.',\n",
              "   'Ravi secretly gives Kurtis a key, and he escapes.',\n",
              "   'Dane obsessed with revenge stabs and kills Ravi.',\n",
              "   \"The torture continues with Emily smearing a corrosive compound on Heather's face.\",\n",
              "   \"As Bridget apologizes to Emily, she tells her to cut off Bradley's fingers to spare herself.\",\n",
              "   'She is unable to do it.',\n",
              "   \"When Emily gives the offer to Bradley, he agrees and cuts off two of Bridget's fingers.\",\n",
              "   \"Emily then smears the compound on half of Bridget's face.\",\n",
              "   'Kurtis encounters Deputy Henessey and asks for help, but the Triplets shoot the Deputy.',\n",
              "   \"Kurtis grabs his gun, flees to a neighboring house and informs the owner Parker, an elderly war veteran, of the events in Dane's house.\",\n",
              "   \"However, Parker doesn't trust Kurtis because he has a gun.\",\n",
              "   \"After tying up Kurtis to an armchair, Parker goes to Dane's house alone to investigate.\",\n",
              "   'He trips over a cord, and a trap severely injures his legs.',\n",
              "   'Despite the injuries, he successfully kills two of the Triplets.',\n",
              "   'An insane Dane taunts Bradley, who attempts to apologize.',\n",
              "   'Dane severs his spinal cord with a switchblade, paralyzing him from the waist down.',\n",
              "   \"After freeing himself, Kurtis calls the police and heads to Dane's house.\",\n",
              "   \"As Andy is about to cut off Riggs' tongue, Kurtis appears and kills Andy.\",\n",
              "   'Dane shoots Kurtis in the arm, but Emily kills him before he can kill Kurtis.',\n",
              "   'Emily says her last words to Kelli, then has Jack shoot her dead.',\n",
              "   'As the police burst in, Jack kills himself after saying: \"There are more of us out there\".',\n",
              "   'The next day, a news reporter recounts how the popular kids were abducted and tortured \"without reason\".',\n",
              "   'Kelli, unharmed but traumatized by the events, plans to die by suicide.',\n",
              "   'At school, Kurtis exchanges eye contact with the remaining Triplet.',\n",
              "   'The final scene reveals that Bridget is the disfigured girl from the beginning of the film.'],\n",
              "  ['A girl, a boy and an old cinema technician tell stories every night in a small theater.',\n",
              "   'Before each story, the boy and the girl decide, in accordance with the old technician, they will play the characters in the story they will interpret, they also choose a time and a country as well as costumes through documentation the technician brings them, and make clothing and accessories with a computer-controlled machine.',\n",
              "   'They then perform the story on stage.',\n",
              "   'The first story takes place in Medieval Europe.',\n",
              "   'The story of two sisters who are in love with the same prince.',\n",
              "   'The prince is betrothed to the older one, much to the sadness of the younger one who has loved him all her life.',\n",
              "   'However, the prince reveals to his betrothed that he transforms into a werewolf during the Full moon.',\n",
              "   'She is not pleased, and tricks him into transforming in front of her, then steals the gold necklace that will make him turn back into a human.',\n",
              "   'She throws the necklace in the well and tells the people that the prince was eaten by the wolf of the woods.',\n",
              "   'The younger sister figures out what her sister has done, and exposes her cruel actions.The second story takes place in the West Indies.',\n",
              "   'While exploring a cave down so far beneath the ground, Tijean finds himself in the land of the dead.',\n",
              "   'The shadow of an old man tells him how to defeat three monsters; a giant bee, a giant mongoose, and a giant iguana.',\n",
              "   \"He finds his way into the king's court, whose eldest daughter, Beauty-Not-Knowing, is to be married.\",\n",
              "   \"Since Tijean overcame the three monsters without killing them, he is deemed unworthy to marry the princess and is sentenced to death via the 'big chopper'.\",\n",
              "   'The king gives him three impossible tasks while he is in the dungeon.',\n",
              "   'Fortunately, Tijean is saved by the three animals whose lives he spared.The third story is set in Aztec times.',\n",
              "   'The inhabitants of a city made of gold worship a being called the Benefactor who gives them gold in exchange for a human sacrifice of the prettiest women in the land.',\n",
              "   'One day a stranger arrives at the city and after discovering this sinister act he resolves to break this cycle of killing.',\n",
              "   'The man is convinced there is a way to stop the Benefactor, however a prophecy says the city will collapse when the Benefactor falls.The fourth story is set in a village in West Africa.',\n",
              "   'A young boy who enjoys playing the tam-tam drums every day is chased away by the villagers who believe he is noisy and useless.',\n",
              "   'The boy dreams of finding a magic drum, which will allow him to play well, and force anyone who listens to dance.',\n",
              "   'One day he saves the life of an old man who turns out to be the keeper of the magic drum.',\n",
              "   'The old man agrees to let the boy play on the precious instrument, but he can not activate its powers until after a long and difficult training.',\n",
              "   'However the boy is found useful when he is able to play the drum to save his village from invaders.The fifth story takes place in Tibet.',\n",
              "   \"The boy who never lies is a servant of the king and good friends with the king's talking horse, Mélongi.\",\n",
              "   'One day the king receives a visit from the king of the neighbouring kingdom who claims to have a singing mare named Sumaki.',\n",
              "   \"They both make a bet that the boy who rides the nation's talking horse cannot be made to lie.\",\n",
              "   'The rival king hatches a plan and enlists his daughter to seduce the boy who never lies and make him lie.',\n",
              "   'For this she fakes a deadly disease and claims that it can heal by eating the heart of Mélongi.The sixth and final story is set once again in Medieval Europe.',\n",
              "   'Maud and Thibaut are very much in love with each other.',\n",
              "   \"Thibaut is the son of a famous architect and apprentice to his father's best friend.\",\n",
              "   'Maud is servant to a powerful but tyrannical wizard.',\n",
              "   'The wizard sets off to marry Maud but when she refuses, he shuts her up in a tower.',\n",
              "   'However Thibaut is determined to save her which causes the wizard to turn Maud into a beast.',\n",
              "   'Thibaut and his master must then find a way to restore her human form.',\n",
              "   'The first story takes place in Medieval Europe.',\n",
              "   'The story of two sisters who are in love with the same prince.',\n",
              "   'The prince is betrothed to the older one, much to the sadness of the younger one who has loved him all her life.',\n",
              "   'However, the prince reveals to his betrothed that he transforms into a werewolf during the Full moon.',\n",
              "   'She is not pleased, and tricks him into transforming in front of her, then steals the gold necklace that will make him turn back into a human.',\n",
              "   'She throws the necklace in the well and tells the people that the prince was eaten by the wolf of the woods.',\n",
              "   'The younger sister figures out what her sister has done, and exposes her cruel actions.',\n",
              "   'The second story takes place in the West Indies.',\n",
              "   'While exploring a cave down so far beneath the ground, Tijean finds himself in the land of the dead.',\n",
              "   'The shadow of an old man tells him how to defeat three monsters; a giant bee, a giant mongoose, and a giant iguana.',\n",
              "   \"He finds his way into the king's court, whose eldest daughter, Beauty-Not-Knowing, is to be married.\",\n",
              "   \"Since Tijean overcame the three monsters without killing them, he is deemed unworthy to marry the princess and is sentenced to death via the 'big chopper'.\",\n",
              "   'The king gives him three impossible tasks while he is in the dungeon.',\n",
              "   'Fortunately, Tijean is saved by the three animals whose lives he spared.',\n",
              "   'The third story is set in Aztec times.',\n",
              "   'The inhabitants of a city made of gold worship a being called the Benefactor who gives them gold in exchange for a human sacrifice of the prettiest women in the land.',\n",
              "   'One day a stranger arrives at the city and after discovering this sinister act he resolves to break this cycle of killing.',\n",
              "   'The man is convinced there is a way to stop the Benefactor, however a prophecy says the city will collapse when the Benefactor falls.',\n",
              "   'The fourth story is set in a village in West Africa.',\n",
              "   'A young boy who enjoys playing the tam-tam drums every day is chased away by the villagers who believe he is noisy and useless.',\n",
              "   'The boy dreams of finding a magic drum, which will allow him to play well, and force anyone who listens to dance.',\n",
              "   'One day he saves the life of an old man who turns out to be the keeper of the magic drum.',\n",
              "   'The old man agrees to let the boy play on the precious instrument, but he can not activate its powers until after a long and difficult training.',\n",
              "   'However the boy is found useful when he is able to play the drum to save his village from invaders.',\n",
              "   'The fifth story takes place in Tibet.',\n",
              "   \"The boy who never lies is a servant of the king and good friends with the king's talking horse, Mélongi.\",\n",
              "   'One day the king receives a visit from the king of the neighbouring kingdom who claims to have a singing mare named Sumaki.',\n",
              "   \"They both make a bet that the boy who rides the nation's talking horse cannot be made to lie.\",\n",
              "   'The rival king hatches a plan and enlists his daughter to seduce the boy who never lies and make him lie.',\n",
              "   'For this she fakes a deadly disease and claims that it can heal by eating the heart of Mélongi.',\n",
              "   'The sixth and final story is set once again in Medieval Europe.',\n",
              "   'Maud and Thibaut are very much in love with each other.',\n",
              "   \"Thibaut is the son of a famous architect and apprentice to his father's best friend.\",\n",
              "   'Maud is servant to a powerful but tyrannical wizard.',\n",
              "   'The wizard sets off to marry Maud but when she refuses, he shuts her up in a tower.',\n",
              "   'However Thibaut is determined to save her which causes the wizard to turn Maud into a beast.',\n",
              "   'Thibaut and his master must then find a way to restore her human form.',\n",
              "   'The first story takes place in Medieval Europe.',\n",
              "   'The story of two sisters who are in love with the same prince.',\n",
              "   'The prince is betrothed to the older one, much to the sadness of the younger one who has loved him all her life.',\n",
              "   'However, the prince reveals to his betrothed that he transforms into a werewolf during the Full moon.',\n",
              "   'She is not pleased, and tricks him into transforming in front of her, then steals the gold necklace that will make him turn back into a human.',\n",
              "   'She throws the necklace in the well and tells the people that the prince was eaten by the wolf of the woods.',\n",
              "   'The younger sister figures out what her sister has done, and exposes her cruel actions.',\n",
              "   'The second story takes place in the West Indies.',\n",
              "   'While exploring a cave down so far beneath the ground, Tijean finds himself in the land of the dead.',\n",
              "   'The shadow of an old man tells him how to defeat three monsters; a giant bee, a giant mongoose, and a giant iguana.',\n",
              "   \"He finds his way into the king's court, whose eldest daughter, Beauty-Not-Knowing, is to be married.\",\n",
              "   'Since Tijean overcame the three monsters without killing them, he is deemed unworthy to marry the princess and is sentenced to death via the big chopper.',\n",
              "   'The king gives him three impossible tasks while he is in the dungeon.',\n",
              "   'Fortunately, Tijean is saved by the three animals whose lives he spared.',\n",
              "   'The third story is set in Aztec times.',\n",
              "   'The inhabitants of a city made of gold worship a being called the Benefactor who gives them gold in exchange for a human sacrifice of the prettiest women in the land.',\n",
              "   'One day a stranger arrives at the city and after discovering this sinister act he resolves to break this cycle of killing.',\n",
              "   'The man is convinced there is a way to stop the Benefactor, however a prophecy says the city will collapse when the Benefactor falls.',\n",
              "   'The fourth story is set in a village in West Africa.',\n",
              "   'A young boy who enjoys playing the tam-tam drums every day is chased away by the villagers who believe he is noisy and useless.',\n",
              "   'The boy dreams of finding a magic drum, which will allow him to play well, and force anyone who listens to dance.',\n",
              "   'One day he saves the life of an old man who turns out to be the keeper of the magic drum.',\n",
              "   'The old man agrees to let the boy play on the precious instrument, but he can not activate its powers until after a long and difficult training.',\n",
              "   'However the boy is found useful when he is able to play the drum to save his village from invaders.',\n",
              "   'The fifth story takes place in Tibet.',\n",
              "   \"The boy who never lies is a servant of the king and good friends with the king's talking horse, Mélongi.\",\n",
              "   'One day the king receives a visit from the king of the neighbouring kingdom who claims to have a singing mare named Sumaki.',\n",
              "   \"They both make a bet that the boy who rides the nation's talking horse cannot be made to lie.\",\n",
              "   'The rival king hatches a plan and enlists his daughter to seduce the boy who never lies and make him lie.',\n",
              "   'For this she fakes a deadly disease and claims that it can heal by eating the heart of Mélongi.',\n",
              "   'The sixth and final story is set once again in Medieval Europe.',\n",
              "   'Maud and Thibaut are very much in love with each other.',\n",
              "   \"Thibaut is the son of a famous architect and apprentice to his father's best friend.\",\n",
              "   'Maud is servant to a powerful but tyrannical wizard.',\n",
              "   'The wizard sets off to marry Maud but when she refuses, he shuts her up in a tower.',\n",
              "   'However Thibaut is determined to save her which causes the wizard to turn Maud into a beast.',\n",
              "   'Thibaut and his master must then find a way to restore her human form.'],\n",
              "  ['Americans Helen and Paul Curtis and their daughters, Jan and Ellie, move into a manor in rural England.',\n",
              "   'Mrs. Aylwood, the owner of the residence who now lives in the guest house next door, notices that Jan bears a striking resemblance to her daughter, Karen, who disappeared inside an abandoned chapel in the woods thirty years earlier.',\n",
              "   'Jan senses something unusual about the property almost immediately, and begins to see strange blue lights in the woods, triangles, and glowing objects.',\n",
              "   'On one occasion, she sees the apparition of a blindfolded girl in a mirror in front of her.',\n",
              "   'Shortly after the family settles in, Ellie goes to buy a puppy she inexplicably names \"Nerak\".',\n",
              "   'After seeing the reflection of the name \"Nerak\" (Karen spelled backwards), Jan is told about the mystery of Mrs. Aylwood\\'s missing daughter by Mike Fleming, the teenage son of a local woman, Mary.',\n",
              "   'One afternoon, Nerak runs into woods, and Ellie chases after him.',\n",
              "   'Jan, realizing her sister has disappeared from the yard, goes into the woods to find her, eventually locating her at a pond.',\n",
              "   'In the water, she sees a blue circle of light, and is blinded by a flash, causing her to fall in; she nearly drowns, but Mrs. Aylwood saves her.',\n",
              "   'Mrs. Aylwood brings Jan and Ellie to her home, and recounts the night her daughter disappeared.',\n",
              "   'Later, Mike discovers that his mother, Mary, was with Karen when she disappeared, but she evades his questions.',\n",
              "   'Meanwhile, Jan attempts to get information from John Keller, a reclusive aristocrat who was also there that night, but he refuses to speak to her.',\n",
              "   \"On her way home, Jan cuts through the woods, where she encounters a local hermit, Tom Colley, who tells Jan he was also present at Karen's disappearance.\",\n",
              "   'He claims that during a seance-like initiation ceremony on the night of a lunar eclipse, Karen vanished when lightning struck the church bell tower.',\n",
              "   'Jan decides to recreate the ceremony during the upcoming solar eclipse, hoping it will bring Karen back.',\n",
              "   'She gathers Mary, Tom, and John at the abandoned chapel, and they attempt to repeat the ceremony.',\n",
              "   'Meanwhile, Ellie, while watching the eclipse from the front yard, suddenly goes into a trance-like state, apparently possessed, and enters the woods.',\n",
              "   'At the chapel, the ceremony is interrupted by a powerful wind that shatters the windows, and Ellie appears.',\n",
              "   'In a voice that is not her own, she explains that an accidental switch took place thirty years ago, in which Karen traded places with an alien presence from an alternate dimension; thus, the Watcher has been haunting the woods since, while Karen has remained suspended in time.',\n",
              "   'The Watcher leaves Ellie\\'s body, manifesting as a pillar of light, fueled by the \"circle of friendship\".',\n",
              "   'It engulfs Jan and lifts her into the air, but Mike intercedes and pulls her away before the Watcher disappears.',\n",
              "   'Simultaneously, the eclipse ends, and Karen, still the same age as when she disappeared, reappears – still blindfolded.',\n",
              "   'She removes the blindfold just as Mrs. Aylwood enters the chapel.']]}"
            ]
          },
          "metadata": {},
          "execution_count": 4
        }
      ]
    },
    {
      "cell_type": "code",
      "source": [
        "testset = pd.read_csv(DATA_PATH+'queries.csv')\n",
        "testset"
      ],
      "metadata": {
        "colab": {
          "base_uri": "https://localhost:8080/",
          "height": 424
        },
        "id": "hJc1V7NpiauU",
        "outputId": "42def1fd-817d-4578-a81f-063428991d37"
      },
      "execution_count": null,
      "outputs": [
        {
          "output_type": "execute_result",
          "data": {
            "text/plain": [
              "                                                 Query             Movie\n",
              "0    Teenagers were wandering around some deserted ...           Nowhere\n",
              "1    one of the characters younger brother (also te...           Nowhere\n",
              "2    one night the teenagers took the new kid to a ...           Nowhere\n",
              "3    Someone turns into a giant lizard or some kind...           Nowhere\n",
              "4    The girl is taking shelter in that tree and wh...  The 10th Kingdom\n",
              "..                                                 ...               ...\n",
              "121  story takes place in a hotel or dormitory buil...          Chatroom\n",
              "122  story takes place in a hotel or dormitory type...          Chatroom\n",
              "123  the story takes place in a hotel or dormitory ...          Chatroom\n",
              "124  story takes place in a hotel or dormitory type...          Chatroom\n",
              "125  the story takes place in a hotel or dormitory ...          Chatroom\n",
              "\n",
              "[126 rows x 2 columns]"
            ],
            "text/html": [
              "\n",
              "  <div id=\"df-1e50438d-3799-43b3-bfc4-7bd59df13b03\">\n",
              "    <div class=\"colab-df-container\">\n",
              "      <div>\n",
              "<style scoped>\n",
              "    .dataframe tbody tr th:only-of-type {\n",
              "        vertical-align: middle;\n",
              "    }\n",
              "\n",
              "    .dataframe tbody tr th {\n",
              "        vertical-align: top;\n",
              "    }\n",
              "\n",
              "    .dataframe thead th {\n",
              "        text-align: right;\n",
              "    }\n",
              "</style>\n",
              "<table border=\"1\" class=\"dataframe\">\n",
              "  <thead>\n",
              "    <tr style=\"text-align: right;\">\n",
              "      <th></th>\n",
              "      <th>Query</th>\n",
              "      <th>Movie</th>\n",
              "    </tr>\n",
              "  </thead>\n",
              "  <tbody>\n",
              "    <tr>\n",
              "      <th>0</th>\n",
              "      <td>Teenagers were wandering around some deserted ...</td>\n",
              "      <td>Nowhere</td>\n",
              "    </tr>\n",
              "    <tr>\n",
              "      <th>1</th>\n",
              "      <td>one of the characters younger brother (also te...</td>\n",
              "      <td>Nowhere</td>\n",
              "    </tr>\n",
              "    <tr>\n",
              "      <th>2</th>\n",
              "      <td>one night the teenagers took the new kid to a ...</td>\n",
              "      <td>Nowhere</td>\n",
              "    </tr>\n",
              "    <tr>\n",
              "      <th>3</th>\n",
              "      <td>Someone turns into a giant lizard or some kind...</td>\n",
              "      <td>Nowhere</td>\n",
              "    </tr>\n",
              "    <tr>\n",
              "      <th>4</th>\n",
              "      <td>The girl is taking shelter in that tree and wh...</td>\n",
              "      <td>The 10th Kingdom</td>\n",
              "    </tr>\n",
              "    <tr>\n",
              "      <th>...</th>\n",
              "      <td>...</td>\n",
              "      <td>...</td>\n",
              "    </tr>\n",
              "    <tr>\n",
              "      <th>121</th>\n",
              "      <td>story takes place in a hotel or dormitory buil...</td>\n",
              "      <td>Chatroom</td>\n",
              "    </tr>\n",
              "    <tr>\n",
              "      <th>122</th>\n",
              "      <td>story takes place in a hotel or dormitory type...</td>\n",
              "      <td>Chatroom</td>\n",
              "    </tr>\n",
              "    <tr>\n",
              "      <th>123</th>\n",
              "      <td>the story takes place in a hotel or dormitory ...</td>\n",
              "      <td>Chatroom</td>\n",
              "    </tr>\n",
              "    <tr>\n",
              "      <th>124</th>\n",
              "      <td>story takes place in a hotel or dormitory type...</td>\n",
              "      <td>Chatroom</td>\n",
              "    </tr>\n",
              "    <tr>\n",
              "      <th>125</th>\n",
              "      <td>the story takes place in a hotel or dormitory ...</td>\n",
              "      <td>Chatroom</td>\n",
              "    </tr>\n",
              "  </tbody>\n",
              "</table>\n",
              "<p>126 rows × 2 columns</p>\n",
              "</div>\n",
              "      <button class=\"colab-df-convert\" onclick=\"convertToInteractive('df-1e50438d-3799-43b3-bfc4-7bd59df13b03')\"\n",
              "              title=\"Convert this dataframe to an interactive table.\"\n",
              "              style=\"display:none;\">\n",
              "        \n",
              "  <svg xmlns=\"http://www.w3.org/2000/svg\" height=\"24px\"viewBox=\"0 0 24 24\"\n",
              "       width=\"24px\">\n",
              "    <path d=\"M0 0h24v24H0V0z\" fill=\"none\"/>\n",
              "    <path d=\"M18.56 5.44l.94 2.06.94-2.06 2.06-.94-2.06-.94-.94-2.06-.94 2.06-2.06.94zm-11 1L8.5 8.5l.94-2.06 2.06-.94-2.06-.94L8.5 2.5l-.94 2.06-2.06.94zm10 10l.94 2.06.94-2.06 2.06-.94-2.06-.94-.94-2.06-.94 2.06-2.06.94z\"/><path d=\"M17.41 7.96l-1.37-1.37c-.4-.4-.92-.59-1.43-.59-.52 0-1.04.2-1.43.59L10.3 9.45l-7.72 7.72c-.78.78-.78 2.05 0 2.83L4 21.41c.39.39.9.59 1.41.59.51 0 1.02-.2 1.41-.59l7.78-7.78 2.81-2.81c.8-.78.8-2.07 0-2.86zM5.41 20L4 18.59l7.72-7.72 1.47 1.35L5.41 20z\"/>\n",
              "  </svg>\n",
              "      </button>\n",
              "      \n",
              "  <style>\n",
              "    .colab-df-container {\n",
              "      display:flex;\n",
              "      flex-wrap:wrap;\n",
              "      gap: 12px;\n",
              "    }\n",
              "\n",
              "    .colab-df-convert {\n",
              "      background-color: #E8F0FE;\n",
              "      border: none;\n",
              "      border-radius: 50%;\n",
              "      cursor: pointer;\n",
              "      display: none;\n",
              "      fill: #1967D2;\n",
              "      height: 32px;\n",
              "      padding: 0 0 0 0;\n",
              "      width: 32px;\n",
              "    }\n",
              "\n",
              "    .colab-df-convert:hover {\n",
              "      background-color: #E2EBFA;\n",
              "      box-shadow: 0px 1px 2px rgba(60, 64, 67, 0.3), 0px 1px 3px 1px rgba(60, 64, 67, 0.15);\n",
              "      fill: #174EA6;\n",
              "    }\n",
              "\n",
              "    [theme=dark] .colab-df-convert {\n",
              "      background-color: #3B4455;\n",
              "      fill: #D2E3FC;\n",
              "    }\n",
              "\n",
              "    [theme=dark] .colab-df-convert:hover {\n",
              "      background-color: #434B5C;\n",
              "      box-shadow: 0px 1px 3px 1px rgba(0, 0, 0, 0.15);\n",
              "      filter: drop-shadow(0px 1px 2px rgba(0, 0, 0, 0.3));\n",
              "      fill: #FFFFFF;\n",
              "    }\n",
              "  </style>\n",
              "\n",
              "      <script>\n",
              "        const buttonEl =\n",
              "          document.querySelector('#df-1e50438d-3799-43b3-bfc4-7bd59df13b03 button.colab-df-convert');\n",
              "        buttonEl.style.display =\n",
              "          google.colab.kernel.accessAllowed ? 'block' : 'none';\n",
              "\n",
              "        async function convertToInteractive(key) {\n",
              "          const element = document.querySelector('#df-1e50438d-3799-43b3-bfc4-7bd59df13b03');\n",
              "          const dataTable =\n",
              "            await google.colab.kernel.invokeFunction('convertToInteractive',\n",
              "                                                     [key], {});\n",
              "          if (!dataTable) return;\n",
              "\n",
              "          const docLinkHtml = 'Like what you see? Visit the ' +\n",
              "            '<a target=\"_blank\" href=https://colab.research.google.com/notebooks/data_table.ipynb>data table notebook</a>'\n",
              "            + ' to learn more about interactive tables.';\n",
              "          element.innerHTML = '';\n",
              "          dataTable['output_type'] = 'display_data';\n",
              "          await google.colab.output.renderOutput(dataTable, element);\n",
              "          const docLink = document.createElement('div');\n",
              "          docLink.innerHTML = docLinkHtml;\n",
              "          element.appendChild(docLink);\n",
              "        }\n",
              "      </script>\n",
              "    </div>\n",
              "  </div>\n",
              "  "
            ]
          },
          "metadata": {},
          "execution_count": 5
        }
      ]
    },
    {
      "cell_type": "code",
      "source": [],
      "metadata": {
        "id": "pA-GAWuvizNH"
      },
      "execution_count": null,
      "outputs": []
    },
    {
      "cell_type": "markdown",
      "source": [
        "# BERT"
      ],
      "metadata": {
        "id": "ecsvl8K4qtHA"
      }
    },
    {
      "cell_type": "markdown",
      "source": [
        "## bert embeddings + cosine"
      ],
      "metadata": {
        "id": "mdqkz2oPjrhx"
      }
    },
    {
      "cell_type": "code",
      "source": [
        "!pip install transformers"
      ],
      "metadata": {
        "colab": {
          "base_uri": "https://localhost:8080/"
        },
        "id": "T5kdI2bxjtzo",
        "outputId": "c4abdb98-8dd4-423a-d00a-c0c8121ea9d6"
      },
      "execution_count": null,
      "outputs": [
        {
          "output_type": "stream",
          "name": "stdout",
          "text": [
            "Looking in indexes: https://pypi.org/simple, https://us-python.pkg.dev/colab-wheels/public/simple/\n",
            "Collecting transformers\n",
            "  Downloading transformers-4.24.0-py3-none-any.whl (5.5 MB)\n",
            "\u001b[K     |████████████████████████████████| 5.5 MB 29.8 MB/s \n",
            "\u001b[?25hRequirement already satisfied: pyyaml>=5.1 in /usr/local/lib/python3.7/dist-packages (from transformers) (6.0)\n",
            "Requirement already satisfied: tqdm>=4.27 in /usr/local/lib/python3.7/dist-packages (from transformers) (4.64.1)\n",
            "Collecting huggingface-hub<1.0,>=0.10.0\n",
            "  Downloading huggingface_hub-0.11.0-py3-none-any.whl (182 kB)\n",
            "\u001b[K     |████████████████████████████████| 182 kB 67.5 MB/s \n",
            "\u001b[?25hRequirement already satisfied: numpy>=1.17 in /usr/local/lib/python3.7/dist-packages (from transformers) (1.21.6)\n",
            "Collecting tokenizers!=0.11.3,<0.14,>=0.11.1\n",
            "  Downloading tokenizers-0.13.2-cp37-cp37m-manylinux_2_17_x86_64.manylinux2014_x86_64.whl (7.6 MB)\n",
            "\u001b[K     |████████████████████████████████| 7.6 MB 57.6 MB/s \n",
            "\u001b[?25hRequirement already satisfied: filelock in /usr/local/lib/python3.7/dist-packages (from transformers) (3.8.0)\n",
            "Requirement already satisfied: packaging>=20.0 in /usr/local/lib/python3.7/dist-packages (from transformers) (21.3)\n",
            "Requirement already satisfied: importlib-metadata in /usr/local/lib/python3.7/dist-packages (from transformers) (4.13.0)\n",
            "Requirement already satisfied: requests in /usr/local/lib/python3.7/dist-packages (from transformers) (2.23.0)\n",
            "Requirement already satisfied: regex!=2019.12.17 in /usr/local/lib/python3.7/dist-packages (from transformers) (2022.6.2)\n",
            "Requirement already satisfied: typing-extensions>=3.7.4.3 in /usr/local/lib/python3.7/dist-packages (from huggingface-hub<1.0,>=0.10.0->transformers) (4.1.1)\n",
            "Requirement already satisfied: pyparsing!=3.0.5,>=2.0.2 in /usr/local/lib/python3.7/dist-packages (from packaging>=20.0->transformers) (3.0.9)\n",
            "Requirement already satisfied: zipp>=0.5 in /usr/local/lib/python3.7/dist-packages (from importlib-metadata->transformers) (3.10.0)\n",
            "Requirement already satisfied: urllib3!=1.25.0,!=1.25.1,<1.26,>=1.21.1 in /usr/local/lib/python3.7/dist-packages (from requests->transformers) (1.24.3)\n",
            "Requirement already satisfied: idna<3,>=2.5 in /usr/local/lib/python3.7/dist-packages (from requests->transformers) (2.10)\n",
            "Requirement already satisfied: certifi>=2017.4.17 in /usr/local/lib/python3.7/dist-packages (from requests->transformers) (2022.9.24)\n",
            "Requirement already satisfied: chardet<4,>=3.0.2 in /usr/local/lib/python3.7/dist-packages (from requests->transformers) (3.0.4)\n",
            "Installing collected packages: tokenizers, huggingface-hub, transformers\n",
            "Successfully installed huggingface-hub-0.11.0 tokenizers-0.13.2 transformers-4.24.0\n"
          ]
        }
      ]
    },
    {
      "cell_type": "code",
      "source": [
        "import torch\n",
        "from transformers import BertTokenizer, BertModel\n",
        "\n",
        "# OPTIONAL: if you want to have more information on what's happening, activate the logger as follows\n",
        "import logging\n",
        "#logging.basicConfig(level=logging.INFO)\n",
        "\n",
        "import matplotlib.pyplot as plt\n",
        "%matplotlib inline\n",
        "\n",
        "# Load pre-trained model tokenizer (vocabulary)\n",
        "tokenizer = BertTokenizer.from_pretrained('bert-base-uncased')"
      ],
      "metadata": {
        "colab": {
          "base_uri": "https://localhost:8080/",
          "height": 113,
          "referenced_widgets": [
            "a5d9d70986244aa3b4db4156724a49de",
            "7fb7be95601b4edaaa0cde6074d1be46",
            "e900d1206559483d9ef0e46107374419",
            "6de928f0eadf497fb7f7b8179dcf8e1e",
            "feacbad0f48e4dfa8d391ee51ae5cc3e",
            "ae734a07a2f44813b27a3b788b7d6589",
            "a35fe1429ce74fbb80c488998ae81e9c",
            "cead1e235547419bb9db92402d886b23",
            "33cf755a4e674eb8b0ca4d27bef1d391",
            "7ebec6b51f5a478c9ffd7dffb3ca0e67",
            "3597d1dabddb41b4be0c4117b897fc7c",
            "f0d887a3cb2543fa9449c786f37f1e74",
            "983e237e958a41ba9ff6e7240f737957",
            "927fed8fdbbc485c8e98725b4bf249ca",
            "61a3cfa8883e4224a45925b7086e0435",
            "0f11de31afc04530bc09df8164d46cc5",
            "4ba6d0ffdd1044f2974487e54d673c94",
            "4f08c6028ea64d278b92bedee54ff2d1",
            "0e3b2c52ed1e406d8771efa51ee64102",
            "76647794bded472da7a9de5861640346",
            "3af81114fe73435a8b7a8b4b2d09b70a",
            "70d3397f260d4cdcadc7500964e261ec",
            "973dcedc9ba24c68b309e8ba7537e75f",
            "513448cf9f6d4ec6850b51a023891569",
            "9c12a80ed9ec4e2ebdf68f5d79ac5c4d",
            "b298b984f1aa41918de6235337965fbf",
            "b809ed74d38f4a65a157a5da33406157",
            "25dd3d1c302b4c718c8dce1842c07d1e",
            "ce967f6d0d444d308b783481c1a1dd4d",
            "8a057455ef6d483aa21cbb53b36df873",
            "5583c69f3e6c448092419469bbbfd63d",
            "de9bdcd8cc9046e68369cf6cdb87814f",
            "ccf9a840e8504895ba1a9863e4479261"
          ]
        },
        "id": "kmtMeONjj0jY",
        "outputId": "a4a8f1fb-a9c9-49ac-cd1f-3eec9b36510d"
      },
      "execution_count": null,
      "outputs": [
        {
          "output_type": "display_data",
          "data": {
            "text/plain": [
              "Downloading:   0%|          | 0.00/232k [00:00<?, ?B/s]"
            ],
            "application/vnd.jupyter.widget-view+json": {
              "version_major": 2,
              "version_minor": 0,
              "model_id": "a5d9d70986244aa3b4db4156724a49de"
            }
          },
          "metadata": {}
        },
        {
          "output_type": "display_data",
          "data": {
            "text/plain": [
              "Downloading:   0%|          | 0.00/28.0 [00:00<?, ?B/s]"
            ],
            "application/vnd.jupyter.widget-view+json": {
              "version_major": 2,
              "version_minor": 0,
              "model_id": "f0d887a3cb2543fa9449c786f37f1e74"
            }
          },
          "metadata": {}
        },
        {
          "output_type": "display_data",
          "data": {
            "text/plain": [
              "Downloading:   0%|          | 0.00/570 [00:00<?, ?B/s]"
            ],
            "application/vnd.jupyter.widget-view+json": {
              "version_major": 2,
              "version_minor": 0,
              "model_id": "973dcedc9ba24c68b309e8ba7537e75f"
            }
          },
          "metadata": {}
        }
      ]
    },
    {
      "cell_type": "code",
      "source": [
        "model = BertModel.from_pretrained('bert-base-uncased',\n",
        "                                  output_hidden_states = True, # Whether the model returns all hidden-states.\n",
        "                                  )"
      ],
      "metadata": {
        "colab": {
          "base_uri": "https://localhost:8080/",
          "height": 123,
          "referenced_widgets": [
            "6deaa961091240078bbb668e13119631",
            "2e323d766d50492db4b722119f84473c",
            "365868b2c25c489884920063d2f29b7e",
            "c1521cbfcaeb4ca5aadd37c11f97b153",
            "4fcaaba2d52344afb642503807abaedf",
            "6d0354eefe5d4ae288d8e3c75a106276",
            "56ba6a0aa7a3497dbb1b4d65d73179af",
            "14a8fee5986740a7aff55776af827360",
            "cb2292b05b694e2da6146bda008ec68d",
            "b19afbb8e1614e11963705a56f315b43",
            "fe9804211665494caff4a3cdf7339a4a"
          ]
        },
        "id": "RZDKu7QEj0bl",
        "outputId": "f28394a5-e2cd-44a7-8a95-07e6bf52fbb5"
      },
      "execution_count": null,
      "outputs": [
        {
          "output_type": "display_data",
          "data": {
            "text/plain": [
              "Downloading:   0%|          | 0.00/440M [00:00<?, ?B/s]"
            ],
            "application/vnd.jupyter.widget-view+json": {
              "version_major": 2,
              "version_minor": 0,
              "model_id": "6deaa961091240078bbb668e13119631"
            }
          },
          "metadata": {}
        },
        {
          "output_type": "stream",
          "name": "stderr",
          "text": [
            "Some weights of the model checkpoint at bert-base-uncased were not used when initializing BertModel: ['cls.predictions.decoder.weight', 'cls.predictions.bias', 'cls.predictions.transform.dense.weight', 'cls.predictions.transform.LayerNorm.bias', 'cls.predictions.transform.dense.bias', 'cls.seq_relationship.weight', 'cls.seq_relationship.bias', 'cls.predictions.transform.LayerNorm.weight']\n",
            "- This IS expected if you are initializing BertModel from the checkpoint of a model trained on another task or with another architecture (e.g. initializing a BertForSequenceClassification model from a BertForPreTraining model).\n",
            "- This IS NOT expected if you are initializing BertModel from the checkpoint of a model that you expect to be exactly identical (initializing a BertForSequenceClassification model from a BertForSequenceClassification model).\n"
          ]
        }
      ]
    },
    {
      "cell_type": "code",
      "source": [
        "def bert_embedding(sentence, model):\n",
        "  # convert words to tokens\n",
        "  # make segment_ids \n",
        "  # pass to model\n",
        "  marked_text = \"[CLS] \" + sentence + \" [SEP]\"\n",
        "\n",
        "  # Tokenize our sentence with the BERT tokenizer.\n",
        "  tokenized_text = tokenizer.tokenize(marked_text)\n",
        "\n",
        "  indexed_tokens = tokenizer.convert_tokens_to_ids(tokenized_text)\n",
        "  segments_ids = [1] * len(tokenized_text)\n",
        "\n",
        "  tokens_tensor = torch.tensor([indexed_tokens])\n",
        "  segments_tensors = torch.tensor([segments_ids])\n",
        "  model.eval()\n",
        "  # print(tokens_tensor.shape)\n",
        "\n",
        "  with torch.no_grad():\n",
        "\n",
        "      outputs = model(tokens_tensor, segments_tensors)\n",
        "\n",
        "      # https://huggingface.co/transformers/model_doc/bert.html#bertmodel\n",
        "      # print(outputs) #contains 'last_hidden_state', 'pooler_output', 'hidden_states'\n",
        "      hidden_states = outputs[2] #all model weights\n",
        "      # print(hidden_states.size())\n",
        "      token_embeddings = torch.stack(hidden_states, dim=0)\n",
        "      # print(token_embeddings.size())\n",
        "      token_embeddings = torch.squeeze(token_embeddings, dim=1)\n",
        "      token_embeddings = token_embeddings.permute(1,0,2) # n_tokens x n_layers (13) x 768\n",
        "\n",
        "      #sum the last four hidden layers for each word to get word embeddings (experiment here)\n",
        "      # n_tokens x 768\n",
        "      word_embeddings = torch.sum(token_embeddings[:,-4:-1,:], dim=1)\n",
        "      # average all word embeddings to get sentence embeddings\n",
        "      sentence_embedding=torch.mean(word_embeddings, dim=0) # 768 dim vector\n",
        "\n",
        "      return sentence_embedding"
      ],
      "metadata": {
        "id": "miHKwExOj0ZP"
      },
      "execution_count": null,
      "outputs": []
    },
    {
      "cell_type": "code",
      "source": [
        "dataset['Movies'], dataset['Plots'][0]"
      ],
      "metadata": {
        "colab": {
          "base_uri": "https://localhost:8080/"
        },
        "id": "OmFIl5XgtqaO",
        "outputId": "dcdf8512-47b9-4176-a677-c5c34bf02933"
      },
      "execution_count": null,
      "outputs": [
        {
          "output_type": "execute_result",
          "data": {
            "text/plain": [
              "(['Twisted',\n",
              "  'Chatroom',\n",
              "  'The 10th Kingdom',\n",
              "  'The Dragon Ring',\n",
              "  'Nowhere',\n",
              "  'Deadend',\n",
              "  'The Warlord',\n",
              "  'The Final',\n",
              "  'Tales of the Night',\n",
              "  'The Watcher in the Woods'],\n",
              " ['One evening, the Collins, Phillip and Evelyn, a married couple with two children, discover their maid, Mrs. Murdock, dead at the end of their steps; her neck is broken.',\n",
              "  'Evidently, she had an accident; now they need a new babysitter for an upcoming party.',\n",
              "  'The sensible Helen meets little Susan Collins at the discount market and likes her, so she offers to do the job.',\n",
              "  \"She does not know Susan's teenage brother Mark (Christian Slater): technically skilled and good in school, but restive and cunning.\",\n",
              "  'Mark also listens regularly to German marching music from the Third Reich.',\n",
              "  'As soon as the parents have left, he psychologically terrorizes Helen and his sister with electronic tricks.',\n",
              "  'Williams (Karl Taylor), a school jock whom Mark burned earlier in science class, comes to the Collins home out for revenge; Mark kills him with a fencing sword.',\n",
              "  'Ultimately, Mark himself is killed when Helen, defending herself, knocks him onto his spiked German helmet.',\n",
              "  \"Mark's parents come home to find the house in shambles; Evelyn puts the blame on Helen and tries to have her arrested, unaware that Mark lies dead upstairs.\",\n",
              "  \"Phillip has already looked in their children's rooms, presumably finding Mark's body, but instead offers Helen a ride home.\",\n",
              "  'Helen simply turns down the offer and drives back home herself, with Phillip refusing to have her arrested immediately and suggesting they clean up the house.',\n",
              "  \"Secretly, Susan dons her late brother's glasses and proceeds to listen to his Nazi music and the cycle begins anew.\"])"
            ]
          },
          "metadata": {},
          "execution_count": 11
        }
      ]
    },
    {
      "cell_type": "code",
      "source": [
        "# plot embeddings\n",
        "scene_embeddings = dict()\n",
        "for i in range(len(dataset['Movies'])):\n",
        "  print(dataset['Movies'][i])\n",
        "  embedding = list()\n",
        "  for scene in tqdm.tqdm(dataset['Plots'][i]):\n",
        "    embedding.append(bert_embedding(scene, model))\n",
        "  scene_embeddings[dataset['Movies'][i]] = embedding"
      ],
      "metadata": {
        "colab": {
          "base_uri": "https://localhost:8080/",
          "height": 562
        },
        "id": "kNMuVHkxj0W6",
        "outputId": "46eb9443-e843-4fce-922e-dd7523be0e8f"
      },
      "execution_count": null,
      "outputs": [
        {
          "output_type": "stream",
          "name": "stdout",
          "text": [
            "Twisted\n"
          ]
        },
        {
          "output_type": "stream",
          "name": "stderr",
          "text": [
            "100%|██████████| 12/12 [00:02<00:00,  4.58it/s]\n"
          ]
        },
        {
          "output_type": "stream",
          "name": "stdout",
          "text": [
            "Chatroom\n"
          ]
        },
        {
          "output_type": "stream",
          "name": "stderr",
          "text": [
            "100%|██████████| 31/31 [00:03<00:00,  7.81it/s]\n"
          ]
        },
        {
          "output_type": "stream",
          "name": "stdout",
          "text": [
            "The 10th Kingdom\n"
          ]
        },
        {
          "output_type": "stream",
          "name": "stderr",
          "text": [
            "100%|██████████| 25/25 [00:03<00:00,  7.06it/s]\n"
          ]
        },
        {
          "output_type": "stream",
          "name": "stdout",
          "text": [
            "The Dragon Ring\n"
          ]
        },
        {
          "output_type": "stream",
          "name": "stderr",
          "text": [
            "100%|██████████| 11/11 [00:01<00:00,  7.21it/s]\n"
          ]
        },
        {
          "output_type": "stream",
          "name": "stdout",
          "text": [
            "Nowhere\n"
          ]
        },
        {
          "output_type": "stream",
          "name": "stderr",
          "text": [
            "100%|██████████| 23/23 [00:02<00:00,  7.99it/s]\n"
          ]
        },
        {
          "output_type": "stream",
          "name": "stdout",
          "text": [
            "Deadend\n"
          ]
        },
        {
          "output_type": "stream",
          "name": "stderr",
          "text": [
            "100%|██████████| 62/62 [00:08<00:00,  7.34it/s]\n"
          ]
        },
        {
          "output_type": "stream",
          "name": "stdout",
          "text": [
            "The Warlord\n"
          ]
        },
        {
          "output_type": "stream",
          "name": "stderr",
          "text": [
            "100%|██████████| 51/51 [00:07<00:00,  6.99it/s]\n"
          ]
        },
        {
          "output_type": "stream",
          "name": "stdout",
          "text": [
            "The Final\n"
          ]
        },
        {
          "output_type": "stream",
          "name": "stderr",
          "text": [
            "100%|██████████| 46/46 [00:04<00:00,  9.87it/s]\n"
          ]
        },
        {
          "output_type": "stream",
          "name": "stdout",
          "text": [
            "Tales of the Night\n"
          ]
        },
        {
          "output_type": "stream",
          "name": "stderr",
          "text": [
            "100%|██████████| 109/109 [00:13<00:00,  7.80it/s]\n"
          ]
        },
        {
          "output_type": "stream",
          "name": "stdout",
          "text": [
            "The Watcher in the Woods\n"
          ]
        },
        {
          "output_type": "stream",
          "name": "stderr",
          "text": [
            "100%|██████████| 23/23 [00:04<00:00,  5.46it/s]\n"
          ]
        },
        {
          "output_type": "error",
          "ename": "AttributeError",
          "evalue": "ignored",
          "traceback": [
            "\u001b[0;31m---------------------------------------------------------------------------\u001b[0m",
            "\u001b[0;31mAttributeError\u001b[0m                            Traceback (most recent call last)",
            "\u001b[0;32m<ipython-input-12-19b2dfe34edc>\u001b[0m in \u001b[0;36m<module>\u001b[0;34m\u001b[0m\n\u001b[1;32m      8\u001b[0m   \u001b[0mscene_embeddings\u001b[0m\u001b[0;34m[\u001b[0m\u001b[0mdataset\u001b[0m\u001b[0;34m[\u001b[0m\u001b[0;34m'Movies'\u001b[0m\u001b[0;34m]\u001b[0m\u001b[0;34m[\u001b[0m\u001b[0mi\u001b[0m\u001b[0;34m]\u001b[0m\u001b[0;34m]\u001b[0m \u001b[0;34m=\u001b[0m \u001b[0membedding\u001b[0m\u001b[0;34m\u001b[0m\u001b[0;34m\u001b[0m\u001b[0m\n\u001b[1;32m      9\u001b[0m \u001b[0;34m\u001b[0m\u001b[0m\n\u001b[0;32m---> 10\u001b[0;31m \u001b[0mscene_embeddings\u001b[0m\u001b[0;34m[\u001b[0m\u001b[0;34m\"Twisted\"\u001b[0m\u001b[0;34m]\u001b[0m\u001b[0;34m.\u001b[0m\u001b[0mshape\u001b[0m\u001b[0;34m\u001b[0m\u001b[0;34m\u001b[0m\u001b[0m\n\u001b[0m",
            "\u001b[0;31mAttributeError\u001b[0m: 'list' object has no attribute 'shape'"
          ]
        }
      ]
    },
    {
      "cell_type": "code",
      "source": [
        "scene_embeddings[\"Twisted\"][0].shape"
      ],
      "metadata": {
        "colab": {
          "base_uri": "https://localhost:8080/"
        },
        "id": "gcd4xzOku6a0",
        "outputId": "d969b8df-1c91-4338-ab2c-98a20f71d4d9"
      },
      "execution_count": null,
      "outputs": [
        {
          "output_type": "execute_result",
          "data": {
            "text/plain": [
              "torch.Size([768])"
            ]
          },
          "metadata": {},
          "execution_count": 14
        }
      ]
    },
    {
      "cell_type": "code",
      "source": [
        "query_embeddings = []\n",
        "\n",
        "# query embeddings\n",
        "for i in tqdm.tqdm(range(testset.shape[0])):\n",
        "    query, movie = testset['Query'][i], testset['Movie'][i]\n",
        "    query_embeddings.append([bert_embedding(query, model), movie])"
      ],
      "metadata": {
        "colab": {
          "base_uri": "https://localhost:8080/"
        },
        "id": "WJS7_-HFj0Uj",
        "outputId": "18f479e6-4776-4e6c-96bd-8ce0a094588c"
      },
      "execution_count": null,
      "outputs": [
        {
          "output_type": "stream",
          "name": "stderr",
          "text": [
            "100%|██████████| 126/126 [00:12<00:00,  9.89it/s]\n"
          ]
        }
      ]
    },
    {
      "cell_type": "code",
      "source": [
        "query_embeddings[0][0].shape"
      ],
      "metadata": {
        "colab": {
          "base_uri": "https://localhost:8080/"
        },
        "id": "CoQnWZcLkKMS",
        "outputId": "61c89560-6b7d-40ee-b233-46d97d103886"
      },
      "execution_count": null,
      "outputs": [
        {
          "output_type": "execute_result",
          "data": {
            "text/plain": [
              "torch.Size([768])"
            ]
          },
          "metadata": {},
          "execution_count": 18
        }
      ]
    },
    {
      "cell_type": "code",
      "source": [
        "len(query_embeddings)"
      ],
      "metadata": {
        "colab": {
          "base_uri": "https://localhost:8080/"
        },
        "id": "5o4poR56xSUv",
        "outputId": "ee9f87a5-3cd6-46b8-e3ea-b73768a221f4"
      },
      "execution_count": null,
      "outputs": [
        {
          "output_type": "execute_result",
          "data": {
            "text/plain": [
              "126"
            ]
          },
          "metadata": {},
          "execution_count": 19
        }
      ]
    },
    {
      "cell_type": "code",
      "source": [
        "#top-1  accuracy count\n",
        "def bertembedding_prediction_top1(scene_embeddings, query_embeddings):\n",
        "  answer = {\"Correct\": 0, \"Wrong\": 0}\n",
        "  for i in tqdm.tqdm(range(len(query_embeddings))): # embeddings of each test query\n",
        "    query, actual_movie = query_embeddings[i][0], query_embeddings[i][1]\n",
        "    print(\"\\n## \", actual_movie)\n",
        "    maximum = -np.inf\n",
        "    predicted_movie = \"\"\n",
        "    for movie in scene_embeddings: #every movie in our considered movie set\n",
        "      for scene in scene_embeddings[movie]: #every scene in considered movie\n",
        "        output = torch.cosine_similarity(query.reshape(1,-1), scene.reshape(1,-1))\n",
        "        output = float(output[0])\n",
        "        if output>maximum:\n",
        "          maximum = output\n",
        "          predicted_movie = movie\n",
        "    print(\"\\n++ [\", actual_movie, \"||\", predicted_movie, \"]\", end=\" == \")\n",
        "    if actual_movie==predicted_movie:\n",
        "      answer['Correct'] += 1\n",
        "      print(\"correct || \", answer)\n",
        "    else:\n",
        "      answer['Wrong'] += 1\n",
        "      print(\"wrong || \", answer)\n",
        "    \n",
        "    \n",
        "  return answer\n",
        "\n",
        "top1_predictions_bert = bertembedding_prediction_top1(scene_embeddings, query_embeddings)"
      ],
      "metadata": {
        "colab": {
          "base_uri": "https://localhost:8080/"
        },
        "id": "j5erqbOIkKKN",
        "outputId": "06d6214b-5583-4138-a380-0654b892c113"
      },
      "execution_count": null,
      "outputs": [
        {
          "output_type": "stream",
          "name": "stderr",
          "text": [
            "  4%|▍         | 5/126 [00:00<00:02, 42.60it/s]"
          ]
        },
        {
          "output_type": "stream",
          "name": "stdout",
          "text": [
            "\n",
            "##  Nowhere\n",
            "\n",
            "++ [ Nowhere || Deadend ] == wrong ||  {'Correct': 0, 'Wrong': 1}\n",
            "\n",
            "##  Nowhere\n",
            "\n",
            "++ [ Nowhere || Tales of the Night ] == wrong ||  {'Correct': 0, 'Wrong': 2}\n",
            "\n",
            "##  Nowhere\n",
            "\n",
            "++ [ Nowhere || Tales of the Night ] == wrong ||  {'Correct': 0, 'Wrong': 3}\n",
            "\n",
            "##  Nowhere\n",
            "\n",
            "++ [ Nowhere || Tales of the Night ] == wrong ||  {'Correct': 0, 'Wrong': 4}\n",
            "\n",
            "##  The 10th Kingdom\n",
            "\n",
            "++ [ The 10th Kingdom || Deadend ] == wrong ||  {'Correct': 0, 'Wrong': 5}\n",
            "\n",
            "##  The 10th Kingdom\n",
            "\n",
            "++ [ The 10th Kingdom || Nowhere ] == wrong ||  {'Correct': 0, 'Wrong': 6}\n",
            "\n",
            "##  The 10th Kingdom\n",
            "\n",
            "++ [ The 10th Kingdom || Tales of the Night ] == wrong ||  {'Correct': 0, 'Wrong': 7}\n",
            "\n",
            "##  The 10th Kingdom\n"
          ]
        },
        {
          "output_type": "stream",
          "name": "stderr",
          "text": [
            " 11%|█         | 14/126 [00:00<00:02, 38.82it/s]"
          ]
        },
        {
          "output_type": "stream",
          "name": "stdout",
          "text": [
            "\n",
            "++ [ The 10th Kingdom || Chatroom ] == wrong ||  {'Correct': 0, 'Wrong': 8}\n",
            "\n",
            "##  The 10th Kingdom\n",
            "\n",
            "++ [ The 10th Kingdom || Chatroom ] == wrong ||  {'Correct': 0, 'Wrong': 9}\n",
            "\n",
            "##  The 10th Kingdom\n",
            "\n",
            "++ [ The 10th Kingdom || Tales of the Night ] == wrong ||  {'Correct': 0, 'Wrong': 10}\n",
            "\n",
            "##  The 10th Kingdom\n",
            "\n",
            "++ [ The 10th Kingdom || Tales of the Night ] == wrong ||  {'Correct': 0, 'Wrong': 11}\n",
            "\n",
            "##  The 10th Kingdom\n",
            "\n",
            "++ [ The 10th Kingdom || Tales of the Night ] == wrong ||  {'Correct': 0, 'Wrong': 12}\n",
            "\n",
            "##  The 10th Kingdom\n",
            "\n",
            "++ [ The 10th Kingdom || Chatroom ] == wrong ||  {'Correct': 0, 'Wrong': 13}\n",
            "\n",
            "##  The 10th Kingdom\n",
            "\n",
            "++ [ The 10th Kingdom || Tales of the Night ] == wrong ||  {'Correct': 0, 'Wrong': 14}\n",
            "\n",
            "##  The Dragon Ring\n",
            "\n",
            "++ [ The Dragon Ring || Tales of the Night ] == wrong ||  {'Correct': 0, 'Wrong': 15}\n",
            "\n",
            "##  The Dragon Ring\n",
            "\n",
            "++ [ The Dragon Ring || The Dragon Ring ] == correct ||  {'Correct': 1, 'Wrong': 15}\n",
            "\n",
            "## "
          ]
        },
        {
          "output_type": "stream",
          "name": "stderr",
          "text": [
            " 19%|█▉        | 24/126 [00:00<00:02, 40.33it/s]"
          ]
        },
        {
          "output_type": "stream",
          "name": "stdout",
          "text": [
            " The Dragon Ring\n",
            "\n",
            "++ [ The Dragon Ring || Tales of the Night ] == wrong ||  {'Correct': 1, 'Wrong': 16}\n",
            "\n",
            "##  The Dragon Ring\n",
            "\n",
            "++ [ The Dragon Ring || The Watcher in the Woods ] == wrong ||  {'Correct': 1, 'Wrong': 17}\n",
            "\n",
            "##  Twisted\n",
            "\n",
            "++ [ Twisted || Deadend ] == wrong ||  {'Correct': 1, 'Wrong': 18}\n",
            "\n",
            "##  Twisted\n",
            "\n",
            "++ [ Twisted || Deadend ] == wrong ||  {'Correct': 1, 'Wrong': 19}\n",
            "\n",
            "##  Twisted\n",
            "\n",
            "++ [ Twisted || Chatroom ] == wrong ||  {'Correct': 1, 'Wrong': 20}\n",
            "\n",
            "##  Twisted\n",
            "\n",
            "++ [ Twisted || Chatroom ] == wrong ||  {'Correct': 1, 'Wrong': 21}\n",
            "\n",
            "##  Twisted\n",
            "\n",
            "++ [ Twisted || The Watcher in the Woods ] == wrong ||  {'Correct': 1, 'Wrong': 22}\n",
            "\n",
            "##   Twisted\n",
            "\n",
            "++ [  Twisted || Twisted ] == wrong ||  {'Correct': 1, 'Wrong': 23}\n",
            "\n",
            "##  Twisted\n"
          ]
        },
        {
          "output_type": "stream",
          "name": "stderr",
          "text": [
            "\r 23%|██▎       | 29/126 [00:00<00:02, 39.87it/s]"
          ]
        },
        {
          "output_type": "stream",
          "name": "stdout",
          "text": [
            "\n",
            "++ [ Twisted || Nowhere ] == wrong ||  {'Correct': 1, 'Wrong': 24}\n",
            "\n",
            "##  Twisted\n",
            "\n",
            "++ [ Twisted || Deadend ] == wrong ||  {'Correct': 1, 'Wrong': 25}\n",
            "\n",
            "##  Twisted\n",
            "\n",
            "++ [ Twisted || Tales of the Night ] == wrong ||  {'Correct': 1, 'Wrong': 26}\n",
            "\n",
            "##  Tales of the Night\n",
            "\n",
            "++ [ Tales of the Night || Tales of the Night ] == correct ||  {'Correct': 2, 'Wrong': 26}\n",
            "\n",
            "##  Tales of the Night\n",
            "\n",
            "++ [ Tales of the Night || The 10th Kingdom ] == wrong ||  {'Correct': 2, 'Wrong': 27}\n",
            "\n",
            "##  Tales of the Night\n",
            "\n",
            "++ [ Tales of the Night || Tales of the Night ] == correct ||  {'Correct': 3, 'Wrong': 27}\n",
            "\n",
            "##  Tales of the Night\n",
            "\n",
            "++ [ Tales of the Night || Tales of the Night ] == correct ||  {'Correct': 4, 'Wrong': 27}\n",
            "\n",
            "##  Tales of the Night\n",
            "\n",
            "++ [ Tales of the Night || Tales of the Night ] == correct ||  {'Correct': 5, 'Wrong': 27}\n",
            "\n",
            "##  Tales of the Night\n",
            "\n",
            "++ [ Tales of the Night || Tales of the Night ] == correct ||  {'Correct': 6, 'Wrong': 27}\n",
            "\n",
            "##  Tales of the Night\n"
          ]
        },
        {
          "output_type": "stream",
          "name": "stderr",
          "text": [
            " 31%|███       | 39/126 [00:00<00:02, 40.41it/s]"
          ]
        },
        {
          "output_type": "stream",
          "name": "stdout",
          "text": [
            "\n",
            "++ [ Tales of the Night || Tales of the Night ] == correct ||  {'Correct': 7, 'Wrong': 27}\n",
            "\n",
            "##  Tales of the Night\n",
            "\n",
            "++ [ Tales of the Night || Tales of the Night ] == correct ||  {'Correct': 8, 'Wrong': 27}\n",
            "\n",
            "##  Tales of the Night\n",
            "\n",
            "++ [ Tales of the Night || Tales of the Night ] == correct ||  {'Correct': 9, 'Wrong': 27}\n",
            "\n",
            "##  Tales of the Night\n",
            "\n",
            "++ [ Tales of the Night || Tales of the Night ] == correct ||  {'Correct': 10, 'Wrong': 27}\n",
            "\n",
            "##  Tales of the Night\n",
            "\n",
            "++ [ Tales of the Night || Tales of the Night ] == correct ||  {'Correct': 11, 'Wrong': 27}\n",
            "\n",
            "##  Tales of the Night\n",
            "\n",
            "++ [ Tales of the Night || Tales of the Night ] == correct ||  {'Correct': 12, 'Wrong': 27}\n",
            "\n",
            "##  Tales of the Night\n",
            "\n",
            "++ [ Tales of the Night || Tales of the Night ] == correct ||  {'Correct': 13, 'Wrong': 27}\n",
            "\n",
            "##  Tales of the Night\n",
            "\n",
            "++ [ Tales of the Night || The Warlord ] == wrong ||  {'Correct': 13, 'Wrong': 28}\n",
            "\n",
            "##  Tales of the Night\n"
          ]
        },
        {
          "output_type": "stream",
          "name": "stderr",
          "text": [
            " 38%|███▊      | 48/126 [00:01<00:02, 38.79it/s]"
          ]
        },
        {
          "output_type": "stream",
          "name": "stdout",
          "text": [
            "\n",
            "++ [ Tales of the Night || Tales of the Night ] == correct ||  {'Correct': 14, 'Wrong': 28}\n",
            "\n",
            "##  Tales of the Night\n",
            "\n",
            "++ [ Tales of the Night || Tales of the Night ] == correct ||  {'Correct': 15, 'Wrong': 28}\n",
            "\n",
            "##  Tales of the Night\n",
            "\n",
            "++ [ Tales of the Night || The 10th Kingdom ] == wrong ||  {'Correct': 15, 'Wrong': 29}\n",
            "\n",
            "##  Chatroom\n",
            "\n",
            "++ [ Chatroom || Deadend ] == wrong ||  {'Correct': 15, 'Wrong': 30}\n",
            "\n",
            "##  Chatroom\n",
            "\n",
            "++ [ Chatroom || Deadend ] == wrong ||  {'Correct': 15, 'Wrong': 31}\n",
            "\n",
            "##  Chatroom\n",
            "\n",
            "++ [ Chatroom || Chatroom ] == correct ||  {'Correct': 16, 'Wrong': 31}\n",
            "\n",
            "##  Deadend\n",
            "\n",
            "++ [ Deadend || Deadend ] == correct ||  {'Correct': 17, 'Wrong': 31}\n",
            "\n",
            "##  Deadend\n",
            "\n",
            "++ [ Deadend || Chatroom ] == wrong ||  {'Correct': 17, 'Wrong': 32}\n",
            "\n",
            "##  Deadend\n"
          ]
        },
        {
          "output_type": "stream",
          "name": "stderr",
          "text": [
            " 45%|████▌     | 57/126 [00:01<00:01, 39.36it/s]"
          ]
        },
        {
          "output_type": "stream",
          "name": "stdout",
          "text": [
            "\n",
            "++ [ Deadend || Deadend ] == correct ||  {'Correct': 18, 'Wrong': 32}\n",
            "\n",
            "##  Deadend\n",
            "\n",
            "++ [ Deadend || The Final ] == wrong ||  {'Correct': 18, 'Wrong': 33}\n",
            "\n",
            "##  Deadend\n",
            "\n",
            "++ [ Deadend || Deadend ] == correct ||  {'Correct': 19, 'Wrong': 33}\n",
            "\n",
            "##  Deadend\n",
            "\n",
            "++ [ Deadend || Deadend ] == correct ||  {'Correct': 20, 'Wrong': 33}\n",
            "\n",
            "##  Deadend\n",
            "\n",
            "++ [ Deadend || Deadend ] == correct ||  {'Correct': 21, 'Wrong': 33}\n",
            "\n",
            "##  Deadend\n",
            "\n",
            "++ [ Deadend || Deadend ] == correct ||  {'Correct': 22, 'Wrong': 33}\n",
            "\n",
            "##  Deadend\n",
            "\n",
            "++ [ Deadend || Deadend ] == correct ||  {'Correct': 23, 'Wrong': 33}\n",
            "\n",
            "##  Deadend\n",
            "\n",
            "++ [ Deadend || Deadend ] == correct ||  {'Correct': 24, 'Wrong': 33}\n",
            "\n",
            "##  Deadend\n"
          ]
        },
        {
          "output_type": "stream",
          "name": "stderr",
          "text": [
            " 52%|█████▏    | 65/126 [00:01<00:01, 38.58it/s]"
          ]
        },
        {
          "output_type": "stream",
          "name": "stdout",
          "text": [
            "\n",
            "++ [ Deadend || Deadend ] == correct ||  {'Correct': 25, 'Wrong': 33}\n",
            "\n",
            "##  Deadend\n",
            "\n",
            "++ [ Deadend || Deadend ] == correct ||  {'Correct': 26, 'Wrong': 33}\n",
            "\n",
            "##  Deadend\n",
            "\n",
            "++ [ Deadend || Deadend ] == correct ||  {'Correct': 27, 'Wrong': 33}\n",
            "\n",
            "##  Deadend\n",
            "\n",
            "++ [ Deadend || Deadend ] == correct ||  {'Correct': 28, 'Wrong': 33}\n",
            "\n",
            "##  Deadend\n",
            "\n",
            "++ [ Deadend || Deadend ] == correct ||  {'Correct': 29, 'Wrong': 33}\n",
            "\n",
            "##  Deadend\n",
            "\n",
            "++ [ Deadend || Tales of the Night ] == wrong ||  {'Correct': 29, 'Wrong': 34}\n",
            "\n",
            "##  The Warlord\n",
            "\n",
            "++ [ The Warlord || Deadend ] == wrong ||  {'Correct': 29, 'Wrong': 35}\n",
            "\n",
            "##  The Warlord\n",
            "\n",
            "++ [ The Warlord || Tales of the Night ] == wrong ||  {'Correct': 29, 'Wrong': 36}\n",
            "\n",
            "##  The Warlord\n"
          ]
        },
        {
          "output_type": "stream",
          "name": "stderr",
          "text": [
            " 58%|█████▊    | 73/126 [00:01<00:01, 38.46it/s]"
          ]
        },
        {
          "output_type": "stream",
          "name": "stdout",
          "text": [
            "\n",
            "++ [ The Warlord || Twisted ] == wrong ||  {'Correct': 29, 'Wrong': 37}\n",
            "\n",
            "##  The Warlord\n",
            "\n",
            "++ [ The Warlord || The Final ] == wrong ||  {'Correct': 29, 'Wrong': 38}\n",
            "\n",
            "##  The Warlord\n",
            "\n",
            "++ [ The Warlord || Chatroom ] == wrong ||  {'Correct': 29, 'Wrong': 39}\n",
            "\n",
            "##  The Warlord\n",
            "\n",
            "++ [ The Warlord || Nowhere ] == wrong ||  {'Correct': 29, 'Wrong': 40}\n",
            "\n",
            "##  The Warlord\n",
            "\n",
            "++ [ The Warlord || The Warlord ] == correct ||  {'Correct': 30, 'Wrong': 40}\n",
            "\n",
            "##  The Warlord\n",
            "\n",
            "++ [ The Warlord || Chatroom ] == wrong ||  {'Correct': 30, 'Wrong': 41}\n",
            "\n",
            "##  The Warlord\n",
            "\n",
            "++ [ The Warlord || Chatroom ] == wrong ||  {'Correct': 30, 'Wrong': 42}\n",
            "\n",
            "##  The Warlord\n",
            "\n",
            "++ [ The Warlord || Chatroom ] == wrong ||  {'Correct': 30, 'Wrong': 43}\n",
            "\n",
            "##  The Warlord\n"
          ]
        },
        {
          "output_type": "stream",
          "name": "stderr",
          "text": [
            " 64%|██████▍   | 81/126 [00:02<00:01, 38.23it/s]"
          ]
        },
        {
          "output_type": "stream",
          "name": "stdout",
          "text": [
            "\n",
            "++ [ The Warlord || Tales of the Night ] == wrong ||  {'Correct': 30, 'Wrong': 44}\n",
            "\n",
            "##  The Warlord\n",
            "\n",
            "++ [ The Warlord || The 10th Kingdom ] == wrong ||  {'Correct': 30, 'Wrong': 45}\n",
            "\n",
            "##  The Warlord\n",
            "\n",
            "++ [ The Warlord || Chatroom ] == wrong ||  {'Correct': 30, 'Wrong': 46}\n",
            "\n",
            "##  The Warlord\n",
            "\n",
            "++ [ The Warlord || The Warlord ] == correct ||  {'Correct': 31, 'Wrong': 46}\n",
            "\n",
            "##  The Warlord\n",
            "\n",
            "++ [ The Warlord || Chatroom ] == wrong ||  {'Correct': 31, 'Wrong': 47}\n",
            "\n",
            "##  The Warlord\n",
            "\n",
            "++ [ The Warlord || Deadend ] == wrong ||  {'Correct': 31, 'Wrong': 48}\n",
            "\n",
            "##  The Final\n",
            "\n",
            "++ [ The Final || Tales of the Night ] == wrong ||  {'Correct': 31, 'Wrong': 49}\n",
            "\n",
            "##  The Final\n",
            "\n",
            "++ [ The Final || The Final ] == correct ||  {'Correct': 32, 'Wrong': 49}\n",
            "\n",
            "##  The Final\n"
          ]
        },
        {
          "output_type": "stream",
          "name": "stderr",
          "text": [
            " 71%|███████   | 89/126 [00:02<00:00, 37.33it/s]"
          ]
        },
        {
          "output_type": "stream",
          "name": "stdout",
          "text": [
            "\n",
            "++ [ The Final || The Final ] == correct ||  {'Correct': 33, 'Wrong': 49}\n",
            "\n",
            "##  The Final\n",
            "\n",
            "++ [ The Final || The Final ] == correct ||  {'Correct': 34, 'Wrong': 49}\n",
            "\n",
            "##  The Final\n",
            "\n",
            "++ [ The Final || Nowhere ] == wrong ||  {'Correct': 34, 'Wrong': 50}\n",
            "\n",
            "##  The Final\n",
            "\n",
            "++ [ The Final || Nowhere ] == wrong ||  {'Correct': 34, 'Wrong': 51}\n",
            "\n",
            "##  The Final\n",
            "\n",
            "++ [ The Final || The Final ] == correct ||  {'Correct': 35, 'Wrong': 51}\n",
            "\n",
            "##  The Final\n",
            "\n",
            "++ [ The Final || Chatroom ] == wrong ||  {'Correct': 35, 'Wrong': 52}\n",
            "\n",
            "##  The Final\n",
            "\n",
            "++ [ The Final || Chatroom ] == wrong ||  {'Correct': 35, 'Wrong': 53}\n",
            "\n",
            "##  The Final\n",
            "\n",
            "++ [ The Final || The Final ] == correct ||  {'Correct': 36, 'Wrong': 53}\n",
            "\n",
            "##  The Final\n"
          ]
        },
        {
          "output_type": "stream",
          "name": "stderr",
          "text": [
            " 78%|███████▊  | 98/126 [00:02<00:00, 38.41it/s]"
          ]
        },
        {
          "output_type": "stream",
          "name": "stdout",
          "text": [
            "\n",
            "++ [ The Final || Nowhere ] == wrong ||  {'Correct': 36, 'Wrong': 54}\n",
            "\n",
            "##  The Final\n",
            "\n",
            "++ [ The Final || Deadend ] == wrong ||  {'Correct': 36, 'Wrong': 55}\n",
            "\n",
            "##  The Final\n",
            "\n",
            "++ [ The Final || Chatroom ] == wrong ||  {'Correct': 36, 'Wrong': 56}\n",
            "\n",
            "##  The Final\n",
            "\n",
            "++ [ The Final || Deadend ] == wrong ||  {'Correct': 36, 'Wrong': 57}\n",
            "\n",
            "##  The Final\n",
            "\n",
            "++ [ The Final || Deadend ] == wrong ||  {'Correct': 36, 'Wrong': 58}\n",
            "\n",
            "##  The Final\n",
            "\n",
            "++ [ The Final || Deadend ] == wrong ||  {'Correct': 36, 'Wrong': 59}\n",
            "\n",
            "##  The Final\n",
            "\n",
            "++ [ The Final || Chatroom ] == wrong ||  {'Correct': 36, 'Wrong': 60}\n",
            "\n",
            "##  The Final\n",
            "\n",
            "++ [ The Final || Deadend ] == wrong ||  {'Correct': 36, 'Wrong': 61}\n",
            "\n",
            "##  The Final\n",
            "\n",
            "++ [ The Final || Nowhere ] == wrong ||  {'Correct': 36, 'Wrong': 62}\n"
          ]
        },
        {
          "output_type": "stream",
          "name": "stderr",
          "text": [
            "\r 81%|████████  | 102/126 [00:02<00:00, 37.39it/s]"
          ]
        },
        {
          "output_type": "stream",
          "name": "stdout",
          "text": [
            "\n",
            "##  The Watcher in the Woods\n",
            "\n",
            "++ [ The Watcher in the Woods || Deadend ] == wrong ||  {'Correct': 36, 'Wrong': 63}\n",
            "\n",
            "##  The Watcher in the Woods\n",
            "\n",
            "++ [ The Watcher in the Woods || Tales of the Night ] == wrong ||  {'Correct': 36, 'Wrong': 64}\n",
            "\n",
            "##  The Watcher in the Woods\n",
            "\n",
            "++ [ The Watcher in the Woods || The Watcher in the Woods ] == correct ||  {'Correct': 37, 'Wrong': 64}\n",
            "\n",
            "##  The Watcher in the Woods\n",
            "\n",
            "++ [ The Watcher in the Woods || The Warlord ] == wrong ||  {'Correct': 37, 'Wrong': 65}\n",
            "\n",
            "##  The Watcher in the Woods\n",
            "\n",
            "++ [ The Watcher in the Woods || Deadend ] == wrong ||  {'Correct': 37, 'Wrong': 66}\n",
            "\n",
            "##  The Watcher in the Woods\n",
            "\n",
            "++ [ The Watcher in the Woods || The Watcher in the Woods ] == correct ||  {'Correct': 38, 'Wrong': 66}\n",
            "\n",
            "##  The Watcher in the Woods\n",
            "\n",
            "++ [ The Watcher in the Woods || Twisted ] == wrong ||  {'Correct': 38, 'Wrong': 67}\n",
            "\n",
            "##  The Watcher in the Woods\n"
          ]
        },
        {
          "output_type": "stream",
          "name": "stderr",
          "text": [
            " 88%|████████▊ | 111/126 [00:02<00:00, 38.66it/s]"
          ]
        },
        {
          "output_type": "stream",
          "name": "stdout",
          "text": [
            "\n",
            "++ [ The Watcher in the Woods || Nowhere ] == wrong ||  {'Correct': 38, 'Wrong': 68}\n",
            "\n",
            "##  The Watcher in the Woods\n",
            "\n",
            "++ [ The Watcher in the Woods || Deadend ] == wrong ||  {'Correct': 38, 'Wrong': 69}\n",
            "\n",
            "##  Nowhere\n",
            "\n",
            "++ [ Nowhere || Chatroom ] == wrong ||  {'Correct': 38, 'Wrong': 70}\n",
            "\n",
            "##  Nowhere\n",
            "\n",
            "++ [ Nowhere || Tales of the Night ] == wrong ||  {'Correct': 38, 'Wrong': 71}\n",
            "\n",
            "##  Nowhere\n",
            "\n",
            "++ [ Nowhere || Tales of the Night ] == wrong ||  {'Correct': 38, 'Wrong': 72}\n",
            "\n",
            "##  Nowhere\n",
            "\n",
            "++ [ Nowhere || Tales of the Night ] == wrong ||  {'Correct': 38, 'Wrong': 73}\n",
            "\n",
            "##  Chatroom\n",
            "\n",
            "++ [ Chatroom || Tales of the Night ] == wrong ||  {'Correct': 38, 'Wrong': 74}\n",
            "\n",
            "##  Chatroom\n",
            "\n",
            "++ [ Chatroom || Deadend ] == wrong ||  {'Correct': 38, 'Wrong': 75}\n",
            "\n",
            "##  Chatroom\n"
          ]
        },
        {
          "output_type": "stream",
          "name": "stderr",
          "text": [
            " 94%|█████████▍| 119/126 [00:03<00:00, 38.39it/s]"
          ]
        },
        {
          "output_type": "stream",
          "name": "stdout",
          "text": [
            "\n",
            "++ [ Chatroom || Chatroom ] == correct ||  {'Correct': 39, 'Wrong': 75}\n",
            "\n",
            "##  Chatroom\n",
            "\n",
            "++ [ Chatroom || Tales of the Night ] == wrong ||  {'Correct': 39, 'Wrong': 76}\n",
            "\n",
            "##  Chatroom\n",
            "\n",
            "++ [ Chatroom || Tales of the Night ] == wrong ||  {'Correct': 39, 'Wrong': 77}\n",
            "\n",
            "##  Chatroom\n",
            "\n",
            "++ [ Chatroom || Tales of the Night ] == wrong ||  {'Correct': 39, 'Wrong': 78}\n",
            "\n",
            "##  Chatroom\n",
            "\n",
            "++ [ Chatroom || Chatroom ] == correct ||  {'Correct': 40, 'Wrong': 78}\n",
            "\n",
            "##  Chatroom\n",
            "\n",
            "++ [ Chatroom || Deadend ] == wrong ||  {'Correct': 40, 'Wrong': 79}\n",
            "\n",
            "##  Chatroom\n",
            "\n",
            "++ [ Chatroom || Deadend ] == wrong ||  {'Correct': 40, 'Wrong': 80}\n",
            "\n",
            "##  Chatroom\n",
            "\n",
            "++ [ Chatroom || Nowhere ] == wrong ||  {'Correct': 40, 'Wrong': 81}\n",
            "\n",
            "##  Chatroom\n"
          ]
        },
        {
          "output_type": "stream",
          "name": "stderr",
          "text": [
            "100%|██████████| 126/126 [00:03<00:00, 38.63it/s]"
          ]
        },
        {
          "output_type": "stream",
          "name": "stdout",
          "text": [
            "\n",
            "++ [ Chatroom || Chatroom ] == correct ||  {'Correct': 41, 'Wrong': 81}\n",
            "\n",
            "##  Chatroom\n",
            "\n",
            "++ [ Chatroom || Chatroom ] == correct ||  {'Correct': 42, 'Wrong': 81}\n",
            "\n",
            "##  Chatroom\n",
            "\n",
            "++ [ Chatroom || Chatroom ] == correct ||  {'Correct': 43, 'Wrong': 81}\n",
            "\n",
            "##  Chatroom\n",
            "\n",
            "++ [ Chatroom || Chatroom ] == correct ||  {'Correct': 44, 'Wrong': 81}\n",
            "\n",
            "##  Chatroom\n",
            "\n",
            "++ [ Chatroom || Chatroom ] == correct ||  {'Correct': 45, 'Wrong': 81}\n"
          ]
        },
        {
          "output_type": "stream",
          "name": "stderr",
          "text": [
            "\n"
          ]
        }
      ]
    },
    {
      "cell_type": "code",
      "source": [
        "top1_predictions_bert"
      ],
      "metadata": {
        "colab": {
          "base_uri": "https://localhost:8080/"
        },
        "id": "SVEGuQlokKII",
        "outputId": "97a82cf7-7543-4cf8-f5b4-2dcccf5e0964"
      },
      "execution_count": null,
      "outputs": [
        {
          "output_type": "execute_result",
          "data": {
            "text/plain": [
              "{'Correct': 45, 'Wrong': 81}"
            ]
          },
          "metadata": {},
          "execution_count": 32
        }
      ]
    },
    {
      "cell_type": "code",
      "source": [
        "top1_predictions_bert['Correct']/(top1_predictions_bert['Correct']+top1_predictions_bert['Wrong'])"
      ],
      "metadata": {
        "colab": {
          "base_uri": "https://localhost:8080/"
        },
        "id": "MGk8MExJzPDk",
        "outputId": "3ee9121d-8352-44ff-ad59-0c3006553a59"
      },
      "execution_count": null,
      "outputs": [
        {
          "output_type": "execute_result",
          "data": {
            "text/plain": [
              "0.35714285714285715"
            ]
          },
          "metadata": {},
          "execution_count": 33
        }
      ]
    },
    {
      "cell_type": "code",
      "source": [
        "#top-3  accuracy count\n",
        "def bertembedding_prediction_top3(scene_embeddings, query_embeddings):\n",
        "  answer = {\"Correct\": 0, \"Wrong\": 0}\n",
        "  for i in tqdm.tqdm(range(len(query_embeddings))): # embeddings of each test query\n",
        "    query, actual_movie = query_embeddings[i][0], query_embeddings[i][1]\n",
        "    print(\"\\n## \", actual_movie)\n",
        "    maximum = -np.inf\n",
        "    predicted_movie = \"\"\n",
        "    rank_dict = dict()\n",
        "    for movie in scene_embeddings: #every movie in our considered movie set\n",
        "      maximum = -np.inf\n",
        "      for scene in scene_embeddings[movie]: #every scene in considered movie\n",
        "        output = torch.cosine_similarity(query.reshape(1,-1), scene.reshape(1,-1))\n",
        "        output = float(output[0])\n",
        "        if output>maximum:\n",
        "          maximum = output\n",
        "          predicted_movie = movie\n",
        "      rank_dict[predicted_movie] = maximum\n",
        "    rank_dict_top3=set( movie.lower().strip() for (movie, score) in list(sorted(rank_dict.items(), key=lambda item: item[1], reverse = True))[:3])\n",
        "    print(\"\\n++ [\", actual_movie, \"||\", rank_dict_top3, \"]\", end=\" == \")\n",
        "    if actual_movie.lower().strip() in rank_dict_top3:\n",
        "      answer['Correct'] += 1\n",
        "      print(\"correct || \", answer)\n",
        "    else:\n",
        "      answer['Wrong'] += 1\n",
        "      print(\"wrong || \", answer)\n",
        "    \n",
        "    \n",
        "  return answer\n",
        "\n",
        "top3_predictions_bert = bertembedding_prediction_top3(scene_embeddings, query_embeddings)"
      ],
      "metadata": {
        "colab": {
          "base_uri": "https://localhost:8080/"
        },
        "id": "A9-vBeMakKFz",
        "outputId": "a4faba30-7f89-4167-8d26-e4328f8c4653"
      },
      "execution_count": null,
      "outputs": [
        {
          "output_type": "stream",
          "name": "stderr",
          "text": [
            "  3%|▎         | 4/126 [00:00<00:03, 36.76it/s]"
          ]
        },
        {
          "output_type": "stream",
          "name": "stdout",
          "text": [
            "\n",
            "##  Nowhere\n",
            "\n",
            "++ [ Nowhere || {'tales of the night', 'nowhere', 'deadend'} ] == correct ||  {'Correct': 1, 'Wrong': 0}\n",
            "\n",
            "##  Nowhere\n",
            "\n",
            "++ [ Nowhere || {'tales of the night', 'nowhere', 'deadend'} ] == correct ||  {'Correct': 2, 'Wrong': 0}\n",
            "\n",
            "##  Nowhere\n",
            "\n",
            "++ [ Nowhere || {'tales of the night', 'chatroom', 'nowhere'} ] == correct ||  {'Correct': 3, 'Wrong': 0}\n",
            "\n",
            "##  Nowhere\n",
            "\n",
            "++ [ Nowhere || {'tales of the night', 'nowhere', 'the watcher in the woods'} ] == correct ||  {'Correct': 4, 'Wrong': 0}\n",
            "\n",
            "##  The 10th Kingdom\n",
            "\n",
            "++ [ The 10th Kingdom || {'tales of the night', 'nowhere', 'deadend'} ] == wrong ||  {'Correct': 4, 'Wrong': 1}\n",
            "\n",
            "##  The 10th Kingdom\n",
            "\n",
            "++ [ The 10th Kingdom || {'nowhere', 'chatroom', 'deadend'} ] == wrong ||  {'Correct': 4, 'Wrong': 2}\n",
            "\n",
            "##  The 10th Kingdom\n",
            "\n",
            "++ [ The 10th Kingdom || {'tales of the night', 'nowhere', 'chatroom'} ] == wrong ||  {'Correct': 4, 'Wrong': 3}\n",
            "\n",
            "##  The 10th Kingdom\n"
          ]
        },
        {
          "output_type": "stream",
          "name": "stderr",
          "text": [
            " 10%|▉         | 12/126 [00:00<00:03, 35.15it/s]"
          ]
        },
        {
          "output_type": "stream",
          "name": "stdout",
          "text": [
            "\n",
            "++ [ The 10th Kingdom || {'the warlord', 'chatroom', 'tales of the night'} ] == wrong ||  {'Correct': 4, 'Wrong': 4}\n",
            "\n",
            "##  The 10th Kingdom\n",
            "\n",
            "++ [ The 10th Kingdom || {'chatroom', 'the dragon ring', 'deadend'} ] == wrong ||  {'Correct': 4, 'Wrong': 5}\n",
            "\n",
            "##  The 10th Kingdom\n",
            "\n",
            "++ [ The 10th Kingdom || {'twisted', 'tales of the night', 'deadend'} ] == wrong ||  {'Correct': 4, 'Wrong': 6}\n",
            "\n",
            "##  The 10th Kingdom\n",
            "\n",
            "++ [ The 10th Kingdom || {'tales of the night', 'deadend', 'the 10th kingdom'} ] == correct ||  {'Correct': 5, 'Wrong': 6}\n",
            "\n",
            "##  The 10th Kingdom\n",
            "\n",
            "++ [ The 10th Kingdom || {'tales of the night', 'the watcher in the woods', 'the 10th kingdom'} ] == correct ||  {'Correct': 6, 'Wrong': 6}\n",
            "\n",
            "##  The 10th Kingdom\n",
            "\n",
            "++ [ The 10th Kingdom || {'tales of the night', 'chatroom', 'deadend'} ] == wrong ||  {'Correct': 6, 'Wrong': 7}\n",
            "\n",
            "##  The 10th Kingdom\n",
            "\n",
            "++ [ The 10th Kingdom || {'the warlord', 'tales of the night', 'the 10th kingdom'} ] == correct ||  {'Correct': 7, 'Wrong': 7}\n",
            "\n",
            "##  The Dragon Ring\n",
            "\n",
            "++ [ The Dragon Ring || {'twisted', 'tales of the night', 'deadend'} ] == wrong ||  {'Correct': 7, 'Wrong': 8}\n",
            "\n",
            "##  The Dragon Ring\n"
          ]
        },
        {
          "output_type": "stream",
          "name": "stderr",
          "text": [
            " 16%|█▌        | 20/126 [00:00<00:02, 35.69it/s]"
          ]
        },
        {
          "output_type": "stream",
          "name": "stdout",
          "text": [
            "\n",
            "++ [ The Dragon Ring || {'tales of the night', 'the dragon ring', 'twisted'} ] == correct ||  {'Correct': 8, 'Wrong': 8}\n",
            "\n",
            "##  The Dragon Ring\n",
            "\n",
            "++ [ The Dragon Ring || {'tales of the night', 'the dragon ring', 'the 10th kingdom'} ] == correct ||  {'Correct': 9, 'Wrong': 8}\n",
            "\n",
            "##  The Dragon Ring\n",
            "\n",
            "++ [ The Dragon Ring || {'tales of the night', 'the watcher in the woods', 'deadend'} ] == wrong ||  {'Correct': 9, 'Wrong': 9}\n",
            "\n",
            "##  Twisted\n",
            "\n",
            "++ [ Twisted || {'twisted', 'the final', 'deadend'} ] == correct ||  {'Correct': 10, 'Wrong': 9}\n",
            "\n",
            "##  Twisted\n",
            "\n",
            "++ [ Twisted || {'chatroom', 'deadend', 'nowhere'} ] == wrong ||  {'Correct': 10, 'Wrong': 10}\n",
            "\n",
            "##  Twisted\n",
            "\n",
            "++ [ Twisted || {'twisted', 'chatroom', 'deadend'} ] == correct ||  {'Correct': 11, 'Wrong': 10}\n",
            "\n",
            "##  Twisted\n",
            "\n",
            "++ [ Twisted || {'chatroom', 'twisted', 'nowhere'} ] == correct ||  {'Correct': 12, 'Wrong': 10}\n",
            "\n",
            "##  Twisted\n",
            "\n",
            "++ [ Twisted || {'chatroom', 'the watcher in the woods', 'deadend'} ] == wrong ||  {'Correct': 12, 'Wrong': 11}\n",
            "\n",
            "##   Twisted\n"
          ]
        },
        {
          "output_type": "stream",
          "name": "stderr",
          "text": [
            " 25%|██▍       | 31/126 [00:00<00:02, 45.64it/s]"
          ]
        },
        {
          "output_type": "stream",
          "name": "stdout",
          "text": [
            "\n",
            "++ [  Twisted || {'deadend', 'chatroom', 'twisted'} ] == correct ||  {'Correct': 13, 'Wrong': 11}\n",
            "\n",
            "##  Twisted\n",
            "\n",
            "++ [ Twisted || {'nowhere', 'chatroom', 'deadend'} ] == wrong ||  {'Correct': 13, 'Wrong': 12}\n",
            "\n",
            "##  Twisted\n",
            "\n",
            "++ [ Twisted || {'nowhere', 'the watcher in the woods', 'deadend'} ] == wrong ||  {'Correct': 13, 'Wrong': 13}\n",
            "\n",
            "##  Twisted\n",
            "\n",
            "++ [ Twisted || {'tales of the night', 'the final', 'nowhere'} ] == wrong ||  {'Correct': 13, 'Wrong': 14}\n",
            "\n",
            "##  Tales of the Night\n",
            "\n",
            "++ [ Tales of the Night || {'tales of the night', 'the dragon ring', 'the 10th kingdom'} ] == correct ||  {'Correct': 14, 'Wrong': 14}\n",
            "\n",
            "##  Tales of the Night\n",
            "\n",
            "++ [ Tales of the Night || {'tales of the night', 'the dragon ring', 'the 10th kingdom'} ] == correct ||  {'Correct': 15, 'Wrong': 14}\n",
            "\n",
            "##  Tales of the Night\n",
            "\n",
            "++ [ Tales of the Night || {'tales of the night', 'the dragon ring', 'the 10th kingdom'} ] == correct ||  {'Correct': 16, 'Wrong': 14}\n",
            "\n",
            "##  Tales of the Night\n",
            "\n",
            "++ [ Tales of the Night || {'tales of the night', 'the dragon ring', 'the 10th kingdom'} ] == correct ||  {'Correct': 17, 'Wrong': 14}\n",
            "\n",
            "##  Tales of the Night\n",
            "\n",
            "++ [ Tales of the Night || {'tales of the night', 'the dragon ring', 'the 10th kingdom'} ] == correct ||  {'Correct': 18, 'Wrong': 14}\n",
            "\n",
            "##  Tales of the Night\n",
            "\n",
            "++ [ Tales of the Night || {'the warlord', 'tales of the night', 'twisted'} ] == correct ||  {'Correct': 19, 'Wrong': 14}\n",
            "\n",
            "##  Tales of the Night\n",
            "\n",
            "++ [ Tales of the Night || {'the final', 'tales of the night', 'nowhere'} ] == correct ||  {'Correct': 20, 'Wrong': 14}\n",
            "\n",
            "##  Tales of the Night\n",
            "\n",
            "++ [ Tales of the Night || {'the warlord', 'tales of the night', 'nowhere'} ] == correct ||  {'Correct': 21, 'Wrong': 14}\n",
            "\n",
            "##  Tales of the Night\n",
            "\n",
            "++ [ Tales of the Night || {'the warlord', 'tales of the night', 'the dragon ring'} ] == correct ||  {'Correct': 22, 'Wrong': 14}\n",
            "\n",
            "##  Tales of the Night\n"
          ]
        },
        {
          "output_type": "stream",
          "name": "stderr",
          "text": [
            " 33%|███▎      | 42/126 [00:01<00:01, 46.44it/s]"
          ]
        },
        {
          "output_type": "stream",
          "name": "stdout",
          "text": [
            "\n",
            "++ [ Tales of the Night || {'the warlord', 'tales of the night', 'the 10th kingdom'} ] == correct ||  {'Correct': 23, 'Wrong': 14}\n",
            "\n",
            "##  Tales of the Night\n",
            "\n",
            "++ [ Tales of the Night || {'twisted', 'tales of the night', 'deadend'} ] == correct ||  {'Correct': 24, 'Wrong': 14}\n",
            "\n",
            "##  Tales of the Night\n",
            "\n",
            "++ [ Tales of the Night || {'tales of the night', 'nowhere', 'the 10th kingdom'} ] == correct ||  {'Correct': 25, 'Wrong': 14}\n",
            "\n",
            "##  Tales of the Night\n",
            "\n",
            "++ [ Tales of the Night || {'the final', 'tales of the night', 'nowhere'} ] == correct ||  {'Correct': 26, 'Wrong': 14}\n",
            "\n",
            "##  Tales of the Night\n",
            "\n",
            "++ [ Tales of the Night || {'the warlord', 'tales of the night', 'the 10th kingdom'} ] == correct ||  {'Correct': 27, 'Wrong': 14}\n",
            "\n",
            "##  Tales of the Night\n",
            "\n",
            "++ [ Tales of the Night || {'tales of the night', 'chatroom', 'the 10th kingdom'} ] == correct ||  {'Correct': 28, 'Wrong': 14}\n",
            "\n",
            "##  Tales of the Night\n",
            "\n",
            "++ [ Tales of the Night || {'tales of the night', 'chatroom', 'deadend'} ] == correct ||  {'Correct': 29, 'Wrong': 14}\n",
            "\n",
            "##  Tales of the Night\n",
            "\n",
            "++ [ Tales of the Night || {'the warlord', 'tales of the night', 'the 10th kingdom'} ] == correct ||  {'Correct': 30, 'Wrong': 14}\n",
            "\n",
            "##  Chatroom\n",
            "\n",
            "++ ["
          ]
        },
        {
          "output_type": "stream",
          "name": "stderr",
          "text": [
            "\r 37%|███▋      | 47/126 [00:01<00:01, 41.87it/s]"
          ]
        },
        {
          "output_type": "stream",
          "name": "stdout",
          "text": [
            " Chatroom || {'chatroom', 'deadend', 'the 10th kingdom'} ] == correct ||  {'Correct': 31, 'Wrong': 14}\n",
            "\n",
            "##  Chatroom\n",
            "\n",
            "++ [ Chatroom || {'nowhere', 'chatroom', 'deadend'} ] == correct ||  {'Correct': 32, 'Wrong': 14}\n",
            "\n",
            "##  Chatroom\n",
            "\n",
            "++ [ Chatroom || {'the warlord', 'tales of the night', 'chatroom'} ] == correct ||  {'Correct': 33, 'Wrong': 14}\n",
            "\n",
            "##  Deadend\n",
            "\n",
            "++ [ Deadend || {'the final', 'chatroom', 'deadend'} ] == correct ||  {'Correct': 34, 'Wrong': 14}\n",
            "\n",
            "##  Deadend\n",
            "\n",
            "++ [ Deadend || {'chatroom', 'the watcher in the woods', 'deadend'} ] == correct ||  {'Correct': 35, 'Wrong': 14}\n",
            "\n",
            "##  Deadend\n",
            "\n",
            "++ [ Deadend || {'the warlord', 'the watcher in the woods', 'deadend'} ] == correct ||  {'Correct': 36, 'Wrong': 14}\n",
            "\n",
            "##  Deadend\n",
            "\n",
            "++ [ Deadend || {'the final', 'chatroom', 'deadend'} ] == correct ||  {'Correct': 37, 'Wrong': 14}\n",
            "\n",
            "##  Deadend\n",
            "\n",
            "++ [ "
          ]
        },
        {
          "output_type": "stream",
          "name": "stderr",
          "text": [
            " 45%|████▌     | 57/126 [00:01<00:01, 40.77it/s]"
          ]
        },
        {
          "output_type": "stream",
          "name": "stdout",
          "text": [
            "Deadend || {'tales of the night', 'the final', 'deadend'} ] == correct ||  {'Correct': 38, 'Wrong': 14}\n",
            "\n",
            "##  Deadend\n",
            "\n",
            "++ [ Deadend || {'tales of the night', 'the dragon ring', 'deadend'} ] == correct ||  {'Correct': 39, 'Wrong': 14}\n",
            "\n",
            "##  Deadend\n",
            "\n",
            "++ [ Deadend || {'chatroom', 'the watcher in the woods', 'deadend'} ] == correct ||  {'Correct': 40, 'Wrong': 14}\n",
            "\n",
            "##  Deadend\n",
            "\n",
            "++ [ Deadend || {'the warlord', 'deadend', 'the 10th kingdom'} ] == correct ||  {'Correct': 41, 'Wrong': 14}\n",
            "\n",
            "##  Deadend\n",
            "\n",
            "++ [ Deadend || {'tales of the night', 'chatroom', 'deadend'} ] == correct ||  {'Correct': 42, 'Wrong': 14}\n",
            "\n",
            "##  Deadend\n",
            "\n",
            "++ [ Deadend || {'nowhere', 'chatroom', 'deadend'} ] == correct ||  {'Correct': 43, 'Wrong': 14}\n",
            "\n",
            "##  Deadend\n",
            "\n",
            "++ [ Deadend || {'tales of the night', 'the final', 'deadend'} ] == correct ||  {'Correct': 44, 'Wrong': 14}\n",
            "\n",
            "##  Deadend\n",
            "\n",
            "++ [ Deadend || {'the warlord', 'deadend', 'tales of the night'} ] == correct ||  {'Correct': 45, 'Wrong': 14}\n",
            "\n",
            "##  Deadend\n",
            "\n",
            "++ ["
          ]
        },
        {
          "output_type": "stream",
          "name": "stderr",
          "text": [
            " 53%|█████▎    | 67/126 [00:01<00:01, 40.52it/s]"
          ]
        },
        {
          "output_type": "stream",
          "name": "stdout",
          "text": [
            " Deadend || {'nowhere', 'chatroom', 'deadend'} ] == correct ||  {'Correct': 46, 'Wrong': 14}\n",
            "\n",
            "##  Deadend\n",
            "\n",
            "++ [ Deadend || {'the warlord', 'the final', 'deadend'} ] == correct ||  {'Correct': 47, 'Wrong': 14}\n",
            "\n",
            "##  Deadend\n",
            "\n",
            "++ [ Deadend || {'twisted', 'the final', 'deadend'} ] == correct ||  {'Correct': 48, 'Wrong': 14}\n",
            "\n",
            "##  Deadend\n",
            "\n",
            "++ [ Deadend || {'tales of the night', 'nowhere', 'deadend'} ] == correct ||  {'Correct': 49, 'Wrong': 14}\n",
            "\n",
            "##  The Warlord\n",
            "\n",
            "++ [ The Warlord || {'tales of the night', 'nowhere', 'deadend'} ] == wrong ||  {'Correct': 49, 'Wrong': 15}\n",
            "\n",
            "##  The Warlord\n",
            "\n",
            "++ [ The Warlord || {'the warlord', 'tales of the night', 'chatroom'} ] == correct ||  {'Correct': 50, 'Wrong': 15}\n",
            "\n",
            "##  The Warlord\n",
            "\n",
            "++ [ The Warlord || {'tales of the night', 'the watcher in the woods', 'twisted'} ] == wrong ||  {'Correct': 50, 'Wrong': 16}\n",
            "\n",
            "##  The Warlord\n",
            "\n",
            "++ [ The Warlord || {'tales of the night', 'the final', 'nowhere'} ] == wrong ||  {'Correct': 50, 'Wrong': 17}\n",
            "\n",
            "##  The Warlord\n",
            "\n",
            "++ ["
          ]
        },
        {
          "output_type": "stream",
          "name": "stderr",
          "text": [
            "\r 57%|█████▋    | 72/126 [00:01<00:01, 39.31it/s]"
          ]
        },
        {
          "output_type": "stream",
          "name": "stdout",
          "text": [
            " The Warlord || {'the warlord', 'tales of the night', 'chatroom'} ] == correct ||  {'Correct': 51, 'Wrong': 17}\n",
            "\n",
            "##  The Warlord\n",
            "\n",
            "++ [ The Warlord || {'the final', 'tales of the night', 'nowhere'} ] == wrong ||  {'Correct': 51, 'Wrong': 18}\n",
            "\n",
            "##  The Warlord\n",
            "\n",
            "++ [ The Warlord || {'the warlord', 'chatroom', 'nowhere'} ] == correct ||  {'Correct': 52, 'Wrong': 18}\n",
            "\n",
            "##  The Warlord\n",
            "\n",
            "++ [ The Warlord || {'the warlord', 'tales of the night', 'chatroom'} ] == correct ||  {'Correct': 53, 'Wrong': 18}\n",
            "\n",
            "##  The Warlord\n",
            "\n",
            "++ [ The Warlord || {'the warlord', 'chatroom', 'the watcher in the woods'} ] == correct ||  {'Correct': 54, 'Wrong': 18}\n",
            "\n",
            "##  The Warlord\n",
            "\n",
            "++ [ The Warlord || {'chatroom', 'the watcher in the woods', 'deadend'} ] == wrong ||  {'Correct': 54, 'Wrong': 19}\n",
            "\n",
            "##  The Warlord\n",
            "\n",
            "++ [ The Warlord || {'tales of the night', 'nowhere', 'chatroom'} ] == wrong ||  {'Correct': 54, 'Wrong': 20}\n",
            "\n",
            "##  The Warlord\n",
            "\n",
            "++ [ The Warlord || {'the warlord', 'tales of the night', 'the 10th kingdom'} ] == correct ||  {'Correct': 55, 'Wrong': 20}\n",
            "\n",
            "##  The Warlord\n"
          ]
        },
        {
          "output_type": "stream",
          "name": "stderr",
          "text": [
            " 63%|██████▎   | 80/126 [00:02<00:01, 38.11it/s]"
          ]
        },
        {
          "output_type": "stream",
          "name": "stdout",
          "text": [
            "\n",
            "++ [ The Warlord || {'the warlord', 'tales of the night', 'chatroom'} ] == correct ||  {'Correct': 56, 'Wrong': 20}\n",
            "\n",
            "##  The Warlord\n",
            "\n",
            "++ [ The Warlord || {'the warlord', 'chatroom', 'nowhere'} ] == correct ||  {'Correct': 57, 'Wrong': 20}\n",
            "\n",
            "##  The Warlord\n",
            "\n",
            "++ [ The Warlord || {'chatroom', 'the watcher in the woods', 'deadend'} ] == wrong ||  {'Correct': 57, 'Wrong': 21}\n",
            "\n",
            "##  The Warlord\n",
            "\n",
            "++ [ The Warlord || {'chatroom', 'the watcher in the woods', 'deadend'} ] == wrong ||  {'Correct': 57, 'Wrong': 22}\n",
            "\n",
            "##  The Final\n",
            "\n",
            "++ [ The Final || {'the final', 'tales of the night', 'chatroom'} ] == correct ||  {'Correct': 58, 'Wrong': 22}\n",
            "\n",
            "##  The Final\n",
            "\n",
            "++ [ The Final || {'the final', 'chatroom', 'nowhere'} ] == correct ||  {'Correct': 59, 'Wrong': 22}\n",
            "\n",
            "##  The Final\n",
            "\n",
            "++ [ The Final || {'the final', 'chatroom', 'twisted'} ] == correct ||  {'Correct': 60, 'Wrong': 22}\n",
            "\n",
            "##  The Final\n",
            "\n",
            "++ [ The Final || {'the warlord', 'tales of the night', 'the final'} ] == correct ||  {'Correct': 61, 'Wrong': 22}\n",
            "\n",
            "##  The Final\n"
          ]
        },
        {
          "output_type": "stream",
          "name": "stderr",
          "text": [
            " 70%|██████▉   | 88/126 [00:02<00:01, 37.60it/s]"
          ]
        },
        {
          "output_type": "stream",
          "name": "stdout",
          "text": [
            "\n",
            "++ [ The Final || {'the final', 'tales of the night', 'nowhere'} ] == correct ||  {'Correct': 62, 'Wrong': 22}\n",
            "\n",
            "##  The Final\n",
            "\n",
            "++ [ The Final || {'the final', 'tales of the night', 'nowhere'} ] == correct ||  {'Correct': 63, 'Wrong': 22}\n",
            "\n",
            "##  The Final\n",
            "\n",
            "++ [ The Final || {'the final', 'chatroom', 'nowhere'} ] == correct ||  {'Correct': 64, 'Wrong': 22}\n",
            "\n",
            "##  The Final\n",
            "\n",
            "++ [ The Final || {'chatroom', 'deadend', 'nowhere'} ] == wrong ||  {'Correct': 64, 'Wrong': 23}\n",
            "\n",
            "##  The Final\n",
            "\n",
            "++ [ The Final || {'the warlord', 'chatroom', 'the 10th kingdom'} ] == wrong ||  {'Correct': 64, 'Wrong': 24}\n",
            "\n",
            "##  The Final\n",
            "\n",
            "++ [ The Final || {'the final', 'deadend', 'nowhere'} ] == correct ||  {'Correct': 65, 'Wrong': 24}\n",
            "\n",
            "##  The Final\n",
            "\n",
            "++ [ The Final || {'the final', 'nowhere', 'deadend'} ] == correct ||  {'Correct': 66, 'Wrong': 24}\n",
            "\n",
            "##  The Final\n",
            "\n",
            "++ [ The Final || {'twisted', 'chatroom', 'deadend'} ] == wrong ||  {'Correct': 66, 'Wrong': 25}\n",
            "\n",
            "##  The Final\n"
          ]
        },
        {
          "output_type": "stream",
          "name": "stderr",
          "text": [
            " 77%|███████▋  | 97/126 [00:02<00:00, 39.20it/s]"
          ]
        },
        {
          "output_type": "stream",
          "name": "stdout",
          "text": [
            "\n",
            "++ [ The Final || {'tales of the night', 'chatroom', 'nowhere'} ] == wrong ||  {'Correct': 66, 'Wrong': 26}\n",
            "\n",
            "##  The Final\n",
            "\n",
            "++ [ The Final || {'nowhere', 'chatroom', 'deadend'} ] == wrong ||  {'Correct': 66, 'Wrong': 27}\n",
            "\n",
            "##  The Final\n",
            "\n",
            "++ [ The Final || {'the final', 'the watcher in the woods', 'deadend'} ] == correct ||  {'Correct': 67, 'Wrong': 27}\n",
            "\n",
            "##  The Final\n",
            "\n",
            "++ [ The Final || {'the final', 'chatroom', 'deadend'} ] == correct ||  {'Correct': 68, 'Wrong': 27}\n",
            "\n",
            "##  The Final\n",
            "\n",
            "++ [ The Final || {'the warlord', 'chatroom', 'deadend'} ] == wrong ||  {'Correct': 68, 'Wrong': 28}\n",
            "\n",
            "##  The Final\n",
            "\n",
            "++ [ The Final || {'tales of the night', 'chatroom', 'deadend'} ] == wrong ||  {'Correct': 68, 'Wrong': 29}\n",
            "\n",
            "##  The Final\n",
            "\n",
            "++ [ The Final || {'the warlord', 'nowhere', 'twisted'} ] == wrong ||  {'Correct': 68, 'Wrong': 30}\n",
            "\n",
            "##  The Watcher in the Woods\n",
            "\n",
            "++ [ The Watcher in the Woods || {'tales of the night', 'the watcher in the woods', 'deadend'} ] == correct ||  {'Correct': 69, 'Wrong': 30}\n",
            "\n",
            "##  The Watcher in the Woods\n",
            "\n",
            "++ [ The Watcher in the Woods || {'tales of the night', 'the final', 'deadend'} ] == wrong ||  {'Correct': 69, 'Wrong': 31}\n",
            "\n",
            "##  The Watcher in the Woods\n"
          ]
        },
        {
          "output_type": "stream",
          "name": "stderr",
          "text": [
            " 84%|████████▍ | 106/126 [00:02<00:00, 38.59it/s]"
          ]
        },
        {
          "output_type": "stream",
          "name": "stdout",
          "text": [
            "\n",
            "++ [ The Watcher in the Woods || {'the warlord', 'chatroom', 'the watcher in the woods'} ] == correct ||  {'Correct': 70, 'Wrong': 31}\n",
            "\n",
            "##  The Watcher in the Woods\n",
            "\n",
            "++ [ The Watcher in the Woods || {'twisted', 'the warlord', 'deadend'} ] == wrong ||  {'Correct': 70, 'Wrong': 32}\n",
            "\n",
            "##  The Watcher in the Woods\n",
            "\n",
            "++ [ The Watcher in the Woods || {'twisted', 'deadend', 'tales of the night'} ] == wrong ||  {'Correct': 70, 'Wrong': 33}\n",
            "\n",
            "##  The Watcher in the Woods\n",
            "\n",
            "++ [ The Watcher in the Woods || {'tales of the night', 'the watcher in the woods', 'deadend'} ] == correct ||  {'Correct': 71, 'Wrong': 33}\n",
            "\n",
            "##  The Watcher in the Woods\n",
            "\n",
            "++ [ The Watcher in the Woods || {'deadend', 'chatroom', 'twisted'} ] == wrong ||  {'Correct': 71, 'Wrong': 34}\n",
            "\n",
            "##  The Watcher in the Woods\n",
            "\n",
            "++ [ The Watcher in the Woods || {'the warlord', 'nowhere', 'the 10th kingdom'} ] == wrong ||  {'Correct': 71, 'Wrong': 35}\n",
            "\n",
            "##  The Watcher in the Woods\n",
            "\n",
            "++ [ The Watcher in the Woods || {'tales of the night', 'the dragon ring', 'deadend'} ] == wrong ||  {'Correct': 71, 'Wrong': 36}\n",
            "\n",
            "##  Nowhere\n",
            "\n",
            "++ [ Nowhere || {'the warlord', 'tales of the night', 'chatroom'} ] == wrong ||  {'Correct': 71, 'Wrong': 37}\n",
            "\n",
            "##  Nowhere\n"
          ]
        },
        {
          "output_type": "stream",
          "name": "stderr",
          "text": [
            " 91%|█████████▏| 115/126 [00:02<00:00, 39.00it/s]"
          ]
        },
        {
          "output_type": "stream",
          "name": "stdout",
          "text": [
            "\n",
            "++ [ Nowhere || {'the warlord', 'tales of the night', 'chatroom'} ] == wrong ||  {'Correct': 71, 'Wrong': 38}\n",
            "\n",
            "##  Nowhere\n",
            "\n",
            "++ [ Nowhere || {'tales of the night', 'nowhere', 'the watcher in the woods'} ] == correct ||  {'Correct': 72, 'Wrong': 38}\n",
            "\n",
            "##  Nowhere\n",
            "\n",
            "++ [ Nowhere || {'tales of the night', 'nowhere', 'the watcher in the woods'} ] == correct ||  {'Correct': 73, 'Wrong': 38}\n",
            "\n",
            "##  Chatroom\n",
            "\n",
            "++ [ Chatroom || {'the warlord', 'tales of the night', 'chatroom'} ] == correct ||  {'Correct': 74, 'Wrong': 38}\n",
            "\n",
            "##  Chatroom\n",
            "\n",
            "++ [ Chatroom || {'the warlord', 'deadend', 'the 10th kingdom'} ] == wrong ||  {'Correct': 74, 'Wrong': 39}\n",
            "\n",
            "##  Chatroom\n",
            "\n",
            "++ [ Chatroom || {'deadend', 'chatroom', 'twisted'} ] == correct ||  {'Correct': 75, 'Wrong': 39}\n",
            "\n",
            "##  Chatroom\n",
            "\n",
            "++ [ Chatroom || {'tales of the night', 'deadend', 'the 10th kingdom'} ] == wrong ||  {'Correct': 75, 'Wrong': 40}\n",
            "\n",
            "##  Chatroom\n",
            "\n",
            "++ [ Chatroom || {'tales of the night', 'deadend', 'the 10th kingdom'} ] == wrong ||  {'Correct': 75, 'Wrong': 41}\n",
            "\n",
            "##  Chatroom\n",
            "\n",
            "++ ["
          ]
        },
        {
          "output_type": "stream",
          "name": "stderr",
          "text": [
            " 99%|█████████▉| 125/126 [00:03<00:00, 40.14it/s]"
          ]
        },
        {
          "output_type": "stream",
          "name": "stdout",
          "text": [
            " Chatroom || {'tales of the night', 'deadend', 'the 10th kingdom'} ] == wrong ||  {'Correct': 75, 'Wrong': 42}\n",
            "\n",
            "##  Chatroom\n",
            "\n",
            "++ [ Chatroom || {'chatroom', 'deadend', 'the 10th kingdom'} ] == correct ||  {'Correct': 76, 'Wrong': 42}\n",
            "\n",
            "##  Chatroom\n",
            "\n",
            "++ [ Chatroom || {'chatroom', 'deadend', 'nowhere'} ] == correct ||  {'Correct': 77, 'Wrong': 42}\n",
            "\n",
            "##  Chatroom\n",
            "\n",
            "++ [ Chatroom || {'chatroom', 'deadend', 'nowhere'} ] == correct ||  {'Correct': 78, 'Wrong': 42}\n",
            "\n",
            "##  Chatroom\n",
            "\n",
            "++ [ Chatroom || {'nowhere', 'chatroom', 'deadend'} ] == correct ||  {'Correct': 79, 'Wrong': 42}\n",
            "\n",
            "##  Chatroom\n",
            "\n",
            "++ [ Chatroom || {'the warlord', 'tales of the night', 'chatroom'} ] == correct ||  {'Correct': 80, 'Wrong': 42}\n",
            "\n",
            "##  Chatroom\n",
            "\n",
            "++ [ Chatroom || {'the warlord', 'tales of the night', 'chatroom'} ] == correct ||  {'Correct': 81, 'Wrong': 42}\n",
            "\n",
            "##  Chatroom\n",
            "\n",
            "++ [ Chatroom || {'the warlord', 'tales of the night', 'chatroom'} ] == correct ||  {'Correct': 82, 'Wrong': 42}\n",
            "\n",
            "##  Chatroom\n",
            "\n",
            "++ [ Chatroom || {'the warlord', 'tales of the night', 'chatroom'} ] == correct ||  {'Correct': 83, 'Wrong': 42}\n",
            "\n",
            "##  Chatroom\n"
          ]
        },
        {
          "output_type": "stream",
          "name": "stderr",
          "text": [
            "\r100%|██████████| 126/126 [00:03<00:00, 39.39it/s]"
          ]
        },
        {
          "output_type": "stream",
          "name": "stdout",
          "text": [
            "\n",
            "++ [ Chatroom || {'the warlord', 'tales of the night', 'chatroom'} ] == correct ||  {'Correct': 84, 'Wrong': 42}\n"
          ]
        },
        {
          "output_type": "stream",
          "name": "stderr",
          "text": [
            "\n"
          ]
        }
      ]
    },
    {
      "cell_type": "code",
      "source": [
        "top3_predictions_bert"
      ],
      "metadata": {
        "colab": {
          "base_uri": "https://localhost:8080/"
        },
        "id": "9XAuB99Sj0R9",
        "outputId": "93bed0e5-7c1b-427d-d862-61cf26b845ed"
      },
      "execution_count": null,
      "outputs": [
        {
          "output_type": "execute_result",
          "data": {
            "text/plain": [
              "{'Correct': 84, 'Wrong': 42}"
            ]
          },
          "metadata": {},
          "execution_count": 25
        }
      ]
    },
    {
      "cell_type": "code",
      "source": [
        "top3_predictions_bert['Correct']/(top3_predictions_bert['Correct']+top3_predictions_bert['Wrong'])"
      ],
      "metadata": {
        "colab": {
          "base_uri": "https://localhost:8080/"
        },
        "id": "vKJP8Jyijzwo",
        "outputId": "c2e0dc97-9fe9-4bcb-ab72-3735722a304c"
      },
      "execution_count": null,
      "outputs": [
        {
          "output_type": "execute_result",
          "data": {
            "text/plain": [
              "0.6666666666666666"
            ]
          },
          "metadata": {},
          "execution_count": 26
        }
      ]
    },
    {
      "cell_type": "markdown",
      "source": [
        "## pip installs for bertscore"
      ],
      "metadata": {
        "id": "4xJNlOza2qpU"
      }
    },
    {
      "cell_type": "code",
      "source": [
        "!pip install evaluate"
      ],
      "metadata": {
        "colab": {
          "base_uri": "https://localhost:8080/"
        },
        "id": "WSXpVr4mJph_",
        "outputId": "ab59915f-211f-4b8a-b7ed-3d0c34b67c7c"
      },
      "execution_count": null,
      "outputs": [
        {
          "output_type": "stream",
          "name": "stdout",
          "text": [
            "Looking in indexes: https://pypi.org/simple, https://us-python.pkg.dev/colab-wheels/public/simple/\n",
            "Collecting evaluate\n",
            "  Downloading evaluate-0.3.0-py3-none-any.whl (72 kB)\n",
            "\u001b[K     |████████████████████████████████| 72 kB 1.2 MB/s \n",
            "\u001b[?25hRequirement already satisfied: fsspec[http]>=2021.05.0 in /usr/local/lib/python3.7/dist-packages (from evaluate) (2022.11.0)\n",
            "Requirement already satisfied: requests>=2.19.0 in /usr/local/lib/python3.7/dist-packages (from evaluate) (2.23.0)\n",
            "Requirement already satisfied: tqdm>=4.62.1 in /usr/local/lib/python3.7/dist-packages (from evaluate) (4.64.1)\n",
            "Collecting multiprocess\n",
            "  Downloading multiprocess-0.70.14-py37-none-any.whl (115 kB)\n",
            "\u001b[K     |████████████████████████████████| 115 kB 64.8 MB/s \n",
            "\u001b[?25hRequirement already satisfied: dill in /usr/local/lib/python3.7/dist-packages (from evaluate) (0.3.6)\n",
            "Collecting huggingface-hub>=0.7.0\n",
            "  Downloading huggingface_hub-0.11.1-py3-none-any.whl (182 kB)\n",
            "\u001b[K     |████████████████████████████████| 182 kB 69.8 MB/s \n",
            "\u001b[?25hRequirement already satisfied: importlib-metadata in /usr/local/lib/python3.7/dist-packages (from evaluate) (4.13.0)\n",
            "Requirement already satisfied: packaging in /usr/local/lib/python3.7/dist-packages (from evaluate) (21.3)\n",
            "Collecting datasets>=2.0.0\n",
            "  Downloading datasets-2.7.1-py3-none-any.whl (451 kB)\n",
            "\u001b[K     |████████████████████████████████| 451 kB 61.9 MB/s \n",
            "\u001b[?25hCollecting responses<0.19\n",
            "  Downloading responses-0.18.0-py3-none-any.whl (38 kB)\n",
            "Requirement already satisfied: numpy>=1.17 in /usr/local/lib/python3.7/dist-packages (from evaluate) (1.21.6)\n",
            "Collecting xxhash\n",
            "  Downloading xxhash-3.1.0-cp37-cp37m-manylinux_2_17_x86_64.manylinux2014_x86_64.whl (212 kB)\n",
            "\u001b[K     |████████████████████████████████| 212 kB 70.7 MB/s \n",
            "\u001b[?25hRequirement already satisfied: pandas in /usr/local/lib/python3.7/dist-packages (from evaluate) (1.3.5)\n",
            "Requirement already satisfied: aiohttp in /usr/local/lib/python3.7/dist-packages (from datasets>=2.0.0->evaluate) (3.8.3)\n",
            "Requirement already satisfied: pyyaml>=5.1 in /usr/local/lib/python3.7/dist-packages (from datasets>=2.0.0->evaluate) (6.0)\n",
            "Requirement already satisfied: pyarrow>=6.0.0 in /usr/local/lib/python3.7/dist-packages (from datasets>=2.0.0->evaluate) (9.0.0)\n",
            "Requirement already satisfied: multidict<7.0,>=4.5 in /usr/local/lib/python3.7/dist-packages (from aiohttp->datasets>=2.0.0->evaluate) (6.0.2)\n",
            "Requirement already satisfied: frozenlist>=1.1.1 in /usr/local/lib/python3.7/dist-packages (from aiohttp->datasets>=2.0.0->evaluate) (1.3.3)\n",
            "Requirement already satisfied: aiosignal>=1.1.2 in /usr/local/lib/python3.7/dist-packages (from aiohttp->datasets>=2.0.0->evaluate) (1.3.1)\n",
            "Requirement already satisfied: asynctest==0.13.0 in /usr/local/lib/python3.7/dist-packages (from aiohttp->datasets>=2.0.0->evaluate) (0.13.0)\n",
            "Requirement already satisfied: async-timeout<5.0,>=4.0.0a3 in /usr/local/lib/python3.7/dist-packages (from aiohttp->datasets>=2.0.0->evaluate) (4.0.2)\n",
            "Requirement already satisfied: yarl<2.0,>=1.0 in /usr/local/lib/python3.7/dist-packages (from aiohttp->datasets>=2.0.0->evaluate) (1.8.1)\n",
            "Requirement already satisfied: charset-normalizer<3.0,>=2.0 in /usr/local/lib/python3.7/dist-packages (from aiohttp->datasets>=2.0.0->evaluate) (2.1.1)\n",
            "Requirement already satisfied: typing-extensions>=3.7.4 in /usr/local/lib/python3.7/dist-packages (from aiohttp->datasets>=2.0.0->evaluate) (4.1.1)\n",
            "Requirement already satisfied: attrs>=17.3.0 in /usr/local/lib/python3.7/dist-packages (from aiohttp->datasets>=2.0.0->evaluate) (22.1.0)\n",
            "Requirement already satisfied: filelock in /usr/local/lib/python3.7/dist-packages (from huggingface-hub>=0.7.0->evaluate) (3.8.0)\n",
            "Requirement already satisfied: pyparsing!=3.0.5,>=2.0.2 in /usr/local/lib/python3.7/dist-packages (from packaging->evaluate) (3.0.9)\n",
            "Requirement already satisfied: urllib3!=1.25.0,!=1.25.1,<1.26,>=1.21.1 in /usr/local/lib/python3.7/dist-packages (from requests>=2.19.0->evaluate) (1.24.3)\n",
            "Requirement already satisfied: chardet<4,>=3.0.2 in /usr/local/lib/python3.7/dist-packages (from requests>=2.19.0->evaluate) (3.0.4)\n",
            "Requirement already satisfied: certifi>=2017.4.17 in /usr/local/lib/python3.7/dist-packages (from requests>=2.19.0->evaluate) (2022.9.24)\n",
            "Requirement already satisfied: idna<3,>=2.5 in /usr/local/lib/python3.7/dist-packages (from requests>=2.19.0->evaluate) (2.10)\n",
            "Collecting urllib3!=1.25.0,!=1.25.1,<1.26,>=1.21.1\n",
            "  Downloading urllib3-1.25.11-py2.py3-none-any.whl (127 kB)\n",
            "\u001b[K     |████████████████████████████████| 127 kB 71.4 MB/s \n",
            "\u001b[?25hRequirement already satisfied: zipp>=0.5 in /usr/local/lib/python3.7/dist-packages (from importlib-metadata->evaluate) (3.10.0)\n",
            "Requirement already satisfied: pytz>=2017.3 in /usr/local/lib/python3.7/dist-packages (from pandas->evaluate) (2022.6)\n",
            "Requirement already satisfied: python-dateutil>=2.7.3 in /usr/local/lib/python3.7/dist-packages (from pandas->evaluate) (2.8.2)\n",
            "Requirement already satisfied: six>=1.5 in /usr/local/lib/python3.7/dist-packages (from python-dateutil>=2.7.3->pandas->evaluate) (1.15.0)\n",
            "Installing collected packages: urllib3, xxhash, responses, multiprocess, huggingface-hub, datasets, evaluate\n",
            "  Attempting uninstall: urllib3\n",
            "    Found existing installation: urllib3 1.24.3\n",
            "    Uninstalling urllib3-1.24.3:\n",
            "      Successfully uninstalled urllib3-1.24.3\n",
            "Successfully installed datasets-2.7.1 evaluate-0.3.0 huggingface-hub-0.11.1 multiprocess-0.70.14 responses-0.18.0 urllib3-1.25.11 xxhash-3.1.0\n"
          ]
        }
      ]
    },
    {
      "cell_type": "code",
      "source": [
        "!pip install bert_score"
      ],
      "metadata": {
        "colab": {
          "base_uri": "https://localhost:8080/"
        },
        "id": "A1tSxDzNMdPc",
        "outputId": "909f2899-6942-4bee-e5ad-cfefd67b7e40"
      },
      "execution_count": null,
      "outputs": [
        {
          "output_type": "stream",
          "name": "stdout",
          "text": [
            "Looking in indexes: https://pypi.org/simple, https://us-python.pkg.dev/colab-wheels/public/simple/\n",
            "Collecting bert_score\n",
            "  Downloading bert_score-0.3.12-py3-none-any.whl (60 kB)\n",
            "\u001b[K     |████████████████████████████████| 60 kB 9.0 MB/s \n",
            "\u001b[?25hRequirement already satisfied: requests in /usr/local/lib/python3.7/dist-packages (from bert_score) (2.23.0)\n",
            "Requirement already satisfied: packaging>=20.9 in /usr/local/lib/python3.7/dist-packages (from bert_score) (21.3)\n",
            "Requirement already satisfied: torch>=1.0.0 in /usr/local/lib/python3.7/dist-packages (from bert_score) (1.12.1+cu113)\n",
            "Collecting transformers>=3.0.0\n",
            "  Downloading transformers-4.24.0-py3-none-any.whl (5.5 MB)\n",
            "\u001b[K     |████████████████████████████████| 5.5 MB 52.3 MB/s \n",
            "\u001b[?25hRequirement already satisfied: numpy in /usr/local/lib/python3.7/dist-packages (from bert_score) (1.21.6)\n",
            "Requirement already satisfied: pandas>=1.0.1 in /usr/local/lib/python3.7/dist-packages (from bert_score) (1.3.5)\n",
            "Requirement already satisfied: matplotlib in /usr/local/lib/python3.7/dist-packages (from bert_score) (3.2.2)\n",
            "Requirement already satisfied: tqdm>=4.31.1 in /usr/local/lib/python3.7/dist-packages (from bert_score) (4.64.1)\n",
            "Requirement already satisfied: pyparsing!=3.0.5,>=2.0.2 in /usr/local/lib/python3.7/dist-packages (from packaging>=20.9->bert_score) (3.0.9)\n",
            "Requirement already satisfied: pytz>=2017.3 in /usr/local/lib/python3.7/dist-packages (from pandas>=1.0.1->bert_score) (2022.6)\n",
            "Requirement already satisfied: python-dateutil>=2.7.3 in /usr/local/lib/python3.7/dist-packages (from pandas>=1.0.1->bert_score) (2.8.2)\n",
            "Requirement already satisfied: six>=1.5 in /usr/local/lib/python3.7/dist-packages (from python-dateutil>=2.7.3->pandas>=1.0.1->bert_score) (1.15.0)\n",
            "Requirement already satisfied: typing-extensions in /usr/local/lib/python3.7/dist-packages (from torch>=1.0.0->bert_score) (4.1.1)\n",
            "Requirement already satisfied: importlib-metadata in /usr/local/lib/python3.7/dist-packages (from transformers>=3.0.0->bert_score) (4.13.0)\n",
            "Requirement already satisfied: huggingface-hub<1.0,>=0.10.0 in /usr/local/lib/python3.7/dist-packages (from transformers>=3.0.0->bert_score) (0.11.1)\n",
            "Requirement already satisfied: regex!=2019.12.17 in /usr/local/lib/python3.7/dist-packages (from transformers>=3.0.0->bert_score) (2022.6.2)\n",
            "Collecting tokenizers!=0.11.3,<0.14,>=0.11.1\n",
            "  Downloading tokenizers-0.13.2-cp37-cp37m-manylinux_2_17_x86_64.manylinux2014_x86_64.whl (7.6 MB)\n",
            "\u001b[K     |████████████████████████████████| 7.6 MB 57.4 MB/s \n",
            "\u001b[?25hRequirement already satisfied: pyyaml>=5.1 in /usr/local/lib/python3.7/dist-packages (from transformers>=3.0.0->bert_score) (6.0)\n",
            "Requirement already satisfied: filelock in /usr/local/lib/python3.7/dist-packages (from transformers>=3.0.0->bert_score) (3.8.0)\n",
            "Requirement already satisfied: zipp>=0.5 in /usr/local/lib/python3.7/dist-packages (from importlib-metadata->transformers>=3.0.0->bert_score) (3.10.0)\n",
            "Requirement already satisfied: cycler>=0.10 in /usr/local/lib/python3.7/dist-packages (from matplotlib->bert_score) (0.11.0)\n",
            "Requirement already satisfied: kiwisolver>=1.0.1 in /usr/local/lib/python3.7/dist-packages (from matplotlib->bert_score) (1.4.4)\n",
            "Requirement already satisfied: urllib3!=1.25.0,!=1.25.1,<1.26,>=1.21.1 in /usr/local/lib/python3.7/dist-packages (from requests->bert_score) (1.25.11)\n",
            "Requirement already satisfied: idna<3,>=2.5 in /usr/local/lib/python3.7/dist-packages (from requests->bert_score) (2.10)\n",
            "Requirement already satisfied: chardet<4,>=3.0.2 in /usr/local/lib/python3.7/dist-packages (from requests->bert_score) (3.0.4)\n",
            "Requirement already satisfied: certifi>=2017.4.17 in /usr/local/lib/python3.7/dist-packages (from requests->bert_score) (2022.9.24)\n",
            "Installing collected packages: tokenizers, transformers, bert-score\n",
            "Successfully installed bert-score-0.3.12 tokenizers-0.13.2 transformers-4.24.0\n"
          ]
        }
      ]
    },
    {
      "cell_type": "code",
      "source": [
        "from evaluate import load\n",
        "bertscore = load(\"bertscore\")\n",
        "predictions = [\"hello world\", \"general kenobi\"]\n",
        "references = [\"goodnight moon\"]*len(predictions) #, \"the sun is shining\"]\n",
        "results = bertscore.compute(predictions=predictions, references=references, model_type=\"distilbert-base-uncased\")\n",
        "print(results)"
      ],
      "metadata": {
        "colab": {
          "base_uri": "https://localhost:8080/",
          "height": 215,
          "referenced_widgets": [
            "92c7bd69d1204fda9ee9ab674f58a4c9",
            "9c3f4c2439a5403e878a7b359885eb7e",
            "76baf1b9bed9413882e3154204fe09df",
            "2ec4bcec89af4b87a780ba04e524d81e",
            "c8f8db8306404683b30eb10820c1233d",
            "3fb4604253774a1ea7f4784816b0a3fa",
            "8d18fc93d49443949f8f4d856fe07416",
            "5ab00ab5d6c34998a31845462c6c119c",
            "c8ecbd78e27d41dd9f279ef2f58f5597",
            "b60f472b90234fafa8640082eda0286b",
            "4c09f8eaeadd44018460bd30ccb71922",
            "60d3246fcf9a429789e04a617e3a31df",
            "6e2aa6908f804f6cac775350552798f8",
            "628eb240a97247f1be048e8f65702365",
            "1af924b870f64481a967d61e8852160e",
            "15375a2e9aec45caa508cd017d22629b",
            "36af41c0a57c46c0aa77b464fc37aae5",
            "8aca06f878a64ac7aec8abd82406ec9e",
            "fb870f3d61294707a40e29367e6e9f1a",
            "41315539b1204495a29cca9eb381a912",
            "68e9e2ad53ea4b67b0781ca29b9d9e7e",
            "939a91ff57414a3c95cdfa8cd21b428a",
            "a6eb63c5127d4217a7177eab6160c64d",
            "6a7e883247f847d4a1400ac4903d125a",
            "e06c17ed732a4ff6a144b0b722bdd7de",
            "31f306c4a6c4407cb0b5c2b4f33db53b",
            "5fcae2533ae84bdc85d721b55e3eb7d3",
            "174bcf2352cc4ffaab4b40ec3fc0ab28",
            "a8c358409e964221b32f2655a512c09e",
            "c657f49823a44a9e9c18bc3dcb305ee5",
            "9399f4f6d850412ea0be634d4431d25b",
            "f21433f21f2d4f9e83b513cee9ba37c9",
            "b0190b8805034e69a27d927aa628936c",
            "146ac7edb5ac44eca2d70d5a15728229",
            "e095623ac87f40709a0e6a3ce9869838",
            "24c7ea1e385b4189bf43526e0c396bec",
            "9fddbbb15e95452dbf6f32256b331e45",
            "1bfcbf44c6e2415b959d8fe343e48017",
            "4d47917c4f064a548cbee3e4402bbb3c",
            "79e067dd5c6f4617aadf9cdcd51d9e07",
            "47e910f21fc841fe82aeb623230aef32",
            "7f8cb38bd898449f9be5971643ff436b",
            "9bc3356aa94f40c6983c5bec04066c5c",
            "980a50620c7a48bf84e394234d97d56a",
            "1dcf6b7744d24c0aa1cde8467720d8d3",
            "d3129da715e84be7aa9516a4a487ff44",
            "25cec24a0c774ff09f03985a5d3cc8d4",
            "873f9317f91c4eca90f6de85cb8df334",
            "26ac9f5c2d654a45a45337e1da1a35c1",
            "1846aa3de68246eca4be31092f9c5d9c",
            "d7572e616a704f0d9eb02cc4ab186572",
            "a128d6e3b994427583d24e2b5f1e125e",
            "63fcaceac3894a778e3e969587bb7aa0",
            "9adcbeb2cf5c45d9b104c2810ce9dc70",
            "f27a3a42575645ce82ef91cac82e00f4"
          ]
        },
        "id": "ovrM_c9LMEBF",
        "outputId": "3199b6a0-e354-4198-d809-239699ffe9ff"
      },
      "execution_count": null,
      "outputs": [
        {
          "output_type": "display_data",
          "data": {
            "text/plain": [
              "Downloading builder script:   0%|          | 0.00/7.95k [00:00<?, ?B/s]"
            ],
            "application/vnd.jupyter.widget-view+json": {
              "version_major": 2,
              "version_minor": 0,
              "model_id": "92c7bd69d1204fda9ee9ab674f58a4c9"
            }
          },
          "metadata": {}
        },
        {
          "output_type": "display_data",
          "data": {
            "text/plain": [
              "Downloading:   0%|          | 0.00/28.0 [00:00<?, ?B/s]"
            ],
            "application/vnd.jupyter.widget-view+json": {
              "version_major": 2,
              "version_minor": 0,
              "model_id": "60d3246fcf9a429789e04a617e3a31df"
            }
          },
          "metadata": {}
        },
        {
          "output_type": "display_data",
          "data": {
            "text/plain": [
              "Downloading:   0%|          | 0.00/483 [00:00<?, ?B/s]"
            ],
            "application/vnd.jupyter.widget-view+json": {
              "version_major": 2,
              "version_minor": 0,
              "model_id": "a6eb63c5127d4217a7177eab6160c64d"
            }
          },
          "metadata": {}
        },
        {
          "output_type": "display_data",
          "data": {
            "text/plain": [
              "Downloading:   0%|          | 0.00/232k [00:00<?, ?B/s]"
            ],
            "application/vnd.jupyter.widget-view+json": {
              "version_major": 2,
              "version_minor": 0,
              "model_id": "146ac7edb5ac44eca2d70d5a15728229"
            }
          },
          "metadata": {}
        },
        {
          "output_type": "display_data",
          "data": {
            "text/plain": [
              "Downloading:   0%|          | 0.00/268M [00:00<?, ?B/s]"
            ],
            "application/vnd.jupyter.widget-view+json": {
              "version_major": 2,
              "version_minor": 0,
              "model_id": "1dcf6b7744d24c0aa1cde8467720d8d3"
            }
          },
          "metadata": {}
        },
        {
          "output_type": "stream",
          "name": "stdout",
          "text": [
            "{'precision': [0.789967954158783, 0.5812705755233765], 'recall': [0.789967954158783, 0.6331430077552795], 'f1': [0.789967954158783, 0.6060988903045654], 'hashcode': 'distilbert-base-uncased_L5_no-idf_version=0.3.12(hug_trans=4.24.0)'}\n"
          ]
        }
      ]
    },
    {
      "cell_type": "code",
      "source": [
        "results['f1'][0]"
      ],
      "metadata": {
        "colab": {
          "base_uri": "https://localhost:8080/"
        },
        "id": "iajcH6JGN5Hs",
        "outputId": "ab9403f1-3a7f-4a3f-a9f8-8164e8ffc435"
      },
      "execution_count": null,
      "outputs": [
        {
          "output_type": "execute_result",
          "data": {
            "text/plain": [
              "0.789967954158783"
            ]
          },
          "metadata": {},
          "execution_count": 9
        }
      ]
    },
    {
      "cell_type": "code",
      "source": [],
      "metadata": {
        "id": "akiRW3-FmQWR"
      },
      "execution_count": null,
      "outputs": []
    },
    {
      "cell_type": "markdown",
      "source": [
        "## bertscore\n",
        "ref: https://huggingface.co/spaces/evaluate-metric/bertscore"
      ],
      "metadata": {
        "id": "s6ujSPzpjNcn"
      }
    },
    {
      "cell_type": "code",
      "source": [
        "#top-1  accuracy count\n",
        "def bertscore_prediction_top1(testset, dataset):\n",
        "  answer = {\"Correct\": 0, \"Wrong\": 0}\n",
        "  for i in tqdm.tqdm(range(testset.shape[0])): # embeddings of each test query\n",
        "    query, actual_movie = testset['Query'][i], testset['Movie'][i]\n",
        "    print(\"\\n## \", query, actual_movie)\n",
        "    maximum = -np.inf\n",
        "    predicted_movie = \"\"\n",
        "    for movie, plots in zip(dataset['Movies'], dataset['Plots']):\n",
        "      print(\"\\t\\t\\t\\t\\t\\t\\t\\t\", movie)\n",
        "      for scene in plots:\n",
        "        output = bertscore.compute(predictions=[scene], references=[query], model_type=\"distilbert-base-uncased\") #can eliminate one for loop here and pass all scenes directly\n",
        "        output = float(output['f1'][0])\n",
        "        if output>maximum:\n",
        "          maximum = output\n",
        "          predicted_movie = movie\n",
        "    print(\"\\n++ [\", actual_movie, \"||\", predicted_movie, \"]\", end=\" == \")\n",
        "    if actual_movie.lower().strip()==predicted_movie.lower().strip():\n",
        "      answer['Correct'] += 1\n",
        "      print(\"correct || \", answer)\n",
        "    else:\n",
        "      answer['Wrong'] += 1\n",
        "      print(\"wrong || \", answer)\n",
        "    \n",
        "    \n",
        "  return answer\n",
        "\n",
        "top1_predictions = bertscore_prediction_top1(testset, dataset)\n"
      ],
      "metadata": {
        "colab": {
          "base_uri": "https://localhost:8080/"
        },
        "id": "GDqcNQSRkylJ",
        "outputId": "b7968889-323e-4cec-cd00-ded3acacb1b6"
      },
      "execution_count": null,
      "outputs": [
        {
          "output_type": "stream",
          "name": "stderr",
          "text": [
            "\r  0%|          | 0/126 [00:00<?, ?it/s]"
          ]
        },
        {
          "output_type": "stream",
          "name": "stdout",
          "text": [
            "\n",
            "##  Teenagers were wandering around some deserted areas with lots of graffitis and deserted buildings, in one of which there was a club (?) Nowhere\n",
            "\t\t\t\t\t\t\t\t Twisted\n",
            "\t\t\t\t\t\t\t\t Chatroom\n",
            "\t\t\t\t\t\t\t\t The 10th Kingdom\n",
            "\t\t\t\t\t\t\t\t The Dragon Ring\n",
            "\t\t\t\t\t\t\t\t Nowhere\n",
            "\t\t\t\t\t\t\t\t Deadend\n",
            "\t\t\t\t\t\t\t\t The Warlord\n",
            "\t\t\t\t\t\t\t\t The Final\n",
            "\t\t\t\t\t\t\t\t Tales of the Night\n",
            "\t\t\t\t\t\t\t\t The Watcher in the Woods\n"
          ]
        },
        {
          "output_type": "stream",
          "name": "stderr",
          "text": [
            "\r  1%|          | 1/126 [00:05<12:09,  5.84s/it]"
          ]
        },
        {
          "output_type": "stream",
          "name": "stdout",
          "text": [
            "\n",
            "++ [ Nowhere || Tales of the Night ] == wrong ||  {'Correct': 0, 'Wrong': 1}\n",
            "\n",
            "##  one of the characters younger brother (also teenager) with his girlfriend drove a red cadillack to some hill during the night on one of their dates, I remember they were really fucked up psychos (can’t remember why, maybe they killed someone) 6. Nowhere\n",
            "\t\t\t\t\t\t\t\t Twisted\n",
            "\t\t\t\t\t\t\t\t Chatroom\n",
            "\t\t\t\t\t\t\t\t The 10th Kingdom\n",
            "\t\t\t\t\t\t\t\t The Dragon Ring\n",
            "\t\t\t\t\t\t\t\t Nowhere\n",
            "\t\t\t\t\t\t\t\t Deadend\n",
            "\t\t\t\t\t\t\t\t The Warlord\n",
            "\t\t\t\t\t\t\t\t The Final\n",
            "\t\t\t\t\t\t\t\t Tales of the Night\n",
            "\t\t\t\t\t\t\t\t The Watcher in the Woods\n"
          ]
        },
        {
          "output_type": "stream",
          "name": "stderr",
          "text": [
            "\r  2%|▏         | 2/126 [00:10<11:00,  5.32s/it]"
          ]
        },
        {
          "output_type": "stream",
          "name": "stdout",
          "text": [
            "\n",
            "++ [ Nowhere || Tales of the Night ] == wrong ||  {'Correct': 0, 'Wrong': 2}\n",
            "\n",
            "##  one night the teenagers took the new kid to a party with them (or somewhere else, I remember it was an event witch bunch of people), it was in someplace that looked like a magasine or something, and suddenly the new kid turned into a giant lizard please help me out, I hope someone has seen it ? Nowhere\n",
            "\t\t\t\t\t\t\t\t Twisted\n",
            "\t\t\t\t\t\t\t\t Chatroom\n",
            "\t\t\t\t\t\t\t\t The 10th Kingdom\n",
            "\t\t\t\t\t\t\t\t The Dragon Ring\n",
            "\t\t\t\t\t\t\t\t Nowhere\n",
            "\t\t\t\t\t\t\t\t Deadend\n",
            "\t\t\t\t\t\t\t\t The Warlord\n",
            "\t\t\t\t\t\t\t\t The Final\n",
            "\t\t\t\t\t\t\t\t Tales of the Night\n",
            "\t\t\t\t\t\t\t\t The Watcher in the Woods\n"
          ]
        },
        {
          "output_type": "stream",
          "name": "stderr",
          "text": [
            "\r  2%|▏         | 3/126 [00:15<10:41,  5.21s/it]"
          ]
        },
        {
          "output_type": "stream",
          "name": "stdout",
          "text": [
            "\n",
            "++ [ Nowhere || Tales of the Night ] == wrong ||  {'Correct': 0, 'Wrong': 3}\n",
            "\n",
            "##  Someone turns into a giant lizard or some kind of alien and climbs out the window. Nowhere\n",
            "\t\t\t\t\t\t\t\t Twisted\n",
            "\t\t\t\t\t\t\t\t Chatroom\n",
            "\t\t\t\t\t\t\t\t The 10th Kingdom\n",
            "\t\t\t\t\t\t\t\t The Dragon Ring\n",
            "\t\t\t\t\t\t\t\t Nowhere\n",
            "\t\t\t\t\t\t\t\t Deadend\n",
            "\t\t\t\t\t\t\t\t The Warlord\n",
            "\t\t\t\t\t\t\t\t The Final\n",
            "\t\t\t\t\t\t\t\t Tales of the Night\n",
            "\t\t\t\t\t\t\t\t The Watcher in the Woods\n"
          ]
        },
        {
          "output_type": "stream",
          "name": "stderr",
          "text": [
            "\r  3%|▎         | 4/126 [00:20<10:29,  5.16s/it]"
          ]
        },
        {
          "output_type": "stream",
          "name": "stdout",
          "text": [
            "\n",
            "++ [ Nowhere || Tales of the Night ] == wrong ||  {'Correct': 0, 'Wrong': 4}\n",
            "\n",
            "##  The girl is taking shelter in that tree and when she wakes up she finds her hair has grown like crazy, like Rapunzel. The 10th Kingdom\n",
            "\t\t\t\t\t\t\t\t Twisted\n",
            "\t\t\t\t\t\t\t\t Chatroom\n",
            "\t\t\t\t\t\t\t\t The 10th Kingdom\n",
            "\t\t\t\t\t\t\t\t The Dragon Ring\n",
            "\t\t\t\t\t\t\t\t Nowhere\n",
            "\t\t\t\t\t\t\t\t Deadend\n",
            "\t\t\t\t\t\t\t\t The Warlord\n",
            "\t\t\t\t\t\t\t\t The Final\n",
            "\t\t\t\t\t\t\t\t Tales of the Night\n",
            "\t\t\t\t\t\t\t\t The Watcher in the Woods\n"
          ]
        },
        {
          "output_type": "stream",
          "name": "stderr",
          "text": [
            "\r  4%|▍         | 5/126 [00:25<10:09,  5.03s/it]"
          ]
        },
        {
          "output_type": "stream",
          "name": "stdout",
          "text": [
            "\n",
            "++ [ The 10th Kingdom || The Final ] == wrong ||  {'Correct': 0, 'Wrong': 5}\n",
            "\n",
            "##  The final scene I remember is some sheep race. The 10th Kingdom\n",
            "\t\t\t\t\t\t\t\t Twisted\n",
            "\t\t\t\t\t\t\t\t Chatroom\n",
            "\t\t\t\t\t\t\t\t The 10th Kingdom\n",
            "\t\t\t\t\t\t\t\t The Dragon Ring\n",
            "\t\t\t\t\t\t\t\t Nowhere\n",
            "\t\t\t\t\t\t\t\t Deadend\n",
            "\t\t\t\t\t\t\t\t The Warlord\n",
            "\t\t\t\t\t\t\t\t The Final\n",
            "\t\t\t\t\t\t\t\t Tales of the Night\n",
            "\t\t\t\t\t\t\t\t The Watcher in the Woods\n"
          ]
        },
        {
          "output_type": "stream",
          "name": "stderr",
          "text": [
            "\r  5%|▍         | 6/126 [00:30<09:45,  4.88s/it]"
          ]
        },
        {
          "output_type": "stream",
          "name": "stdout",
          "text": [
            "\n",
            "++ [ The 10th Kingdom || The Final ] == wrong ||  {'Correct': 0, 'Wrong': 6}\n",
            "\n",
            "##  They end up at some weird village which celebrates sheep, they literally dress the sheep and have a parade. The 10th Kingdom\n",
            "\t\t\t\t\t\t\t\t Twisted\n",
            "\t\t\t\t\t\t\t\t Chatroom\n",
            "\t\t\t\t\t\t\t\t The 10th Kingdom\n",
            "\t\t\t\t\t\t\t\t The Dragon Ring\n",
            "\t\t\t\t\t\t\t\t Nowhere\n",
            "\t\t\t\t\t\t\t\t Deadend\n",
            "\t\t\t\t\t\t\t\t The Warlord\n",
            "\t\t\t\t\t\t\t\t The Final\n",
            "\t\t\t\t\t\t\t\t Tales of the Night\n",
            "\t\t\t\t\t\t\t\t The Watcher in the Woods\n"
          ]
        },
        {
          "output_type": "stream",
          "name": "stderr",
          "text": [
            "\r  6%|▌         | 7/126 [00:35<09:46,  4.93s/it]"
          ]
        },
        {
          "output_type": "stream",
          "name": "stdout",
          "text": [
            "\n",
            "++ [ The 10th Kingdom || The Final ] == wrong ||  {'Correct': 0, 'Wrong': 7}\n",
            "\n",
            "##  The main character is an ordinary girl/woman I guess who somehow ends up in some world sort of like the “once upon a time” series. The 10th Kingdom\n",
            "\t\t\t\t\t\t\t\t Twisted\n",
            "\t\t\t\t\t\t\t\t Chatroom\n",
            "\t\t\t\t\t\t\t\t The 10th Kingdom\n",
            "\t\t\t\t\t\t\t\t The Dragon Ring\n",
            "\t\t\t\t\t\t\t\t Nowhere\n",
            "\t\t\t\t\t\t\t\t Deadend\n",
            "\t\t\t\t\t\t\t\t The Warlord\n",
            "\t\t\t\t\t\t\t\t The Final\n",
            "\t\t\t\t\t\t\t\t Tales of the Night\n",
            "\t\t\t\t\t\t\t\t The Watcher in the Woods\n"
          ]
        },
        {
          "output_type": "stream",
          "name": "stderr",
          "text": [
            "\r  6%|▋         | 8/126 [00:42<10:46,  5.48s/it]"
          ]
        },
        {
          "output_type": "stream",
          "name": "stdout",
          "text": [
            "\n",
            "++ [ The 10th Kingdom || The 10th Kingdom ] == correct ||  {'Correct': 1, 'Wrong': 7}\n",
            "\n",
            "##  Soon after this girls hair gets ridiculously long, like past her feet. The 10th Kingdom\n",
            "\t\t\t\t\t\t\t\t Twisted\n",
            "\t\t\t\t\t\t\t\t Chatroom\n",
            "\t\t\t\t\t\t\t\t The 10th Kingdom\n",
            "\t\t\t\t\t\t\t\t The Dragon Ring\n",
            "\t\t\t\t\t\t\t\t Nowhere\n",
            "\t\t\t\t\t\t\t\t Deadend\n",
            "\t\t\t\t\t\t\t\t The Warlord\n",
            "\t\t\t\t\t\t\t\t The Final\n",
            "\t\t\t\t\t\t\t\t Tales of the Night\n",
            "\t\t\t\t\t\t\t\t The Watcher in the Woods\n"
          ]
        },
        {
          "output_type": "stream",
          "name": "stderr",
          "text": [
            "\r  7%|▋         | 9/126 [00:47<10:49,  5.55s/it]"
          ]
        },
        {
          "output_type": "stream",
          "name": "stdout",
          "text": [
            "\n",
            "++ [ The 10th Kingdom || Deadend ] == wrong ||  {'Correct': 1, 'Wrong': 8}\n",
            "\n",
            "##  I think she is traveling with a young man and they fall in love. The 10th Kingdom\n",
            "\t\t\t\t\t\t\t\t Twisted\n",
            "\t\t\t\t\t\t\t\t Chatroom\n",
            "\t\t\t\t\t\t\t\t The 10th Kingdom\n",
            "\t\t\t\t\t\t\t\t The Dragon Ring\n",
            "\t\t\t\t\t\t\t\t Nowhere\n",
            "\t\t\t\t\t\t\t\t Deadend\n",
            "\t\t\t\t\t\t\t\t The Warlord\n",
            "\t\t\t\t\t\t\t\t The Final\n",
            "\t\t\t\t\t\t\t\t Tales of the Night\n",
            "\t\t\t\t\t\t\t\t The Watcher in the Woods\n"
          ]
        },
        {
          "output_type": "stream",
          "name": "stderr",
          "text": [
            "\r  8%|▊         | 10/126 [00:52<10:12,  5.28s/it]"
          ]
        },
        {
          "output_type": "stream",
          "name": "stdout",
          "text": [
            "\n",
            "++ [ The 10th Kingdom || Tales of the Night ] == wrong ||  {'Correct': 1, 'Wrong': 9}\n",
            "\n",
            "##  A man turning into a dog from a curse or spell a witch put on him. The 10th Kingdom\n",
            "\t\t\t\t\t\t\t\t Twisted\n",
            "\t\t\t\t\t\t\t\t Chatroom\n",
            "\t\t\t\t\t\t\t\t The 10th Kingdom\n",
            "\t\t\t\t\t\t\t\t The Dragon Ring\n",
            "\t\t\t\t\t\t\t\t Nowhere\n",
            "\t\t\t\t\t\t\t\t Deadend\n",
            "\t\t\t\t\t\t\t\t The Warlord\n",
            "\t\t\t\t\t\t\t\t The Final\n",
            "\t\t\t\t\t\t\t\t Tales of the Night\n",
            "\t\t\t\t\t\t\t\t The Watcher in the Woods\n"
          ]
        },
        {
          "output_type": "stream",
          "name": "stderr",
          "text": [
            "\r  9%|▊         | 11/126 [00:57<09:45,  5.09s/it]"
          ]
        },
        {
          "output_type": "stream",
          "name": "stdout",
          "text": [
            "\n",
            "++ [ The 10th Kingdom || The 10th Kingdom ] == correct ||  {'Correct': 2, 'Wrong': 9}\n",
            "\n",
            "##  The girl ends up in this castle at a ball  and goes up to a room with a mirror. The 10th Kingdom\n",
            "\t\t\t\t\t\t\t\t Twisted\n",
            "\t\t\t\t\t\t\t\t Chatroom\n",
            "\t\t\t\t\t\t\t\t The 10th Kingdom\n",
            "\t\t\t\t\t\t\t\t The Dragon Ring\n",
            "\t\t\t\t\t\t\t\t Nowhere\n",
            "\t\t\t\t\t\t\t\t Deadend\n",
            "\t\t\t\t\t\t\t\t The Warlord\n",
            "\t\t\t\t\t\t\t\t The Final\n",
            "\t\t\t\t\t\t\t\t Tales of the Night\n",
            "\t\t\t\t\t\t\t\t The Watcher in the Woods\n"
          ]
        },
        {
          "output_type": "stream",
          "name": "stderr",
          "text": [
            "\r 10%|▉         | 12/126 [01:01<09:24,  4.95s/it]"
          ]
        },
        {
          "output_type": "stream",
          "name": "stdout",
          "text": [
            "\n",
            "++ [ The 10th Kingdom || The 10th Kingdom ] == correct ||  {'Correct': 3, 'Wrong': 9}\n",
            "\n",
            "##  One part that really sticks out is that she is traveling with some people through the forest and then find themselves at an old ladys house. The 10th Kingdom\n",
            "\t\t\t\t\t\t\t\t Twisted\n",
            "\t\t\t\t\t\t\t\t Chatroom\n",
            "\t\t\t\t\t\t\t\t The 10th Kingdom\n",
            "\t\t\t\t\t\t\t\t The Dragon Ring\n",
            "\t\t\t\t\t\t\t\t Nowhere\n",
            "\t\t\t\t\t\t\t\t Deadend\n",
            "\t\t\t\t\t\t\t\t The Warlord\n",
            "\t\t\t\t\t\t\t\t The Final\n",
            "\t\t\t\t\t\t\t\t Tales of the Night\n",
            "\t\t\t\t\t\t\t\t The Watcher in the Woods\n"
          ]
        },
        {
          "output_type": "stream",
          "name": "stderr",
          "text": [
            "\r 10%|█         | 13/126 [01:06<09:12,  4.89s/it]"
          ]
        },
        {
          "output_type": "stream",
          "name": "stdout",
          "text": [
            "\n",
            "++ [ The 10th Kingdom || Chatroom ] == wrong ||  {'Correct': 3, 'Wrong': 10}\n",
            "\n",
            "##  The curse was that her hair would keep growing and growing. The 10th Kingdom\n",
            "\t\t\t\t\t\t\t\t Twisted\n",
            "\t\t\t\t\t\t\t\t Chatroom\n",
            "\t\t\t\t\t\t\t\t The 10th Kingdom\n",
            "\t\t\t\t\t\t\t\t The Dragon Ring\n",
            "\t\t\t\t\t\t\t\t Nowhere\n",
            "\t\t\t\t\t\t\t\t Deadend\n",
            "\t\t\t\t\t\t\t\t The Warlord\n",
            "\t\t\t\t\t\t\t\t The Final\n",
            "\t\t\t\t\t\t\t\t Tales of the Night\n",
            "\t\t\t\t\t\t\t\t The Watcher in the Woods\n"
          ]
        },
        {
          "output_type": "stream",
          "name": "stderr",
          "text": [
            "\r 11%|█         | 14/126 [01:11<08:57,  4.80s/it]"
          ]
        },
        {
          "output_type": "stream",
          "name": "stdout",
          "text": [
            "\n",
            "++ [ The 10th Kingdom || Tales of the Night ] == wrong ||  {'Correct': 3, 'Wrong': 11}\n",
            "\n",
            "##  the good sister is grown up and walking through the desert. The Dragon Ring\n",
            "\t\t\t\t\t\t\t\t Twisted\n",
            "\t\t\t\t\t\t\t\t Chatroom\n",
            "\t\t\t\t\t\t\t\t The 10th Kingdom\n",
            "\t\t\t\t\t\t\t\t The Dragon Ring\n",
            "\t\t\t\t\t\t\t\t Nowhere\n",
            "\t\t\t\t\t\t\t\t Deadend\n",
            "\t\t\t\t\t\t\t\t The Warlord\n",
            "\t\t\t\t\t\t\t\t The Final\n",
            "\t\t\t\t\t\t\t\t Tales of the Night\n",
            "\t\t\t\t\t\t\t\t The Watcher in the Woods\n"
          ]
        },
        {
          "output_type": "stream",
          "name": "stderr",
          "text": [
            "\r 12%|█▏        | 15/126 [01:15<08:47,  4.75s/it]"
          ]
        },
        {
          "output_type": "stream",
          "name": "stdout",
          "text": [
            "\n",
            "++ [ The Dragon Ring || Tales of the Night ] == wrong ||  {'Correct': 3, 'Wrong': 12}\n",
            "\n",
            "##   But unknown to him, the jealous Selvaggia wants to beat her elder sister completely The Dragon Ring\n",
            "\t\t\t\t\t\t\t\t Twisted\n",
            "\t\t\t\t\t\t\t\t Chatroom\n",
            "\t\t\t\t\t\t\t\t The 10th Kingdom\n",
            "\t\t\t\t\t\t\t\t The Dragon Ring\n",
            "\t\t\t\t\t\t\t\t Nowhere\n",
            "\t\t\t\t\t\t\t\t Deadend\n",
            "\t\t\t\t\t\t\t\t The Warlord\n",
            "\t\t\t\t\t\t\t\t The Final\n",
            "\t\t\t\t\t\t\t\t Tales of the Night\n",
            "\t\t\t\t\t\t\t\t The Watcher in the Woods\n"
          ]
        },
        {
          "output_type": "stream",
          "name": "stderr",
          "text": [
            "\r 13%|█▎        | 16/126 [01:20<08:40,  4.73s/it]"
          ]
        },
        {
          "output_type": "stream",
          "name": "stdout",
          "text": [
            "\n",
            "++ [ The Dragon Ring || The Dragon Ring ] == correct ||  {'Correct': 4, 'Wrong': 12}\n",
            "\n",
            "##  Years later, when they're both grown up, the princess is beautiful and fell in love? The Dragon Ring\n",
            "\t\t\t\t\t\t\t\t Twisted\n",
            "\t\t\t\t\t\t\t\t Chatroom\n",
            "\t\t\t\t\t\t\t\t The 10th Kingdom\n",
            "\t\t\t\t\t\t\t\t The Dragon Ring\n",
            "\t\t\t\t\t\t\t\t Nowhere\n",
            "\t\t\t\t\t\t\t\t Deadend\n",
            "\t\t\t\t\t\t\t\t The Warlord\n",
            "\t\t\t\t\t\t\t\t The Final\n",
            "\t\t\t\t\t\t\t\t Tales of the Night\n",
            "\t\t\t\t\t\t\t\t The Watcher in the Woods\n"
          ]
        },
        {
          "output_type": "stream",
          "name": "stderr",
          "text": [
            "\r 13%|█▎        | 17/126 [01:25<08:56,  4.93s/it]"
          ]
        },
        {
          "output_type": "stream",
          "name": "stdout",
          "text": [
            "\n",
            "++ [ The Dragon Ring || Tales of the Night ] == wrong ||  {'Correct': 4, 'Wrong': 13}\n",
            "\n",
            "##  I don't remember much more, only that the blonde princess goes into the woods and find this scarecrow (I think?) The Dragon Ring\n",
            "\t\t\t\t\t\t\t\t Twisted\n",
            "\t\t\t\t\t\t\t\t Chatroom\n",
            "\t\t\t\t\t\t\t\t The 10th Kingdom\n",
            "\t\t\t\t\t\t\t\t The Dragon Ring\n",
            "\t\t\t\t\t\t\t\t Nowhere\n",
            "\t\t\t\t\t\t\t\t Deadend\n",
            "\t\t\t\t\t\t\t\t The Warlord\n",
            "\t\t\t\t\t\t\t\t The Final\n",
            "\t\t\t\t\t\t\t\t Tales of the Night\n",
            "\t\t\t\t\t\t\t\t The Watcher in the Woods\n"
          ]
        },
        {
          "output_type": "stream",
          "name": "stderr",
          "text": [
            "\r 14%|█▍        | 18/126 [01:31<09:13,  5.13s/it]"
          ]
        },
        {
          "output_type": "stream",
          "name": "stdout",
          "text": [
            "\n",
            "++ [ The Dragon Ring || The Watcher in the Woods ] == wrong ||  {'Correct': 4, 'Wrong': 14}\n",
            "\n",
            "##  Later on at home, the parents are going out and hire an older woman to babysit him and his sister. Twisted\n",
            "\t\t\t\t\t\t\t\t Twisted\n",
            "\t\t\t\t\t\t\t\t Chatroom\n",
            "\t\t\t\t\t\t\t\t The 10th Kingdom\n",
            "\t\t\t\t\t\t\t\t The Dragon Ring\n",
            "\t\t\t\t\t\t\t\t Nowhere\n",
            "\t\t\t\t\t\t\t\t Deadend\n",
            "\t\t\t\t\t\t\t\t The Warlord\n",
            "\t\t\t\t\t\t\t\t The Final\n",
            "\t\t\t\t\t\t\t\t Tales of the Night\n",
            "\t\t\t\t\t\t\t\t The Watcher in the Woods\n"
          ]
        },
        {
          "output_type": "stream",
          "name": "stderr",
          "text": [
            "\r 15%|█▌        | 19/126 [01:36<08:54,  4.99s/it]"
          ]
        },
        {
          "output_type": "stream",
          "name": "stdout",
          "text": [
            "\n",
            "++ [ Twisted || Twisted ] == correct ||  {'Correct': 5, 'Wrong': 14}\n",
            "\n",
            "##  The bully shows up later, now with a bandaged hand and crosses the sensor, alerting the boy. Twisted\n",
            "\t\t\t\t\t\t\t\t Twisted\n",
            "\t\t\t\t\t\t\t\t Chatroom\n",
            "\t\t\t\t\t\t\t\t The 10th Kingdom\n",
            "\t\t\t\t\t\t\t\t The Dragon Ring\n",
            "\t\t\t\t\t\t\t\t Nowhere\n",
            "\t\t\t\t\t\t\t\t Deadend\n",
            "\t\t\t\t\t\t\t\t The Warlord\n",
            "\t\t\t\t\t\t\t\t The Final\n",
            "\t\t\t\t\t\t\t\t Tales of the Night\n",
            "\t\t\t\t\t\t\t\t The Watcher in the Woods\n"
          ]
        },
        {
          "output_type": "stream",
          "name": "stderr",
          "text": [
            "\r 16%|█▌        | 20/126 [01:40<08:38,  4.89s/it]"
          ]
        },
        {
          "output_type": "stream",
          "name": "stdout",
          "text": [
            "\n",
            "++ [ Twisted || Deadend ] == wrong ||  {'Correct': 5, 'Wrong': 15}\n",
            "\n",
            "##  A piece of wood or cardboard falls when they scuffle and the bully tries to push it forward but the boy stabs the sword through, killing the bully. Twisted\n",
            "\t\t\t\t\t\t\t\t Twisted\n",
            "\t\t\t\t\t\t\t\t Chatroom\n",
            "\t\t\t\t\t\t\t\t The 10th Kingdom\n",
            "\t\t\t\t\t\t\t\t The Dragon Ring\n",
            "\t\t\t\t\t\t\t\t Nowhere\n",
            "\t\t\t\t\t\t\t\t Deadend\n",
            "\t\t\t\t\t\t\t\t The Warlord\n",
            "\t\t\t\t\t\t\t\t The Final\n",
            "\t\t\t\t\t\t\t\t Tales of the Night\n",
            "\t\t\t\t\t\t\t\t The Watcher in the Woods\n"
          ]
        },
        {
          "output_type": "stream",
          "name": "stderr",
          "text": [
            "\r 17%|█▋        | 21/126 [01:45<08:29,  4.85s/it]"
          ]
        },
        {
          "output_type": "stream",
          "name": "stdout",
          "text": [
            "\n",
            "++ [ Twisted || Deadend ] == wrong ||  {'Correct': 5, 'Wrong': 16}\n",
            "\n",
            "##  He falls on top of the spiked helmet from earlier and crawls away. Twisted\n",
            "\t\t\t\t\t\t\t\t Twisted\n",
            "\t\t\t\t\t\t\t\t Chatroom\n",
            "\t\t\t\t\t\t\t\t The 10th Kingdom\n",
            "\t\t\t\t\t\t\t\t The Dragon Ring\n",
            "\t\t\t\t\t\t\t\t Nowhere\n",
            "\t\t\t\t\t\t\t\t Deadend\n",
            "\t\t\t\t\t\t\t\t The Warlord\n",
            "\t\t\t\t\t\t\t\t The Final\n",
            "\t\t\t\t\t\t\t\t Tales of the Night\n",
            "\t\t\t\t\t\t\t\t The Watcher in the Woods\n"
          ]
        },
        {
          "output_type": "stream",
          "name": "stderr",
          "text": [
            "\r 17%|█▋        | 22/126 [01:49<08:13,  4.74s/it]"
          ]
        },
        {
          "output_type": "stream",
          "name": "stdout",
          "text": [
            "\n",
            "++ [ Twisted || Chatroom ] == wrong ||  {'Correct': 5, 'Wrong': 17}\n",
            "\n",
            "##  She gets up and I think they fight a bit more and she pushes him. Twisted\n",
            "\t\t\t\t\t\t\t\t Twisted\n",
            "\t\t\t\t\t\t\t\t Chatroom\n",
            "\t\t\t\t\t\t\t\t The 10th Kingdom\n",
            "\t\t\t\t\t\t\t\t The Dragon Ring\n",
            "\t\t\t\t\t\t\t\t Nowhere\n",
            "\t\t\t\t\t\t\t\t Deadend\n",
            "\t\t\t\t\t\t\t\t The Warlord\n",
            "\t\t\t\t\t\t\t\t The Final\n",
            "\t\t\t\t\t\t\t\t Tales of the Night\n",
            "\t\t\t\t\t\t\t\t The Watcher in the Woods\n"
          ]
        },
        {
          "output_type": "stream",
          "name": "stderr",
          "text": [
            "\r 18%|█▊        | 23/126 [01:54<08:04,  4.70s/it]"
          ]
        },
        {
          "output_type": "stream",
          "name": "stdout",
          "text": [
            "\n",
            "++ [ Twisted || Chatroom ] == wrong ||  {'Correct': 5, 'Wrong': 18}\n",
            "\n",
            "##  Mark's parents come home to find the house in shambles  Twisted\n",
            "\t\t\t\t\t\t\t\t Twisted\n",
            "\t\t\t\t\t\t\t\t Chatroom\n",
            "\t\t\t\t\t\t\t\t The 10th Kingdom\n",
            "\t\t\t\t\t\t\t\t The Dragon Ring\n",
            "\t\t\t\t\t\t\t\t Nowhere\n",
            "\t\t\t\t\t\t\t\t Deadend\n",
            "\t\t\t\t\t\t\t\t The Warlord\n",
            "\t\t\t\t\t\t\t\t The Final\n",
            "\t\t\t\t\t\t\t\t Tales of the Night\n",
            "\t\t\t\t\t\t\t\t The Watcher in the Woods\n"
          ]
        },
        {
          "output_type": "stream",
          "name": "stderr",
          "text": [
            "\r 19%|█▉        | 24/126 [01:59<07:56,  4.68s/it]"
          ]
        },
        {
          "output_type": "stream",
          "name": "stdout",
          "text": [
            "\n",
            "++ [  Twisted || Twisted ] == correct ||  {'Correct': 6, 'Wrong': 18}\n",
            "\n",
            "##  A closeup of the boy's face is seen staring off into space and we realize he is dead. Twisted\n",
            "\t\t\t\t\t\t\t\t Twisted\n",
            "\t\t\t\t\t\t\t\t Chatroom\n",
            "\t\t\t\t\t\t\t\t The 10th Kingdom\n",
            "\t\t\t\t\t\t\t\t The Dragon Ring\n",
            "\t\t\t\t\t\t\t\t Nowhere\n",
            "\t\t\t\t\t\t\t\t Deadend\n",
            "\t\t\t\t\t\t\t\t The Warlord\n",
            "\t\t\t\t\t\t\t\t The Final\n",
            "\t\t\t\t\t\t\t\t Tales of the Night\n",
            "\t\t\t\t\t\t\t\t The Watcher in the Woods\n"
          ]
        },
        {
          "output_type": "stream",
          "name": "stderr",
          "text": [
            "\r 20%|█▉        | 25/126 [02:03<07:53,  4.69s/it]"
          ]
        },
        {
          "output_type": "stream",
          "name": "stdout",
          "text": [
            "\n",
            "++ [ Twisted || Deadend ] == wrong ||  {'Correct': 6, 'Wrong': 19}\n",
            "\n",
            "##  A hand reaches for his glasses and we see the little sister putting them on. Twisted\n",
            "\t\t\t\t\t\t\t\t Twisted\n",
            "\t\t\t\t\t\t\t\t Chatroom\n",
            "\t\t\t\t\t\t\t\t The 10th Kingdom\n",
            "\t\t\t\t\t\t\t\t The Dragon Ring\n",
            "\t\t\t\t\t\t\t\t Nowhere\n",
            "\t\t\t\t\t\t\t\t Deadend\n",
            "\t\t\t\t\t\t\t\t The Warlord\n",
            "\t\t\t\t\t\t\t\t The Final\n",
            "\t\t\t\t\t\t\t\t Tales of the Night\n",
            "\t\t\t\t\t\t\t\t The Watcher in the Woods\n"
          ]
        },
        {
          "output_type": "stream",
          "name": "stderr",
          "text": [
            "\r 21%|██        | 26/126 [02:09<08:15,  4.95s/it]"
          ]
        },
        {
          "output_type": "stream",
          "name": "stdout",
          "text": [
            "\n",
            "++ [ Twisted || Deadend ] == wrong ||  {'Correct': 6, 'Wrong': 20}\n",
            "\n",
            "##  In one class, a bully teases him and he makes a mixture in a beaker and pours it on the bully's arm. Twisted\n",
            "\t\t\t\t\t\t\t\t Twisted\n",
            "\t\t\t\t\t\t\t\t Chatroom\n",
            "\t\t\t\t\t\t\t\t The 10th Kingdom\n",
            "\t\t\t\t\t\t\t\t The Dragon Ring\n",
            "\t\t\t\t\t\t\t\t Nowhere\n",
            "\t\t\t\t\t\t\t\t Deadend\n",
            "\t\t\t\t\t\t\t\t The Warlord\n",
            "\t\t\t\t\t\t\t\t The Final\n",
            "\t\t\t\t\t\t\t\t Tales of the Night\n",
            "\t\t\t\t\t\t\t\t The Watcher in the Woods\n"
          ]
        },
        {
          "output_type": "stream",
          "name": "stderr",
          "text": [
            "\r 21%|██▏       | 27/126 [02:14<08:23,  5.08s/it]"
          ]
        },
        {
          "output_type": "stream",
          "name": "stdout",
          "text": [
            "\n",
            "++ [ Twisted || The Final ] == wrong ||  {'Correct': 6, 'Wrong': 21}\n",
            "\n",
            "##  When he realizes she's the evil princess, she curses him to be a wolf. Tales of the Night\n",
            "\t\t\t\t\t\t\t\t Twisted\n",
            "\t\t\t\t\t\t\t\t Chatroom\n",
            "\t\t\t\t\t\t\t\t The 10th Kingdom\n",
            "\t\t\t\t\t\t\t\t The Dragon Ring\n",
            "\t\t\t\t\t\t\t\t Nowhere\n",
            "\t\t\t\t\t\t\t\t Deadend\n",
            "\t\t\t\t\t\t\t\t The Warlord\n",
            "\t\t\t\t\t\t\t\t The Final\n",
            "\t\t\t\t\t\t\t\t Tales of the Night\n",
            "\t\t\t\t\t\t\t\t The Watcher in the Woods\n"
          ]
        },
        {
          "output_type": "stream",
          "name": "stderr",
          "text": [
            "\r 22%|██▏       | 28/126 [02:19<08:05,  4.96s/it]"
          ]
        },
        {
          "output_type": "stream",
          "name": "stdout",
          "text": [
            "\n",
            "++ [ Tales of the Night || The 10th Kingdom ] == wrong ||  {'Correct': 6, 'Wrong': 22}\n",
            "\n",
            "##  Boy then eventually gets freed by the good princess. Tales of the Night\n",
            "\t\t\t\t\t\t\t\t Twisted\n",
            "\t\t\t\t\t\t\t\t Chatroom\n",
            "\t\t\t\t\t\t\t\t The 10th Kingdom\n",
            "\t\t\t\t\t\t\t\t The Dragon Ring\n",
            "\t\t\t\t\t\t\t\t Nowhere\n",
            "\t\t\t\t\t\t\t\t Deadend\n",
            "\t\t\t\t\t\t\t\t The Warlord\n",
            "\t\t\t\t\t\t\t\t The Final\n",
            "\t\t\t\t\t\t\t\t Tales of the Night\n",
            "\t\t\t\t\t\t\t\t The Watcher in the Woods\n"
          ]
        },
        {
          "output_type": "stream",
          "name": "stderr",
          "text": [
            "\r 23%|██▎       | 29/126 [02:24<07:53,  4.88s/it]"
          ]
        },
        {
          "output_type": "stream",
          "name": "stdout",
          "text": [
            "\n",
            "++ [ Tales of the Night || The 10th Kingdom ] == wrong ||  {'Correct': 6, 'Wrong': 23}\n",
            "\n",
            "##  Boy finds himself in a city of gold, but an evil dragon rules the city. Tales of the Night\n",
            "\t\t\t\t\t\t\t\t Twisted\n",
            "\t\t\t\t\t\t\t\t Chatroom\n",
            "\t\t\t\t\t\t\t\t The 10th Kingdom\n",
            "\t\t\t\t\t\t\t\t The Dragon Ring\n",
            "\t\t\t\t\t\t\t\t Nowhere\n",
            "\t\t\t\t\t\t\t\t Deadend\n",
            "\t\t\t\t\t\t\t\t The Warlord\n",
            "\t\t\t\t\t\t\t\t The Final\n",
            "\t\t\t\t\t\t\t\t Tales of the Night\n",
            "\t\t\t\t\t\t\t\t The Watcher in the Woods\n"
          ]
        },
        {
          "output_type": "stream",
          "name": "stderr",
          "text": [
            "\r 24%|██▍       | 30/126 [02:28<07:45,  4.85s/it]"
          ]
        },
        {
          "output_type": "stream",
          "name": "stdout",
          "text": [
            "\n",
            "++ [ Tales of the Night || The 10th Kingdom ] == wrong ||  {'Correct': 6, 'Wrong': 24}\n",
            "\n",
            "##  The dragon gives the people gold, but only if they sacrifice the most beautiful maiden to the dragon every month/year. Tales of the Night\n",
            "\t\t\t\t\t\t\t\t Twisted\n",
            "\t\t\t\t\t\t\t\t Chatroom\n",
            "\t\t\t\t\t\t\t\t The 10th Kingdom\n",
            "\t\t\t\t\t\t\t\t The Dragon Ring\n",
            "\t\t\t\t\t\t\t\t Nowhere\n",
            "\t\t\t\t\t\t\t\t Deadend\n",
            "\t\t\t\t\t\t\t\t The Warlord\n",
            "\t\t\t\t\t\t\t\t The Final\n",
            "\t\t\t\t\t\t\t\t Tales of the Night\n",
            "\t\t\t\t\t\t\t\t The Watcher in the Woods\n"
          ]
        },
        {
          "output_type": "stream",
          "name": "stderr",
          "text": [
            "\r 25%|██▍       | 31/126 [02:33<07:39,  4.83s/it]"
          ]
        },
        {
          "output_type": "stream",
          "name": "stdout",
          "text": [
            "\n",
            "++ [ Tales of the Night || Tales of the Night ] == correct ||  {'Correct': 7, 'Wrong': 24}\n",
            "\n",
            "##  Boy eventually slays dragon and marries the girl, who was the most beautiful at that time. Tales of the Night\n",
            "\t\t\t\t\t\t\t\t Twisted\n",
            "\t\t\t\t\t\t\t\t Chatroom\n",
            "\t\t\t\t\t\t\t\t The 10th Kingdom\n",
            "\t\t\t\t\t\t\t\t The Dragon Ring\n",
            "\t\t\t\t\t\t\t\t Nowhere\n",
            "\t\t\t\t\t\t\t\t Deadend\n",
            "\t\t\t\t\t\t\t\t The Warlord\n",
            "\t\t\t\t\t\t\t\t The Final\n",
            "\t\t\t\t\t\t\t\t Tales of the Night\n",
            "\t\t\t\t\t\t\t\t The Watcher in the Woods\n"
          ]
        },
        {
          "output_type": "stream",
          "name": "stderr",
          "text": [
            "\r 25%|██▌       | 32/126 [02:38<07:29,  4.78s/it]"
          ]
        },
        {
          "output_type": "stream",
          "name": "stdout",
          "text": [
            "\n",
            "++ [ Tales of the Night || The 10th Kingdom ] == wrong ||  {'Correct': 7, 'Wrong': 25}\n",
            "\n",
            "##  Boy is in Africa and likes to play the drum, but is shunned for doing so. Tales of the Night\n",
            "\t\t\t\t\t\t\t\t Twisted\n",
            "\t\t\t\t\t\t\t\t Chatroom\n",
            "\t\t\t\t\t\t\t\t The 10th Kingdom\n",
            "\t\t\t\t\t\t\t\t The Dragon Ring\n",
            "\t\t\t\t\t\t\t\t Nowhere\n",
            "\t\t\t\t\t\t\t\t Deadend\n",
            "\t\t\t\t\t\t\t\t The Warlord\n",
            "\t\t\t\t\t\t\t\t The Final\n",
            "\t\t\t\t\t\t\t\t Tales of the Night\n",
            "\t\t\t\t\t\t\t\t The Watcher in the Woods\n"
          ]
        },
        {
          "output_type": "stream",
          "name": "stderr",
          "text": [
            "\r 26%|██▌       | 33/126 [02:43<07:20,  4.73s/it]"
          ]
        },
        {
          "output_type": "stream",
          "name": "stdout",
          "text": [
            "\n",
            "++ [ Tales of the Night || Tales of the Night ] == correct ||  {'Correct': 8, 'Wrong': 25}\n",
            "\n",
            "##  Boy gets thrown out of clan/tribe, but saves an old medicine man from a leopard/big cat. Tales of the Night\n",
            "\t\t\t\t\t\t\t\t Twisted\n",
            "\t\t\t\t\t\t\t\t Chatroom\n",
            "\t\t\t\t\t\t\t\t The 10th Kingdom\n",
            "\t\t\t\t\t\t\t\t The Dragon Ring\n",
            "\t\t\t\t\t\t\t\t Nowhere\n",
            "\t\t\t\t\t\t\t\t Deadend\n",
            "\t\t\t\t\t\t\t\t The Warlord\n",
            "\t\t\t\t\t\t\t\t The Final\n",
            "\t\t\t\t\t\t\t\t Tales of the Night\n",
            "\t\t\t\t\t\t\t\t The Watcher in the Woods\n"
          ]
        },
        {
          "output_type": "stream",
          "name": "stderr",
          "text": [
            "\r 27%|██▋       | 34/126 [02:47<07:11,  4.69s/it]"
          ]
        },
        {
          "output_type": "stream",
          "name": "stdout",
          "text": [
            "\n",
            "++ [ Tales of the Night || Tales of the Night ] == correct ||  {'Correct': 9, 'Wrong': 25}\n",
            "\n",
            "##  Old medicine man teaches boy how to play drum, which ends up healing the sick clan/tribe chief. Tales of the Night\n",
            "\t\t\t\t\t\t\t\t Twisted\n",
            "\t\t\t\t\t\t\t\t Chatroom\n",
            "\t\t\t\t\t\t\t\t The 10th Kingdom\n",
            "\t\t\t\t\t\t\t\t The Dragon Ring\n",
            "\t\t\t\t\t\t\t\t Nowhere\n",
            "\t\t\t\t\t\t\t\t Deadend\n",
            "\t\t\t\t\t\t\t\t The Warlord\n",
            "\t\t\t\t\t\t\t\t The Final\n",
            "\t\t\t\t\t\t\t\t Tales of the Night\n",
            "\t\t\t\t\t\t\t\t The Watcher in the Woods\n"
          ]
        },
        {
          "output_type": "stream",
          "name": "stderr",
          "text": [
            "\r 28%|██▊       | 35/126 [02:53<07:40,  5.06s/it]"
          ]
        },
        {
          "output_type": "stream",
          "name": "stdout",
          "text": [
            "\n",
            "++ [ Tales of the Night || Tales of the Night ] == correct ||  {'Correct': 10, 'Wrong': 25}\n",
            "\n",
            "##  The drum also makes the clan/tribe unbeatable in battle. Tales of the Night\n",
            "\t\t\t\t\t\t\t\t Twisted\n",
            "\t\t\t\t\t\t\t\t Chatroom\n",
            "\t\t\t\t\t\t\t\t The 10th Kingdom\n",
            "\t\t\t\t\t\t\t\t The Dragon Ring\n",
            "\t\t\t\t\t\t\t\t Nowhere\n",
            "\t\t\t\t\t\t\t\t Deadend\n",
            "\t\t\t\t\t\t\t\t The Warlord\n",
            "\t\t\t\t\t\t\t\t The Final\n",
            "\t\t\t\t\t\t\t\t Tales of the Night\n",
            "\t\t\t\t\t\t\t\t The Watcher in the Woods\n"
          ]
        },
        {
          "output_type": "stream",
          "name": "stderr",
          "text": [
            "\r 29%|██▊       | 36/126 [02:58<07:29,  5.00s/it]"
          ]
        },
        {
          "output_type": "stream",
          "name": "stdout",
          "text": [
            "\n",
            "++ [ Tales of the Night || Tales of the Night ] == correct ||  {'Correct': 11, 'Wrong': 25}\n",
            "\n",
            "##  Boy is an adventurer in a strange land where he crawls through a tunnel and gets put in prison. Tales of the Night\n",
            "\t\t\t\t\t\t\t\t Twisted\n",
            "\t\t\t\t\t\t\t\t Chatroom\n",
            "\t\t\t\t\t\t\t\t The 10th Kingdom\n",
            "\t\t\t\t\t\t\t\t The Dragon Ring\n",
            "\t\t\t\t\t\t\t\t Nowhere\n",
            "\t\t\t\t\t\t\t\t Deadend\n",
            "\t\t\t\t\t\t\t\t The Warlord\n",
            "\t\t\t\t\t\t\t\t The Final\n",
            "\t\t\t\t\t\t\t\t Tales of the Night\n",
            "\t\t\t\t\t\t\t\t The Watcher in the Woods\n"
          ]
        },
        {
          "output_type": "stream",
          "name": "stderr",
          "text": [
            "\r 29%|██▉       | 37/126 [03:03<07:16,  4.90s/it]"
          ]
        },
        {
          "output_type": "stream",
          "name": "stdout",
          "text": [
            "\n",
            "++ [ Tales of the Night || The 10th Kingdom ] == wrong ||  {'Correct': 11, 'Wrong': 26}\n",
            "\n",
            "##  A bee flies around the head of the correct daughter because he fed the bee earlier in the tunnel. Tales of the Night\n",
            "\t\t\t\t\t\t\t\t Twisted\n",
            "\t\t\t\t\t\t\t\t Chatroom\n",
            "\t\t\t\t\t\t\t\t The 10th Kingdom\n",
            "\t\t\t\t\t\t\t\t The Dragon Ring\n",
            "\t\t\t\t\t\t\t\t Nowhere\n",
            "\t\t\t\t\t\t\t\t Deadend\n",
            "\t\t\t\t\t\t\t\t The Warlord\n",
            "\t\t\t\t\t\t\t\t The Final\n",
            "\t\t\t\t\t\t\t\t Tales of the Night\n",
            "\t\t\t\t\t\t\t\t The Watcher in the Woods\n"
          ]
        },
        {
          "output_type": "stream",
          "name": "stderr",
          "text": [
            "\r 30%|███       | 38/126 [03:07<07:06,  4.84s/it]"
          ]
        },
        {
          "output_type": "stream",
          "name": "stdout",
          "text": [
            "\n",
            "++ [ Tales of the Night || Tales of the Night ] == correct ||  {'Correct': 12, 'Wrong': 26}\n",
            "\n",
            "##  He also gets help from other monsters he met in the tunnel/cave. Tales of the Night\n",
            "\t\t\t\t\t\t\t\t Twisted\n",
            "\t\t\t\t\t\t\t\t Chatroom\n",
            "\t\t\t\t\t\t\t\t The 10th Kingdom\n",
            "\t\t\t\t\t\t\t\t The Dragon Ring\n",
            "\t\t\t\t\t\t\t\t Nowhere\n",
            "\t\t\t\t\t\t\t\t Deadend\n",
            "\t\t\t\t\t\t\t\t The Warlord\n",
            "\t\t\t\t\t\t\t\t The Final\n",
            "\t\t\t\t\t\t\t\t Tales of the Night\n",
            "\t\t\t\t\t\t\t\t The Watcher in the Woods\n"
          ]
        },
        {
          "output_type": "stream",
          "name": "stderr",
          "text": [
            "\r 31%|███       | 39/126 [03:12<06:55,  4.78s/it]"
          ]
        },
        {
          "output_type": "stream",
          "name": "stdout",
          "text": [
            "\n",
            "++ [ Tales of the Night || Tales of the Night ] == correct ||  {'Correct': 13, 'Wrong': 26}\n",
            "\n",
            "##  Second, it was about a boy and a girl acting out these a play in an old theater owned by an old man, who may have been their grandfather. Tales of the Night\n",
            "\t\t\t\t\t\t\t\t Twisted\n",
            "\t\t\t\t\t\t\t\t Chatroom\n",
            "\t\t\t\t\t\t\t\t The 10th Kingdom\n",
            "\t\t\t\t\t\t\t\t The Dragon Ring\n",
            "\t\t\t\t\t\t\t\t Nowhere\n",
            "\t\t\t\t\t\t\t\t Deadend\n",
            "\t\t\t\t\t\t\t\t The Warlord\n",
            "\t\t\t\t\t\t\t\t The Final\n",
            "\t\t\t\t\t\t\t\t Tales of the Night\n",
            "\t\t\t\t\t\t\t\t The Watcher in the Woods\n"
          ]
        },
        {
          "output_type": "stream",
          "name": "stderr",
          "text": [
            "\r 32%|███▏      | 40/126 [03:17<06:49,  4.76s/it]"
          ]
        },
        {
          "output_type": "stream",
          "name": "stdout",
          "text": [
            "\n",
            "++ [ Tales of the Night || Tales of the Night ] == correct ||  {'Correct': 14, 'Wrong': 26}\n",
            "\n",
            "##  There was also an owl in the theater, and it looked at the camera and hooted whenever they changed from one play to another. Tales of the Night\n",
            "\t\t\t\t\t\t\t\t Twisted\n",
            "\t\t\t\t\t\t\t\t Chatroom\n",
            "\t\t\t\t\t\t\t\t The 10th Kingdom\n",
            "\t\t\t\t\t\t\t\t The Dragon Ring\n",
            "\t\t\t\t\t\t\t\t Nowhere\n",
            "\t\t\t\t\t\t\t\t Deadend\n",
            "\t\t\t\t\t\t\t\t The Warlord\n",
            "\t\t\t\t\t\t\t\t The Final\n",
            "\t\t\t\t\t\t\t\t Tales of the Night\n",
            "\t\t\t\t\t\t\t\t The Watcher in the Woods\n"
          ]
        },
        {
          "output_type": "stream",
          "name": "stderr",
          "text": [
            "\r 33%|███▎      | 41/126 [03:21<06:45,  4.78s/it]"
          ]
        },
        {
          "output_type": "stream",
          "name": "stdout",
          "text": [
            "\n",
            "++ [ Tales of the Night || Tales of the Night ] == correct ||  {'Correct': 15, 'Wrong': 26}\n",
            "\n",
            "##  Third, to change from one costume to another, they stood on a sort of platform thing. Tales of the Night\n",
            "\t\t\t\t\t\t\t\t Twisted\n",
            "\t\t\t\t\t\t\t\t Chatroom\n",
            "\t\t\t\t\t\t\t\t The 10th Kingdom\n",
            "\t\t\t\t\t\t\t\t The Dragon Ring\n",
            "\t\t\t\t\t\t\t\t Nowhere\n",
            "\t\t\t\t\t\t\t\t Deadend\n",
            "\t\t\t\t\t\t\t\t The Warlord\n",
            "\t\t\t\t\t\t\t\t The Final\n",
            "\t\t\t\t\t\t\t\t Tales of the Night\n",
            "\t\t\t\t\t\t\t\t The Watcher in the Woods\n"
          ]
        },
        {
          "output_type": "stream",
          "name": "stderr",
          "text": [
            "\r 33%|███▎      | 42/126 [03:26<06:37,  4.74s/it]"
          ]
        },
        {
          "output_type": "stream",
          "name": "stdout",
          "text": [
            "\n",
            "++ [ Tales of the Night || Chatroom ] == wrong ||  {'Correct': 15, 'Wrong': 27}\n",
            "\n",
            "##  It â€œscannedâ€_x009d_ them, and the silhouettes of the clothes they described appeared on their bodies. Tales of the Night\n",
            "\t\t\t\t\t\t\t\t Twisted\n",
            "\t\t\t\t\t\t\t\t Chatroom\n",
            "\t\t\t\t\t\t\t\t The 10th Kingdom\n",
            "\t\t\t\t\t\t\t\t The Dragon Ring\n",
            "\t\t\t\t\t\t\t\t Nowhere\n",
            "\t\t\t\t\t\t\t\t Deadend\n",
            "\t\t\t\t\t\t\t\t The Warlord\n",
            "\t\t\t\t\t\t\t\t The Final\n",
            "\t\t\t\t\t\t\t\t Tales of the Night\n",
            "\t\t\t\t\t\t\t\t The Watcher in the Woods\n"
          ]
        },
        {
          "output_type": "stream",
          "name": "stderr",
          "text": [
            "\r 34%|███▍      | 43/126 [03:31<06:32,  4.73s/it]"
          ]
        },
        {
          "output_type": "stream",
          "name": "stdout",
          "text": [
            "\n",
            "++ [ Tales of the Night || Chatroom ] == wrong ||  {'Correct': 15, 'Wrong': 28}\n",
            "\n",
            "##  The plays/plots I remember are as follows : Boy gets put in prison (wrongly accused of stealing a necklace, I think), but gets pitied by a princess and she takes him food/clothing. Tales of the Night\n",
            "\t\t\t\t\t\t\t\t Twisted\n",
            "\t\t\t\t\t\t\t\t Chatroom\n",
            "\t\t\t\t\t\t\t\t The 10th Kingdom\n",
            "\t\t\t\t\t\t\t\t The Dragon Ring\n",
            "\t\t\t\t\t\t\t\t Nowhere\n",
            "\t\t\t\t\t\t\t\t Deadend\n",
            "\t\t\t\t\t\t\t\t The Warlord\n",
            "\t\t\t\t\t\t\t\t The Final\n",
            "\t\t\t\t\t\t\t\t Tales of the Night\n",
            "\t\t\t\t\t\t\t\t The Watcher in the Woods\n"
          ]
        },
        {
          "output_type": "stream",
          "name": "stderr",
          "text": [
            "\r 35%|███▍      | 44/126 [03:38<07:25,  5.44s/it]"
          ]
        },
        {
          "output_type": "stream",
          "name": "stdout",
          "text": [
            "\n",
            "++ [ Tales of the Night || The 10th Kingdom ] == wrong ||  {'Correct': 15, 'Wrong': 29}\n",
            "\n",
            "##  They are plotting murder in that room and the girl seems to be trying to leave her family. Chatroom\n",
            "\t\t\t\t\t\t\t\t Twisted\n",
            "\t\t\t\t\t\t\t\t Chatroom\n",
            "\t\t\t\t\t\t\t\t The 10th Kingdom\n",
            "\t\t\t\t\t\t\t\t The Dragon Ring\n",
            "\t\t\t\t\t\t\t\t Nowhere\n",
            "\t\t\t\t\t\t\t\t Deadend\n",
            "\t\t\t\t\t\t\t\t The Warlord\n",
            "\t\t\t\t\t\t\t\t The Final\n",
            "\t\t\t\t\t\t\t\t Tales of the Night\n",
            "\t\t\t\t\t\t\t\t The Watcher in the Woods\n"
          ]
        },
        {
          "output_type": "stream",
          "name": "stderr",
          "text": [
            "\r 36%|███▌      | 45/126 [03:44<07:37,  5.64s/it]"
          ]
        },
        {
          "output_type": "stream",
          "name": "stdout",
          "text": [
            "\n",
            "++ [ Chatroom || Chatroom ] == correct ||  {'Correct': 16, 'Wrong': 29}\n",
            "\n",
            "##  Another young male is in his room at home, apparently watching deaths online but he can not leave his house. Chatroom\n",
            "\t\t\t\t\t\t\t\t Twisted\n",
            "\t\t\t\t\t\t\t\t Chatroom\n",
            "\t\t\t\t\t\t\t\t The 10th Kingdom\n",
            "\t\t\t\t\t\t\t\t The Dragon Ring\n",
            "\t\t\t\t\t\t\t\t Nowhere\n",
            "\t\t\t\t\t\t\t\t Deadend\n",
            "\t\t\t\t\t\t\t\t The Warlord\n",
            "\t\t\t\t\t\t\t\t The Final\n",
            "\t\t\t\t\t\t\t\t Tales of the Night\n",
            "\t\t\t\t\t\t\t\t The Watcher in the Woods\n"
          ]
        },
        {
          "output_type": "stream",
          "name": "stderr",
          "text": [
            "\r 37%|███▋      | 46/126 [03:49<07:10,  5.38s/it]"
          ]
        },
        {
          "output_type": "stream",
          "name": "stdout",
          "text": [
            "\n",
            "++ [ Chatroom || Deadend ] == wrong ||  {'Correct': 16, 'Wrong': 30}\n",
            "\n",
            "##  Story takes place in a hotel or dormitory type building where the doors are numbered. Chatroom\n",
            "\t\t\t\t\t\t\t\t Twisted\n",
            "\t\t\t\t\t\t\t\t Chatroom\n",
            "\t\t\t\t\t\t\t\t The 10th Kingdom\n",
            "\t\t\t\t\t\t\t\t The Dragon Ring\n",
            "\t\t\t\t\t\t\t\t Nowhere\n",
            "\t\t\t\t\t\t\t\t Deadend\n",
            "\t\t\t\t\t\t\t\t The Warlord\n",
            "\t\t\t\t\t\t\t\t The Final\n",
            "\t\t\t\t\t\t\t\t Tales of the Night\n",
            "\t\t\t\t\t\t\t\t The Watcher in the Woods\n"
          ]
        },
        {
          "output_type": "stream",
          "name": "stderr",
          "text": [
            "\r 37%|███▋      | 47/126 [03:53<06:47,  5.16s/it]"
          ]
        },
        {
          "output_type": "stream",
          "name": "stdout",
          "text": [
            "\n",
            "++ [ Chatroom || The Warlord ] == wrong ||  {'Correct': 16, 'Wrong': 31}\n",
            "\n",
            "##  The other 3 somehow make it back to the road to their car and quickly get in. Deadend\n",
            "\t\t\t\t\t\t\t\t Twisted\n",
            "\t\t\t\t\t\t\t\t Chatroom\n",
            "\t\t\t\t\t\t\t\t The 10th Kingdom\n",
            "\t\t\t\t\t\t\t\t The Dragon Ring\n",
            "\t\t\t\t\t\t\t\t Nowhere\n",
            "\t\t\t\t\t\t\t\t Deadend\n",
            "\t\t\t\t\t\t\t\t The Warlord\n",
            "\t\t\t\t\t\t\t\t The Final\n",
            "\t\t\t\t\t\t\t\t Tales of the Night\n",
            "\t\t\t\t\t\t\t\t The Watcher in the Woods\n"
          ]
        },
        {
          "output_type": "stream",
          "name": "stderr",
          "text": [
            "\r 38%|███▊      | 48/126 [03:58<06:32,  5.03s/it]"
          ]
        },
        {
          "output_type": "stream",
          "name": "stdout",
          "text": [
            "\n",
            "++ [ Deadend || Deadend ] == correct ||  {'Correct': 17, 'Wrong': 31}\n",
            "\n",
            "##  The father steps on it. Deadend\n",
            "\t\t\t\t\t\t\t\t Twisted\n",
            "\t\t\t\t\t\t\t\t Chatroom\n",
            "\t\t\t\t\t\t\t\t The 10th Kingdom\n",
            "\t\t\t\t\t\t\t\t The Dragon Ring\n",
            "\t\t\t\t\t\t\t\t Nowhere\n",
            "\t\t\t\t\t\t\t\t Deadend\n",
            "\t\t\t\t\t\t\t\t The Warlord\n",
            "\t\t\t\t\t\t\t\t The Final\n",
            "\t\t\t\t\t\t\t\t Tales of the Night\n",
            "\t\t\t\t\t\t\t\t The Watcher in the Woods\n"
          ]
        },
        {
          "output_type": "stream",
          "name": "stderr",
          "text": [
            "\r 39%|███▉      | 49/126 [04:03<06:18,  4.92s/it]"
          ]
        },
        {
          "output_type": "stream",
          "name": "stdout",
          "text": [
            "\n",
            "++ [ Deadend || The Warlord ] == wrong ||  {'Correct': 17, 'Wrong': 32}\n",
            "\n",
            "##  The mother notices that the son is missing so she wants to get out of the car to search for him. Deadend\n",
            "\t\t\t\t\t\t\t\t Twisted\n",
            "\t\t\t\t\t\t\t\t Chatroom\n",
            "\t\t\t\t\t\t\t\t The 10th Kingdom\n",
            "\t\t\t\t\t\t\t\t The Dragon Ring\n",
            "\t\t\t\t\t\t\t\t Nowhere\n",
            "\t\t\t\t\t\t\t\t Deadend\n",
            "\t\t\t\t\t\t\t\t The Warlord\n",
            "\t\t\t\t\t\t\t\t The Final\n",
            "\t\t\t\t\t\t\t\t Tales of the Night\n",
            "\t\t\t\t\t\t\t\t The Watcher in the Woods\n"
          ]
        },
        {
          "output_type": "stream",
          "name": "stderr",
          "text": [
            "\r 40%|███▉      | 50/126 [04:08<06:08,  4.85s/it]"
          ]
        },
        {
          "output_type": "stream",
          "name": "stdout",
          "text": [
            "\n",
            "++ [ Deadend || Deadend ] == correct ||  {'Correct': 18, 'Wrong': 32}\n",
            "\n",
            "##  The father refuses to stop. Deadend\n",
            "\t\t\t\t\t\t\t\t Twisted\n",
            "\t\t\t\t\t\t\t\t Chatroom\n",
            "\t\t\t\t\t\t\t\t The 10th Kingdom\n",
            "\t\t\t\t\t\t\t\t The Dragon Ring\n",
            "\t\t\t\t\t\t\t\t Nowhere\n",
            "\t\t\t\t\t\t\t\t Deadend\n",
            "\t\t\t\t\t\t\t\t The Warlord\n",
            "\t\t\t\t\t\t\t\t The Final\n",
            "\t\t\t\t\t\t\t\t Tales of the Night\n",
            "\t\t\t\t\t\t\t\t The Watcher in the Woods\n"
          ]
        },
        {
          "output_type": "stream",
          "name": "stderr",
          "text": [
            "\r 40%|████      | 51/126 [04:12<05:57,  4.76s/it]"
          ]
        },
        {
          "output_type": "stream",
          "name": "stdout",
          "text": [
            "\n",
            "++ [ Deadend || The Final ] == wrong ||  {'Correct': 18, 'Wrong': 33}\n",
            "\n",
            "##  The mother then starts saying she saw her mother. Deadend\n",
            "\t\t\t\t\t\t\t\t Twisted\n",
            "\t\t\t\t\t\t\t\t Chatroom\n",
            "\t\t\t\t\t\t\t\t The 10th Kingdom\n",
            "\t\t\t\t\t\t\t\t The Dragon Ring\n",
            "\t\t\t\t\t\t\t\t Nowhere\n",
            "\t\t\t\t\t\t\t\t Deadend\n",
            "\t\t\t\t\t\t\t\t The Warlord\n",
            "\t\t\t\t\t\t\t\t The Final\n",
            "\t\t\t\t\t\t\t\t Tales of the Night\n",
            "\t\t\t\t\t\t\t\t The Watcher in the Woods\n"
          ]
        },
        {
          "output_type": "stream",
          "name": "stderr",
          "text": [
            "\r 41%|████▏     | 52/126 [04:17<05:49,  4.72s/it]"
          ]
        },
        {
          "output_type": "stream",
          "name": "stdout",
          "text": [
            "\n",
            "++ [ Deadend || Tales of the Night ] == wrong ||  {'Correct': 18, 'Wrong': 34}\n",
            "\n",
            "##  She starts screaming again that she wants out to search for her son and mother but the father and daughter start doubting the mothers sanity. Deadend\n",
            "\t\t\t\t\t\t\t\t Twisted\n",
            "\t\t\t\t\t\t\t\t Chatroom\n",
            "\t\t\t\t\t\t\t\t The 10th Kingdom\n",
            "\t\t\t\t\t\t\t\t The Dragon Ring\n",
            "\t\t\t\t\t\t\t\t Nowhere\n",
            "\t\t\t\t\t\t\t\t Deadend\n",
            "\t\t\t\t\t\t\t\t The Warlord\n",
            "\t\t\t\t\t\t\t\t The Final\n",
            "\t\t\t\t\t\t\t\t Tales of the Night\n",
            "\t\t\t\t\t\t\t\t The Watcher in the Woods\n"
          ]
        },
        {
          "output_type": "stream",
          "name": "stderr",
          "text": [
            "\r 42%|████▏     | 53/126 [04:23<06:20,  5.21s/it]"
          ]
        },
        {
          "output_type": "stream",
          "name": "stdout",
          "text": [
            "\n",
            "++ [ Deadend || Deadend ] == correct ||  {'Correct': 19, 'Wrong': 34}\n",
            "\n",
            "##  She then sits quietly and suddenly jumps out of the car. Deadend\n",
            "\t\t\t\t\t\t\t\t Twisted\n",
            "\t\t\t\t\t\t\t\t Chatroom\n",
            "\t\t\t\t\t\t\t\t The 10th Kingdom\n",
            "\t\t\t\t\t\t\t\t The Dragon Ring\n",
            "\t\t\t\t\t\t\t\t Nowhere\n",
            "\t\t\t\t\t\t\t\t Deadend\n",
            "\t\t\t\t\t\t\t\t The Warlord\n",
            "\t\t\t\t\t\t\t\t The Final\n",
            "\t\t\t\t\t\t\t\t Tales of the Night\n",
            "\t\t\t\t\t\t\t\t The Watcher in the Woods\n"
          ]
        },
        {
          "output_type": "stream",
          "name": "stderr",
          "text": [
            "\r 43%|████▎     | 54/126 [04:28<06:01,  5.01s/it]"
          ]
        },
        {
          "output_type": "stream",
          "name": "stdout",
          "text": [
            "\n",
            "++ [ Deadend || Deadend ] == correct ||  {'Correct': 20, 'Wrong': 34}\n",
            "\n",
            "##  Now they might have stopped right then or the daughter had to convince the father to go back but she cracked her head and was dead. Deadend\n",
            "\t\t\t\t\t\t\t\t Twisted\n",
            "\t\t\t\t\t\t\t\t Chatroom\n",
            "\t\t\t\t\t\t\t\t The 10th Kingdom\n",
            "\t\t\t\t\t\t\t\t The Dragon Ring\n",
            "\t\t\t\t\t\t\t\t Nowhere\n",
            "\t\t\t\t\t\t\t\t Deadend\n",
            "\t\t\t\t\t\t\t\t The Warlord\n",
            "\t\t\t\t\t\t\t\t The Final\n",
            "\t\t\t\t\t\t\t\t Tales of the Night\n",
            "\t\t\t\t\t\t\t\t The Watcher in the Woods\n"
          ]
        },
        {
          "output_type": "stream",
          "name": "stderr",
          "text": [
            "\r 44%|████▎     | 55/126 [04:32<05:49,  4.92s/it]"
          ]
        },
        {
          "output_type": "stream",
          "name": "stdout",
          "text": [
            "\n",
            "++ [ Deadend || The Warlord ] == wrong ||  {'Correct': 20, 'Wrong': 35}\n",
            "\n",
            "##  They put her on the back seat and drive on and keep passing by the same cabin. Deadend\n",
            "\t\t\t\t\t\t\t\t Twisted\n",
            "\t\t\t\t\t\t\t\t Chatroom\n",
            "\t\t\t\t\t\t\t\t The 10th Kingdom\n",
            "\t\t\t\t\t\t\t\t The Dragon Ring\n",
            "\t\t\t\t\t\t\t\t Nowhere\n",
            "\t\t\t\t\t\t\t\t Deadend\n",
            "\t\t\t\t\t\t\t\t The Warlord\n",
            "\t\t\t\t\t\t\t\t The Final\n",
            "\t\t\t\t\t\t\t\t Tales of the Night\n",
            "\t\t\t\t\t\t\t\t The Watcher in the Woods\n"
          ]
        },
        {
          "output_type": "stream",
          "name": "stderr",
          "text": [
            "\r 44%|████▍     | 56/126 [04:37<05:36,  4.81s/it]"
          ]
        },
        {
          "output_type": "stream",
          "name": "stdout",
          "text": [
            "\n",
            "++ [ Deadend || Deadend ] == correct ||  {'Correct': 21, 'Wrong': 35}\n",
            "\n",
            "##  The camera switches to the mother, she opens her eyes. Deadend\n",
            "\t\t\t\t\t\t\t\t Twisted\n",
            "\t\t\t\t\t\t\t\t Chatroom\n",
            "\t\t\t\t\t\t\t\t The 10th Kingdom\n",
            "\t\t\t\t\t\t\t\t The Dragon Ring\n",
            "\t\t\t\t\t\t\t\t Nowhere\n",
            "\t\t\t\t\t\t\t\t Deadend\n",
            "\t\t\t\t\t\t\t\t The Warlord\n",
            "\t\t\t\t\t\t\t\t The Final\n",
            "\t\t\t\t\t\t\t\t Tales of the Night\n",
            "\t\t\t\t\t\t\t\t The Watcher in the Woods\n"
          ]
        },
        {
          "output_type": "stream",
          "name": "stderr",
          "text": [
            "\r 45%|████▌     | 57/126 [04:42<05:27,  4.75s/it]"
          ]
        },
        {
          "output_type": "stream",
          "name": "stdout",
          "text": [
            "\n",
            "++ [ Deadend || Deadend ] == correct ||  {'Correct': 22, 'Wrong': 35}\n",
            "\n",
            "##  When the father and daughter come back shes gone. Deadend\n",
            "\t\t\t\t\t\t\t\t Twisted\n",
            "\t\t\t\t\t\t\t\t Chatroom\n",
            "\t\t\t\t\t\t\t\t The 10th Kingdom\n",
            "\t\t\t\t\t\t\t\t The Dragon Ring\n",
            "\t\t\t\t\t\t\t\t Nowhere\n",
            "\t\t\t\t\t\t\t\t Deadend\n",
            "\t\t\t\t\t\t\t\t The Warlord\n",
            "\t\t\t\t\t\t\t\t The Final\n",
            "\t\t\t\t\t\t\t\t Tales of the Night\n",
            "\t\t\t\t\t\t\t\t The Watcher in the Woods\n"
          ]
        },
        {
          "output_type": "stream",
          "name": "stderr",
          "text": [
            "\r 46%|████▌     | 58/126 [04:46<05:19,  4.70s/it]"
          ]
        },
        {
          "output_type": "stream",
          "name": "stdout",
          "text": [
            "\n",
            "++ [ Deadend || Deadend ] == correct ||  {'Correct': 23, 'Wrong': 35}\n",
            "\n",
            "##  They argue that she was surely dead or now is if she ran into the woods. Deadend\n",
            "\t\t\t\t\t\t\t\t Twisted\n",
            "\t\t\t\t\t\t\t\t Chatroom\n",
            "\t\t\t\t\t\t\t\t The 10th Kingdom\n",
            "\t\t\t\t\t\t\t\t The Dragon Ring\n",
            "\t\t\t\t\t\t\t\t Nowhere\n",
            "\t\t\t\t\t\t\t\t Deadend\n",
            "\t\t\t\t\t\t\t\t The Warlord\n",
            "\t\t\t\t\t\t\t\t The Final\n",
            "\t\t\t\t\t\t\t\t Tales of the Night\n",
            "\t\t\t\t\t\t\t\t The Watcher in the Woods\n"
          ]
        },
        {
          "output_type": "stream",
          "name": "stderr",
          "text": [
            "\r 47%|████▋     | 59/126 [04:51<05:13,  4.67s/it]"
          ]
        },
        {
          "output_type": "stream",
          "name": "stdout",
          "text": [
            "\n",
            "++ [ Deadend || The Watcher in the Woods ] == wrong ||  {'Correct': 23, 'Wrong': 36}\n",
            "\n",
            "##  A black car, could have been a Black Volga, is chasing her. Deadend\n",
            "\t\t\t\t\t\t\t\t Twisted\n",
            "\t\t\t\t\t\t\t\t Chatroom\n",
            "\t\t\t\t\t\t\t\t The 10th Kingdom\n",
            "\t\t\t\t\t\t\t\t The Dragon Ring\n",
            "\t\t\t\t\t\t\t\t Nowhere\n",
            "\t\t\t\t\t\t\t\t Deadend\n",
            "\t\t\t\t\t\t\t\t The Warlord\n",
            "\t\t\t\t\t\t\t\t The Final\n",
            "\t\t\t\t\t\t\t\t Tales of the Night\n",
            "\t\t\t\t\t\t\t\t The Watcher in the Woods\n"
          ]
        },
        {
          "output_type": "stream",
          "name": "stderr",
          "text": [
            "\r 48%|████▊     | 60/126 [04:55<05:05,  4.64s/it]"
          ]
        },
        {
          "output_type": "stream",
          "name": "stdout",
          "text": [
            "\n",
            "++ [ Deadend || Deadend ] == correct ||  {'Correct': 24, 'Wrong': 36}\n",
            "\n",
            "##  She wakes up in a hospital bed surrounded by people. Deadend\n",
            "\t\t\t\t\t\t\t\t Twisted\n",
            "\t\t\t\t\t\t\t\t Chatroom\n",
            "\t\t\t\t\t\t\t\t The 10th Kingdom\n",
            "\t\t\t\t\t\t\t\t The Dragon Ring\n",
            "\t\t\t\t\t\t\t\t Nowhere\n",
            "\t\t\t\t\t\t\t\t Deadend\n",
            "\t\t\t\t\t\t\t\t The Warlord\n",
            "\t\t\t\t\t\t\t\t The Final\n",
            "\t\t\t\t\t\t\t\t Tales of the Night\n",
            "\t\t\t\t\t\t\t\t The Watcher in the Woods\n"
          ]
        },
        {
          "output_type": "stream",
          "name": "stderr",
          "text": [
            "\r 48%|████▊     | 61/126 [05:00<04:59,  4.60s/it]"
          ]
        },
        {
          "output_type": "stream",
          "name": "stdout",
          "text": [
            "\n",
            "++ [ Deadend || Deadend ] == correct ||  {'Correct': 25, 'Wrong': 36}\n",
            "\n",
            "##  She was found by someone. Deadend\n",
            "\t\t\t\t\t\t\t\t Twisted\n",
            "\t\t\t\t\t\t\t\t Chatroom\n",
            "\t\t\t\t\t\t\t\t The 10th Kingdom\n",
            "\t\t\t\t\t\t\t\t The Dragon Ring\n",
            "\t\t\t\t\t\t\t\t Nowhere\n",
            "\t\t\t\t\t\t\t\t Deadend\n",
            "\t\t\t\t\t\t\t\t The Warlord\n",
            "\t\t\t\t\t\t\t\t The Final\n",
            "\t\t\t\t\t\t\t\t Tales of the Night\n",
            "\t\t\t\t\t\t\t\t The Watcher in the Woods\n"
          ]
        },
        {
          "output_type": "stream",
          "name": "stderr",
          "text": [
            "\r 49%|████▉     | 62/126 [05:05<05:12,  4.89s/it]"
          ]
        },
        {
          "output_type": "stream",
          "name": "stdout",
          "text": [
            "\n",
            "++ [ Deadend || The Final ] == wrong ||  {'Correct': 25, 'Wrong': 37}\n",
            "\n",
            "##  The son gets killed by a hook on the trees or some naked woman with a hook. Deadend\n",
            "\t\t\t\t\t\t\t\t Twisted\n",
            "\t\t\t\t\t\t\t\t Chatroom\n",
            "\t\t\t\t\t\t\t\t The 10th Kingdom\n",
            "\t\t\t\t\t\t\t\t The Dragon Ring\n",
            "\t\t\t\t\t\t\t\t Nowhere\n",
            "\t\t\t\t\t\t\t\t Deadend\n",
            "\t\t\t\t\t\t\t\t The Warlord\n",
            "\t\t\t\t\t\t\t\t The Final\n",
            "\t\t\t\t\t\t\t\t Tales of the Night\n",
            "\t\t\t\t\t\t\t\t The Watcher in the Woods\n"
          ]
        },
        {
          "output_type": "stream",
          "name": "stderr",
          "text": [
            "\r 50%|█████     | 63/126 [05:10<05:11,  4.94s/it]"
          ]
        },
        {
          "output_type": "stream",
          "name": "stdout",
          "text": [
            "\n",
            "++ [ Deadend || Chatroom ] == wrong ||  {'Correct': 25, 'Wrong': 38}\n",
            "\n",
            "##  Man with some dark desert garb goes into town, finds a bar. The Warlord\n",
            "\t\t\t\t\t\t\t\t Twisted\n",
            "\t\t\t\t\t\t\t\t Chatroom\n",
            "\t\t\t\t\t\t\t\t The 10th Kingdom\n",
            "\t\t\t\t\t\t\t\t The Dragon Ring\n",
            "\t\t\t\t\t\t\t\t Nowhere\n",
            "\t\t\t\t\t\t\t\t Deadend\n",
            "\t\t\t\t\t\t\t\t The Warlord\n",
            "\t\t\t\t\t\t\t\t The Final\n",
            "\t\t\t\t\t\t\t\t Tales of the Night\n",
            "\t\t\t\t\t\t\t\t The Watcher in the Woods\n"
          ]
        },
        {
          "output_type": "stream",
          "name": "stderr",
          "text": [
            "\r 51%|█████     | 64/126 [05:15<05:00,  4.85s/it]"
          ]
        },
        {
          "output_type": "stream",
          "name": "stdout",
          "text": [
            "\n",
            "++ [ The Warlord || The Final ] == wrong ||  {'Correct': 25, 'Wrong': 39}\n",
            "\n",
            "##  Man receives a mission or finds a job, here. The Warlord\n",
            "\t\t\t\t\t\t\t\t Twisted\n",
            "\t\t\t\t\t\t\t\t Chatroom\n",
            "\t\t\t\t\t\t\t\t The 10th Kingdom\n",
            "\t\t\t\t\t\t\t\t The Dragon Ring\n",
            "\t\t\t\t\t\t\t\t Nowhere\n",
            "\t\t\t\t\t\t\t\t Deadend\n",
            "\t\t\t\t\t\t\t\t The Warlord\n",
            "\t\t\t\t\t\t\t\t The Final\n",
            "\t\t\t\t\t\t\t\t Tales of the Night\n",
            "\t\t\t\t\t\t\t\t The Watcher in the Woods\n"
          ]
        },
        {
          "output_type": "stream",
          "name": "stderr",
          "text": [
            "\r 52%|█████▏    | 65/126 [05:20<04:50,  4.77s/it]"
          ]
        },
        {
          "output_type": "stream",
          "name": "stdout",
          "text": [
            "\n",
            "++ [ The Warlord || Tales of the Night ] == wrong ||  {'Correct': 25, 'Wrong': 40}\n",
            "\n",
            "##  Later, there might have been a bar fight. The Warlord\n",
            "\t\t\t\t\t\t\t\t Twisted\n",
            "\t\t\t\t\t\t\t\t Chatroom\n",
            "\t\t\t\t\t\t\t\t The 10th Kingdom\n",
            "\t\t\t\t\t\t\t\t The Dragon Ring\n",
            "\t\t\t\t\t\t\t\t Nowhere\n",
            "\t\t\t\t\t\t\t\t Deadend\n",
            "\t\t\t\t\t\t\t\t The Warlord\n",
            "\t\t\t\t\t\t\t\t The Final\n",
            "\t\t\t\t\t\t\t\t Tales of the Night\n",
            "\t\t\t\t\t\t\t\t The Watcher in the Woods\n"
          ]
        },
        {
          "output_type": "stream",
          "name": "stderr",
          "text": [
            "\r 52%|█████▏    | 66/126 [05:24<04:43,  4.72s/it]"
          ]
        },
        {
          "output_type": "stream",
          "name": "stdout",
          "text": [
            "\n",
            "++ [ The Warlord || The 10th Kingdom ] == wrong ||  {'Correct': 25, 'Wrong': 41}\n",
            "\n",
            "##  Black-haired woman joins his crew, the next day. The Warlord\n",
            "\t\t\t\t\t\t\t\t Twisted\n",
            "\t\t\t\t\t\t\t\t Chatroom\n",
            "\t\t\t\t\t\t\t\t The 10th Kingdom\n",
            "\t\t\t\t\t\t\t\t The Dragon Ring\n",
            "\t\t\t\t\t\t\t\t Nowhere\n",
            "\t\t\t\t\t\t\t\t Deadend\n",
            "\t\t\t\t\t\t\t\t The Warlord\n",
            "\t\t\t\t\t\t\t\t The Final\n",
            "\t\t\t\t\t\t\t\t Tales of the Night\n",
            "\t\t\t\t\t\t\t\t The Watcher in the Woods\n"
          ]
        },
        {
          "output_type": "stream",
          "name": "stderr",
          "text": [
            "\r 53%|█████▎    | 67/126 [05:29<04:35,  4.68s/it]"
          ]
        },
        {
          "output_type": "stream",
          "name": "stdout",
          "text": [
            "\n",
            "++ [ The Warlord || Deadend ] == wrong ||  {'Correct': 25, 'Wrong': 42}\n",
            "\n",
            "##  They go off-planet on a ship to complete a job or mission. The Warlord\n",
            "\t\t\t\t\t\t\t\t Twisted\n",
            "\t\t\t\t\t\t\t\t Chatroom\n",
            "\t\t\t\t\t\t\t\t The 10th Kingdom\n",
            "\t\t\t\t\t\t\t\t The Dragon Ring\n",
            "\t\t\t\t\t\t\t\t Nowhere\n",
            "\t\t\t\t\t\t\t\t Deadend\n",
            "\t\t\t\t\t\t\t\t The Warlord\n",
            "\t\t\t\t\t\t\t\t The Final\n",
            "\t\t\t\t\t\t\t\t Tales of the Night\n",
            "\t\t\t\t\t\t\t\t The Watcher in the Woods\n"
          ]
        },
        {
          "output_type": "stream",
          "name": "stderr",
          "text": [
            "\r 54%|█████▍    | 68/126 [05:33<04:29,  4.65s/it]"
          ]
        },
        {
          "output_type": "stream",
          "name": "stdout",
          "text": [
            "\n",
            "++ [ The Warlord || The Warlord ] == correct ||  {'Correct': 26, 'Wrong': 42}\n",
            "\n",
            "##  Later, on the same planet, a girl is kidnapped by some aliens. The Warlord\n",
            "\t\t\t\t\t\t\t\t Twisted\n",
            "\t\t\t\t\t\t\t\t Chatroom\n",
            "\t\t\t\t\t\t\t\t The 10th Kingdom\n",
            "\t\t\t\t\t\t\t\t The Dragon Ring\n",
            "\t\t\t\t\t\t\t\t Nowhere\n",
            "\t\t\t\t\t\t\t\t Deadend\n",
            "\t\t\t\t\t\t\t\t The Warlord\n",
            "\t\t\t\t\t\t\t\t The Final\n",
            "\t\t\t\t\t\t\t\t Tales of the Night\n",
            "\t\t\t\t\t\t\t\t The Watcher in the Woods\n"
          ]
        },
        {
          "output_type": "stream",
          "name": "stderr",
          "text": [
            "\r 55%|█████▍    | 69/126 [05:38<04:23,  4.63s/it]"
          ]
        },
        {
          "output_type": "stream",
          "name": "stdout",
          "text": [
            "\n",
            "++ [ The Warlord || Nowhere ] == wrong ||  {'Correct': 26, 'Wrong': 43}\n",
            "\n",
            "##  The aliens have creepy faces, but otherwise are humanoid. The Warlord\n",
            "\t\t\t\t\t\t\t\t Twisted\n",
            "\t\t\t\t\t\t\t\t Chatroom\n",
            "\t\t\t\t\t\t\t\t The 10th Kingdom\n",
            "\t\t\t\t\t\t\t\t The Dragon Ring\n",
            "\t\t\t\t\t\t\t\t Nowhere\n",
            "\t\t\t\t\t\t\t\t Deadend\n",
            "\t\t\t\t\t\t\t\t The Warlord\n",
            "\t\t\t\t\t\t\t\t The Final\n",
            "\t\t\t\t\t\t\t\t Tales of the Night\n",
            "\t\t\t\t\t\t\t\t The Watcher in the Woods\n"
          ]
        },
        {
          "output_type": "stream",
          "name": "stderr",
          "text": [
            "\r 56%|█████▌    | 70/126 [05:42<04:17,  4.60s/it]"
          ]
        },
        {
          "output_type": "stream",
          "name": "stdout",
          "text": [
            "\n",
            "++ [ The Warlord || The Warlord ] == correct ||  {'Correct': 27, 'Wrong': 43}\n",
            "\n",
            "##  They live underground in a bright red cave, with plenty of tunnels. The Warlord\n",
            "\t\t\t\t\t\t\t\t Twisted\n",
            "\t\t\t\t\t\t\t\t Chatroom\n",
            "\t\t\t\t\t\t\t\t The 10th Kingdom\n",
            "\t\t\t\t\t\t\t\t The Dragon Ring\n",
            "\t\t\t\t\t\t\t\t Nowhere\n",
            "\t\t\t\t\t\t\t\t Deadend\n",
            "\t\t\t\t\t\t\t\t The Warlord\n",
            "\t\t\t\t\t\t\t\t The Final\n",
            "\t\t\t\t\t\t\t\t Tales of the Night\n",
            "\t\t\t\t\t\t\t\t The Watcher in the Woods\n"
          ]
        },
        {
          "output_type": "stream",
          "name": "stderr",
          "text": [
            "\r 56%|█████▋    | 71/126 [05:48<04:31,  4.93s/it]"
          ]
        },
        {
          "output_type": "stream",
          "name": "stdout",
          "text": [
            "\n",
            "++ [ The Warlord || Chatroom ] == wrong ||  {'Correct': 27, 'Wrong': 44}\n",
            "\n",
            "##  Above the surface, the aliens wear robes, and look like some type of religious priesthood. The Warlord\n",
            "\t\t\t\t\t\t\t\t Twisted\n",
            "\t\t\t\t\t\t\t\t Chatroom\n",
            "\t\t\t\t\t\t\t\t The 10th Kingdom\n",
            "\t\t\t\t\t\t\t\t The Dragon Ring\n",
            "\t\t\t\t\t\t\t\t Nowhere\n",
            "\t\t\t\t\t\t\t\t Deadend\n",
            "\t\t\t\t\t\t\t\t The Warlord\n",
            "\t\t\t\t\t\t\t\t The Final\n",
            "\t\t\t\t\t\t\t\t Tales of the Night\n",
            "\t\t\t\t\t\t\t\t The Watcher in the Woods\n"
          ]
        },
        {
          "output_type": "stream",
          "name": "stderr",
          "text": [
            "\r 57%|█████▋    | 72/126 [05:53<04:27,  4.96s/it]"
          ]
        },
        {
          "output_type": "stream",
          "name": "stdout",
          "text": [
            "\n",
            "++ [ The Warlord || The Watcher in the Woods ] == wrong ||  {'Correct': 27, 'Wrong': 45}\n",
            "\n",
            "##  They are doing something to the kid's mind, as part of a ritual. The Warlord\n",
            "\t\t\t\t\t\t\t\t Twisted\n",
            "\t\t\t\t\t\t\t\t Chatroom\n",
            "\t\t\t\t\t\t\t\t The 10th Kingdom\n",
            "\t\t\t\t\t\t\t\t The Dragon Ring\n",
            "\t\t\t\t\t\t\t\t Nowhere\n",
            "\t\t\t\t\t\t\t\t Deadend\n",
            "\t\t\t\t\t\t\t\t The Warlord\n",
            "\t\t\t\t\t\t\t\t The Final\n",
            "\t\t\t\t\t\t\t\t Tales of the Night\n",
            "\t\t\t\t\t\t\t\t The Watcher in the Woods\n"
          ]
        },
        {
          "output_type": "stream",
          "name": "stderr",
          "text": [
            "\r 58%|█████▊    | 73/126 [05:58<04:16,  4.84s/it]"
          ]
        },
        {
          "output_type": "stream",
          "name": "stdout",
          "text": [
            "\n",
            "++ [ The Warlord || The Watcher in the Woods ] == wrong ||  {'Correct': 27, 'Wrong': 46}\n",
            "\n",
            "##  Anyways, man and woman defeat some big bad, there's a a gun fight on the bridge of a bigger ship. The Warlord\n",
            "\t\t\t\t\t\t\t\t Twisted\n",
            "\t\t\t\t\t\t\t\t Chatroom\n",
            "\t\t\t\t\t\t\t\t The 10th Kingdom\n",
            "\t\t\t\t\t\t\t\t The Dragon Ring\n",
            "\t\t\t\t\t\t\t\t Nowhere\n",
            "\t\t\t\t\t\t\t\t Deadend\n",
            "\t\t\t\t\t\t\t\t The Warlord\n",
            "\t\t\t\t\t\t\t\t The Final\n",
            "\t\t\t\t\t\t\t\t Tales of the Night\n",
            "\t\t\t\t\t\t\t\t The Watcher in the Woods\n"
          ]
        },
        {
          "output_type": "stream",
          "name": "stderr",
          "text": [
            "\r 59%|█████▊    | 74/126 [06:02<04:09,  4.80s/it]"
          ]
        },
        {
          "output_type": "stream",
          "name": "stdout",
          "text": [
            "\n",
            "++ [ The Warlord || Tales of the Night ] == wrong ||  {'Correct': 27, 'Wrong': 47}\n",
            "\n",
            "##  Then they race back to the planet to save the girl. The Warlord\n",
            "\t\t\t\t\t\t\t\t Twisted\n",
            "\t\t\t\t\t\t\t\t Chatroom\n",
            "\t\t\t\t\t\t\t\t The 10th Kingdom\n",
            "\t\t\t\t\t\t\t\t The Dragon Ring\n",
            "\t\t\t\t\t\t\t\t Nowhere\n",
            "\t\t\t\t\t\t\t\t Deadend\n",
            "\t\t\t\t\t\t\t\t The Warlord\n",
            "\t\t\t\t\t\t\t\t The Final\n",
            "\t\t\t\t\t\t\t\t Tales of the Night\n",
            "\t\t\t\t\t\t\t\t The Watcher in the Woods\n"
          ]
        },
        {
          "output_type": "stream",
          "name": "stderr",
          "text": [
            "\r 60%|█████▉    | 75/126 [06:07<04:02,  4.75s/it]"
          ]
        },
        {
          "output_type": "stream",
          "name": "stdout",
          "text": [
            "\n",
            "++ [ The Warlord || The 10th Kingdom ] == wrong ||  {'Correct': 27, 'Wrong': 48}\n",
            "\n",
            "##  Begins on a distant planet or moon  The Warlord\n",
            "\t\t\t\t\t\t\t\t Twisted\n",
            "\t\t\t\t\t\t\t\t Chatroom\n",
            "\t\t\t\t\t\t\t\t The 10th Kingdom\n",
            "\t\t\t\t\t\t\t\t The Dragon Ring\n",
            "\t\t\t\t\t\t\t\t Nowhere\n",
            "\t\t\t\t\t\t\t\t Deadend\n",
            "\t\t\t\t\t\t\t\t The Warlord\n",
            "\t\t\t\t\t\t\t\t The Final\n",
            "\t\t\t\t\t\t\t\t Tales of the Night\n",
            "\t\t\t\t\t\t\t\t The Watcher in the Woods\n"
          ]
        },
        {
          "output_type": "stream",
          "name": "stderr",
          "text": [
            "\r 60%|██████    | 76/126 [06:12<03:55,  4.70s/it]"
          ]
        },
        {
          "output_type": "stream",
          "name": "stdout",
          "text": [
            "\n",
            "++ [ The Warlord || The Warlord ] == correct ||  {'Correct': 28, 'Wrong': 48}\n",
            "\n",
            "##  World full of humans and a few aliens. The Warlord\n",
            "\t\t\t\t\t\t\t\t Twisted\n",
            "\t\t\t\t\t\t\t\t Chatroom\n",
            "\t\t\t\t\t\t\t\t The 10th Kingdom\n",
            "\t\t\t\t\t\t\t\t The Dragon Ring\n",
            "\t\t\t\t\t\t\t\t Nowhere\n",
            "\t\t\t\t\t\t\t\t Deadend\n",
            "\t\t\t\t\t\t\t\t The Warlord\n",
            "\t\t\t\t\t\t\t\t The Final\n",
            "\t\t\t\t\t\t\t\t Tales of the Night\n",
            "\t\t\t\t\t\t\t\t The Watcher in the Woods\n"
          ]
        },
        {
          "output_type": "stream",
          "name": "stderr",
          "text": [
            "\r 61%|██████    | 77/126 [06:16<03:48,  4.67s/it]"
          ]
        },
        {
          "output_type": "stream",
          "name": "stdout",
          "text": [
            "\n",
            "++ [ The Warlord || The Warlord ] == correct ||  {'Correct': 29, 'Wrong': 48}\n",
            "\n",
            "##  Surface looks like a desert. The Warlord\n",
            "\t\t\t\t\t\t\t\t Twisted\n",
            "\t\t\t\t\t\t\t\t Chatroom\n",
            "\t\t\t\t\t\t\t\t The 10th Kingdom\n",
            "\t\t\t\t\t\t\t\t The Dragon Ring\n",
            "\t\t\t\t\t\t\t\t Nowhere\n",
            "\t\t\t\t\t\t\t\t Deadend\n",
            "\t\t\t\t\t\t\t\t The Warlord\n",
            "\t\t\t\t\t\t\t\t The Final\n",
            "\t\t\t\t\t\t\t\t Tales of the Night\n",
            "\t\t\t\t\t\t\t\t The Watcher in the Woods\n"
          ]
        },
        {
          "output_type": "stream",
          "name": "stderr",
          "text": [
            "\r 62%|██████▏   | 78/126 [06:21<03:43,  4.65s/it]"
          ]
        },
        {
          "output_type": "stream",
          "name": "stdout",
          "text": [
            "\n",
            "++ [ The Warlord || Chatroom ] == wrong ||  {'Correct': 29, 'Wrong': 49}\n",
            "\n",
            "##  Some broad dusty steps leading to a larger building. The Warlord\n",
            "\t\t\t\t\t\t\t\t Twisted\n",
            "\t\t\t\t\t\t\t\t Chatroom\n",
            "\t\t\t\t\t\t\t\t The 10th Kingdom\n",
            "\t\t\t\t\t\t\t\t The Dragon Ring\n",
            "\t\t\t\t\t\t\t\t Nowhere\n",
            "\t\t\t\t\t\t\t\t Deadend\n",
            "\t\t\t\t\t\t\t\t The Warlord\n",
            "\t\t\t\t\t\t\t\t The Final\n",
            "\t\t\t\t\t\t\t\t Tales of the Night\n",
            "\t\t\t\t\t\t\t\t The Watcher in the Woods\n"
          ]
        },
        {
          "output_type": "stream",
          "name": "stderr",
          "text": [
            "\r 63%|██████▎   | 79/126 [06:26<03:38,  4.65s/it]"
          ]
        },
        {
          "output_type": "stream",
          "name": "stdout",
          "text": [
            "\n",
            "++ [ The Warlord || Chatroom ] == wrong ||  {'Correct': 29, 'Wrong': 50}\n",
            "\n",
            "##  its about a group of high school students who are constantly bullied. The Final\n",
            "\t\t\t\t\t\t\t\t Twisted\n",
            "\t\t\t\t\t\t\t\t Chatroom\n",
            "\t\t\t\t\t\t\t\t The 10th Kingdom\n",
            "\t\t\t\t\t\t\t\t The Dragon Ring\n",
            "\t\t\t\t\t\t\t\t Nowhere\n",
            "\t\t\t\t\t\t\t\t Deadend\n",
            "\t\t\t\t\t\t\t\t The Warlord\n",
            "\t\t\t\t\t\t\t\t The Final\n",
            "\t\t\t\t\t\t\t\t Tales of the Night\n",
            "\t\t\t\t\t\t\t\t The Watcher in the Woods\n"
          ]
        },
        {
          "output_type": "stream",
          "name": "stderr",
          "text": [
            "\r 63%|██████▎   | 80/126 [06:31<03:46,  4.93s/it]"
          ]
        },
        {
          "output_type": "stream",
          "name": "stdout",
          "text": [
            "\n",
            "++ [ The Final || The Final ] == correct ||  {'Correct': 30, 'Wrong': 50}\n",
            "\n",
            "##  at one point the bullies corner 2 guys in the bathroom and break one of their cameras. The Final\n",
            "\t\t\t\t\t\t\t\t Twisted\n",
            "\t\t\t\t\t\t\t\t Chatroom\n",
            "\t\t\t\t\t\t\t\t The 10th Kingdom\n",
            "\t\t\t\t\t\t\t\t The Dragon Ring\n",
            "\t\t\t\t\t\t\t\t Nowhere\n",
            "\t\t\t\t\t\t\t\t Deadend\n",
            "\t\t\t\t\t\t\t\t The Warlord\n",
            "\t\t\t\t\t\t\t\t The Final\n",
            "\t\t\t\t\t\t\t\t Tales of the Night\n",
            "\t\t\t\t\t\t\t\t The Watcher in the Woods\n"
          ]
        },
        {
          "output_type": "stream",
          "name": "stderr",
          "text": [
            "\r 64%|██████▍   | 81/126 [06:38<04:07,  5.49s/it]"
          ]
        },
        {
          "output_type": "stream",
          "name": "stdout",
          "text": [
            "\n",
            "++ [ The Final || The Final ] == correct ||  {'Correct': 31, 'Wrong': 50}\n",
            "\n",
            "##  so they all retaliate by throwing a party, in disguise, and knocking them all out with chemicals in the punch. The Final\n",
            "\t\t\t\t\t\t\t\t Twisted\n",
            "\t\t\t\t\t\t\t\t Chatroom\n",
            "\t\t\t\t\t\t\t\t The 10th Kingdom\n",
            "\t\t\t\t\t\t\t\t The Dragon Ring\n",
            "\t\t\t\t\t\t\t\t Nowhere\n",
            "\t\t\t\t\t\t\t\t Deadend\n",
            "\t\t\t\t\t\t\t\t The Warlord\n",
            "\t\t\t\t\t\t\t\t The Final\n",
            "\t\t\t\t\t\t\t\t Tales of the Night\n",
            "\t\t\t\t\t\t\t\t The Watcher in the Woods\n"
          ]
        },
        {
          "output_type": "stream",
          "name": "stderr",
          "text": [
            "\r 65%|██████▌   | 82/126 [06:43<03:51,  5.26s/it]"
          ]
        },
        {
          "output_type": "stream",
          "name": "stdout",
          "text": [
            "\n",
            "++ [ The Final || The Final ] == correct ||  {'Correct': 32, 'Wrong': 50}\n",
            "\n",
            "##  they all wake up chained up. The Final\n",
            "\t\t\t\t\t\t\t\t Twisted\n",
            "\t\t\t\t\t\t\t\t Chatroom\n",
            "\t\t\t\t\t\t\t\t The 10th Kingdom\n",
            "\t\t\t\t\t\t\t\t The Dragon Ring\n",
            "\t\t\t\t\t\t\t\t Nowhere\n",
            "\t\t\t\t\t\t\t\t Deadend\n",
            "\t\t\t\t\t\t\t\t The Warlord\n",
            "\t\t\t\t\t\t\t\t The Final\n",
            "\t\t\t\t\t\t\t\t Tales of the Night\n",
            "\t\t\t\t\t\t\t\t The Watcher in the Woods\n"
          ]
        },
        {
          "output_type": "stream",
          "name": "stderr",
          "text": [
            "\r 66%|██████▌   | 83/126 [06:47<03:37,  5.05s/it]"
          ]
        },
        {
          "output_type": "stream",
          "name": "stdout",
          "text": [
            "\n",
            "++ [ The Final || The Final ] == correct ||  {'Correct': 33, 'Wrong': 50}\n",
            "\n",
            "##  at one point the black kid wants to opt out so gas mask guy stabs him and he dies. The Final\n",
            "\t\t\t\t\t\t\t\t Twisted\n",
            "\t\t\t\t\t\t\t\t Chatroom\n",
            "\t\t\t\t\t\t\t\t The 10th Kingdom\n",
            "\t\t\t\t\t\t\t\t The Dragon Ring\n",
            "\t\t\t\t\t\t\t\t Nowhere\n",
            "\t\t\t\t\t\t\t\t Deadend\n",
            "\t\t\t\t\t\t\t\t The Warlord\n",
            "\t\t\t\t\t\t\t\t The Final\n",
            "\t\t\t\t\t\t\t\t Tales of the Night\n",
            "\t\t\t\t\t\t\t\t The Watcher in the Woods\n"
          ]
        },
        {
          "output_type": "stream",
          "name": "stderr",
          "text": [
            "\r 67%|██████▋   | 84/126 [06:52<03:26,  4.93s/it]"
          ]
        },
        {
          "output_type": "stream",
          "name": "stdout",
          "text": [
            "\n",
            "++ [ The Final || Chatroom ] == wrong ||  {'Correct': 33, 'Wrong': 51}\n",
            "\n",
            "##  the way they torture their victims include: making a fat guy chop off a girl's fingers, using a nail shooter thing (like in no country for old men) on a guy's leg and face, and putting a slowly working acid on a girlâ€™s face. The Final\n",
            "\t\t\t\t\t\t\t\t Twisted\n",
            "\t\t\t\t\t\t\t\t Chatroom\n",
            "\t\t\t\t\t\t\t\t The 10th Kingdom\n",
            "\t\t\t\t\t\t\t\t The Dragon Ring\n",
            "\t\t\t\t\t\t\t\t Nowhere\n",
            "\t\t\t\t\t\t\t\t Deadend\n",
            "\t\t\t\t\t\t\t\t The Warlord\n",
            "\t\t\t\t\t\t\t\t The Final\n",
            "\t\t\t\t\t\t\t\t Tales of the Night\n",
            "\t\t\t\t\t\t\t\t The Watcher in the Woods\n"
          ]
        },
        {
          "output_type": "stream",
          "name": "stderr",
          "text": [
            "\r 67%|██████▋   | 85/126 [06:57<03:22,  4.94s/it]"
          ]
        },
        {
          "output_type": "stream",
          "name": "stdout",
          "text": [
            "\n",
            "++ [ The Final || The Final ] == correct ||  {'Correct': 34, 'Wrong': 51}\n",
            "\n",
            "##  eventually one of them escapes (a black jock i think) and tries to get help. The Final\n",
            "\t\t\t\t\t\t\t\t Twisted\n",
            "\t\t\t\t\t\t\t\t Chatroom\n",
            "\t\t\t\t\t\t\t\t The 10th Kingdom\n",
            "\t\t\t\t\t\t\t\t The Dragon Ring\n",
            "\t\t\t\t\t\t\t\t Nowhere\n",
            "\t\t\t\t\t\t\t\t Deadend\n",
            "\t\t\t\t\t\t\t\t The Warlord\n",
            "\t\t\t\t\t\t\t\t The Final\n",
            "\t\t\t\t\t\t\t\t Tales of the Night\n",
            "\t\t\t\t\t\t\t\t The Watcher in the Woods\n"
          ]
        },
        {
          "output_type": "stream",
          "name": "stderr",
          "text": [
            "\r 68%|██████▊   | 86/126 [07:01<03:12,  4.82s/it]"
          ]
        },
        {
          "output_type": "stream",
          "name": "stdout",
          "text": [
            "\n",
            "++ [ The Final || The Final ] == correct ||  {'Correct': 35, 'Wrong': 51}\n",
            "\n",
            "##  the cop he finds gets killed and there is a quad chase. The Final\n",
            "\t\t\t\t\t\t\t\t Twisted\n",
            "\t\t\t\t\t\t\t\t Chatroom\n",
            "\t\t\t\t\t\t\t\t The 10th Kingdom\n",
            "\t\t\t\t\t\t\t\t The Dragon Ring\n",
            "\t\t\t\t\t\t\t\t Nowhere\n",
            "\t\t\t\t\t\t\t\t Deadend\n",
            "\t\t\t\t\t\t\t\t The Warlord\n",
            "\t\t\t\t\t\t\t\t The Final\n",
            "\t\t\t\t\t\t\t\t Tales of the Night\n",
            "\t\t\t\t\t\t\t\t The Watcher in the Woods\n"
          ]
        },
        {
          "output_type": "stream",
          "name": "stderr",
          "text": [
            "\r 69%|██████▉   | 87/126 [07:06<03:05,  4.76s/it]"
          ]
        },
        {
          "output_type": "stream",
          "name": "stdout",
          "text": [
            "\n",
            "++ [ The Final || Chatroom ] == wrong ||  {'Correct': 35, 'Wrong': 52}\n",
            "\n",
            "##  when they are found by the cops they kill themselves. The Final\n",
            "\t\t\t\t\t\t\t\t Twisted\n",
            "\t\t\t\t\t\t\t\t Chatroom\n",
            "\t\t\t\t\t\t\t\t The 10th Kingdom\n",
            "\t\t\t\t\t\t\t\t The Dragon Ring\n",
            "\t\t\t\t\t\t\t\t Nowhere\n",
            "\t\t\t\t\t\t\t\t Deadend\n",
            "\t\t\t\t\t\t\t\t The Warlord\n",
            "\t\t\t\t\t\t\t\t The Final\n",
            "\t\t\t\t\t\t\t\t Tales of the Night\n",
            "\t\t\t\t\t\t\t\t The Watcher in the Woods\n"
          ]
        },
        {
          "output_type": "stream",
          "name": "stderr",
          "text": [
            "\r 70%|██████▉   | 88/126 [07:11<02:59,  4.71s/it]"
          ]
        },
        {
          "output_type": "stream",
          "name": "stdout",
          "text": [
            "\n",
            "++ [ The Final || The Final ] == correct ||  {'Correct': 36, 'Wrong': 52}\n",
            "\n",
            "##  the girl they put acid on is seen in a coffee shop, scarred, in the intro and conclusion of the film.\n",
            " The Final\n",
            "\t\t\t\t\t\t\t\t Twisted\n",
            "\t\t\t\t\t\t\t\t Chatroom\n",
            "\t\t\t\t\t\t\t\t The 10th Kingdom\n",
            "\t\t\t\t\t\t\t\t The Dragon Ring\n",
            "\t\t\t\t\t\t\t\t Nowhere\n",
            "\t\t\t\t\t\t\t\t Deadend\n",
            "\t\t\t\t\t\t\t\t The Warlord\n",
            "\t\t\t\t\t\t\t\t The Final\n",
            "\t\t\t\t\t\t\t\t Tales of the Night\n",
            "\t\t\t\t\t\t\t\t The Watcher in the Woods\n"
          ]
        },
        {
          "output_type": "stream",
          "name": "stderr",
          "text": [
            "\r 71%|███████   | 89/126 [07:17<03:11,  5.18s/it]"
          ]
        },
        {
          "output_type": "stream",
          "name": "stdout",
          "text": [
            "\n",
            "++ [ The Final || The Final ] == correct ||  {'Correct': 37, 'Wrong': 52}\n",
            "\n",
            "##  The opening scene of the film has a girl with a scarred faced and it's in black and white at a diner. The Final\n",
            "\t\t\t\t\t\t\t\t Twisted\n",
            "\t\t\t\t\t\t\t\t Chatroom\n",
            "\t\t\t\t\t\t\t\t The 10th Kingdom\n",
            "\t\t\t\t\t\t\t\t The Dragon Ring\n",
            "\t\t\t\t\t\t\t\t Nowhere\n",
            "\t\t\t\t\t\t\t\t Deadend\n",
            "\t\t\t\t\t\t\t\t The Warlord\n",
            "\t\t\t\t\t\t\t\t The Final\n",
            "\t\t\t\t\t\t\t\t Tales of the Night\n",
            "\t\t\t\t\t\t\t\t The Watcher in the Woods\n"
          ]
        },
        {
          "output_type": "stream",
          "name": "stderr",
          "text": [
            "\r 71%|███████▏  | 90/126 [07:22<03:01,  5.05s/it]"
          ]
        },
        {
          "output_type": "stream",
          "name": "stdout",
          "text": [
            "\n",
            "++ [ The Final || The Final ] == correct ||  {'Correct': 38, 'Wrong': 52}\n",
            "\n",
            "##  Everyone in the diner is disgusted by her appearance (not only her physical appearance, but her presence in the room). The Final\n",
            "\t\t\t\t\t\t\t\t Twisted\n",
            "\t\t\t\t\t\t\t\t Chatroom\n",
            "\t\t\t\t\t\t\t\t The 10th Kingdom\n",
            "\t\t\t\t\t\t\t\t The Dragon Ring\n",
            "\t\t\t\t\t\t\t\t Nowhere\n",
            "\t\t\t\t\t\t\t\t Deadend\n",
            "\t\t\t\t\t\t\t\t The Warlord\n",
            "\t\t\t\t\t\t\t\t The Final\n",
            "\t\t\t\t\t\t\t\t Tales of the Night\n",
            "\t\t\t\t\t\t\t\t The Watcher in the Woods\n"
          ]
        },
        {
          "output_type": "stream",
          "name": "stderr",
          "text": [
            "\r 72%|███████▏  | 91/126 [07:26<02:53,  4.95s/it]"
          ]
        },
        {
          "output_type": "stream",
          "name": "stdout",
          "text": [
            "\n",
            "++ [ The Final || Chatroom ] == wrong ||  {'Correct': 38, 'Wrong': 53}\n",
            "\n",
            "##  It starts out in black and white (more of a grayish tone) at a small restaurant. The Final\n",
            "\t\t\t\t\t\t\t\t Twisted\n",
            "\t\t\t\t\t\t\t\t Chatroom\n",
            "\t\t\t\t\t\t\t\t The 10th Kingdom\n",
            "\t\t\t\t\t\t\t\t The Dragon Ring\n",
            "\t\t\t\t\t\t\t\t Nowhere\n",
            "\t\t\t\t\t\t\t\t Deadend\n",
            "\t\t\t\t\t\t\t\t The Warlord\n",
            "\t\t\t\t\t\t\t\t The Final\n",
            "\t\t\t\t\t\t\t\t Tales of the Night\n",
            "\t\t\t\t\t\t\t\t The Watcher in the Woods\n"
          ]
        },
        {
          "output_type": "stream",
          "name": "stderr",
          "text": [
            "\r 73%|███████▎  | 92/126 [07:31<02:45,  4.87s/it]"
          ]
        },
        {
          "output_type": "stream",
          "name": "stdout",
          "text": [
            "\n",
            "++ [ The Final || The Warlord ] == wrong ||  {'Correct': 38, 'Wrong': 54}\n",
            "\n",
            "##  A girl walks in with a red hoodie on (the hoodie may be the only thing in color, maybe not). The Final\n",
            "\t\t\t\t\t\t\t\t Twisted\n",
            "\t\t\t\t\t\t\t\t Chatroom\n",
            "\t\t\t\t\t\t\t\t The 10th Kingdom\n",
            "\t\t\t\t\t\t\t\t The Dragon Ring\n",
            "\t\t\t\t\t\t\t\t Nowhere\n",
            "\t\t\t\t\t\t\t\t Deadend\n",
            "\t\t\t\t\t\t\t\t The Warlord\n",
            "\t\t\t\t\t\t\t\t The Final\n",
            "\t\t\t\t\t\t\t\t Tales of the Night\n",
            "\t\t\t\t\t\t\t\t The Watcher in the Woods\n"
          ]
        },
        {
          "output_type": "stream",
          "name": "stderr",
          "text": [
            "\r 74%|███████▍  | 93/126 [07:36<02:39,  4.83s/it]"
          ]
        },
        {
          "output_type": "stream",
          "name": "stdout",
          "text": [
            "\n",
            "++ [ The Final || Tales of the Night ] == wrong ||  {'Correct': 38, 'Wrong': 55}\n",
            "\n",
            "##  Everyone in the restaurant seems to recognize her when she walks in. The Final\n",
            "\t\t\t\t\t\t\t\t Twisted\n",
            "\t\t\t\t\t\t\t\t Chatroom\n",
            "\t\t\t\t\t\t\t\t The 10th Kingdom\n",
            "\t\t\t\t\t\t\t\t The Dragon Ring\n",
            "\t\t\t\t\t\t\t\t Nowhere\n",
            "\t\t\t\t\t\t\t\t Deadend\n",
            "\t\t\t\t\t\t\t\t The Warlord\n",
            "\t\t\t\t\t\t\t\t The Final\n",
            "\t\t\t\t\t\t\t\t Tales of the Night\n",
            "\t\t\t\t\t\t\t\t The Watcher in the Woods\n"
          ]
        },
        {
          "output_type": "stream",
          "name": "stderr",
          "text": [
            "\r 75%|███████▍  | 94/126 [07:40<02:32,  4.78s/it]"
          ]
        },
        {
          "output_type": "stream",
          "name": "stdout",
          "text": [
            "\n",
            "++ [ The Final || The Final ] == correct ||  {'Correct': 39, 'Wrong': 55}\n",
            "\n",
            "##  Her face is badly disfigured. The Final\n",
            "\t\t\t\t\t\t\t\t Twisted\n",
            "\t\t\t\t\t\t\t\t Chatroom\n",
            "\t\t\t\t\t\t\t\t The 10th Kingdom\n",
            "\t\t\t\t\t\t\t\t The Dragon Ring\n",
            "\t\t\t\t\t\t\t\t Nowhere\n",
            "\t\t\t\t\t\t\t\t Deadend\n",
            "\t\t\t\t\t\t\t\t The Warlord\n",
            "\t\t\t\t\t\t\t\t The Final\n",
            "\t\t\t\t\t\t\t\t Tales of the Night\n",
            "\t\t\t\t\t\t\t\t The Watcher in the Woods\n"
          ]
        },
        {
          "output_type": "stream",
          "name": "stderr",
          "text": [
            "\r 75%|███████▌  | 95/126 [07:45<02:26,  4.72s/it]"
          ]
        },
        {
          "output_type": "stream",
          "name": "stdout",
          "text": [
            "\n",
            "++ [ The Final || The Final ] == correct ||  {'Correct': 40, 'Wrong': 55}\n",
            "\n",
            "##  People seem to be uncomfortable with her being in the room while theyâ€™re trying to eat their meals. The Final\n",
            "\t\t\t\t\t\t\t\t Twisted\n",
            "\t\t\t\t\t\t\t\t Chatroom\n",
            "\t\t\t\t\t\t\t\t The 10th Kingdom\n",
            "\t\t\t\t\t\t\t\t The Dragon Ring\n",
            "\t\t\t\t\t\t\t\t Nowhere\n",
            "\t\t\t\t\t\t\t\t Deadend\n",
            "\t\t\t\t\t\t\t\t The Warlord\n",
            "\t\t\t\t\t\t\t\t The Final\n",
            "\t\t\t\t\t\t\t\t Tales of the Night\n",
            "\t\t\t\t\t\t\t\t The Watcher in the Woods\n"
          ]
        },
        {
          "output_type": "stream",
          "name": "stderr",
          "text": [
            "\r 76%|███████▌  | 96/126 [07:50<02:21,  4.71s/it]"
          ]
        },
        {
          "output_type": "stream",
          "name": "stdout",
          "text": [
            "\n",
            "++ [ The Final || Chatroom ] == wrong ||  {'Correct': 40, 'Wrong': 56}\n",
            "\n",
            "##  The people in the restaurant also seem to stare at her and whisper about her till a she gets to a point she can't stand anymore. The Final\n",
            "\t\t\t\t\t\t\t\t Twisted\n",
            "\t\t\t\t\t\t\t\t Chatroom\n",
            "\t\t\t\t\t\t\t\t The 10th Kingdom\n",
            "\t\t\t\t\t\t\t\t The Dragon Ring\n",
            "\t\t\t\t\t\t\t\t Nowhere\n",
            "\t\t\t\t\t\t\t\t Deadend\n",
            "\t\t\t\t\t\t\t\t The Warlord\n",
            "\t\t\t\t\t\t\t\t The Final\n",
            "\t\t\t\t\t\t\t\t Tales of the Night\n",
            "\t\t\t\t\t\t\t\t The Watcher in the Woods\n"
          ]
        },
        {
          "output_type": "stream",
          "name": "stderr",
          "text": [
            "\r 77%|███████▋  | 97/126 [07:55<02:20,  4.84s/it]"
          ]
        },
        {
          "output_type": "stream",
          "name": "stdout",
          "text": [
            "\n",
            "++ [ The Final || Deadend ] == wrong ||  {'Correct': 40, 'Wrong': 57}\n",
            "\n",
            "##  She stands up and yells something out like â€œIs this what you wantâ€_x009d_ and takes off her hoodie to show her disfigured face, then the opening credits start to roll.\n",
            " The Final\n",
            "\t\t\t\t\t\t\t\t Twisted\n",
            "\t\t\t\t\t\t\t\t Chatroom\n",
            "\t\t\t\t\t\t\t\t The 10th Kingdom\n",
            "\t\t\t\t\t\t\t\t The Dragon Ring\n",
            "\t\t\t\t\t\t\t\t Nowhere\n",
            "\t\t\t\t\t\t\t\t Deadend\n",
            "\t\t\t\t\t\t\t\t The Warlord\n",
            "\t\t\t\t\t\t\t\t The Final\n",
            "\t\t\t\t\t\t\t\t Tales of the Night\n",
            "\t\t\t\t\t\t\t\t The Watcher in the Woods\n"
          ]
        },
        {
          "output_type": "stream",
          "name": "stderr",
          "text": [
            "\r 78%|███████▊  | 98/126 [08:01<02:25,  5.21s/it]"
          ]
        },
        {
          "output_type": "stream",
          "name": "stdout",
          "text": [
            "\n",
            "++ [ The Final || The Final ] == correct ||  {'Correct': 41, 'Wrong': 57}\n",
            "\n",
            "##  I think I remember a young girl who was tied to a tree in the woods. The Watcher in the Woods\n",
            "\t\t\t\t\t\t\t\t Twisted\n",
            "\t\t\t\t\t\t\t\t Chatroom\n",
            "\t\t\t\t\t\t\t\t The 10th Kingdom\n",
            "\t\t\t\t\t\t\t\t The Dragon Ring\n",
            "\t\t\t\t\t\t\t\t Nowhere\n",
            "\t\t\t\t\t\t\t\t Deadend\n",
            "\t\t\t\t\t\t\t\t The Warlord\n",
            "\t\t\t\t\t\t\t\t The Final\n",
            "\t\t\t\t\t\t\t\t Tales of the Night\n",
            "\t\t\t\t\t\t\t\t The Watcher in the Woods\n"
          ]
        },
        {
          "output_type": "stream",
          "name": "stderr",
          "text": [
            "\r 79%|███████▊  | 99/126 [08:05<02:15,  5.03s/it]"
          ]
        },
        {
          "output_type": "stream",
          "name": "stdout",
          "text": [
            "\n",
            "++ [ The Watcher in the Woods || Deadend ] == wrong ||  {'Correct': 41, 'Wrong': 58}\n",
            "\n",
            "##  There was a blonde woman who said something about blood and Satan. The Watcher in the Woods\n",
            "\t\t\t\t\t\t\t\t Twisted\n",
            "\t\t\t\t\t\t\t\t Chatroom\n",
            "\t\t\t\t\t\t\t\t The 10th Kingdom\n",
            "\t\t\t\t\t\t\t\t The Dragon Ring\n",
            "\t\t\t\t\t\t\t\t Nowhere\n",
            "\t\t\t\t\t\t\t\t Deadend\n",
            "\t\t\t\t\t\t\t\t The Warlord\n",
            "\t\t\t\t\t\t\t\t The Final\n",
            "\t\t\t\t\t\t\t\t Tales of the Night\n",
            "\t\t\t\t\t\t\t\t The Watcher in the Woods\n"
          ]
        },
        {
          "output_type": "stream",
          "name": "stderr",
          "text": [
            "\r 79%|███████▉  | 100/126 [08:10<02:07,  4.90s/it]"
          ]
        },
        {
          "output_type": "stream",
          "name": "stdout",
          "text": [
            "\n",
            "++ [ The Watcher in the Woods || Tales of the Night ] == wrong ||  {'Correct': 41, 'Wrong': 59}\n",
            "\n",
            "##  There may have been a telepathic connection between her and the girl. The Watcher in the Woods\n",
            "\t\t\t\t\t\t\t\t Twisted\n",
            "\t\t\t\t\t\t\t\t Chatroom\n",
            "\t\t\t\t\t\t\t\t The 10th Kingdom\n",
            "\t\t\t\t\t\t\t\t The Dragon Ring\n",
            "\t\t\t\t\t\t\t\t Nowhere\n",
            "\t\t\t\t\t\t\t\t Deadend\n",
            "\t\t\t\t\t\t\t\t The Warlord\n",
            "\t\t\t\t\t\t\t\t The Final\n",
            "\t\t\t\t\t\t\t\t Tales of the Night\n",
            "\t\t\t\t\t\t\t\t The Watcher in the Woods\n"
          ]
        },
        {
          "output_type": "stream",
          "name": "stderr",
          "text": [
            "\r 80%|████████  | 101/126 [08:15<02:00,  4.81s/it]"
          ]
        },
        {
          "output_type": "stream",
          "name": "stdout",
          "text": [
            "\n",
            "++ [ The Watcher in the Woods || The 10th Kingdom ] == wrong ||  {'Correct': 41, 'Wrong': 60}\n",
            "\n",
            "##  Maybe the woman was trying to find her. The Watcher in the Woods\n",
            "\t\t\t\t\t\t\t\t Twisted\n",
            "\t\t\t\t\t\t\t\t Chatroom\n",
            "\t\t\t\t\t\t\t\t The 10th Kingdom\n",
            "\t\t\t\t\t\t\t\t The Dragon Ring\n",
            "\t\t\t\t\t\t\t\t Nowhere\n",
            "\t\t\t\t\t\t\t\t Deadend\n",
            "\t\t\t\t\t\t\t\t The Warlord\n",
            "\t\t\t\t\t\t\t\t The Final\n",
            "\t\t\t\t\t\t\t\t Tales of the Night\n",
            "\t\t\t\t\t\t\t\t The Watcher in the Woods\n"
          ]
        },
        {
          "output_type": "stream",
          "name": "stderr",
          "text": [
            "\r 81%|████████  | 102/126 [08:19<01:53,  4.73s/it]"
          ]
        },
        {
          "output_type": "stream",
          "name": "stdout",
          "text": [
            "\n",
            "++ [ The Watcher in the Woods || The Watcher in the Woods ] == correct ||  {'Correct': 42, 'Wrong': 60}\n",
            "\n",
            "##  There may have also been a witch, but maybe not. The Watcher in the Woods\n",
            "\t\t\t\t\t\t\t\t Twisted\n",
            "\t\t\t\t\t\t\t\t Chatroom\n",
            "\t\t\t\t\t\t\t\t The 10th Kingdom\n",
            "\t\t\t\t\t\t\t\t The Dragon Ring\n",
            "\t\t\t\t\t\t\t\t Nowhere\n",
            "\t\t\t\t\t\t\t\t Deadend\n",
            "\t\t\t\t\t\t\t\t The Warlord\n",
            "\t\t\t\t\t\t\t\t The Final\n",
            "\t\t\t\t\t\t\t\t Tales of the Night\n",
            "\t\t\t\t\t\t\t\t The Watcher in the Woods\n"
          ]
        },
        {
          "output_type": "stream",
          "name": "stderr",
          "text": [
            "\r 82%|████████▏ | 103/126 [08:24<01:48,  4.71s/it]"
          ]
        },
        {
          "output_type": "stream",
          "name": "stdout",
          "text": [
            "\n",
            "++ [ The Watcher in the Woods || Tales of the Night ] == wrong ||  {'Correct': 42, 'Wrong': 61}\n",
            "\n",
            "##  I believe there are two kids and they are staying ag this old house in the woods The Watcher in the Woods\n",
            "\t\t\t\t\t\t\t\t Twisted\n",
            "\t\t\t\t\t\t\t\t Chatroom\n",
            "\t\t\t\t\t\t\t\t The 10th Kingdom\n",
            "\t\t\t\t\t\t\t\t The Dragon Ring\n",
            "\t\t\t\t\t\t\t\t Nowhere\n",
            "\t\t\t\t\t\t\t\t Deadend\n",
            "\t\t\t\t\t\t\t\t The Warlord\n",
            "\t\t\t\t\t\t\t\t The Final\n",
            "\t\t\t\t\t\t\t\t Tales of the Night\n",
            "\t\t\t\t\t\t\t\t The Watcher in the Woods\n"
          ]
        },
        {
          "output_type": "stream",
          "name": "stderr",
          "text": [
            "\r 83%|████████▎ | 104/126 [08:29<01:43,  4.69s/it]"
          ]
        },
        {
          "output_type": "stream",
          "name": "stdout",
          "text": [
            "\n",
            "++ [ The Watcher in the Woods || The Final ] == wrong ||  {'Correct': 42, 'Wrong': 62}\n",
            "\n",
            "##  Not sure if they are on vacation or have parents there. The Watcher in the Woods\n",
            "\t\t\t\t\t\t\t\t Twisted\n",
            "\t\t\t\t\t\t\t\t Chatroom\n",
            "\t\t\t\t\t\t\t\t The 10th Kingdom\n",
            "\t\t\t\t\t\t\t\t The Dragon Ring\n",
            "\t\t\t\t\t\t\t\t Nowhere\n",
            "\t\t\t\t\t\t\t\t Deadend\n",
            "\t\t\t\t\t\t\t\t The Warlord\n",
            "\t\t\t\t\t\t\t\t The Final\n",
            "\t\t\t\t\t\t\t\t Tales of the Night\n",
            "\t\t\t\t\t\t\t\t The Watcher in the Woods\n"
          ]
        },
        {
          "output_type": "stream",
          "name": "stderr",
          "text": [
            "\r 83%|████████▎ | 105/126 [08:33<01:38,  4.68s/it]"
          ]
        },
        {
          "output_type": "stream",
          "name": "stdout",
          "text": [
            "\n",
            "++ [ The Watcher in the Woods || Chatroom ] == wrong ||  {'Correct': 42, 'Wrong': 63}\n",
            "\n",
            "##  But at one point, one kid gets trapped under water either under tree branches or under ice (but I'm pretty sure its summer so ice would be odd). The Watcher in the Woods\n",
            "\t\t\t\t\t\t\t\t Twisted\n",
            "\t\t\t\t\t\t\t\t Chatroom\n",
            "\t\t\t\t\t\t\t\t The 10th Kingdom\n",
            "\t\t\t\t\t\t\t\t The Dragon Ring\n",
            "\t\t\t\t\t\t\t\t Nowhere\n",
            "\t\t\t\t\t\t\t\t Deadend\n",
            "\t\t\t\t\t\t\t\t The Warlord\n",
            "\t\t\t\t\t\t\t\t The Final\n",
            "\t\t\t\t\t\t\t\t Tales of the Night\n",
            "\t\t\t\t\t\t\t\t The Watcher in the Woods\n"
          ]
        },
        {
          "output_type": "stream",
          "name": "stderr",
          "text": [
            "\r 84%|████████▍ | 106/126 [08:38<01:34,  4.73s/it]"
          ]
        },
        {
          "output_type": "stream",
          "name": "stdout",
          "text": [
            "\n",
            "++ [ The Watcher in the Woods || The Final ] == wrong ||  {'Correct': 42, 'Wrong': 64}\n",
            "\n",
            "##  I think the old woman (witch) is in the window makig this happen. The Watcher in the Woods\n",
            "\t\t\t\t\t\t\t\t Twisted\n",
            "\t\t\t\t\t\t\t\t Chatroom\n",
            "\t\t\t\t\t\t\t\t The 10th Kingdom\n",
            "\t\t\t\t\t\t\t\t The Dragon Ring\n",
            "\t\t\t\t\t\t\t\t Nowhere\n",
            "\t\t\t\t\t\t\t\t Deadend\n",
            "\t\t\t\t\t\t\t\t The Warlord\n",
            "\t\t\t\t\t\t\t\t The Final\n",
            "\t\t\t\t\t\t\t\t Tales of the Night\n",
            "\t\t\t\t\t\t\t\t The Watcher in the Woods\n"
          ]
        },
        {
          "output_type": "stream",
          "name": "stderr",
          "text": [
            "\r 85%|████████▍ | 107/126 [08:44<01:37,  5.11s/it]"
          ]
        },
        {
          "output_type": "stream",
          "name": "stdout",
          "text": [
            "\n",
            "++ [ The Watcher in the Woods || The Watcher in the Woods ] == correct ||  {'Correct': 43, 'Wrong': 64}\n",
            "\n",
            "##  some people took the new kid to a party or something or something and suddenly he was looking like a giant lizard please help me please Nowhere\n",
            "\t\t\t\t\t\t\t\t Twisted\n",
            "\t\t\t\t\t\t\t\t Chatroom\n",
            "\t\t\t\t\t\t\t\t The 10th Kingdom\n",
            "\t\t\t\t\t\t\t\t The Dragon Ring\n",
            "\t\t\t\t\t\t\t\t Nowhere\n",
            "\t\t\t\t\t\t\t\t Deadend\n",
            "\t\t\t\t\t\t\t\t The Warlord\n",
            "\t\t\t\t\t\t\t\t The Final\n",
            "\t\t\t\t\t\t\t\t Tales of the Night\n",
            "\t\t\t\t\t\t\t\t The Watcher in the Woods\n"
          ]
        },
        {
          "output_type": "stream",
          "name": "stderr",
          "text": [
            "\r 86%|████████▌ | 108/126 [08:49<01:30,  5.01s/it]"
          ]
        },
        {
          "output_type": "stream",
          "name": "stdout",
          "text": [
            "\n",
            "++ [ Nowhere || Tales of the Night ] == wrong ||  {'Correct': 43, 'Wrong': 65}\n",
            "\n",
            "##  then the teenagers took a new kid to a party or something and suddenly the new kid turned into a giant lizard what did you mean? Nowhere\n",
            "\t\t\t\t\t\t\t\t Twisted\n",
            "\t\t\t\t\t\t\t\t Chatroom\n",
            "\t\t\t\t\t\t\t\t The 10th Kingdom\n",
            "\t\t\t\t\t\t\t\t The Dragon Ring\n",
            "\t\t\t\t\t\t\t\t Nowhere\n",
            "\t\t\t\t\t\t\t\t Deadend\n",
            "\t\t\t\t\t\t\t\t The Warlord\n",
            "\t\t\t\t\t\t\t\t The Final\n",
            "\t\t\t\t\t\t\t\t Tales of the Night\n",
            "\t\t\t\t\t\t\t\t The Watcher in the Woods\n"
          ]
        },
        {
          "output_type": "stream",
          "name": "stderr",
          "text": [
            "\r 87%|████████▋ | 109/126 [08:54<01:23,  4.91s/it]"
          ]
        },
        {
          "output_type": "stream",
          "name": "stdout",
          "text": [
            "\n",
            "++ [ Nowhere || Twisted ] == wrong ||  {'Correct': 43, 'Wrong': 66}\n",
            "\n",
            "##  someone turns into a giant lizard or an alien and climbs out the window Nowhere\n",
            "\t\t\t\t\t\t\t\t Twisted\n",
            "\t\t\t\t\t\t\t\t Chatroom\n",
            "\t\t\t\t\t\t\t\t The 10th Kingdom\n",
            "\t\t\t\t\t\t\t\t The Dragon Ring\n",
            "\t\t\t\t\t\t\t\t Nowhere\n",
            "\t\t\t\t\t\t\t\t Deadend\n",
            "\t\t\t\t\t\t\t\t The Warlord\n",
            "\t\t\t\t\t\t\t\t The Final\n",
            "\t\t\t\t\t\t\t\t Tales of the Night\n",
            "\t\t\t\t\t\t\t\t The Watcher in the Woods\n"
          ]
        },
        {
          "output_type": "stream",
          "name": "stderr",
          "text": [
            "\r 87%|████████▋ | 110/126 [08:58<01:17,  4.82s/it]"
          ]
        },
        {
          "output_type": "stream",
          "name": "stdout",
          "text": [
            "\n",
            "++ [ Nowhere || Tales of the Night ] == wrong ||  {'Correct': 43, 'Wrong': 67}\n",
            "\n",
            "##  someone turns into a giant lizard or a living alien and climbs out the window Nowhere\n",
            "\t\t\t\t\t\t\t\t Twisted\n",
            "\t\t\t\t\t\t\t\t Chatroom\n",
            "\t\t\t\t\t\t\t\t The 10th Kingdom\n",
            "\t\t\t\t\t\t\t\t The Dragon Ring\n",
            "\t\t\t\t\t\t\t\t Nowhere\n",
            "\t\t\t\t\t\t\t\t Deadend\n",
            "\t\t\t\t\t\t\t\t The Warlord\n",
            "\t\t\t\t\t\t\t\t The Final\n",
            "\t\t\t\t\t\t\t\t Tales of the Night\n",
            "\t\t\t\t\t\t\t\t The Watcher in the Woods\n"
          ]
        },
        {
          "output_type": "stream",
          "name": "stderr",
          "text": [
            "\r 88%|████████▊ | 111/126 [09:03<01:11,  4.76s/it]"
          ]
        },
        {
          "output_type": "stream",
          "name": "stdout",
          "text": [
            "\n",
            "++ [ Nowhere || Tales of the Night ] == wrong ||  {'Correct': 43, 'Wrong': 68}\n",
            "\n",
            "##  the plan is to murder the girl and she seems to be trying to leave her family Chatroom\n",
            "\t\t\t\t\t\t\t\t Twisted\n",
            "\t\t\t\t\t\t\t\t Chatroom\n",
            "\t\t\t\t\t\t\t\t The 10th Kingdom\n",
            "\t\t\t\t\t\t\t\t The Dragon Ring\n",
            "\t\t\t\t\t\t\t\t Nowhere\n",
            "\t\t\t\t\t\t\t\t Deadend\n",
            "\t\t\t\t\t\t\t\t The Warlord\n",
            "\t\t\t\t\t\t\t\t The Final\n",
            "\t\t\t\t\t\t\t\t Tales of the Night\n",
            "\t\t\t\t\t\t\t\t The Watcher in the Woods\n"
          ]
        },
        {
          "output_type": "stream",
          "name": "stderr",
          "text": [
            "\r 89%|████████▉ | 112/126 [09:07<01:05,  4.70s/it]"
          ]
        },
        {
          "output_type": "stream",
          "name": "stdout",
          "text": [
            "\n",
            "++ [ Chatroom || Tales of the Night ] == wrong ||  {'Correct': 43, 'Wrong': 69}\n",
            "\n",
            "##  they are planning the murders in that room and the girl seems to be trying to escape Chatroom\n",
            "\t\t\t\t\t\t\t\t Twisted\n",
            "\t\t\t\t\t\t\t\t Chatroom\n",
            "\t\t\t\t\t\t\t\t The 10th Kingdom\n",
            "\t\t\t\t\t\t\t\t The Dragon Ring\n",
            "\t\t\t\t\t\t\t\t Nowhere\n",
            "\t\t\t\t\t\t\t\t Deadend\n",
            "\t\t\t\t\t\t\t\t The Warlord\n",
            "\t\t\t\t\t\t\t\t The Final\n",
            "\t\t\t\t\t\t\t\t Tales of the Night\n",
            "\t\t\t\t\t\t\t\t The Watcher in the Woods\n"
          ]
        },
        {
          "output_type": "stream",
          "name": "stderr",
          "text": [
            "\r 90%|████████▉ | 113/126 [09:12<01:00,  4.67s/it]"
          ]
        },
        {
          "output_type": "stream",
          "name": "stdout",
          "text": [
            "\n",
            "++ [ Chatroom || The 10th Kingdom ] == wrong ||  {'Correct': 43, 'Wrong': 70}\n",
            "\n",
            "##  they're plotting a murder in this room and the girl seems to be trying to get out of family Chatroom\n",
            "\t\t\t\t\t\t\t\t Twisted\n",
            "\t\t\t\t\t\t\t\t Chatroom\n",
            "\t\t\t\t\t\t\t\t The 10th Kingdom\n",
            "\t\t\t\t\t\t\t\t The Dragon Ring\n",
            "\t\t\t\t\t\t\t\t Nowhere\n",
            "\t\t\t\t\t\t\t\t Deadend\n",
            "\t\t\t\t\t\t\t\t The Warlord\n",
            "\t\t\t\t\t\t\t\t The Final\n",
            "\t\t\t\t\t\t\t\t Tales of the Night\n",
            "\t\t\t\t\t\t\t\t The Watcher in the Woods\n"
          ]
        },
        {
          "output_type": "stream",
          "name": "stderr",
          "text": [
            "\r 90%|█████████ | 114/126 [09:17<00:56,  4.67s/it]"
          ]
        },
        {
          "output_type": "stream",
          "name": "stdout",
          "text": [
            "\n",
            "++ [ Chatroom || Chatroom ] == correct ||  {'Correct': 44, 'Wrong': 70}\n",
            "\n",
            "##  they plot to murder in that room and the girl seems to be trying to escape her family Chatroom\n",
            "\t\t\t\t\t\t\t\t Twisted\n",
            "\t\t\t\t\t\t\t\t Chatroom\n",
            "\t\t\t\t\t\t\t\t The 10th Kingdom\n",
            "\t\t\t\t\t\t\t\t The Dragon Ring\n",
            "\t\t\t\t\t\t\t\t Nowhere\n",
            "\t\t\t\t\t\t\t\t Deadend\n",
            "\t\t\t\t\t\t\t\t The Warlord\n",
            "\t\t\t\t\t\t\t\t The Final\n",
            "\t\t\t\t\t\t\t\t Tales of the Night\n",
            "\t\t\t\t\t\t\t\t The Watcher in the Woods\n"
          ]
        },
        {
          "output_type": "stream",
          "name": "stderr",
          "text": [
            "\r 91%|█████████▏| 115/126 [09:21<00:51,  4.67s/it]"
          ]
        },
        {
          "output_type": "stream",
          "name": "stdout",
          "text": [
            "\n",
            "++ [ Chatroom || The 10th Kingdom ] == wrong ||  {'Correct': 44, 'Wrong': 71}\n",
            "\n",
            "##  they plan the murder in that room and the girl seems to be trying to leave her family Chatroom\n",
            "\t\t\t\t\t\t\t\t Twisted\n",
            "\t\t\t\t\t\t\t\t Chatroom\n",
            "\t\t\t\t\t\t\t\t The 10th Kingdom\n",
            "\t\t\t\t\t\t\t\t The Dragon Ring\n",
            "\t\t\t\t\t\t\t\t Nowhere\n",
            "\t\t\t\t\t\t\t\t Deadend\n",
            "\t\t\t\t\t\t\t\t The Warlord\n",
            "\t\t\t\t\t\t\t\t The Final\n",
            "\t\t\t\t\t\t\t\t Tales of the Night\n",
            "\t\t\t\t\t\t\t\t The Watcher in the Woods\n"
          ]
        },
        {
          "output_type": "stream",
          "name": "stderr",
          "text": [
            "\r 92%|█████████▏| 116/126 [09:27<00:51,  5.10s/it]"
          ]
        },
        {
          "output_type": "stream",
          "name": "stdout",
          "text": [
            "\n",
            "++ [ Chatroom || The 10th Kingdom ] == wrong ||  {'Correct': 44, 'Wrong': 72}\n",
            "\n",
            "##  they plot murder in this room and the girl seems to be trying to leave her family Chatroom\n",
            "\t\t\t\t\t\t\t\t Twisted\n",
            "\t\t\t\t\t\t\t\t Chatroom\n",
            "\t\t\t\t\t\t\t\t The 10th Kingdom\n",
            "\t\t\t\t\t\t\t\t The Dragon Ring\n",
            "\t\t\t\t\t\t\t\t Nowhere\n",
            "\t\t\t\t\t\t\t\t Deadend\n",
            "\t\t\t\t\t\t\t\t The Warlord\n",
            "\t\t\t\t\t\t\t\t The Final\n",
            "\t\t\t\t\t\t\t\t Tales of the Night\n",
            "\t\t\t\t\t\t\t\t The Watcher in the Woods\n"
          ]
        },
        {
          "output_type": "stream",
          "name": "stderr",
          "text": [
            "\r 93%|█████████▎| 117/126 [09:34<00:48,  5.43s/it]"
          ]
        },
        {
          "output_type": "stream",
          "name": "stdout",
          "text": [
            "\n",
            "++ [ Chatroom || Chatroom ] == correct ||  {'Correct': 45, 'Wrong': 72}\n",
            "\n",
            "##  they're plotting murder in the room and the girl seems to be trying to leave her family Chatroom\n",
            "\t\t\t\t\t\t\t\t Twisted\n",
            "\t\t\t\t\t\t\t\t Chatroom\n",
            "\t\t\t\t\t\t\t\t The 10th Kingdom\n",
            "\t\t\t\t\t\t\t\t The Dragon Ring\n",
            "\t\t\t\t\t\t\t\t Nowhere\n",
            "\t\t\t\t\t\t\t\t Deadend\n",
            "\t\t\t\t\t\t\t\t The Warlord\n",
            "\t\t\t\t\t\t\t\t The Final\n",
            "\t\t\t\t\t\t\t\t Tales of the Night\n",
            "\t\t\t\t\t\t\t\t The Watcher in the Woods\n"
          ]
        },
        {
          "output_type": "stream",
          "name": "stderr",
          "text": [
            "\r 94%|█████████▎| 118/126 [09:38<00:41,  5.20s/it]"
          ]
        },
        {
          "output_type": "stream",
          "name": "stdout",
          "text": [
            "\n",
            "++ [ Chatroom || Tales of the Night ] == wrong ||  {'Correct': 45, 'Wrong': 73}\n",
            "\n",
            "##  another young man is apparently watching the death online at home but he can not leave the house Chatroom\n",
            "\t\t\t\t\t\t\t\t Twisted\n",
            "\t\t\t\t\t\t\t\t Chatroom\n",
            "\t\t\t\t\t\t\t\t The 10th Kingdom\n",
            "\t\t\t\t\t\t\t\t The Dragon Ring\n",
            "\t\t\t\t\t\t\t\t Nowhere\n",
            "\t\t\t\t\t\t\t\t Deadend\n",
            "\t\t\t\t\t\t\t\t The Warlord\n",
            "\t\t\t\t\t\t\t\t The Final\n",
            "\t\t\t\t\t\t\t\t Tales of the Night\n",
            "\t\t\t\t\t\t\t\t The Watcher in the Woods\n"
          ]
        },
        {
          "output_type": "stream",
          "name": "stderr",
          "text": [
            "\r 94%|█████████▍| 119/126 [09:43<00:35,  5.02s/it]"
          ]
        },
        {
          "output_type": "stream",
          "name": "stdout",
          "text": [
            "\n",
            "++ [ Chatroom || Tales of the Night ] == wrong ||  {'Correct': 45, 'Wrong': 74}\n",
            "\n",
            "##  another young man is apparently in his room at home watching deaths online but he can not leave his house Chatroom\n",
            "\t\t\t\t\t\t\t\t Twisted\n",
            "\t\t\t\t\t\t\t\t Chatroom\n",
            "\t\t\t\t\t\t\t\t The 10th Kingdom\n",
            "\t\t\t\t\t\t\t\t The Dragon Ring\n",
            "\t\t\t\t\t\t\t\t Nowhere\n",
            "\t\t\t\t\t\t\t\t Deadend\n",
            "\t\t\t\t\t\t\t\t The Warlord\n",
            "\t\t\t\t\t\t\t\t The Final\n",
            "\t\t\t\t\t\t\t\t Tales of the Night\n",
            "\t\t\t\t\t\t\t\t The Watcher in the Woods\n"
          ]
        },
        {
          "output_type": "stream",
          "name": "stderr",
          "text": [
            "\r 95%|█████████▌| 120/126 [09:47<00:29,  4.90s/it]"
          ]
        },
        {
          "output_type": "stream",
          "name": "stdout",
          "text": [
            "\n",
            "++ [ Chatroom || Chatroom ] == correct ||  {'Correct': 46, 'Wrong': 74}\n",
            "\n",
            "##  another young man is apparently watching deaths online but he cannot leave his house Chatroom\n",
            "\t\t\t\t\t\t\t\t Twisted\n",
            "\t\t\t\t\t\t\t\t Chatroom\n",
            "\t\t\t\t\t\t\t\t The 10th Kingdom\n",
            "\t\t\t\t\t\t\t\t The Dragon Ring\n",
            "\t\t\t\t\t\t\t\t Nowhere\n",
            "\t\t\t\t\t\t\t\t Deadend\n",
            "\t\t\t\t\t\t\t\t The Warlord\n",
            "\t\t\t\t\t\t\t\t The Final\n",
            "\t\t\t\t\t\t\t\t Tales of the Night\n",
            "\t\t\t\t\t\t\t\t The Watcher in the Woods\n"
          ]
        },
        {
          "output_type": "stream",
          "name": "stderr",
          "text": [
            "\r 96%|█████████▌| 121/126 [09:52<00:24,  4.81s/it]"
          ]
        },
        {
          "output_type": "stream",
          "name": "stdout",
          "text": [
            "\n",
            "++ [ Chatroom || Chatroom ] == correct ||  {'Correct': 47, 'Wrong': 74}\n",
            "\n",
            "##  story takes place in a hotel or dormitory building where the doors are numbered Chatroom\n",
            "\t\t\t\t\t\t\t\t Twisted\n",
            "\t\t\t\t\t\t\t\t Chatroom\n",
            "\t\t\t\t\t\t\t\t The 10th Kingdom\n",
            "\t\t\t\t\t\t\t\t The Dragon Ring\n",
            "\t\t\t\t\t\t\t\t Nowhere\n",
            "\t\t\t\t\t\t\t\t Deadend\n",
            "\t\t\t\t\t\t\t\t The Warlord\n",
            "\t\t\t\t\t\t\t\t The Final\n",
            "\t\t\t\t\t\t\t\t Tales of the Night\n",
            "\t\t\t\t\t\t\t\t The Watcher in the Woods\n"
          ]
        },
        {
          "output_type": "stream",
          "name": "stderr",
          "text": [
            "\r 97%|█████████▋| 122/126 [09:57<00:19,  4.75s/it]"
          ]
        },
        {
          "output_type": "stream",
          "name": "stdout",
          "text": [
            "\n",
            "++ [ Chatroom || The Warlord ] == wrong ||  {'Correct': 47, 'Wrong': 75}\n",
            "\n",
            "##  story takes place in a hotel or dormitory type building where doors are numbered Chatroom\n",
            "\t\t\t\t\t\t\t\t Twisted\n",
            "\t\t\t\t\t\t\t\t Chatroom\n",
            "\t\t\t\t\t\t\t\t The 10th Kingdom\n",
            "\t\t\t\t\t\t\t\t The Dragon Ring\n",
            "\t\t\t\t\t\t\t\t Nowhere\n",
            "\t\t\t\t\t\t\t\t Deadend\n",
            "\t\t\t\t\t\t\t\t The Warlord\n",
            "\t\t\t\t\t\t\t\t The Final\n",
            "\t\t\t\t\t\t\t\t Tales of the Night\n",
            "\t\t\t\t\t\t\t\t The Watcher in the Woods\n"
          ]
        },
        {
          "output_type": "stream",
          "name": "stderr",
          "text": [
            "\r 98%|█████████▊| 123/126 [10:01<00:14,  4.73s/it]"
          ]
        },
        {
          "output_type": "stream",
          "name": "stdout",
          "text": [
            "\n",
            "++ [ Chatroom || The Warlord ] == wrong ||  {'Correct': 47, 'Wrong': 76}\n",
            "\n",
            "##  the story takes place in a hotel or dormitory style building where doors are numbered Chatroom\n",
            "\t\t\t\t\t\t\t\t Twisted\n",
            "\t\t\t\t\t\t\t\t Chatroom\n",
            "\t\t\t\t\t\t\t\t The 10th Kingdom\n",
            "\t\t\t\t\t\t\t\t The Dragon Ring\n",
            "\t\t\t\t\t\t\t\t Nowhere\n",
            "\t\t\t\t\t\t\t\t Deadend\n",
            "\t\t\t\t\t\t\t\t The Warlord\n",
            "\t\t\t\t\t\t\t\t The Final\n",
            "\t\t\t\t\t\t\t\t Tales of the Night\n",
            "\t\t\t\t\t\t\t\t The Watcher in the Woods\n"
          ]
        },
        {
          "output_type": "stream",
          "name": "stderr",
          "text": [
            "\r 98%|█████████▊| 124/126 [10:06<00:09,  4.85s/it]"
          ]
        },
        {
          "output_type": "stream",
          "name": "stdout",
          "text": [
            "\n",
            "++ [ Chatroom || The Warlord ] == wrong ||  {'Correct': 47, 'Wrong': 77}\n",
            "\n",
            "##  story takes place in a hotel or dormitory type building where the doors are numbered Chatroom\n",
            "\t\t\t\t\t\t\t\t Twisted\n",
            "\t\t\t\t\t\t\t\t Chatroom\n",
            "\t\t\t\t\t\t\t\t The 10th Kingdom\n",
            "\t\t\t\t\t\t\t\t The Dragon Ring\n",
            "\t\t\t\t\t\t\t\t Nowhere\n",
            "\t\t\t\t\t\t\t\t Deadend\n",
            "\t\t\t\t\t\t\t\t The Warlord\n",
            "\t\t\t\t\t\t\t\t The Final\n",
            "\t\t\t\t\t\t\t\t Tales of the Night\n",
            "\t\t\t\t\t\t\t\t The Watcher in the Woods\n"
          ]
        },
        {
          "output_type": "stream",
          "name": "stderr",
          "text": [
            "\r 99%|█████████▉| 125/126 [10:12<00:05,  5.14s/it]"
          ]
        },
        {
          "output_type": "stream",
          "name": "stdout",
          "text": [
            "\n",
            "++ [ Chatroom || The Warlord ] == wrong ||  {'Correct': 47, 'Wrong': 78}\n",
            "\n",
            "##  the story takes place in a hotel or dormitory type building where the doors are numbered Chatroom\n",
            "\t\t\t\t\t\t\t\t Twisted\n",
            "\t\t\t\t\t\t\t\t Chatroom\n",
            "\t\t\t\t\t\t\t\t The 10th Kingdom\n",
            "\t\t\t\t\t\t\t\t The Dragon Ring\n",
            "\t\t\t\t\t\t\t\t Nowhere\n",
            "\t\t\t\t\t\t\t\t Deadend\n",
            "\t\t\t\t\t\t\t\t The Warlord\n",
            "\t\t\t\t\t\t\t\t The Final\n",
            "\t\t\t\t\t\t\t\t Tales of the Night\n",
            "\t\t\t\t\t\t\t\t The Watcher in the Woods\n"
          ]
        },
        {
          "output_type": "stream",
          "name": "stderr",
          "text": [
            "100%|██████████| 126/126 [10:17<00:00,  4.90s/it]"
          ]
        },
        {
          "output_type": "stream",
          "name": "stdout",
          "text": [
            "\n",
            "++ [ Chatroom || The Warlord ] == wrong ||  {'Correct': 47, 'Wrong': 79}\n"
          ]
        },
        {
          "output_type": "stream",
          "name": "stderr",
          "text": [
            "\n"
          ]
        }
      ]
    },
    {
      "cell_type": "code",
      "source": [
        "top1_predictions"
      ],
      "metadata": {
        "colab": {
          "base_uri": "https://localhost:8080/"
        },
        "id": "wo303yRCVDXv",
        "outputId": "52f6953b-47e2-44d1-fc5e-4616e12d4f0f"
      },
      "execution_count": null,
      "outputs": [
        {
          "output_type": "execute_result",
          "data": {
            "text/plain": [
              "{'Correct': 47, 'Wrong': 79}"
            ]
          },
          "metadata": {},
          "execution_count": 24
        }
      ]
    },
    {
      "cell_type": "code",
      "source": [
        "top1_predictions['Correct']/(top1_predictions['Correct']+top1_predictions['Wrong'])"
      ],
      "metadata": {
        "colab": {
          "base_uri": "https://localhost:8080/"
        },
        "id": "PzntOXFln5b1",
        "outputId": "6db0ba17-d72a-44cd-db9d-8d318bceec36"
      },
      "execution_count": null,
      "outputs": [
        {
          "output_type": "execute_result",
          "data": {
            "text/plain": [
              "0.373015873015873"
            ]
          },
          "metadata": {},
          "execution_count": 25
        }
      ]
    },
    {
      "cell_type": "code",
      "source": [
        "#top-3 accuracy count\n",
        "def bertscore_prediction_top3(testset, dataset):\n",
        "  answer = {\"Correct\": 0, \"Wrong\": 0}\n",
        "  for i in tqdm.tqdm(range(testset.shape[0])): # embeddings of each test query\n",
        "    query, actual_movie = testset['Query'][i], testset['Movie'][i]\n",
        "    print(\"\\n## \", query, actual_movie)\n",
        "    query_sentence = \"\"\n",
        "    maximum = -np.inf\n",
        "    rank_dict=dict()\n",
        "    predicted_movie = \"\"\n",
        "    for movie, plots in zip(dataset['Movies'], dataset['Plots']):\n",
        "      print(\"\\t\\t\\t\\t\\t\\t\\t\\t\", movie)\n",
        "      for scene in plots:\n",
        "        output = bertscore.compute(predictions=[scene], references=[query], model_type=\"distilbert-base-uncased\") #can eliminate one for loop here and pass all scenes directly\n",
        "        output = float(output['f1'][0])\n",
        "        if output>maximum:\n",
        "          maximum = output\n",
        "          predicted_movie = movie\n",
        "          query_sentence = scene\n",
        "      rank_dict[predicted_movie] = [maximum, query_sentence]\n",
        "    rank_dict_top3=dict({movie.lower().strip(): [score, scene] for (movie, (score, scene)) in list(sorted(rank_dict.items(), key=lambda item: item[1], reverse = True))[:3]})\n",
        "    print(\"\\n++ [\", actual_movie, \"||\", rank_dict_top3, \"]\")\n",
        "    if actual_movie.lower().strip() in rank_dict_top3:\n",
        "      answer['Correct'] += 1\n",
        "      print(\"correct || \", answer)\n",
        "    else:\n",
        "      answer['Wrong'] += 1\n",
        "      print(\"wrong || \", answer)\n",
        "    \n",
        "  return answer\n",
        "\n",
        "top3_predictions = bertscore_prediction_top3(testset, dataset)\n"
      ],
      "metadata": {
        "colab": {
          "base_uri": "https://localhost:8080/"
        },
        "id": "4ZQ3E5VMoFmf",
        "outputId": "bc657d09-c682-43df-cdbc-608f20b0e3f2"
      },
      "execution_count": null,
      "outputs": [
        {
          "output_type": "stream",
          "name": "stderr",
          "text": [
            "\r  0%|          | 0/126 [00:00<?, ?it/s]"
          ]
        },
        {
          "output_type": "stream",
          "name": "stdout",
          "text": [
            "\n",
            "##  Teenagers were wandering around some deserted areas with lots of graffitis and deserted buildings, in one of which there was a club (?) Nowhere\n",
            "\t\t\t\t\t\t\t\t Twisted\n",
            "\t\t\t\t\t\t\t\t Chatroom\n",
            "\t\t\t\t\t\t\t\t The 10th Kingdom\n",
            "\t\t\t\t\t\t\t\t The Dragon Ring\n",
            "\t\t\t\t\t\t\t\t Nowhere\n",
            "\t\t\t\t\t\t\t\t Deadend\n",
            "\t\t\t\t\t\t\t\t The Warlord\n",
            "\t\t\t\t\t\t\t\t The Final\n",
            "\t\t\t\t\t\t\t\t Tales of the Night\n",
            "\t\t\t\t\t\t\t\t The Watcher in the Woods\n"
          ]
        },
        {
          "output_type": "stream",
          "name": "stderr",
          "text": [
            "\r  1%|          | 1/126 [00:05<12:23,  5.95s/it]"
          ]
        },
        {
          "output_type": "stream",
          "name": "stdout",
          "text": [
            "\n",
            "++ [ Nowhere || {'tales of the night': [0.7378039956092834, 'A girl, a boy and an old cinema technician tell stories every night in a small theater.'], 'the final': [0.7347840070724487, 'Among their inspirations are horror films and lessons in class about deadly chemicals and torture methods of old cultures.'], 'deadend': [0.7297780513763428, 'She begins to walk and sees body bags containing her dead family members in the middle of the road.']} ]\n",
            "wrong ||  {'Correct': 0, 'Wrong': 1}\n",
            "\n",
            "##  one of the characters younger brother (also teenager) with his girlfriend drove a red cadillack to some hill during the night on one of their dates, I remember they were really fucked up psychos (can’t remember why, maybe they killed someone) 6. Nowhere\n",
            "\t\t\t\t\t\t\t\t Twisted\n",
            "\t\t\t\t\t\t\t\t Chatroom\n",
            "\t\t\t\t\t\t\t\t The 10th Kingdom\n",
            "\t\t\t\t\t\t\t\t The Dragon Ring\n",
            "\t\t\t\t\t\t\t\t Nowhere\n",
            "\t\t\t\t\t\t\t\t Deadend\n",
            "\t\t\t\t\t\t\t\t The Warlord\n",
            "\t\t\t\t\t\t\t\t The Final\n",
            "\t\t\t\t\t\t\t\t Tales of the Night\n",
            "\t\t\t\t\t\t\t\t The Watcher in the Woods\n"
          ]
        },
        {
          "output_type": "stream",
          "name": "stderr",
          "text": [
            "\r  2%|▏         | 2/126 [00:11<11:17,  5.46s/it]"
          ]
        },
        {
          "output_type": "stream",
          "name": "stdout",
          "text": [
            "\n",
            "++ [ Nowhere || {'tales of the night': [0.7153102159500122, 'A girl, a boy and an old cinema technician tell stories every night in a small theater.'], 'deadend': [0.7134674191474915, 'The viewer gets the impression that Marion dreamed of how her family had died while in a coma, and that the hearse not picking her up was her dream telling her that she would live.'], 'chatroom': [0.7103904485702515, 'Jim is another loner who is suffering from depression following his father leaving him and his mother.']} ]\n",
            "wrong ||  {'Correct': 0, 'Wrong': 2}\n",
            "\n",
            "##  one night the teenagers took the new kid to a party with them (or somewhere else, I remember it was an event witch bunch of people), it was in someplace that looked like a magasine or something, and suddenly the new kid turned into a giant lizard please help me out, I hope someone has seen it ? Nowhere\n",
            "\t\t\t\t\t\t\t\t Twisted\n",
            "\t\t\t\t\t\t\t\t Chatroom\n",
            "\t\t\t\t\t\t\t\t The 10th Kingdom\n",
            "\t\t\t\t\t\t\t\t The Dragon Ring\n",
            "\t\t\t\t\t\t\t\t Nowhere\n",
            "\t\t\t\t\t\t\t\t Deadend\n",
            "\t\t\t\t\t\t\t\t The Warlord\n",
            "\t\t\t\t\t\t\t\t The Final\n",
            "\t\t\t\t\t\t\t\t Tales of the Night\n",
            "\t\t\t\t\t\t\t\t The Watcher in the Woods\n"
          ]
        },
        {
          "output_type": "stream",
          "name": "stderr",
          "text": [
            "\r  2%|▏         | 3/126 [00:16<10:54,  5.32s/it]"
          ]
        },
        {
          "output_type": "stream",
          "name": "stdout",
          "text": [
            "\n",
            "++ [ Nowhere || {'tales of the night': [0.727289617061615, 'The shadow of an old man tells him how to defeat three monsters; a giant bee, a giant mongoose, and a giant iguana.'], 'chatroom': [0.7262400388717651, 'One day, he decides to open a chatroom himself and calls it \"Chelsea Teens!'], 'twisted': [0.7202914357185364, 'Evidently, she had an accident; now they need a new babysitter for an upcoming party.']} ]\n",
            "wrong ||  {'Correct': 0, 'Wrong': 3}\n",
            "\n",
            "##  Someone turns into a giant lizard or some kind of alien and climbs out the window. Nowhere\n",
            "\t\t\t\t\t\t\t\t Twisted\n",
            "\t\t\t\t\t\t\t\t Chatroom\n",
            "\t\t\t\t\t\t\t\t The 10th Kingdom\n",
            "\t\t\t\t\t\t\t\t The Dragon Ring\n",
            "\t\t\t\t\t\t\t\t Nowhere\n",
            "\t\t\t\t\t\t\t\t Deadend\n",
            "\t\t\t\t\t\t\t\t The Warlord\n",
            "\t\t\t\t\t\t\t\t The Final\n",
            "\t\t\t\t\t\t\t\t Tales of the Night\n",
            "\t\t\t\t\t\t\t\t The Watcher in the Woods\n"
          ]
        },
        {
          "output_type": "stream",
          "name": "stderr",
          "text": [
            "\r  3%|▎         | 4/126 [00:20<10:20,  5.09s/it]"
          ]
        },
        {
          "output_type": "stream",
          "name": "stdout",
          "text": [
            "\n",
            "++ [ Nowhere || {'tales of the night': [0.7614473700523376, 'The shadow of an old man tells him how to defeat three monsters; a giant bee, a giant mongoose, and a giant iguana.'], 'nowhere': [0.7598662972450256, 'The two close their eyes but are disturbed, as Montgomery goes into a coughing fit, then explodes into a shower of blood, leaving only a cockroach-like alien who exclaims, \"I\\'m outta here,\" before crawling out of the window.'], 'the 10th kingdom': [0.7437734603881836, 'She turns him into a Golden Retriever while her very own retriever is transformed into a facsimile of Wendell.']} ]\n",
            "correct ||  {'Correct': 1, 'Wrong': 3}\n",
            "\n",
            "##  The girl is taking shelter in that tree and when she wakes up she finds her hair has grown like crazy, like Rapunzel. The 10th Kingdom\n",
            "\t\t\t\t\t\t\t\t Twisted\n",
            "\t\t\t\t\t\t\t\t Chatroom\n",
            "\t\t\t\t\t\t\t\t The 10th Kingdom\n",
            "\t\t\t\t\t\t\t\t The Dragon Ring\n",
            "\t\t\t\t\t\t\t\t Nowhere\n",
            "\t\t\t\t\t\t\t\t Deadend\n",
            "\t\t\t\t\t\t\t\t The Warlord\n",
            "\t\t\t\t\t\t\t\t The Final\n",
            "\t\t\t\t\t\t\t\t Tales of the Night\n",
            "\t\t\t\t\t\t\t\t The Watcher in the Woods\n"
          ]
        },
        {
          "output_type": "stream",
          "name": "stderr",
          "text": [
            "\r  4%|▍         | 5/126 [00:25<10:05,  5.01s/it]"
          ]
        },
        {
          "output_type": "stream",
          "name": "stdout",
          "text": [
            "\n",
            "++ [ The 10th Kingdom || {'the final': [0.7863603234291077, 'When the teens wake up, they find themselves chained together.'], 'deadend': [0.7570881247520447, 'The woman gets into the car, and as the family ask her questions, she remains silent.'], 'twisted': [0.7404885292053223, 'The sensible Helen meets little Susan Collins at the discount market and likes her, so she offers to do the job.']} ]\n",
            "wrong ||  {'Correct': 1, 'Wrong': 4}\n",
            "\n",
            "##  The final scene I remember is some sheep race. The 10th Kingdom\n",
            "\t\t\t\t\t\t\t\t Twisted\n",
            "\t\t\t\t\t\t\t\t Chatroom\n",
            "\t\t\t\t\t\t\t\t The 10th Kingdom\n",
            "\t\t\t\t\t\t\t\t The Dragon Ring\n",
            "\t\t\t\t\t\t\t\t Nowhere\n",
            "\t\t\t\t\t\t\t\t Deadend\n",
            "\t\t\t\t\t\t\t\t The Warlord\n",
            "\t\t\t\t\t\t\t\t The Final\n",
            "\t\t\t\t\t\t\t\t Tales of the Night\n",
            "\t\t\t\t\t\t\t\t The Watcher in the Woods\n"
          ]
        },
        {
          "output_type": "stream",
          "name": "stderr",
          "text": [
            "\r  5%|▍         | 6/126 [00:30<09:49,  4.91s/it]"
          ]
        },
        {
          "output_type": "stream",
          "name": "stdout",
          "text": [
            "\n",
            "++ [ The 10th Kingdom || {'the final': [0.7807098627090454, 'The final scene reveals that Bridget is the disfigured girl from the beginning of the film.'], 'deadend': [0.7612674832344055, 'However, the other end of the line is a woman begging for help.'], 'chatroom': [0.7272014617919922, 'William walks in a chat tunnel as the light gradually fades.']} ]\n",
            "wrong ||  {'Correct': 1, 'Wrong': 5}\n",
            "\n",
            "##  They end up at some weird village which celebrates sheep, they literally dress the sheep and have a parade. The 10th Kingdom\n",
            "\t\t\t\t\t\t\t\t Twisted\n",
            "\t\t\t\t\t\t\t\t Chatroom\n",
            "\t\t\t\t\t\t\t\t The 10th Kingdom\n",
            "\t\t\t\t\t\t\t\t The Dragon Ring\n",
            "\t\t\t\t\t\t\t\t Nowhere\n",
            "\t\t\t\t\t\t\t\t Deadend\n",
            "\t\t\t\t\t\t\t\t The Warlord\n",
            "\t\t\t\t\t\t\t\t The Final\n",
            "\t\t\t\t\t\t\t\t Tales of the Night\n",
            "\t\t\t\t\t\t\t\t The Watcher in the Woods\n"
          ]
        },
        {
          "output_type": "stream",
          "name": "stderr",
          "text": [
            "\r  6%|▌         | 7/126 [00:35<09:44,  4.91s/it]"
          ]
        },
        {
          "output_type": "stream",
          "name": "stdout",
          "text": [
            "\n",
            "++ [ The 10th Kingdom || {'the final': [0.7851623296737671, \"They prepare a costume party at Dane's secluded house and invite the bullies over.\"], 'deadend': [0.7514246702194214, 'They arrive at a wooden cabin, and Laura and Frank go in to investigate.'], 'chatroom': [0.7510234117507935, 'Even though they only really communicate through text, they are depicted in an old hotel-like room and actually having contact.']} ]\n",
            "wrong ||  {'Correct': 1, 'Wrong': 6}\n",
            "\n",
            "##  The main character is an ordinary girl/woman I guess who somehow ends up in some world sort of like the “once upon a time” series. The 10th Kingdom\n",
            "\t\t\t\t\t\t\t\t Twisted\n",
            "\t\t\t\t\t\t\t\t Chatroom\n",
            "\t\t\t\t\t\t\t\t The 10th Kingdom\n",
            "\t\t\t\t\t\t\t\t The Dragon Ring\n",
            "\t\t\t\t\t\t\t\t Nowhere\n",
            "\t\t\t\t\t\t\t\t Deadend\n",
            "\t\t\t\t\t\t\t\t The Warlord\n",
            "\t\t\t\t\t\t\t\t The Final\n",
            "\t\t\t\t\t\t\t\t Tales of the Night\n",
            "\t\t\t\t\t\t\t\t The Watcher in the Woods\n"
          ]
        },
        {
          "output_type": "stream",
          "name": "stderr",
          "text": [
            "\r  6%|▋         | 8/126 [00:42<10:46,  5.48s/it]"
          ]
        },
        {
          "output_type": "stream",
          "name": "stdout",
          "text": [
            "\n",
            "++ [ The 10th Kingdom || {'the 10th kingdom': [0.7380497455596924, 'In a hidden realm, fairy tale characters inhabit nine magical kingdoms where an Evil Queen plots to rule them.'], 'chatroom': [0.7339292764663696, 'Even though they only really communicate through text, they are depicted in an old hotel-like room and actually having contact.'], 'twisted': [0.706023633480072, 'The sensible Helen meets little Susan Collins at the discount market and likes her, so she offers to do the job.']} ]\n",
            "correct ||  {'Correct': 2, 'Wrong': 6}\n",
            "\n",
            "##  Soon after this girls hair gets ridiculously long, like past her feet. The 10th Kingdom\n",
            "\t\t\t\t\t\t\t\t Twisted\n",
            "\t\t\t\t\t\t\t\t Chatroom\n",
            "\t\t\t\t\t\t\t\t The 10th Kingdom\n",
            "\t\t\t\t\t\t\t\t The Dragon Ring\n",
            "\t\t\t\t\t\t\t\t Nowhere\n",
            "\t\t\t\t\t\t\t\t Deadend\n",
            "\t\t\t\t\t\t\t\t The Warlord\n",
            "\t\t\t\t\t\t\t\t The Final\n",
            "\t\t\t\t\t\t\t\t Tales of the Night\n",
            "\t\t\t\t\t\t\t\t The Watcher in the Woods\n"
          ]
        },
        {
          "output_type": "stream",
          "name": "stderr",
          "text": [
            "\r  7%|▋         | 9/126 [00:47<10:25,  5.35s/it]"
          ]
        },
        {
          "output_type": "stream",
          "name": "stdout",
          "text": [
            "\n",
            "++ [ The 10th Kingdom || {'deadend': [0.7379619479179382, 'Afterward, Frank has a noticeable change in demeanor, much like his wife and daughter, and punches Marion unconscious.'], 'the dragon ring': [0.7304089069366455, 'But unknown to him, the jealous Selvaggia wants to beat her elder sister completely.'], 'chatroom': [0.7300776243209839, 'Eva, a model, is constantly bullied by her co-workers for her appearance.']} ]\n",
            "wrong ||  {'Correct': 2, 'Wrong': 7}\n",
            "\n",
            "##  I think she is traveling with a young man and they fall in love. The 10th Kingdom\n",
            "\t\t\t\t\t\t\t\t Twisted\n",
            "\t\t\t\t\t\t\t\t Chatroom\n",
            "\t\t\t\t\t\t\t\t The 10th Kingdom\n",
            "\t\t\t\t\t\t\t\t The Dragon Ring\n",
            "\t\t\t\t\t\t\t\t Nowhere\n",
            "\t\t\t\t\t\t\t\t Deadend\n",
            "\t\t\t\t\t\t\t\t The Warlord\n",
            "\t\t\t\t\t\t\t\t The Final\n",
            "\t\t\t\t\t\t\t\t Tales of the Night\n",
            "\t\t\t\t\t\t\t\t The Watcher in the Woods\n"
          ]
        },
        {
          "output_type": "stream",
          "name": "stderr",
          "text": [
            "\r  8%|▊         | 10/126 [00:51<10:00,  5.17s/it]"
          ]
        },
        {
          "output_type": "stream",
          "name": "stdout",
          "text": [
            "\n",
            "++ [ The 10th Kingdom || {'tales of the night': [0.7723901271820068, 'Maud and Thibaut are very much in love with each other.'], 'nowhere': [0.7570410370826721, 'Dark and Mel are a bisexual couple in an open relationship.'], 'chatroom': [0.7351961135864258, 'William is a loner who lives with his parents.']} ]\n",
            "wrong ||  {'Correct': 2, 'Wrong': 8}\n",
            "\n",
            "##  A man turning into a dog from a curse or spell a witch put on him. The 10th Kingdom\n",
            "\t\t\t\t\t\t\t\t Twisted\n",
            "\t\t\t\t\t\t\t\t Chatroom\n",
            "\t\t\t\t\t\t\t\t The 10th Kingdom\n",
            "\t\t\t\t\t\t\t\t The Dragon Ring\n",
            "\t\t\t\t\t\t\t\t Nowhere\n",
            "\t\t\t\t\t\t\t\t Deadend\n",
            "\t\t\t\t\t\t\t\t The Warlord\n",
            "\t\t\t\t\t\t\t\t The Final\n",
            "\t\t\t\t\t\t\t\t Tales of the Night\n",
            "\t\t\t\t\t\t\t\t The Watcher in the Woods\n"
          ]
        },
        {
          "output_type": "stream",
          "name": "stderr",
          "text": [
            "\r  9%|▊         | 11/126 [00:56<09:40,  5.05s/it]"
          ]
        },
        {
          "output_type": "stream",
          "name": "stdout",
          "text": [
            "\n",
            "++ [ The 10th Kingdom || {'the 10th kingdom': [0.7483322024345398, 'She turns him into a Golden Retriever while her very own retriever is transformed into a facsimile of Wendell.'], 'chatroom': [0.7155551314353943, 'William Collins is a depressed teenage boy recovering from self-harm and regularly goes online to chatrooms.'], 'twisted': [0.6954528093338013, 'Ultimately, Mark himself is killed when Helen, defending herself, knocks him onto his spiked German helmet.']} ]\n",
            "correct ||  {'Correct': 3, 'Wrong': 8}\n",
            "\n",
            "##  The girl ends up in this castle at a ball  and goes up to a room with a mirror. The 10th Kingdom\n",
            "\t\t\t\t\t\t\t\t Twisted\n",
            "\t\t\t\t\t\t\t\t Chatroom\n",
            "\t\t\t\t\t\t\t\t The 10th Kingdom\n",
            "\t\t\t\t\t\t\t\t The Dragon Ring\n",
            "\t\t\t\t\t\t\t\t Nowhere\n",
            "\t\t\t\t\t\t\t\t Deadend\n",
            "\t\t\t\t\t\t\t\t The Warlord\n",
            "\t\t\t\t\t\t\t\t The Final\n",
            "\t\t\t\t\t\t\t\t Tales of the Night\n",
            "\t\t\t\t\t\t\t\t The Watcher in the Woods\n"
          ]
        },
        {
          "output_type": "stream",
          "name": "stderr",
          "text": [
            "\r 10%|▉         | 12/126 [01:01<09:28,  4.99s/it]"
          ]
        },
        {
          "output_type": "stream",
          "name": "stdout",
          "text": [
            "\n",
            "++ [ The 10th Kingdom || {'the 10th kingdom': [0.7909842133522034, 'In a panic, the transformed Prince flees through the prison, stumbles across a mirror portal in the basement, and is transported to New York City.'], 'chatroom': [0.7679948806762695, 'William walks in a chat tunnel as the light gradually fades.'], 'twisted': [0.765067994594574, 'The sensible Helen meets little Susan Collins at the discount market and likes her, so she offers to do the job.']} ]\n",
            "correct ||  {'Correct': 4, 'Wrong': 8}\n",
            "\n",
            "##  One part that really sticks out is that she is traveling with some people through the forest and then find themselves at an old ladys house. The 10th Kingdom\n",
            "\t\t\t\t\t\t\t\t Twisted\n",
            "\t\t\t\t\t\t\t\t Chatroom\n",
            "\t\t\t\t\t\t\t\t The 10th Kingdom\n",
            "\t\t\t\t\t\t\t\t The Dragon Ring\n",
            "\t\t\t\t\t\t\t\t Nowhere\n",
            "\t\t\t\t\t\t\t\t Deadend\n",
            "\t\t\t\t\t\t\t\t The Warlord\n",
            "\t\t\t\t\t\t\t\t The Final\n",
            "\t\t\t\t\t\t\t\t Tales of the Night\n",
            "\t\t\t\t\t\t\t\t The Watcher in the Woods\n"
          ]
        },
        {
          "output_type": "stream",
          "name": "stderr",
          "text": [
            "\r 10%|█         | 13/126 [01:06<09:18,  4.95s/it]"
          ]
        },
        {
          "output_type": "stream",
          "name": "stdout",
          "text": [
            "\n",
            "++ [ The 10th Kingdom || {'chatroom': [0.7677628993988037, 'Even though they only really communicate through text, they are depicted in an old hotel-like room and actually having contact.'], 'twisted': [0.7322047352790833, 'The sensible Helen meets little Susan Collins at the discount market and likes her, so she offers to do the job.']} ]\n",
            "wrong ||  {'Correct': 4, 'Wrong': 9}\n",
            "\n",
            "##  The curse was that her hair would keep growing and growing. The 10th Kingdom\n",
            "\t\t\t\t\t\t\t\t Twisted\n",
            "\t\t\t\t\t\t\t\t Chatroom\n",
            "\t\t\t\t\t\t\t\t The 10th Kingdom\n",
            "\t\t\t\t\t\t\t\t The Dragon Ring\n",
            "\t\t\t\t\t\t\t\t Nowhere\n",
            "\t\t\t\t\t\t\t\t Deadend\n",
            "\t\t\t\t\t\t\t\t The Warlord\n",
            "\t\t\t\t\t\t\t\t The Final\n",
            "\t\t\t\t\t\t\t\t Tales of the Night\n",
            "\t\t\t\t\t\t\t\t The Watcher in the Woods\n"
          ]
        },
        {
          "output_type": "stream",
          "name": "stderr",
          "text": [
            "\r 11%|█         | 14/126 [01:11<09:07,  4.89s/it]"
          ]
        },
        {
          "output_type": "stream",
          "name": "stdout",
          "text": [
            "\n",
            "++ [ The 10th Kingdom || {'tales of the night': [0.7344712615013123, 'For this she fakes a deadly disease and claims that it can heal by eating the heart of Mélongi.'], 'deadend': [0.7323058247566223, 'The viewer gets the impression that Marion dreamed of how her family had died while in a coma, and that the hearse not picking her up was her dream telling her that she would live.'], 'the 10th kingdom': [0.7215427756309509, 'Virginia must kill the Evil Queen in self-defense, which pains her greatly.']} ]\n",
            "correct ||  {'Correct': 5, 'Wrong': 9}\n",
            "\n",
            "##  the good sister is grown up and walking through the desert. The Dragon Ring\n",
            "\t\t\t\t\t\t\t\t Twisted\n",
            "\t\t\t\t\t\t\t\t Chatroom\n",
            "\t\t\t\t\t\t\t\t The 10th Kingdom\n",
            "\t\t\t\t\t\t\t\t The Dragon Ring\n",
            "\t\t\t\t\t\t\t\t Nowhere\n",
            "\t\t\t\t\t\t\t\t Deadend\n",
            "\t\t\t\t\t\t\t\t The Warlord\n",
            "\t\t\t\t\t\t\t\t The Final\n",
            "\t\t\t\t\t\t\t\t Tales of the Night\n",
            "\t\t\t\t\t\t\t\t The Watcher in the Woods\n"
          ]
        },
        {
          "output_type": "stream",
          "name": "stderr",
          "text": [
            "\r 12%|█▏        | 15/126 [01:15<08:57,  4.85s/it]"
          ]
        },
        {
          "output_type": "stream",
          "name": "stdout",
          "text": [
            "\n",
            "++ [ The Dragon Ring || {'tales of the night': [0.786466658115387, 'The younger sister figures out what her sister has done, and exposes her cruel actions.'], 'the warlord': [0.7755080461502075, 'The two siblings have learnt to make the most of the situation and are content.'], 'deadend': [0.7705202102661133, 'She begins to walk and sees body bags containing her dead family members in the middle of the road.']} ]\n",
            "wrong ||  {'Correct': 5, 'Wrong': 10}\n",
            "\n",
            "##   But unknown to him, the jealous Selvaggia wants to beat her elder sister completely The Dragon Ring\n",
            "\t\t\t\t\t\t\t\t Twisted\n",
            "\t\t\t\t\t\t\t\t Chatroom\n",
            "\t\t\t\t\t\t\t\t The 10th Kingdom\n",
            "\t\t\t\t\t\t\t\t The Dragon Ring\n",
            "\t\t\t\t\t\t\t\t Nowhere\n",
            "\t\t\t\t\t\t\t\t Deadend\n",
            "\t\t\t\t\t\t\t\t The Warlord\n",
            "\t\t\t\t\t\t\t\t The Final\n",
            "\t\t\t\t\t\t\t\t Tales of the Night\n",
            "\t\t\t\t\t\t\t\t The Watcher in the Woods\n"
          ]
        },
        {
          "output_type": "stream",
          "name": "stderr",
          "text": [
            "\r 13%|█▎        | 16/126 [01:20<08:51,  4.83s/it]"
          ]
        },
        {
          "output_type": "stream",
          "name": "stdout",
          "text": [
            "\n",
            "++ [ The Dragon Ring || {'the dragon ring': [0.9824821949005127, 'But unknown to him, the jealous Selvaggia wants to beat her elder sister completely.'], 'the 10th kingdom': [0.7715930342674255, 'Prince Wendell is captured by the Evil Queen, who is his wicked stepmother.'], 'twisted': [0.7488929629325867, 'The sensible Helen meets little Susan Collins at the discount market and likes her, so she offers to do the job.']} ]\n",
            "correct ||  {'Correct': 6, 'Wrong': 10}\n",
            "\n",
            "##  Years later, when they're both grown up, the princess is beautiful and fell in love? The Dragon Ring\n",
            "\t\t\t\t\t\t\t\t Twisted\n",
            "\t\t\t\t\t\t\t\t Chatroom\n",
            "\t\t\t\t\t\t\t\t The 10th Kingdom\n",
            "\t\t\t\t\t\t\t\t The Dragon Ring\n",
            "\t\t\t\t\t\t\t\t Nowhere\n",
            "\t\t\t\t\t\t\t\t Deadend\n",
            "\t\t\t\t\t\t\t\t The Warlord\n",
            "\t\t\t\t\t\t\t\t The Final\n",
            "\t\t\t\t\t\t\t\t Tales of the Night\n",
            "\t\t\t\t\t\t\t\t The Watcher in the Woods\n"
          ]
        },
        {
          "output_type": "stream",
          "name": "stderr",
          "text": [
            "\r 13%|█▎        | 17/126 [01:25<08:46,  4.83s/it]"
          ]
        },
        {
          "output_type": "stream",
          "name": "stdout",
          "text": [
            "\n",
            "++ [ The Dragon Ring || {'tales of the night': [0.7707791328430176, 'The story of two sisters who are in love with the same prince.'], 'the final': [0.7554235458374023, 'When the teens wake up, they find themselves chained together.'], 'the 10th kingdom': [0.7434005737304688, 'Prince Wendell is captured by the Evil Queen, who is his wicked stepmother.']} ]\n",
            "wrong ||  {'Correct': 6, 'Wrong': 11}\n",
            "\n",
            "##  I don't remember much more, only that the blonde princess goes into the woods and find this scarecrow (I think?) The Dragon Ring\n",
            "\t\t\t\t\t\t\t\t Twisted\n",
            "\t\t\t\t\t\t\t\t Chatroom\n",
            "\t\t\t\t\t\t\t\t The 10th Kingdom\n",
            "\t\t\t\t\t\t\t\t The Dragon Ring\n",
            "\t\t\t\t\t\t\t\t Nowhere\n",
            "\t\t\t\t\t\t\t\t Deadend\n",
            "\t\t\t\t\t\t\t\t The Warlord\n",
            "\t\t\t\t\t\t\t\t The Final\n",
            "\t\t\t\t\t\t\t\t Tales of the Night\n",
            "\t\t\t\t\t\t\t\t The Watcher in the Woods\n"
          ]
        },
        {
          "output_type": "stream",
          "name": "stderr",
          "text": [
            "\r 14%|█▍        | 18/126 [01:30<08:45,  4.87s/it]"
          ]
        },
        {
          "output_type": "stream",
          "name": "stdout",
          "text": [
            "\n",
            "++ [ The Dragon Ring || {'the watcher in the woods': [0.7521349787712097, 'Jan, realizing her sister has disappeared from the yard, goes into the woods to find her, eventually locating her at a pond.'], 'deadend': [0.7482485175132751, 'He sees the woman in white go into the woods once again, and chases her with the shotgun.'], 'the 10th kingdom': [0.7255522608757019, 'Prince Wendell is captured by the Evil Queen, who is his wicked stepmother.']} ]\n",
            "wrong ||  {'Correct': 6, 'Wrong': 12}\n",
            "\n",
            "##  Later on at home, the parents are going out and hire an older woman to babysit him and his sister. Twisted\n",
            "\t\t\t\t\t\t\t\t Twisted\n",
            "\t\t\t\t\t\t\t\t Chatroom\n",
            "\t\t\t\t\t\t\t\t The 10th Kingdom\n",
            "\t\t\t\t\t\t\t\t The Dragon Ring\n",
            "\t\t\t\t\t\t\t\t Nowhere\n",
            "\t\t\t\t\t\t\t\t Deadend\n",
            "\t\t\t\t\t\t\t\t The Warlord\n",
            "\t\t\t\t\t\t\t\t The Final\n",
            "\t\t\t\t\t\t\t\t Tales of the Night\n",
            "\t\t\t\t\t\t\t\t The Watcher in the Woods\n"
          ]
        },
        {
          "output_type": "stream",
          "name": "stderr",
          "text": [
            "\r 15%|█▌        | 19/126 [01:35<08:41,  4.87s/it]"
          ]
        },
        {
          "output_type": "stream",
          "name": "stdout",
          "text": [
            "\n",
            "++ [ Twisted || {'twisted': [0.7902235388755798, 'As soon as the parents have left, he psychologically terrorizes Helen and his sister with electronic tricks.']} ]\n",
            "correct ||  {'Correct': 7, 'Wrong': 12}\n",
            "\n",
            "##  The bully shows up later, now with a bandaged hand and crosses the sensor, alerting the boy. Twisted\n",
            "\t\t\t\t\t\t\t\t Twisted\n",
            "\t\t\t\t\t\t\t\t Chatroom\n",
            "\t\t\t\t\t\t\t\t The 10th Kingdom\n",
            "\t\t\t\t\t\t\t\t The Dragon Ring\n",
            "\t\t\t\t\t\t\t\t Nowhere\n",
            "\t\t\t\t\t\t\t\t Deadend\n",
            "\t\t\t\t\t\t\t\t The Warlord\n",
            "\t\t\t\t\t\t\t\t The Final\n",
            "\t\t\t\t\t\t\t\t Tales of the Night\n",
            "\t\t\t\t\t\t\t\t The Watcher in the Woods\n"
          ]
        },
        {
          "output_type": "stream",
          "name": "stderr",
          "text": [
            "\r 16%|█▌        | 20/126 [01:40<08:49,  5.00s/it]"
          ]
        },
        {
          "output_type": "stream",
          "name": "stdout",
          "text": [
            "\n",
            "++ [ Twisted || {'deadend': [0.7856202721595764, 'Marion suddenly awakens in the hospital, heavily bandaged.'], 'chatroom': [0.7573102712631226, 'When William gets it and comes back, Eva punches him and the rest of the crew comes, followed by the police.'], 'twisted': [0.7362552285194397, 'Williams (Karl Taylor), a school jock whom Mark burned earlier in science class, comes to the Collins home out for revenge; Mark kills him with a fencing sword.']} ]\n",
            "correct ||  {'Correct': 8, 'Wrong': 12}\n",
            "\n",
            "##  A piece of wood or cardboard falls when they scuffle and the bully tries to push it forward but the boy stabs the sword through, killing the bully. Twisted\n",
            "\t\t\t\t\t\t\t\t Twisted\n",
            "\t\t\t\t\t\t\t\t Chatroom\n",
            "\t\t\t\t\t\t\t\t The 10th Kingdom\n",
            "\t\t\t\t\t\t\t\t The Dragon Ring\n",
            "\t\t\t\t\t\t\t\t Nowhere\n",
            "\t\t\t\t\t\t\t\t Deadend\n",
            "\t\t\t\t\t\t\t\t The Warlord\n",
            "\t\t\t\t\t\t\t\t The Final\n",
            "\t\t\t\t\t\t\t\t Tales of the Night\n",
            "\t\t\t\t\t\t\t\t The Watcher in the Woods\n"
          ]
        },
        {
          "output_type": "stream",
          "name": "stderr",
          "text": [
            "\r 17%|█▋        | 21/126 [01:45<08:44,  5.00s/it]"
          ]
        },
        {
          "output_type": "stream",
          "name": "stdout",
          "text": [
            "\n",
            "++ [ Twisted || {'deadend': [0.7720518708229065, 'Frank tries to shoot the driver but the car begins backing up as Laura appears.'], 'chatroom': [0.7653075456619263, 'He tries to leave, but William chases him.'], 'twisted': [0.7359816431999207, 'Ultimately, Mark himself is killed when Helen, defending herself, knocks him onto his spiked German helmet.']} ]\n",
            "correct ||  {'Correct': 9, 'Wrong': 12}\n",
            "\n",
            "##  He falls on top of the spiked helmet from earlier and crawls away. Twisted\n",
            "\t\t\t\t\t\t\t\t Twisted\n",
            "\t\t\t\t\t\t\t\t Chatroom\n",
            "\t\t\t\t\t\t\t\t The 10th Kingdom\n",
            "\t\t\t\t\t\t\t\t The Dragon Ring\n",
            "\t\t\t\t\t\t\t\t Nowhere\n",
            "\t\t\t\t\t\t\t\t Deadend\n",
            "\t\t\t\t\t\t\t\t The Warlord\n",
            "\t\t\t\t\t\t\t\t The Final\n",
            "\t\t\t\t\t\t\t\t Tales of the Night\n",
            "\t\t\t\t\t\t\t\t The Watcher in the Woods\n"
          ]
        },
        {
          "output_type": "stream",
          "name": "stderr",
          "text": [
            "\r 17%|█▋        | 22/126 [01:50<08:32,  4.92s/it]"
          ]
        },
        {
          "output_type": "stream",
          "name": "stdout",
          "text": [
            "\n",
            "++ [ Twisted || {'chatroom': [0.8174021244049072, 'He then falls in front of the speeding train behind the crates and is killed.'], 'twisted': [0.7780266404151917, 'Ultimately, Mark himself is killed when Helen, defending herself, knocks him onto his spiked German helmet.']} ]\n",
            "correct ||  {'Correct': 10, 'Wrong': 12}\n",
            "\n",
            "##  She gets up and I think they fight a bit more and she pushes him. Twisted\n",
            "\t\t\t\t\t\t\t\t Twisted\n",
            "\t\t\t\t\t\t\t\t Chatroom\n",
            "\t\t\t\t\t\t\t\t The 10th Kingdom\n",
            "\t\t\t\t\t\t\t\t The Dragon Ring\n",
            "\t\t\t\t\t\t\t\t Nowhere\n",
            "\t\t\t\t\t\t\t\t Deadend\n",
            "\t\t\t\t\t\t\t\t The Warlord\n",
            "\t\t\t\t\t\t\t\t The Final\n",
            "\t\t\t\t\t\t\t\t Tales of the Night\n",
            "\t\t\t\t\t\t\t\t The Watcher in the Woods\n"
          ]
        },
        {
          "output_type": "stream",
          "name": "stderr",
          "text": [
            "\r 18%|█▊        | 23/126 [01:55<08:25,  4.91s/it]"
          ]
        },
        {
          "output_type": "stream",
          "name": "stdout",
          "text": [
            "\n",
            "++ [ Twisted || {'chatroom': [0.7473786473274231, 'He tries to leave, but William chases him.'], 'twisted': [0.7108601927757263, 'The sensible Helen meets little Susan Collins at the discount market and likes her, so she offers to do the job.']} ]\n",
            "correct ||  {'Correct': 11, 'Wrong': 12}\n",
            "\n",
            "##  Mark's parents come home to find the house in shambles  Twisted\n",
            "\t\t\t\t\t\t\t\t Twisted\n",
            "\t\t\t\t\t\t\t\t Chatroom\n",
            "\t\t\t\t\t\t\t\t The 10th Kingdom\n",
            "\t\t\t\t\t\t\t\t The Dragon Ring\n",
            "\t\t\t\t\t\t\t\t Nowhere\n",
            "\t\t\t\t\t\t\t\t Deadend\n",
            "\t\t\t\t\t\t\t\t The Warlord\n",
            "\t\t\t\t\t\t\t\t The Final\n",
            "\t\t\t\t\t\t\t\t Tales of the Night\n",
            "\t\t\t\t\t\t\t\t The Watcher in the Woods\n"
          ]
        },
        {
          "output_type": "stream",
          "name": "stderr",
          "text": [
            "\r 19%|█▉        | 24/126 [02:00<08:28,  4.98s/it]"
          ]
        },
        {
          "output_type": "stream",
          "name": "stdout",
          "text": [
            "\n",
            "++ [  Twisted || {'twisted': [0.8840968012809753, \"Mark's parents come home to find the house in shambles; Evelyn puts the blame on Helen and tries to have her arrested, unaware that Mark lies dead upstairs.\"]} ]\n",
            "correct ||  {'Correct': 12, 'Wrong': 12}\n",
            "\n",
            "##  A closeup of the boy's face is seen staring off into space and we realize he is dead. Twisted\n",
            "\t\t\t\t\t\t\t\t Twisted\n",
            "\t\t\t\t\t\t\t\t Chatroom\n",
            "\t\t\t\t\t\t\t\t The 10th Kingdom\n",
            "\t\t\t\t\t\t\t\t The Dragon Ring\n",
            "\t\t\t\t\t\t\t\t Nowhere\n",
            "\t\t\t\t\t\t\t\t Deadend\n",
            "\t\t\t\t\t\t\t\t The Warlord\n",
            "\t\t\t\t\t\t\t\t The Final\n",
            "\t\t\t\t\t\t\t\t Tales of the Night\n",
            "\t\t\t\t\t\t\t\t The Watcher in the Woods\n"
          ]
        },
        {
          "output_type": "stream",
          "name": "stderr",
          "text": [
            "\r 20%|█▉        | 25/126 [02:05<08:19,  4.94s/it]"
          ]
        },
        {
          "output_type": "stream",
          "name": "stdout",
          "text": [
            "\n",
            "++ [ Twisted || {'deadend': [0.7708037495613098, 'The car is then seen being pulled from a wreck, and the doctor discusses the accident.'], 'nowhere': [0.7563005685806274, 'Dark returns home and records a diary entry on his video camera, saying how he\\'s \"totally doomed\".'], 'chatroom': [0.7506520748138428, 'He then falls in front of the speeding train behind the crates and is killed.']} ]\n",
            "wrong ||  {'Correct': 12, 'Wrong': 13}\n",
            "\n",
            "##  A hand reaches for his glasses and we see the little sister putting them on. Twisted\n",
            "\t\t\t\t\t\t\t\t Twisted\n",
            "\t\t\t\t\t\t\t\t Chatroom\n",
            "\t\t\t\t\t\t\t\t The 10th Kingdom\n",
            "\t\t\t\t\t\t\t\t The Dragon Ring\n",
            "\t\t\t\t\t\t\t\t Nowhere\n",
            "\t\t\t\t\t\t\t\t Deadend\n",
            "\t\t\t\t\t\t\t\t The Warlord\n",
            "\t\t\t\t\t\t\t\t The Final\n",
            "\t\t\t\t\t\t\t\t Tales of the Night\n",
            "\t\t\t\t\t\t\t\t The Watcher in the Woods\n"
          ]
        },
        {
          "output_type": "stream",
          "name": "stderr",
          "text": [
            "\r 21%|██        | 26/126 [02:11<08:53,  5.33s/it]"
          ]
        },
        {
          "output_type": "stream",
          "name": "stdout",
          "text": [
            "\n",
            "++ [ Twisted || {'deadend': [0.7588333487510681, \"The woman appears at Frank's window, holding a baby.\"], 'twisted': [0.7393532395362854, \"Secretly, Susan dons her late brother's glasses and proceeds to listen to his Nazi music and the cycle begins anew.\"]} ]\n",
            "correct ||  {'Correct': 13, 'Wrong': 13}\n",
            "\n",
            "##  In one class, a bully teases him and he makes a mixture in a beaker and pours it on the bully's arm. Twisted\n",
            "\t\t\t\t\t\t\t\t Twisted\n",
            "\t\t\t\t\t\t\t\t Chatroom\n",
            "\t\t\t\t\t\t\t\t The 10th Kingdom\n",
            "\t\t\t\t\t\t\t\t The Dragon Ring\n",
            "\t\t\t\t\t\t\t\t Nowhere\n",
            "\t\t\t\t\t\t\t\t Deadend\n",
            "\t\t\t\t\t\t\t\t The Warlord\n",
            "\t\t\t\t\t\t\t\t The Final\n",
            "\t\t\t\t\t\t\t\t Tales of the Night\n",
            "\t\t\t\t\t\t\t\t The Watcher in the Woods\n"
          ]
        },
        {
          "output_type": "stream",
          "name": "stderr",
          "text": [
            "\r 21%|██▏       | 27/126 [02:16<08:34,  5.20s/it]"
          ]
        },
        {
          "output_type": "stream",
          "name": "stdout",
          "text": [
            "\n",
            "++ [ Twisted || {'the final': [0.7727482914924622, 'They lace the punch bowl with a drug, causing everyone who drinks from it to fall unconscious.'], 'nowhere': [0.7634567618370056, 'Elvis claims Handjob sold him cut drugs and beats him to death with a can of tomato soup.'], 'chatroom': [0.7553232908248901, 'He tells Mo to tell Si the truth, but this backfires when Si calls him a pervert and attacks him.']} ]\n",
            "wrong ||  {'Correct': 13, 'Wrong': 14}\n",
            "\n",
            "##  When he realizes she's the evil princess, she curses him to be a wolf. Tales of the Night\n",
            "\t\t\t\t\t\t\t\t Twisted\n",
            "\t\t\t\t\t\t\t\t Chatroom\n",
            "\t\t\t\t\t\t\t\t The 10th Kingdom\n",
            "\t\t\t\t\t\t\t\t The Dragon Ring\n",
            "\t\t\t\t\t\t\t\t Nowhere\n",
            "\t\t\t\t\t\t\t\t Deadend\n",
            "\t\t\t\t\t\t\t\t The Warlord\n",
            "\t\t\t\t\t\t\t\t The Final\n",
            "\t\t\t\t\t\t\t\t Tales of the Night\n",
            "\t\t\t\t\t\t\t\t The Watcher in the Woods\n"
          ]
        },
        {
          "output_type": "stream",
          "name": "stderr",
          "text": [
            "\r 22%|██▏       | 28/126 [02:21<08:14,  5.05s/it]"
          ]
        },
        {
          "output_type": "stream",
          "name": "stdout",
          "text": [
            "\n",
            "++ [ Tales of the Night || {'the 10th kingdom': [0.8218571543693542, 'Prince Wendell is captured by the Evil Queen, who is his wicked stepmother.'], 'chatroom': [0.784035861492157, 'He tells Mo to tell Si the truth, but this backfires when Si calls him a pervert and attacks him.'], 'twisted': [0.7777267098426819, 'Ultimately, Mark himself is killed when Helen, defending herself, knocks him onto his spiked German helmet.']} ]\n",
            "wrong ||  {'Correct': 13, 'Wrong': 15}\n",
            "\n",
            "##  Boy then eventually gets freed by the good princess. Tales of the Night\n",
            "\t\t\t\t\t\t\t\t Twisted\n",
            "\t\t\t\t\t\t\t\t Chatroom\n",
            "\t\t\t\t\t\t\t\t The 10th Kingdom\n",
            "\t\t\t\t\t\t\t\t The Dragon Ring\n",
            "\t\t\t\t\t\t\t\t Nowhere\n",
            "\t\t\t\t\t\t\t\t Deadend\n",
            "\t\t\t\t\t\t\t\t The Warlord\n",
            "\t\t\t\t\t\t\t\t The Final\n",
            "\t\t\t\t\t\t\t\t Tales of the Night\n",
            "\t\t\t\t\t\t\t\t The Watcher in the Woods\n"
          ]
        },
        {
          "output_type": "stream",
          "name": "stderr",
          "text": [
            "\r 23%|██▎       | 29/126 [02:25<08:00,  4.95s/it]"
          ]
        },
        {
          "output_type": "stream",
          "name": "stdout",
          "text": [
            "\n",
            "++ [ Tales of the Night || {'the 10th kingdom': [0.8598929643630981, 'Prince Wendell is captured by the Evil Queen, who is his wicked stepmother.'], 'chatroom': [0.76156085729599, 'He then falls in front of the speeding train behind the crates and is killed.'], 'twisted': [0.761527955532074, 'Ultimately, Mark himself is killed when Helen, defending herself, knocks him onto his spiked German helmet.']} ]\n",
            "wrong ||  {'Correct': 13, 'Wrong': 16}\n",
            "\n",
            "##  Boy finds himself in a city of gold, but an evil dragon rules the city. Tales of the Night\n",
            "\t\t\t\t\t\t\t\t Twisted\n",
            "\t\t\t\t\t\t\t\t Chatroom\n",
            "\t\t\t\t\t\t\t\t The 10th Kingdom\n",
            "\t\t\t\t\t\t\t\t The Dragon Ring\n",
            "\t\t\t\t\t\t\t\t Nowhere\n",
            "\t\t\t\t\t\t\t\t Deadend\n",
            "\t\t\t\t\t\t\t\t The Warlord\n",
            "\t\t\t\t\t\t\t\t The Final\n",
            "\t\t\t\t\t\t\t\t Tales of the Night\n",
            "\t\t\t\t\t\t\t\t The Watcher in the Woods\n"
          ]
        },
        {
          "output_type": "stream",
          "name": "stderr",
          "text": [
            "\r 24%|██▍       | 30/126 [02:30<07:48,  4.88s/it]"
          ]
        },
        {
          "output_type": "stream",
          "name": "stdout",
          "text": [
            "\n",
            "++ [ Tales of the Night || {'the 10th kingdom': [0.8129188418388367, 'In a hidden realm, fairy tale characters inhabit nine magical kingdoms where an Evil Queen plots to rule them.'], 'chatroom': [0.7621507048606873, 'William walks in a chat tunnel as the light gradually fades.'], 'twisted': [0.7543696165084839, 'Ultimately, Mark himself is killed when Helen, defending herself, knocks him onto his spiked German helmet.']} ]\n",
            "wrong ||  {'Correct': 13, 'Wrong': 17}\n",
            "\n",
            "##  The dragon gives the people gold, but only if they sacrifice the most beautiful maiden to the dragon every month/year. Tales of the Night\n",
            "\t\t\t\t\t\t\t\t Twisted\n",
            "\t\t\t\t\t\t\t\t Chatroom\n",
            "\t\t\t\t\t\t\t\t The 10th Kingdom\n",
            "\t\t\t\t\t\t\t\t The Dragon Ring\n",
            "\t\t\t\t\t\t\t\t Nowhere\n",
            "\t\t\t\t\t\t\t\t Deadend\n",
            "\t\t\t\t\t\t\t\t The Warlord\n",
            "\t\t\t\t\t\t\t\t The Final\n",
            "\t\t\t\t\t\t\t\t Tales of the Night\n",
            "\t\t\t\t\t\t\t\t The Watcher in the Woods\n"
          ]
        },
        {
          "output_type": "stream",
          "name": "stderr",
          "text": [
            "\r 25%|██▍       | 31/126 [02:35<07:40,  4.85s/it]"
          ]
        },
        {
          "output_type": "stream",
          "name": "stdout",
          "text": [
            "\n",
            "++ [ Tales of the Night || {'tales of the night': [0.794089674949646, 'The inhabitants of a city made of gold worship a being called the Benefactor who gives them gold in exchange for a human sacrifice of the prettiest women in the land.'], 'the dragon ring': [0.768811821937561, 'As the eldest birth daughter of the Dragon King, Desideria is due to inherit the Dragon Ring, the highest symbol of power in the kingdom, but she can only do so once she has chosen a husband.'], 'the 10th kingdom': [0.751721203327179, 'Virginia must kill the Evil Queen in self-defense, which pains her greatly.']} ]\n",
            "correct ||  {'Correct': 14, 'Wrong': 17}\n",
            "\n",
            "##  Boy eventually slays dragon and marries the girl, who was the most beautiful at that time. Tales of the Night\n",
            "\t\t\t\t\t\t\t\t Twisted\n",
            "\t\t\t\t\t\t\t\t Chatroom\n",
            "\t\t\t\t\t\t\t\t The 10th Kingdom\n",
            "\t\t\t\t\t\t\t\t The Dragon Ring\n",
            "\t\t\t\t\t\t\t\t Nowhere\n",
            "\t\t\t\t\t\t\t\t Deadend\n",
            "\t\t\t\t\t\t\t\t The Warlord\n",
            "\t\t\t\t\t\t\t\t The Final\n",
            "\t\t\t\t\t\t\t\t Tales of the Night\n",
            "\t\t\t\t\t\t\t\t The Watcher in the Woods\n"
          ]
        },
        {
          "output_type": "stream",
          "name": "stderr",
          "text": [
            "\r 25%|██▌       | 32/126 [02:40<07:32,  4.81s/it]"
          ]
        },
        {
          "output_type": "stream",
          "name": "stdout",
          "text": [
            "\n",
            "++ [ Tales of the Night || {'the 10th kingdom': [0.7942705154418945, 'Prince Wendell is captured by the Evil Queen, who is his wicked stepmother.'], 'twisted': [0.7432098388671875, 'Ultimately, Mark himself is killed when Helen, defending herself, knocks him onto his spiked German helmet.']} ]\n",
            "wrong ||  {'Correct': 14, 'Wrong': 18}\n",
            "\n",
            "##  Boy is in Africa and likes to play the drum, but is shunned for doing so. Tales of the Night\n",
            "\t\t\t\t\t\t\t\t Twisted\n",
            "\t\t\t\t\t\t\t\t Chatroom\n",
            "\t\t\t\t\t\t\t\t The 10th Kingdom\n",
            "\t\t\t\t\t\t\t\t The Dragon Ring\n",
            "\t\t\t\t\t\t\t\t Nowhere\n",
            "\t\t\t\t\t\t\t\t Deadend\n",
            "\t\t\t\t\t\t\t\t The Warlord\n",
            "\t\t\t\t\t\t\t\t The Final\n",
            "\t\t\t\t\t\t\t\t Tales of the Night\n",
            "\t\t\t\t\t\t\t\t The Watcher in the Woods\n"
          ]
        },
        {
          "output_type": "stream",
          "name": "stderr",
          "text": [
            "\r 26%|██▌       | 33/126 [02:44<07:24,  4.78s/it]"
          ]
        },
        {
          "output_type": "stream",
          "name": "stdout",
          "text": [
            "\n",
            "++ [ Tales of the Night || {'tales of the night': [0.786887526512146, 'However the boy is found useful when he is able to play the drum to save his village from invaders.'], 'the final': [0.7618013024330139, 'She is unable to do it.'], 'chatroom': [0.7601503133773804, 'Jim makes it to the zoo first but decides to not do it.']} ]\n",
            "correct ||  {'Correct': 15, 'Wrong': 18}\n",
            "\n",
            "##  Boy gets thrown out of clan/tribe, but saves an old medicine man from a leopard/big cat. Tales of the Night\n",
            "\t\t\t\t\t\t\t\t Twisted\n",
            "\t\t\t\t\t\t\t\t Chatroom\n",
            "\t\t\t\t\t\t\t\t The 10th Kingdom\n",
            "\t\t\t\t\t\t\t\t The Dragon Ring\n",
            "\t\t\t\t\t\t\t\t Nowhere\n",
            "\t\t\t\t\t\t\t\t Deadend\n",
            "\t\t\t\t\t\t\t\t The Warlord\n",
            "\t\t\t\t\t\t\t\t The Final\n",
            "\t\t\t\t\t\t\t\t Tales of the Night\n",
            "\t\t\t\t\t\t\t\t The Watcher in the Woods\n"
          ]
        },
        {
          "output_type": "stream",
          "name": "stderr",
          "text": [
            "\r 27%|██▋       | 34/126 [02:49<07:19,  4.78s/it]"
          ]
        },
        {
          "output_type": "stream",
          "name": "stdout",
          "text": [
            "\n",
            "++ [ Tales of the Night || {'tales of the night': [0.7797946929931641, 'One day he saves the life of an old man who turns out to be the keeper of the magic drum.'], 'the final': [0.7731547355651855, 'One boy, Tommy, flees for help, but steps into a bear trap in the woods.'], 'the 10th kingdom': [0.7609358429908752, 'Prince Wendell is captured by the Evil Queen, who is his wicked stepmother.']} ]\n",
            "correct ||  {'Correct': 16, 'Wrong': 18}\n",
            "\n",
            "##  Old medicine man teaches boy how to play drum, which ends up healing the sick clan/tribe chief. Tales of the Night\n",
            "\t\t\t\t\t\t\t\t Twisted\n",
            "\t\t\t\t\t\t\t\t Chatroom\n",
            "\t\t\t\t\t\t\t\t The 10th Kingdom\n",
            "\t\t\t\t\t\t\t\t The Dragon Ring\n",
            "\t\t\t\t\t\t\t\t Nowhere\n",
            "\t\t\t\t\t\t\t\t Deadend\n",
            "\t\t\t\t\t\t\t\t The Warlord\n",
            "\t\t\t\t\t\t\t\t The Final\n",
            "\t\t\t\t\t\t\t\t Tales of the Night\n",
            "\t\t\t\t\t\t\t\t The Watcher in the Woods\n"
          ]
        },
        {
          "output_type": "stream",
          "name": "stderr",
          "text": [
            "\r 28%|██▊       | 35/126 [02:54<07:14,  4.78s/it]"
          ]
        },
        {
          "output_type": "stream",
          "name": "stdout",
          "text": [
            "\n",
            "++ [ Tales of the Night || {'tales of the night': [0.7963786721229553, 'However the boy is found useful when he is able to play the drum to save his village from invaders.'], 'the 10th kingdom': [0.7545781135559082, 'Virginia must kill the Evil Queen in self-defense, which pains her greatly.'], 'chatroom': [0.732172966003418, 'William gets his backup computer and phone and goes after Jim, who meets up with him at London Zoo.']} ]\n",
            "correct ||  {'Correct': 17, 'Wrong': 18}\n",
            "\n",
            "##  The drum also makes the clan/tribe unbeatable in battle. Tales of the Night\n",
            "\t\t\t\t\t\t\t\t Twisted\n",
            "\t\t\t\t\t\t\t\t Chatroom\n",
            "\t\t\t\t\t\t\t\t The 10th Kingdom\n",
            "\t\t\t\t\t\t\t\t The Dragon Ring\n",
            "\t\t\t\t\t\t\t\t Nowhere\n",
            "\t\t\t\t\t\t\t\t Deadend\n",
            "\t\t\t\t\t\t\t\t The Warlord\n",
            "\t\t\t\t\t\t\t\t The Final\n",
            "\t\t\t\t\t\t\t\t Tales of the Night\n",
            "\t\t\t\t\t\t\t\t The Watcher in the Woods\n"
          ]
        },
        {
          "output_type": "stream",
          "name": "stderr",
          "text": [
            "\r 29%|██▊       | 36/126 [02:59<07:08,  4.77s/it]"
          ]
        },
        {
          "output_type": "stream",
          "name": "stdout",
          "text": [
            "\n",
            "++ [ Tales of the Night || {'tales of the night': [0.7806708812713623, 'However the boy is found useful when he is able to play the drum to save his village from invaders.'], 'the 10th kingdom': [0.7592945694923401, 'Virginia must kill the Evil Queen in self-defense, which pains her greatly.'], 'chatroom': [0.7362571954727173, 'William sees it to himself to help them in a crude manner.']} ]\n",
            "correct ||  {'Correct': 18, 'Wrong': 18}\n",
            "\n",
            "##  Boy is an adventurer in a strange land where he crawls through a tunnel and gets put in prison. Tales of the Night\n",
            "\t\t\t\t\t\t\t\t Twisted\n",
            "\t\t\t\t\t\t\t\t Chatroom\n",
            "\t\t\t\t\t\t\t\t The 10th Kingdom\n",
            "\t\t\t\t\t\t\t\t The Dragon Ring\n",
            "\t\t\t\t\t\t\t\t Nowhere\n",
            "\t\t\t\t\t\t\t\t Deadend\n",
            "\t\t\t\t\t\t\t\t The Warlord\n",
            "\t\t\t\t\t\t\t\t The Final\n",
            "\t\t\t\t\t\t\t\t Tales of the Night\n",
            "\t\t\t\t\t\t\t\t The Watcher in the Woods\n"
          ]
        },
        {
          "output_type": "stream",
          "name": "stderr",
          "text": [
            "\r 29%|██▉       | 37/126 [03:03<07:04,  4.77s/it]"
          ]
        },
        {
          "output_type": "stream",
          "name": "stdout",
          "text": [
            "\n",
            "++ [ Tales of the Night || {'the 10th kingdom': [0.8042009472846985, 'In a panic, the transformed Prince flees through the prison, stumbles across a mirror portal in the basement, and is transported to New York City.'], 'chatroom': [0.7836425304412842, 'William walks in a chat tunnel as the light gradually fades.'], 'twisted': [0.735081136226654, 'Ultimately, Mark himself is killed when Helen, defending herself, knocks him onto his spiked German helmet.']} ]\n",
            "wrong ||  {'Correct': 18, 'Wrong': 19}\n",
            "\n",
            "##  A bee flies around the head of the correct daughter because he fed the bee earlier in the tunnel. Tales of the Night\n",
            "\t\t\t\t\t\t\t\t Twisted\n",
            "\t\t\t\t\t\t\t\t Chatroom\n",
            "\t\t\t\t\t\t\t\t The 10th Kingdom\n",
            "\t\t\t\t\t\t\t\t The Dragon Ring\n",
            "\t\t\t\t\t\t\t\t Nowhere\n",
            "\t\t\t\t\t\t\t\t Deadend\n",
            "\t\t\t\t\t\t\t\t The Warlord\n",
            "\t\t\t\t\t\t\t\t The Final\n",
            "\t\t\t\t\t\t\t\t Tales of the Night\n",
            "\t\t\t\t\t\t\t\t The Watcher in the Woods\n"
          ]
        },
        {
          "output_type": "stream",
          "name": "stderr",
          "text": [
            "\r 30%|███       | 38/126 [03:08<07:00,  4.78s/it]"
          ]
        },
        {
          "output_type": "stream",
          "name": "stdout",
          "text": [
            "\n",
            "++ [ Tales of the Night || {'tales of the night': [0.7631715536117554, 'She throws the necklace in the well and tells the people that the prince was eaten by the wolf of the woods.'], 'chatroom': [0.7551743984222412, 'William walks in a chat tunnel as the light gradually fades.'], 'twisted': [0.7326678037643433, 'The sensible Helen meets little Susan Collins at the discount market and likes her, so she offers to do the job.']} ]\n",
            "correct ||  {'Correct': 19, 'Wrong': 19}\n",
            "\n",
            "##  He also gets help from other monsters he met in the tunnel/cave. Tales of the Night\n",
            "\t\t\t\t\t\t\t\t Twisted\n",
            "\t\t\t\t\t\t\t\t Chatroom\n",
            "\t\t\t\t\t\t\t\t The 10th Kingdom\n",
            "\t\t\t\t\t\t\t\t The Dragon Ring\n",
            "\t\t\t\t\t\t\t\t Nowhere\n",
            "\t\t\t\t\t\t\t\t Deadend\n",
            "\t\t\t\t\t\t\t\t The Warlord\n",
            "\t\t\t\t\t\t\t\t The Final\n",
            "\t\t\t\t\t\t\t\t Tales of the Night\n",
            "\t\t\t\t\t\t\t\t The Watcher in the Woods\n"
          ]
        },
        {
          "output_type": "stream",
          "name": "stderr",
          "text": [
            "\r 31%|███       | 39/126 [03:13<06:54,  4.76s/it]"
          ]
        },
        {
          "output_type": "stream",
          "name": "stdout",
          "text": [
            "\n",
            "++ [ Tales of the Night || {'tales of the night': [0.7827622890472412, 'However the boy is found useful when he is able to play the drum to save his village from invaders.'], 'the 10th kingdom': [0.767971396446228, 'Prince Wendell is captured by the Evil Queen, who is his wicked stepmother.'], 'chatroom': [0.7592020630836487, 'William walks in a chat tunnel as the light gradually fades.']} ]\n",
            "correct ||  {'Correct': 20, 'Wrong': 19}\n",
            "\n",
            "##  Second, it was about a boy and a girl acting out these a play in an old theater owned by an old man, who may have been their grandfather. Tales of the Night\n",
            "\t\t\t\t\t\t\t\t Twisted\n",
            "\t\t\t\t\t\t\t\t Chatroom\n",
            "\t\t\t\t\t\t\t\t The 10th Kingdom\n",
            "\t\t\t\t\t\t\t\t The Dragon Ring\n",
            "\t\t\t\t\t\t\t\t Nowhere\n",
            "\t\t\t\t\t\t\t\t Deadend\n",
            "\t\t\t\t\t\t\t\t The Warlord\n",
            "\t\t\t\t\t\t\t\t The Final\n",
            "\t\t\t\t\t\t\t\t Tales of the Night\n",
            "\t\t\t\t\t\t\t\t The Watcher in the Woods\n"
          ]
        },
        {
          "output_type": "stream",
          "name": "stderr",
          "text": [
            "\r 32%|███▏      | 40/126 [03:18<06:53,  4.81s/it]"
          ]
        },
        {
          "output_type": "stream",
          "name": "stdout",
          "text": [
            "\n",
            "++ [ Tales of the Night || {'tales of the night': [0.8170621395111084, 'A girl, a boy and an old cinema technician tell stories every night in a small theater.'], 'the final': [0.7498959898948669, 'Dane, another outcast, has an old, secluded house in the woods which he inherited from his late uncle.'], 'chatroom': [0.7482191920280457, 'Even though they only really communicate through text, they are depicted in an old hotel-like room and actually having contact.']} ]\n",
            "correct ||  {'Correct': 21, 'Wrong': 19}\n",
            "\n",
            "##  There was also an owl in the theater, and it looked at the camera and hooted whenever they changed from one play to another. Tales of the Night\n",
            "\t\t\t\t\t\t\t\t Twisted\n",
            "\t\t\t\t\t\t\t\t Chatroom\n",
            "\t\t\t\t\t\t\t\t The 10th Kingdom\n",
            "\t\t\t\t\t\t\t\t The Dragon Ring\n",
            "\t\t\t\t\t\t\t\t Nowhere\n",
            "\t\t\t\t\t\t\t\t Deadend\n",
            "\t\t\t\t\t\t\t\t The Warlord\n",
            "\t\t\t\t\t\t\t\t The Final\n",
            "\t\t\t\t\t\t\t\t Tales of the Night\n",
            "\t\t\t\t\t\t\t\t The Watcher in the Woods\n"
          ]
        },
        {
          "output_type": "stream",
          "name": "stderr",
          "text": [
            "\r 33%|███▎      | 41/126 [03:23<06:49,  4.82s/it]"
          ]
        },
        {
          "output_type": "stream",
          "name": "stdout",
          "text": [
            "\n",
            "++ [ Tales of the Night || {'tales of the night': [0.7464591264724731, 'A girl, a boy and an old cinema technician tell stories every night in a small theater.'], 'the final': [0.7289173603057861, 'There, Bradley and Bernard insult Ravi in the restroom and break his camera.'], 'deadend': [0.7281219959259033, 'The woman gets into the car, and as the family ask her questions, she remains silent.']} ]\n",
            "correct ||  {'Correct': 22, 'Wrong': 19}\n",
            "\n",
            "##  Third, to change from one costume to another, they stood on a sort of platform thing. Tales of the Night\n",
            "\t\t\t\t\t\t\t\t Twisted\n",
            "\t\t\t\t\t\t\t\t Chatroom\n",
            "\t\t\t\t\t\t\t\t The 10th Kingdom\n",
            "\t\t\t\t\t\t\t\t The Dragon Ring\n",
            "\t\t\t\t\t\t\t\t Nowhere\n",
            "\t\t\t\t\t\t\t\t Deadend\n",
            "\t\t\t\t\t\t\t\t The Warlord\n",
            "\t\t\t\t\t\t\t\t The Final\n",
            "\t\t\t\t\t\t\t\t Tales of the Night\n",
            "\t\t\t\t\t\t\t\t The Watcher in the Woods\n"
          ]
        },
        {
          "output_type": "stream",
          "name": "stderr",
          "text": [
            "\r 33%|███▎      | 42/126 [03:27<06:44,  4.81s/it]"
          ]
        },
        {
          "output_type": "stream",
          "name": "stdout",
          "text": [
            "\n",
            "++ [ Tales of the Night || {'chatroom': [0.7438969016075134, 'William sees it to himself to help them in a crude manner.'], 'twisted': [0.7097348570823669, 'Evidently, she had an accident; now they need a new babysitter for an upcoming party.']} ]\n",
            "wrong ||  {'Correct': 22, 'Wrong': 20}\n",
            "\n",
            "##  It â€œscannedâ€_x009d_ them, and the silhouettes of the clothes they described appeared on their bodies. Tales of the Night\n",
            "\t\t\t\t\t\t\t\t Twisted\n",
            "\t\t\t\t\t\t\t\t Chatroom\n",
            "\t\t\t\t\t\t\t\t The 10th Kingdom\n",
            "\t\t\t\t\t\t\t\t The Dragon Ring\n",
            "\t\t\t\t\t\t\t\t Nowhere\n",
            "\t\t\t\t\t\t\t\t Deadend\n",
            "\t\t\t\t\t\t\t\t The Warlord\n",
            "\t\t\t\t\t\t\t\t The Final\n",
            "\t\t\t\t\t\t\t\t Tales of the Night\n",
            "\t\t\t\t\t\t\t\t The Watcher in the Woods\n"
          ]
        },
        {
          "output_type": "stream",
          "name": "stderr",
          "text": [
            "\r 34%|███▍      | 43/126 [03:32<06:40,  4.83s/it]"
          ]
        },
        {
          "output_type": "stream",
          "name": "stdout",
          "text": [
            "\n",
            "++ [ Tales of the Night || {'chatroom': [0.7399324178695679, '\", which instead focuses on the lives of each one as they talk.'], 'twisted': [0.6959861516952515, \"Secretly, Susan dons her late brother's glasses and proceeds to listen to his Nazi music and the cycle begins anew.\"]} ]\n",
            "wrong ||  {'Correct': 22, 'Wrong': 21}\n",
            "\n",
            "##  The plays/plots I remember are as follows : Boy gets put in prison (wrongly accused of stealing a necklace, I think), but gets pitied by a princess and she takes him food/clothing. Tales of the Night\n",
            "\t\t\t\t\t\t\t\t Twisted\n",
            "\t\t\t\t\t\t\t\t Chatroom\n",
            "\t\t\t\t\t\t\t\t The 10th Kingdom\n",
            "\t\t\t\t\t\t\t\t The Dragon Ring\n",
            "\t\t\t\t\t\t\t\t Nowhere\n",
            "\t\t\t\t\t\t\t\t Deadend\n",
            "\t\t\t\t\t\t\t\t The Warlord\n",
            "\t\t\t\t\t\t\t\t The Final\n",
            "\t\t\t\t\t\t\t\t Tales of the Night\n",
            "\t\t\t\t\t\t\t\t The Watcher in the Woods\n"
          ]
        },
        {
          "output_type": "stream",
          "name": "stderr",
          "text": [
            "\r 35%|███▍      | 44/126 [03:37<06:40,  4.88s/it]"
          ]
        },
        {
          "output_type": "stream",
          "name": "stdout",
          "text": [
            "\n",
            "++ [ Tales of the Night || {'the 10th kingdom': [0.7617472410202026, 'Prince Wendell is captured by the Evil Queen, who is his wicked stepmother.'], 'chatroom': [0.7312617897987366, \"His plans are halted though when his computer and phone are taken away from him by his father, who when looking through William's computer, finds one of the suicide videos.\"], 'twisted': [0.7262482047080994, 'Ultimately, Mark himself is killed when Helen, defending herself, knocks him onto his spiked German helmet.']} ]\n",
            "wrong ||  {'Correct': 22, 'Wrong': 22}\n",
            "\n",
            "##  They are plotting murder in that room and the girl seems to be trying to leave her family. Chatroom\n",
            "\t\t\t\t\t\t\t\t Twisted\n",
            "\t\t\t\t\t\t\t\t Chatroom\n",
            "\t\t\t\t\t\t\t\t The 10th Kingdom\n",
            "\t\t\t\t\t\t\t\t The Dragon Ring\n",
            "\t\t\t\t\t\t\t\t Nowhere\n",
            "\t\t\t\t\t\t\t\t Deadend\n",
            "\t\t\t\t\t\t\t\t The Warlord\n",
            "\t\t\t\t\t\t\t\t The Final\n",
            "\t\t\t\t\t\t\t\t Tales of the Night\n",
            "\t\t\t\t\t\t\t\t The Watcher in the Woods\n"
          ]
        },
        {
          "output_type": "stream",
          "name": "stderr",
          "text": [
            "\r 36%|███▌      | 45/126 [03:42<06:31,  4.84s/it]"
          ]
        },
        {
          "output_type": "stream",
          "name": "stdout",
          "text": [
            "\n",
            "++ [ Chatroom || {'chatroom': [0.7843575477600098, 'They devise ways in which Emily could be more violent and make it look like somebody is harassing her family, which makes her parents try to protect her more.'], 'twisted': [0.7659608125686646, \"Mark's parents come home to find the house in shambles; Evelyn puts the blame on Helen and tries to have her arrested, unaware that Mark lies dead upstairs.\"]} ]\n",
            "correct ||  {'Correct': 23, 'Wrong': 22}\n",
            "\n",
            "##  Another young male is in his room at home, apparently watching deaths online but he can not leave his house. Chatroom\n",
            "\t\t\t\t\t\t\t\t Twisted\n",
            "\t\t\t\t\t\t\t\t Chatroom\n",
            "\t\t\t\t\t\t\t\t The 10th Kingdom\n",
            "\t\t\t\t\t\t\t\t The Dragon Ring\n",
            "\t\t\t\t\t\t\t\t Nowhere\n",
            "\t\t\t\t\t\t\t\t Deadend\n",
            "\t\t\t\t\t\t\t\t The Warlord\n",
            "\t\t\t\t\t\t\t\t The Final\n",
            "\t\t\t\t\t\t\t\t Tales of the Night\n",
            "\t\t\t\t\t\t\t\t The Watcher in the Woods\n"
          ]
        },
        {
          "output_type": "stream",
          "name": "stderr",
          "text": [
            "\r 37%|███▋      | 46/126 [03:48<07:04,  5.31s/it]"
          ]
        },
        {
          "output_type": "stream",
          "name": "stdout",
          "text": [
            "\n",
            "++ [ Chatroom || {'deadend': [0.7783324122428894, \"The woman appears at Frank's window, holding a baby.\"], 'nowhere': [0.7697135210037231, 'Dark returns home and records a diary entry on his video camera, saying how he\\'s \"totally doomed\".'], 'chatroom': [0.7692483067512512, 'Jim is another loner who is suffering from depression following his father leaving him and his mother.']} ]\n",
            "correct ||  {'Correct': 24, 'Wrong': 22}\n",
            "\n",
            "##  Story takes place in a hotel or dormitory type building where the doors are numbered. Chatroom\n",
            "\t\t\t\t\t\t\t\t Twisted\n",
            "\t\t\t\t\t\t\t\t Chatroom\n",
            "\t\t\t\t\t\t\t\t The 10th Kingdom\n",
            "\t\t\t\t\t\t\t\t The Dragon Ring\n",
            "\t\t\t\t\t\t\t\t Nowhere\n",
            "\t\t\t\t\t\t\t\t Deadend\n",
            "\t\t\t\t\t\t\t\t The Warlord\n",
            "\t\t\t\t\t\t\t\t The Final\n",
            "\t\t\t\t\t\t\t\t Tales of the Night\n",
            "\t\t\t\t\t\t\t\t The Watcher in the Woods\n"
          ]
        },
        {
          "output_type": "stream",
          "name": "stderr",
          "text": [
            "\r 37%|███▋      | 47/126 [03:53<06:47,  5.16s/it]"
          ]
        },
        {
          "output_type": "stream",
          "name": "stdout",
          "text": [
            "\n",
            "++ [ Chatroom || {'the warlord': [0.79847252368927, 'The movie opens in the living room of a very luxurious house.'], 'chatroom': [0.7847845554351807, 'Even though they only really communicate through text, they are depicted in an old hotel-like room and actually having contact.'], 'twisted': [0.706453800201416, 'The sensible Helen meets little Susan Collins at the discount market and likes her, so she offers to do the job.']} ]\n",
            "correct ||  {'Correct': 25, 'Wrong': 22}\n",
            "\n",
            "##  The other 3 somehow make it back to the road to their car and quickly get in. Deadend\n",
            "\t\t\t\t\t\t\t\t Twisted\n",
            "\t\t\t\t\t\t\t\t Chatroom\n",
            "\t\t\t\t\t\t\t\t The 10th Kingdom\n",
            "\t\t\t\t\t\t\t\t The Dragon Ring\n",
            "\t\t\t\t\t\t\t\t Nowhere\n",
            "\t\t\t\t\t\t\t\t Deadend\n",
            "\t\t\t\t\t\t\t\t The Warlord\n",
            "\t\t\t\t\t\t\t\t The Final\n",
            "\t\t\t\t\t\t\t\t Tales of the Night\n",
            "\t\t\t\t\t\t\t\t The Watcher in the Woods\n"
          ]
        },
        {
          "output_type": "stream",
          "name": "stderr",
          "text": [
            "\r 38%|███▊      | 48/126 [03:58<06:32,  5.03s/it]"
          ]
        },
        {
          "output_type": "stream",
          "name": "stdout",
          "text": [
            "\n",
            "++ [ Deadend || {'deadend': [0.8121349215507507, 'They get back into the car, only to stop again.'], 'chatroom': [0.7557218074798584, 'Jim makes it to the zoo first but decides to not do it.'], 'twisted': [0.7090579867362976, 'Helen simply turns down the offer and drives back home herself, with Phillip refusing to have her arrested immediately and suggesting they clean up the house.']} ]\n",
            "correct ||  {'Correct': 26, 'Wrong': 22}\n",
            "\n",
            "##  The father steps on it. Deadend\n",
            "\t\t\t\t\t\t\t\t Twisted\n",
            "\t\t\t\t\t\t\t\t Chatroom\n",
            "\t\t\t\t\t\t\t\t The 10th Kingdom\n",
            "\t\t\t\t\t\t\t\t The Dragon Ring\n",
            "\t\t\t\t\t\t\t\t Nowhere\n",
            "\t\t\t\t\t\t\t\t Deadend\n",
            "\t\t\t\t\t\t\t\t The Warlord\n",
            "\t\t\t\t\t\t\t\t The Final\n",
            "\t\t\t\t\t\t\t\t Tales of the Night\n",
            "\t\t\t\t\t\t\t\t The Watcher in the Woods\n"
          ]
        },
        {
          "output_type": "stream",
          "name": "stderr",
          "text": [
            "\r 39%|███▉      | 49/126 [04:03<06:19,  4.93s/it]"
          ]
        },
        {
          "output_type": "stream",
          "name": "stdout",
          "text": [
            "\n",
            "++ [ Deadend || {'the warlord': [0.7320511937141418, 'Maggi introduces her grandfather to Thorpe.'], 'deadend': [0.7256512641906738, \"The woman appears at Frank's window, holding a baby.\"], 'chatroom': [0.7244015336036682, 'William walks in a chat tunnel as the light gradually fades.']} ]\n",
            "correct ||  {'Correct': 27, 'Wrong': 22}\n",
            "\n",
            "##  The mother notices that the son is missing so she wants to get out of the car to search for him. Deadend\n",
            "\t\t\t\t\t\t\t\t Twisted\n",
            "\t\t\t\t\t\t\t\t Chatroom\n",
            "\t\t\t\t\t\t\t\t The 10th Kingdom\n",
            "\t\t\t\t\t\t\t\t The Dragon Ring\n",
            "\t\t\t\t\t\t\t\t Nowhere\n",
            "\t\t\t\t\t\t\t\t Deadend\n",
            "\t\t\t\t\t\t\t\t The Warlord\n",
            "\t\t\t\t\t\t\t\t The Final\n",
            "\t\t\t\t\t\t\t\t Tales of the Night\n",
            "\t\t\t\t\t\t\t\t The Watcher in the Woods\n"
          ]
        },
        {
          "output_type": "stream",
          "name": "stderr",
          "text": [
            "\r 40%|███▉      | 50/126 [04:08<06:13,  4.91s/it]"
          ]
        },
        {
          "output_type": "stream",
          "name": "stdout",
          "text": [
            "\n",
            "++ [ Deadend || {'deadend': [0.8006611466407776, 'Marion, seeing how distressed the woman appears to be, and realizing that she needs help, offers to walk so that they can take the woman in the car to a house for help.'], 'twisted': [0.7696711421012878, \"Mark's parents come home to find the house in shambles; Evelyn puts the blame on Helen and tries to have her arrested, unaware that Mark lies dead upstairs.\"]} ]\n",
            "correct ||  {'Correct': 28, 'Wrong': 22}\n",
            "\n",
            "##  The father refuses to stop. Deadend\n",
            "\t\t\t\t\t\t\t\t Twisted\n",
            "\t\t\t\t\t\t\t\t Chatroom\n",
            "\t\t\t\t\t\t\t\t The 10th Kingdom\n",
            "\t\t\t\t\t\t\t\t The Dragon Ring\n",
            "\t\t\t\t\t\t\t\t Nowhere\n",
            "\t\t\t\t\t\t\t\t Deadend\n",
            "\t\t\t\t\t\t\t\t The Warlord\n",
            "\t\t\t\t\t\t\t\t The Final\n",
            "\t\t\t\t\t\t\t\t Tales of the Night\n",
            "\t\t\t\t\t\t\t\t The Watcher in the Woods\n"
          ]
        },
        {
          "output_type": "stream",
          "name": "stderr",
          "text": [
            "\r 40%|████      | 51/126 [04:12<06:07,  4.90s/it]"
          ]
        },
        {
          "output_type": "stream",
          "name": "stdout",
          "text": [
            "\n",
            "++ [ Deadend || {'the final': [0.8176724314689636, 'She is unable to do it.'], 'chatroom': [0.8085249066352844, 'He tries to leave, but William chases him.'], 'twisted': [0.7646900415420532, 'The sensible Helen meets little Susan Collins at the discount market and likes her, so she offers to do the job.']} ]\n",
            "wrong ||  {'Correct': 28, 'Wrong': 23}\n",
            "\n",
            "##  The mother then starts saying she saw her mother. Deadend\n",
            "\t\t\t\t\t\t\t\t Twisted\n",
            "\t\t\t\t\t\t\t\t Chatroom\n",
            "\t\t\t\t\t\t\t\t The 10th Kingdom\n",
            "\t\t\t\t\t\t\t\t The Dragon Ring\n",
            "\t\t\t\t\t\t\t\t Nowhere\n",
            "\t\t\t\t\t\t\t\t Deadend\n",
            "\t\t\t\t\t\t\t\t The Warlord\n",
            "\t\t\t\t\t\t\t\t The Final\n",
            "\t\t\t\t\t\t\t\t Tales of the Night\n",
            "\t\t\t\t\t\t\t\t The Watcher in the Woods\n"
          ]
        },
        {
          "output_type": "stream",
          "name": "stderr",
          "text": [
            "\r 41%|████▏     | 52/126 [04:17<06:01,  4.88s/it]"
          ]
        },
        {
          "output_type": "stream",
          "name": "stdout",
          "text": [
            "\n",
            "++ [ Deadend || {'tales of the night': [0.8091258406639099, 'The younger sister figures out what her sister has done, and exposes her cruel actions.'], 'deadend': [0.7860793471336365, 'The woman gets into the car, and as the family ask her questions, she remains silent.'], 'the 10th kingdom': [0.7654911279678345, 'Tony also recognizes the Queen as his long lost wife and Virginia’s mother.']} ]\n",
            "correct ||  {'Correct': 29, 'Wrong': 23}\n",
            "\n",
            "##  She starts screaming again that she wants out to search for her son and mother but the father and daughter start doubting the mothers sanity. Deadend\n",
            "\t\t\t\t\t\t\t\t Twisted\n",
            "\t\t\t\t\t\t\t\t Chatroom\n",
            "\t\t\t\t\t\t\t\t The 10th Kingdom\n",
            "\t\t\t\t\t\t\t\t The Dragon Ring\n",
            "\t\t\t\t\t\t\t\t Nowhere\n",
            "\t\t\t\t\t\t\t\t Deadend\n",
            "\t\t\t\t\t\t\t\t The Warlord\n",
            "\t\t\t\t\t\t\t\t The Final\n",
            "\t\t\t\t\t\t\t\t Tales of the Night\n",
            "\t\t\t\t\t\t\t\t The Watcher in the Woods\n"
          ]
        },
        {
          "output_type": "stream",
          "name": "stderr",
          "text": [
            "\r 42%|████▏     | 53/126 [04:22<05:59,  4.92s/it]"
          ]
        },
        {
          "output_type": "stream",
          "name": "stdout",
          "text": [
            "\n",
            "++ [ Deadend || {'deadend': [0.7646370530128479, 'Brad begins questioning the woman and telling the woman his plans to propose to Marion, meanwhile Marion walks along the road to catch up with the family and rehearses how she plans to break up with Brad.'], 'the dragon ring': [0.7591526508331299, 'But unknown to him, the jealous Selvaggia wants to beat her elder sister completely.'], 'chatroom': [0.7577810287475586, 'Jim is another loner who is suffering from depression following his father leaving him and his mother.']} ]\n",
            "correct ||  {'Correct': 30, 'Wrong': 23}\n",
            "\n",
            "##  She then sits quietly and suddenly jumps out of the car. Deadend\n",
            "\t\t\t\t\t\t\t\t Twisted\n",
            "\t\t\t\t\t\t\t\t Chatroom\n",
            "\t\t\t\t\t\t\t\t The 10th Kingdom\n",
            "\t\t\t\t\t\t\t\t The Dragon Ring\n",
            "\t\t\t\t\t\t\t\t Nowhere\n",
            "\t\t\t\t\t\t\t\t Deadend\n",
            "\t\t\t\t\t\t\t\t The Warlord\n",
            "\t\t\t\t\t\t\t\t The Final\n",
            "\t\t\t\t\t\t\t\t Tales of the Night\n",
            "\t\t\t\t\t\t\t\t The Watcher in the Woods\n"
          ]
        },
        {
          "output_type": "stream",
          "name": "stderr",
          "text": [
            "\r 43%|████▎     | 54/126 [04:27<05:53,  4.91s/it]"
          ]
        },
        {
          "output_type": "stream",
          "name": "stdout",
          "text": [
            "\n",
            "++ [ Deadend || {'deadend': [0.8247902989387512, 'She begins to drive when the car suddenly runs out of gas.'], 'chatroom': [0.7904298901557922, 'He then falls in front of the speeding train behind the crates and is killed.'], 'twisted': [0.7251814007759094, 'Helen simply turns down the offer and drives back home herself, with Phillip refusing to have her arrested immediately and suggesting they clean up the house.']} ]\n",
            "correct ||  {'Correct': 31, 'Wrong': 23}\n",
            "\n",
            "##  Now they might have stopped right then or the daughter had to convince the father to go back but she cracked her head and was dead. Deadend\n",
            "\t\t\t\t\t\t\t\t Twisted\n",
            "\t\t\t\t\t\t\t\t Chatroom\n",
            "\t\t\t\t\t\t\t\t The 10th Kingdom\n",
            "\t\t\t\t\t\t\t\t The Dragon Ring\n",
            "\t\t\t\t\t\t\t\t Nowhere\n",
            "\t\t\t\t\t\t\t\t Deadend\n",
            "\t\t\t\t\t\t\t\t The Warlord\n",
            "\t\t\t\t\t\t\t\t The Final\n",
            "\t\t\t\t\t\t\t\t Tales of the Night\n",
            "\t\t\t\t\t\t\t\t The Watcher in the Woods\n"
          ]
        },
        {
          "output_type": "stream",
          "name": "stderr",
          "text": [
            "\r 44%|████▎     | 55/126 [04:32<05:49,  4.93s/it]"
          ]
        },
        {
          "output_type": "stream",
          "name": "stdout",
          "text": [
            "\n",
            "++ [ Deadend || {'the warlord': [0.7422208189964294, 'Had he told Thorpe beforehand, the ship would have remained dead in space and they would have no way of rescuing Nova.'], 'deadend': [0.7391713261604309, 'A confused Brad asks how the child can breathe with the blankets covering her face, the woman replies that the baby is dead.'], 'the dragon ring': [0.7292979955673218, 'But unknown to him, the jealous Selvaggia wants to beat her elder sister completely.']} ]\n",
            "correct ||  {'Correct': 32, 'Wrong': 23}\n",
            "\n",
            "##  They put her on the back seat and drive on and keep passing by the same cabin. Deadend\n",
            "\t\t\t\t\t\t\t\t Twisted\n",
            "\t\t\t\t\t\t\t\t Chatroom\n",
            "\t\t\t\t\t\t\t\t The 10th Kingdom\n",
            "\t\t\t\t\t\t\t\t The Dragon Ring\n",
            "\t\t\t\t\t\t\t\t Nowhere\n",
            "\t\t\t\t\t\t\t\t Deadend\n",
            "\t\t\t\t\t\t\t\t The Warlord\n",
            "\t\t\t\t\t\t\t\t The Final\n",
            "\t\t\t\t\t\t\t\t Tales of the Night\n",
            "\t\t\t\t\t\t\t\t The Watcher in the Woods\n"
          ]
        },
        {
          "output_type": "stream",
          "name": "stderr",
          "text": [
            "\r 44%|████▍     | 56/126 [04:37<05:43,  4.91s/it]"
          ]
        },
        {
          "output_type": "stream",
          "name": "stdout",
          "text": [
            "\n",
            "++ [ Deadend || {'deadend': [0.8159222602844238, 'Putting her in the back of the car, Frank and Marion continue driving.'], 'chatroom': [0.7179669737815857, 'He then falls in front of the speeding train behind the crates and is killed.'], 'twisted': [0.7094085812568665, 'Helen simply turns down the offer and drives back home herself, with Phillip refusing to have her arrested immediately and suggesting they clean up the house.']} ]\n",
            "correct ||  {'Correct': 33, 'Wrong': 23}\n",
            "\n",
            "##  The camera switches to the mother, she opens her eyes. Deadend\n",
            "\t\t\t\t\t\t\t\t Twisted\n",
            "\t\t\t\t\t\t\t\t Chatroom\n",
            "\t\t\t\t\t\t\t\t The 10th Kingdom\n",
            "\t\t\t\t\t\t\t\t The Dragon Ring\n",
            "\t\t\t\t\t\t\t\t Nowhere\n",
            "\t\t\t\t\t\t\t\t Deadend\n",
            "\t\t\t\t\t\t\t\t The Warlord\n",
            "\t\t\t\t\t\t\t\t The Final\n",
            "\t\t\t\t\t\t\t\t Tales of the Night\n",
            "\t\t\t\t\t\t\t\t The Watcher in the Woods\n"
          ]
        },
        {
          "output_type": "stream",
          "name": "stderr",
          "text": [
            "\r 45%|████▌     | 57/126 [04:42<05:36,  4.88s/it]"
          ]
        },
        {
          "output_type": "stream",
          "name": "stdout",
          "text": [
            "\n",
            "++ [ Deadend || {'deadend': [0.7789795994758606, 'The camera changes back to Richard, who hears the scream and immediately runs back to the car.'], 'nowhere': [0.7539024949073792, 'A blood-covered Dark turns to the audience, staring with his mouth wide open.'], 'chatroom': [0.7373432517051697, 'William walks in a chat tunnel as the light gradually fades.']} ]\n",
            "correct ||  {'Correct': 34, 'Wrong': 23}\n",
            "\n",
            "##  When the father and daughter come back shes gone. Deadend\n",
            "\t\t\t\t\t\t\t\t Twisted\n",
            "\t\t\t\t\t\t\t\t Chatroom\n",
            "\t\t\t\t\t\t\t\t The 10th Kingdom\n",
            "\t\t\t\t\t\t\t\t The Dragon Ring\n",
            "\t\t\t\t\t\t\t\t Nowhere\n",
            "\t\t\t\t\t\t\t\t Deadend\n",
            "\t\t\t\t\t\t\t\t The Warlord\n",
            "\t\t\t\t\t\t\t\t The Final\n",
            "\t\t\t\t\t\t\t\t Tales of the Night\n",
            "\t\t\t\t\t\t\t\t The Watcher in the Woods\n"
          ]
        },
        {
          "output_type": "stream",
          "name": "stderr",
          "text": [
            "\r 46%|████▌     | 58/126 [04:47<05:29,  4.84s/it]"
          ]
        },
        {
          "output_type": "stream",
          "name": "stdout",
          "text": [
            "\n",
            "++ [ Deadend || {'deadend': [0.7580080032348633, 'Brad and the woman are nowhere to be seen.'], 'twisted': [0.7324386239051819, 'As soon as the parents have left, he psychologically terrorizes Helen and his sister with electronic tricks.']} ]\n",
            "correct ||  {'Correct': 35, 'Wrong': 23}\n",
            "\n",
            "##  They argue that she was surely dead or now is if she ran into the woods. Deadend\n",
            "\t\t\t\t\t\t\t\t Twisted\n",
            "\t\t\t\t\t\t\t\t Chatroom\n",
            "\t\t\t\t\t\t\t\t The 10th Kingdom\n",
            "\t\t\t\t\t\t\t\t The Dragon Ring\n",
            "\t\t\t\t\t\t\t\t Nowhere\n",
            "\t\t\t\t\t\t\t\t Deadend\n",
            "\t\t\t\t\t\t\t\t The Warlord\n",
            "\t\t\t\t\t\t\t\t The Final\n",
            "\t\t\t\t\t\t\t\t Tales of the Night\n",
            "\t\t\t\t\t\t\t\t The Watcher in the Woods\n"
          ]
        },
        {
          "output_type": "stream",
          "name": "stderr",
          "text": [
            "\r 47%|████▋     | 59/126 [04:51<05:23,  4.83s/it]"
          ]
        },
        {
          "output_type": "stream",
          "name": "stdout",
          "text": [
            "\n",
            "++ [ Deadend || {'the watcher in the woods': [0.7619448900222778, 'Jan, realizing her sister has disappeared from the yard, goes into the woods to find her, eventually locating her at a pond.'], 'tales of the night': [0.7561256885528564, 'She throws the necklace in the well and tells the people that the prince was eaten by the wolf of the woods.'], 'the warlord': [0.7512664794921875, 'Knowing his sister would never run away from home, Thorpe comes to the conclusion that she had been kidnapped, but does not know who the kidnapper is and why she was taken.']} ]\n",
            "wrong ||  {'Correct': 35, 'Wrong': 24}\n",
            "\n",
            "##  A black car, could have been a Black Volga, is chasing her. Deadend\n",
            "\t\t\t\t\t\t\t\t Twisted\n",
            "\t\t\t\t\t\t\t\t Chatroom\n",
            "\t\t\t\t\t\t\t\t The 10th Kingdom\n",
            "\t\t\t\t\t\t\t\t The Dragon Ring\n",
            "\t\t\t\t\t\t\t\t Nowhere\n",
            "\t\t\t\t\t\t\t\t Deadend\n",
            "\t\t\t\t\t\t\t\t The Warlord\n",
            "\t\t\t\t\t\t\t\t The Final\n",
            "\t\t\t\t\t\t\t\t Tales of the Night\n",
            "\t\t\t\t\t\t\t\t The Watcher in the Woods\n"
          ]
        },
        {
          "output_type": "stream",
          "name": "stderr",
          "text": [
            "\r 48%|████▊     | 60/126 [04:56<05:15,  4.79s/it]"
          ]
        },
        {
          "output_type": "stream",
          "name": "stdout",
          "text": [
            "\n",
            "++ [ Deadend || {'deadend': [0.7481019496917725, 'He narrowly avoids the vehicle, and after an inspection of his car, continues to drive.'], 'nowhere': [0.7348760962486267, 'Mel is dating a girl named Lucifer, who Dark hates, while Dark is interested in a mysterious boy he keeps running into named Montgomery.'], 'chatroom': [0.732088565826416, 'He then falls in front of the speeding train behind the crates and is killed.']} ]\n",
            "correct ||  {'Correct': 36, 'Wrong': 24}\n",
            "\n",
            "##  She wakes up in a hospital bed surrounded by people. Deadend\n",
            "\t\t\t\t\t\t\t\t Twisted\n",
            "\t\t\t\t\t\t\t\t Chatroom\n",
            "\t\t\t\t\t\t\t\t The 10th Kingdom\n",
            "\t\t\t\t\t\t\t\t The Dragon Ring\n",
            "\t\t\t\t\t\t\t\t Nowhere\n",
            "\t\t\t\t\t\t\t\t Deadend\n",
            "\t\t\t\t\t\t\t\t The Warlord\n",
            "\t\t\t\t\t\t\t\t The Final\n",
            "\t\t\t\t\t\t\t\t Tales of the Night\n",
            "\t\t\t\t\t\t\t\t The Watcher in the Woods\n"
          ]
        },
        {
          "output_type": "stream",
          "name": "stderr",
          "text": [
            "\r 48%|████▊     | 61/126 [05:01<05:08,  4.75s/it]"
          ]
        },
        {
          "output_type": "stream",
          "name": "stdout",
          "text": [
            "\n",
            "++ [ Deadend || {'deadend': [0.84356290102005, 'Marion suddenly awakens in the hospital, heavily bandaged.'], 'the 10th kingdom': [0.7687270045280457, 'She is held in a Fourth Kingdom prison.'], 'chatroom': [0.763278067111969, 'William walks in a chat tunnel as the light gradually fades.']} ]\n",
            "correct ||  {'Correct': 37, 'Wrong': 24}\n",
            "\n",
            "##  She was found by someone. Deadend\n",
            "\t\t\t\t\t\t\t\t Twisted\n",
            "\t\t\t\t\t\t\t\t Chatroom\n",
            "\t\t\t\t\t\t\t\t The 10th Kingdom\n",
            "\t\t\t\t\t\t\t\t The Dragon Ring\n",
            "\t\t\t\t\t\t\t\t Nowhere\n",
            "\t\t\t\t\t\t\t\t Deadend\n",
            "\t\t\t\t\t\t\t\t The Warlord\n",
            "\t\t\t\t\t\t\t\t The Final\n",
            "\t\t\t\t\t\t\t\t Tales of the Night\n",
            "\t\t\t\t\t\t\t\t The Watcher in the Woods\n"
          ]
        },
        {
          "output_type": "stream",
          "name": "stderr",
          "text": [
            "\r 49%|████▉     | 62/126 [05:05<05:02,  4.72s/it]"
          ]
        },
        {
          "output_type": "stream",
          "name": "stdout",
          "text": [
            "\n",
            "++ [ Deadend || {'the final': [0.7410507202148438, 'She is unable to do it.'], 'deadend': [0.7314758896827698, 'This time Richard gets picked up by the same hearse as before.'], 'the 10th kingdom': [0.7267581224441528, 'Prince Wendell is captured by the Evil Queen, who is his wicked stepmother.']} ]\n",
            "correct ||  {'Correct': 38, 'Wrong': 24}\n",
            "\n",
            "##  The son gets killed by a hook on the trees or some naked woman with a hook. Deadend\n",
            "\t\t\t\t\t\t\t\t Twisted\n",
            "\t\t\t\t\t\t\t\t Chatroom\n",
            "\t\t\t\t\t\t\t\t The 10th Kingdom\n",
            "\t\t\t\t\t\t\t\t The Dragon Ring\n",
            "\t\t\t\t\t\t\t\t Nowhere\n",
            "\t\t\t\t\t\t\t\t Deadend\n",
            "\t\t\t\t\t\t\t\t The Warlord\n",
            "\t\t\t\t\t\t\t\t The Final\n",
            "\t\t\t\t\t\t\t\t Tales of the Night\n",
            "\t\t\t\t\t\t\t\t The Watcher in the Woods\n"
          ]
        },
        {
          "output_type": "stream",
          "name": "stderr",
          "text": [
            "\r 50%|█████     | 63/126 [05:11<05:05,  4.85s/it]"
          ]
        },
        {
          "output_type": "stream",
          "name": "stdout",
          "text": [
            "\n",
            "++ [ Deadend || {'chatroom': [0.7733932733535767, 'He then falls in front of the speeding train behind the crates and is killed.'], 'twisted': [0.7538883090019226, 'Ultimately, Mark himself is killed when Helen, defending herself, knocks him onto his spiked German helmet.']} ]\n",
            "wrong ||  {'Correct': 38, 'Wrong': 25}\n",
            "\n",
            "##  Man with some dark desert garb goes into town, finds a bar. The Warlord\n",
            "\t\t\t\t\t\t\t\t Twisted\n",
            "\t\t\t\t\t\t\t\t Chatroom\n",
            "\t\t\t\t\t\t\t\t The 10th Kingdom\n",
            "\t\t\t\t\t\t\t\t The Dragon Ring\n",
            "\t\t\t\t\t\t\t\t Nowhere\n",
            "\t\t\t\t\t\t\t\t Deadend\n",
            "\t\t\t\t\t\t\t\t The Warlord\n",
            "\t\t\t\t\t\t\t\t The Final\n",
            "\t\t\t\t\t\t\t\t Tales of the Night\n",
            "\t\t\t\t\t\t\t\t The Watcher in the Woods\n"
          ]
        },
        {
          "output_type": "stream",
          "name": "stderr",
          "text": [
            "\r 51%|█████     | 64/126 [05:16<05:19,  5.15s/it]"
          ]
        },
        {
          "output_type": "stream",
          "name": "stdout",
          "text": [
            "\n",
            "++ [ The Warlord || {'the final': [0.7566450238227844, 'A disfigured teenage girl enters a restaurant and quickly draws the attention of everyone there.'], 'chatroom': [0.7492666244506836, 'William walks in a chat tunnel as the light gradually fades.'], 'twisted': [0.7222880125045776, 'The sensible Helen meets little Susan Collins at the discount market and likes her, so she offers to do the job.']} ]\n",
            "wrong ||  {'Correct': 38, 'Wrong': 26}\n",
            "\n",
            "##  Man receives a mission or finds a job, here. The Warlord\n",
            "\t\t\t\t\t\t\t\t Twisted\n",
            "\t\t\t\t\t\t\t\t Chatroom\n",
            "\t\t\t\t\t\t\t\t The 10th Kingdom\n",
            "\t\t\t\t\t\t\t\t The Dragon Ring\n",
            "\t\t\t\t\t\t\t\t Nowhere\n",
            "\t\t\t\t\t\t\t\t Deadend\n",
            "\t\t\t\t\t\t\t\t The Warlord\n",
            "\t\t\t\t\t\t\t\t The Final\n",
            "\t\t\t\t\t\t\t\t Tales of the Night\n",
            "\t\t\t\t\t\t\t\t The Watcher in the Woods\n"
          ]
        },
        {
          "output_type": "stream",
          "name": "stderr",
          "text": [
            "\r 52%|█████▏    | 65/126 [05:21<05:06,  5.03s/it]"
          ]
        },
        {
          "output_type": "stream",
          "name": "stdout",
          "text": [
            "\n",
            "++ [ The Warlord || {'tales of the night': [0.7262627482414246, 'The king gives him three impossible tasks while he is in the dungeon.'], 'chatroom': [0.7245863676071167, '\", where he meets Jim, Eva, Emily and Mo.'], 'twisted': [0.7106790542602539, 'The sensible Helen meets little Susan Collins at the discount market and likes her, so she offers to do the job.']} ]\n",
            "wrong ||  {'Correct': 38, 'Wrong': 27}\n",
            "\n",
            "##  Later, there might have been a bar fight. The Warlord\n",
            "\t\t\t\t\t\t\t\t Twisted\n",
            "\t\t\t\t\t\t\t\t Chatroom\n",
            "\t\t\t\t\t\t\t\t The 10th Kingdom\n",
            "\t\t\t\t\t\t\t\t The Dragon Ring\n",
            "\t\t\t\t\t\t\t\t Nowhere\n",
            "\t\t\t\t\t\t\t\t Deadend\n",
            "\t\t\t\t\t\t\t\t The Warlord\n",
            "\t\t\t\t\t\t\t\t The Final\n",
            "\t\t\t\t\t\t\t\t Tales of the Night\n",
            "\t\t\t\t\t\t\t\t The Watcher in the Woods\n"
          ]
        },
        {
          "output_type": "stream",
          "name": "stderr",
          "text": [
            "\r 52%|█████▏    | 66/126 [05:26<04:55,  4.93s/it]"
          ]
        },
        {
          "output_type": "stream",
          "name": "stdout",
          "text": [
            "\n",
            "++ [ The Warlord || {'the 10th kingdom': [0.7274906635284424, 'Luckily, Wolf had switched the poison for a sleeping potion, so everyone wakes up unharmed.'], 'twisted': [0.727249801158905, 'Evidently, she had an accident; now they need a new babysitter for an upcoming party.']} ]\n",
            "wrong ||  {'Correct': 38, 'Wrong': 28}\n",
            "\n",
            "##  Black-haired woman joins his crew, the next day. The Warlord\n",
            "\t\t\t\t\t\t\t\t Twisted\n",
            "\t\t\t\t\t\t\t\t Chatroom\n",
            "\t\t\t\t\t\t\t\t The 10th Kingdom\n",
            "\t\t\t\t\t\t\t\t The Dragon Ring\n",
            "\t\t\t\t\t\t\t\t Nowhere\n",
            "\t\t\t\t\t\t\t\t Deadend\n",
            "\t\t\t\t\t\t\t\t The Warlord\n",
            "\t\t\t\t\t\t\t\t The Final\n",
            "\t\t\t\t\t\t\t\t Tales of the Night\n",
            "\t\t\t\t\t\t\t\t The Watcher in the Woods\n"
          ]
        },
        {
          "output_type": "stream",
          "name": "stderr",
          "text": [
            "\r 53%|█████▎    | 67/126 [05:31<04:48,  4.89s/it]"
          ]
        },
        {
          "output_type": "stream",
          "name": "stdout",
          "text": [
            "\n",
            "++ [ The Warlord || {'deadend': [0.7523823380470276, \"The woman appears at Frank's window, holding a baby.\"], 'the 10th kingdom': [0.74418044090271, 'Prince Wendell is captured by the Evil Queen, who is his wicked stepmother.'], 'chatroom': [0.7292807698249817, 'He tells Emily to do some dirty work, teaming up with Eva.']} ]\n",
            "wrong ||  {'Correct': 38, 'Wrong': 29}\n",
            "\n",
            "##  They go off-planet on a ship to complete a job or mission. The Warlord\n",
            "\t\t\t\t\t\t\t\t Twisted\n",
            "\t\t\t\t\t\t\t\t Chatroom\n",
            "\t\t\t\t\t\t\t\t The 10th Kingdom\n",
            "\t\t\t\t\t\t\t\t The Dragon Ring\n",
            "\t\t\t\t\t\t\t\t Nowhere\n",
            "\t\t\t\t\t\t\t\t Deadend\n",
            "\t\t\t\t\t\t\t\t The Warlord\n",
            "\t\t\t\t\t\t\t\t The Final\n",
            "\t\t\t\t\t\t\t\t Tales of the Night\n",
            "\t\t\t\t\t\t\t\t The Watcher in the Woods\n"
          ]
        },
        {
          "output_type": "stream",
          "name": "stderr",
          "text": [
            "\r 54%|█████▍    | 68/126 [05:35<04:39,  4.83s/it]"
          ]
        },
        {
          "output_type": "stream",
          "name": "stdout",
          "text": [
            "\n",
            "++ [ The Warlord || {'the warlord': [0.7420492172241211, 'As soon as the ship is fixed, The Engineers leave.'], 'chatroom': [0.7420264482498169, 'Even though they only really communicate through text, they are depicted in an old hotel-like room and actually having contact.'], 'twisted': [0.7097466588020325, 'The sensible Helen meets little Susan Collins at the discount market and likes her, so she offers to do the job.']} ]\n",
            "correct ||  {'Correct': 39, 'Wrong': 29}\n",
            "\n",
            "##  Later, on the same planet, a girl is kidnapped by some aliens. The Warlord\n",
            "\t\t\t\t\t\t\t\t Twisted\n",
            "\t\t\t\t\t\t\t\t Chatroom\n",
            "\t\t\t\t\t\t\t\t The 10th Kingdom\n",
            "\t\t\t\t\t\t\t\t The Dragon Ring\n",
            "\t\t\t\t\t\t\t\t Nowhere\n",
            "\t\t\t\t\t\t\t\t Deadend\n",
            "\t\t\t\t\t\t\t\t The Warlord\n",
            "\t\t\t\t\t\t\t\t The Final\n",
            "\t\t\t\t\t\t\t\t Tales of the Night\n",
            "\t\t\t\t\t\t\t\t The Watcher in the Woods\n"
          ]
        },
        {
          "output_type": "stream",
          "name": "stderr",
          "text": [
            "\r 55%|█████▍    | 69/126 [05:40<04:31,  4.77s/it]"
          ]
        },
        {
          "output_type": "stream",
          "name": "stdout",
          "text": [
            "\n",
            "++ [ The Warlord || {'nowhere': [0.7831758260726929, 'While waiting at a bus stop, Dark sees three valley girls killed by an alien, which he tries to catch on video before it disappears.'], 'the 10th kingdom': [0.7801246643066406, 'Prince Wendell is captured by the Evil Queen, who is his wicked stepmother.'], 'twisted': [0.74952632188797, 'Ultimately, Mark himself is killed when Helen, defending herself, knocks him onto his spiked German helmet.']} ]\n",
            "wrong ||  {'Correct': 39, 'Wrong': 30}\n",
            "\n",
            "##  The aliens have creepy faces, but otherwise are humanoid. The Warlord\n",
            "\t\t\t\t\t\t\t\t Twisted\n",
            "\t\t\t\t\t\t\t\t Chatroom\n",
            "\t\t\t\t\t\t\t\t The 10th Kingdom\n",
            "\t\t\t\t\t\t\t\t The Dragon Ring\n",
            "\t\t\t\t\t\t\t\t Nowhere\n",
            "\t\t\t\t\t\t\t\t Deadend\n",
            "\t\t\t\t\t\t\t\t The Warlord\n",
            "\t\t\t\t\t\t\t\t The Final\n",
            "\t\t\t\t\t\t\t\t Tales of the Night\n",
            "\t\t\t\t\t\t\t\t The Watcher in the Woods\n"
          ]
        },
        {
          "output_type": "stream",
          "name": "stderr",
          "text": [
            "\r 56%|█████▌    | 70/126 [05:45<04:26,  4.76s/it]"
          ]
        },
        {
          "output_type": "stream",
          "name": "stdout",
          "text": [
            "\n",
            "++ [ The Warlord || {'the warlord': [0.7795885801315308, 'These beings have no interest in communicating with other lifeforms; the only thing they care for is technology.'], 'chatroom': [0.7767103314399719, 'Even though they only really communicate through text, they are depicted in an old hotel-like room and actually having contact.'], 'twisted': [0.7392168045043945, \"She does not know Susan's teenage brother Mark (Christian Slater): technically skilled and good in school, but restive and cunning.\"]} ]\n",
            "correct ||  {'Correct': 40, 'Wrong': 30}\n",
            "\n",
            "##  They live underground in a bright red cave, with plenty of tunnels. The Warlord\n",
            "\t\t\t\t\t\t\t\t Twisted\n",
            "\t\t\t\t\t\t\t\t Chatroom\n",
            "\t\t\t\t\t\t\t\t The 10th Kingdom\n",
            "\t\t\t\t\t\t\t\t The Dragon Ring\n",
            "\t\t\t\t\t\t\t\t Nowhere\n",
            "\t\t\t\t\t\t\t\t Deadend\n",
            "\t\t\t\t\t\t\t\t The Warlord\n",
            "\t\t\t\t\t\t\t\t The Final\n",
            "\t\t\t\t\t\t\t\t Tales of the Night\n",
            "\t\t\t\t\t\t\t\t The Watcher in the Woods\n"
          ]
        },
        {
          "output_type": "stream",
          "name": "stderr",
          "text": [
            "\r 56%|█████▋    | 71/126 [05:49<04:21,  4.76s/it]"
          ]
        },
        {
          "output_type": "stream",
          "name": "stdout",
          "text": [
            "\n",
            "++ [ The Warlord || {'chatroom': [0.7695415019989014, 'William walks in a chat tunnel as the light gradually fades.'], 'twisted': [0.7050164341926575, \"Phillip has already looked in their children's rooms, presumably finding Mark's body, but instead offers Helen a ride home.\"]} ]\n",
            "wrong ||  {'Correct': 40, 'Wrong': 31}\n",
            "\n",
            "##  Above the surface, the aliens wear robes, and look like some type of religious priesthood. The Warlord\n",
            "\t\t\t\t\t\t\t\t Twisted\n",
            "\t\t\t\t\t\t\t\t Chatroom\n",
            "\t\t\t\t\t\t\t\t The 10th Kingdom\n",
            "\t\t\t\t\t\t\t\t The Dragon Ring\n",
            "\t\t\t\t\t\t\t\t Nowhere\n",
            "\t\t\t\t\t\t\t\t Deadend\n",
            "\t\t\t\t\t\t\t\t The Warlord\n",
            "\t\t\t\t\t\t\t\t The Final\n",
            "\t\t\t\t\t\t\t\t Tales of the Night\n",
            "\t\t\t\t\t\t\t\t The Watcher in the Woods\n"
          ]
        },
        {
          "output_type": "stream",
          "name": "stderr",
          "text": [
            "\r 57%|█████▋    | 72/126 [05:54<04:16,  4.75s/it]"
          ]
        },
        {
          "output_type": "stream",
          "name": "stdout",
          "text": [
            "\n",
            "++ [ The Warlord || {'the watcher in the woods': [0.7685166597366333, 'The Watcher leaves Ellie\\'s body, manifesting as a pillar of light, fueled by the \"circle of friendship\".'], 'the 10th kingdom': [0.7550522089004517, 'In a hidden realm, fairy tale characters inhabit nine magical kingdoms where an Evil Queen plots to rule them.'], 'chatroom': [0.7544219493865967, 'Even though they only really communicate through text, they are depicted in an old hotel-like room and actually having contact.']} ]\n",
            "wrong ||  {'Correct': 40, 'Wrong': 32}\n",
            "\n",
            "##  They are doing something to the kid's mind, as part of a ritual. The Warlord\n",
            "\t\t\t\t\t\t\t\t Twisted\n",
            "\t\t\t\t\t\t\t\t Chatroom\n",
            "\t\t\t\t\t\t\t\t The 10th Kingdom\n",
            "\t\t\t\t\t\t\t\t The Dragon Ring\n",
            "\t\t\t\t\t\t\t\t Nowhere\n",
            "\t\t\t\t\t\t\t\t Deadend\n",
            "\t\t\t\t\t\t\t\t The Warlord\n",
            "\t\t\t\t\t\t\t\t The Final\n",
            "\t\t\t\t\t\t\t\t Tales of the Night\n",
            "\t\t\t\t\t\t\t\t The Watcher in the Woods\n"
          ]
        },
        {
          "output_type": "stream",
          "name": "stderr",
          "text": [
            "\r 58%|█████▊    | 73/126 [05:59<04:11,  4.74s/it]"
          ]
        },
        {
          "output_type": "stream",
          "name": "stdout",
          "text": [
            "\n",
            "++ [ The Warlord || {'the watcher in the woods': [0.7552193403244019, 'The Watcher leaves Ellie\\'s body, manifesting as a pillar of light, fueled by the \"circle of friendship\".'], 'the final': [0.7512684464454651, \"They plan to spare Kurtis, as he doesn't mistreat them.\"], 'chatroom': [0.7419841289520264, 'William sees it to himself to help them in a crude manner.']} ]\n",
            "wrong ||  {'Correct': 40, 'Wrong': 33}\n",
            "\n",
            "##  Anyways, man and woman defeat some big bad, there's a a gun fight on the bridge of a bigger ship. The Warlord\n",
            "\t\t\t\t\t\t\t\t Twisted\n",
            "\t\t\t\t\t\t\t\t Chatroom\n",
            "\t\t\t\t\t\t\t\t The 10th Kingdom\n",
            "\t\t\t\t\t\t\t\t The Dragon Ring\n",
            "\t\t\t\t\t\t\t\t Nowhere\n",
            "\t\t\t\t\t\t\t\t Deadend\n",
            "\t\t\t\t\t\t\t\t The Warlord\n",
            "\t\t\t\t\t\t\t\t The Final\n",
            "\t\t\t\t\t\t\t\t Tales of the Night\n",
            "\t\t\t\t\t\t\t\t The Watcher in the Woods\n"
          ]
        },
        {
          "output_type": "stream",
          "name": "stderr",
          "text": [
            "\r 59%|█████▊    | 74/126 [06:04<04:07,  4.75s/it]"
          ]
        },
        {
          "output_type": "stream",
          "name": "stdout",
          "text": [
            "\n",
            "++ [ The Warlord || {'tales of the night': [0.7508171200752258, 'A girl, a boy and an old cinema technician tell stories every night in a small theater.'], 'the warlord': [0.7386239171028137, 'The movie opens in the living room of a very luxurious house.'], 'the 10th kingdom': [0.7295299172401428, 'Virginia must kill the Evil Queen in self-defense, which pains her greatly.']} ]\n",
            "correct ||  {'Correct': 41, 'Wrong': 33}\n",
            "\n",
            "##  Then they race back to the planet to save the girl. The Warlord\n",
            "\t\t\t\t\t\t\t\t Twisted\n",
            "\t\t\t\t\t\t\t\t Chatroom\n",
            "\t\t\t\t\t\t\t\t The 10th Kingdom\n",
            "\t\t\t\t\t\t\t\t The Dragon Ring\n",
            "\t\t\t\t\t\t\t\t Nowhere\n",
            "\t\t\t\t\t\t\t\t Deadend\n",
            "\t\t\t\t\t\t\t\t The Warlord\n",
            "\t\t\t\t\t\t\t\t The Final\n",
            "\t\t\t\t\t\t\t\t Tales of the Night\n",
            "\t\t\t\t\t\t\t\t The Watcher in the Woods\n"
          ]
        },
        {
          "output_type": "stream",
          "name": "stderr",
          "text": [
            "\r 60%|█████▉    | 75/126 [06:08<04:00,  4.71s/it]"
          ]
        },
        {
          "output_type": "stream",
          "name": "stdout",
          "text": [
            "\n",
            "++ [ The Warlord || {'the 10th kingdom': [0.8127105832099915, 'They travel to the castle to stop her, but Wolf seems to have betrayed Tony and Virginia.'], 'chatroom': [0.7561215758323669, 'Jim makes it to the zoo first but decides to not do it.'], 'twisted': [0.7378736734390259, 'Helen simply turns down the offer and drives back home herself, with Phillip refusing to have her arrested immediately and suggesting they clean up the house.']} ]\n",
            "wrong ||  {'Correct': 41, 'Wrong': 34}\n",
            "\n",
            "##  Begins on a distant planet or moon  The Warlord\n",
            "\t\t\t\t\t\t\t\t Twisted\n",
            "\t\t\t\t\t\t\t\t Chatroom\n",
            "\t\t\t\t\t\t\t\t The 10th Kingdom\n",
            "\t\t\t\t\t\t\t\t The Dragon Ring\n",
            "\t\t\t\t\t\t\t\t Nowhere\n",
            "\t\t\t\t\t\t\t\t Deadend\n",
            "\t\t\t\t\t\t\t\t The Warlord\n",
            "\t\t\t\t\t\t\t\t The Final\n",
            "\t\t\t\t\t\t\t\t Tales of the Night\n",
            "\t\t\t\t\t\t\t\t The Watcher in the Woods\n"
          ]
        },
        {
          "output_type": "stream",
          "name": "stderr",
          "text": [
            "\r 60%|██████    | 76/126 [06:13<03:54,  4.70s/it]"
          ]
        },
        {
          "output_type": "stream",
          "name": "stdout",
          "text": [
            "\n",
            "++ [ The Warlord || {'the warlord': [0.7360600233078003, 'It begins on the planet Caliban 5, ruled by none other than Warlord Heenoc Xian.'], 'deadend': [0.6931084990501404, 'Driving on Christmas Eve with his family, Frank Harrington decides to take a short cut through a remote location.'], 'the 10th kingdom': [0.6893964409828186, 'In a hidden realm, fairy tale characters inhabit nine magical kingdoms where an Evil Queen plots to rule them.']} ]\n",
            "correct ||  {'Correct': 42, 'Wrong': 34}\n",
            "\n",
            "##  World full of humans and a few aliens. The Warlord\n",
            "\t\t\t\t\t\t\t\t Twisted\n",
            "\t\t\t\t\t\t\t\t Chatroom\n",
            "\t\t\t\t\t\t\t\t The 10th Kingdom\n",
            "\t\t\t\t\t\t\t\t The Dragon Ring\n",
            "\t\t\t\t\t\t\t\t Nowhere\n",
            "\t\t\t\t\t\t\t\t Deadend\n",
            "\t\t\t\t\t\t\t\t The Warlord\n",
            "\t\t\t\t\t\t\t\t The Final\n",
            "\t\t\t\t\t\t\t\t Tales of the Night\n",
            "\t\t\t\t\t\t\t\t The Watcher in the Woods\n"
          ]
        },
        {
          "output_type": "stream",
          "name": "stderr",
          "text": [
            "\r 61%|██████    | 77/126 [06:18<03:49,  4.69s/it]"
          ]
        },
        {
          "output_type": "stream",
          "name": "stdout",
          "text": [
            "\n",
            "++ [ The Warlord || {'the warlord': [0.7190343737602234, 'These beings have no interest in communicating with other lifeforms; the only thing they care for is technology.'], 'nowhere': [0.6961098313331604, 'Dark lets him in as he explains that he was abducted and experimented on by aliens who intend to invade Earth.'], 'chatroom': [0.6949763298034668, '\", where he meets Jim, Eva, Emily and Mo.']} ]\n",
            "correct ||  {'Correct': 43, 'Wrong': 34}\n",
            "\n",
            "##  Surface looks like a desert. The Warlord\n",
            "\t\t\t\t\t\t\t\t Twisted\n",
            "\t\t\t\t\t\t\t\t Chatroom\n",
            "\t\t\t\t\t\t\t\t The 10th Kingdom\n",
            "\t\t\t\t\t\t\t\t The Dragon Ring\n",
            "\t\t\t\t\t\t\t\t Nowhere\n",
            "\t\t\t\t\t\t\t\t Deadend\n",
            "\t\t\t\t\t\t\t\t The Warlord\n",
            "\t\t\t\t\t\t\t\t The Final\n",
            "\t\t\t\t\t\t\t\t Tales of the Night\n",
            "\t\t\t\t\t\t\t\t The Watcher in the Woods\n"
          ]
        },
        {
          "output_type": "stream",
          "name": "stderr",
          "text": [
            "\r 62%|██████▏   | 78/126 [06:22<03:44,  4.68s/it]"
          ]
        },
        {
          "output_type": "stream",
          "name": "stdout",
          "text": [
            "\n",
            "++ [ The Warlord || {'chatroom': [0.7150993347167969, 'William walks in a chat tunnel as the light gradually fades.'], 'twisted': [0.6626995801925659, 'Mark also listens regularly to German marching music from the Third Reich.']} ]\n",
            "wrong ||  {'Correct': 43, 'Wrong': 35}\n",
            "\n",
            "##  Some broad dusty steps leading to a larger building. The Warlord\n",
            "\t\t\t\t\t\t\t\t Twisted\n",
            "\t\t\t\t\t\t\t\t Chatroom\n",
            "\t\t\t\t\t\t\t\t The 10th Kingdom\n",
            "\t\t\t\t\t\t\t\t The Dragon Ring\n",
            "\t\t\t\t\t\t\t\t Nowhere\n",
            "\t\t\t\t\t\t\t\t Deadend\n",
            "\t\t\t\t\t\t\t\t The Warlord\n",
            "\t\t\t\t\t\t\t\t The Final\n",
            "\t\t\t\t\t\t\t\t Tales of the Night\n",
            "\t\t\t\t\t\t\t\t The Watcher in the Woods\n"
          ]
        },
        {
          "output_type": "stream",
          "name": "stderr",
          "text": [
            "\r 63%|██████▎   | 79/126 [06:27<03:39,  4.68s/it]"
          ]
        },
        {
          "output_type": "stream",
          "name": "stdout",
          "text": [
            "\n",
            "++ [ The Warlord || {'chatroom': [0.7336913347244263, 'William walks in a chat tunnel as the light gradually fades.'], 'twisted': [0.6769083738327026, \"Mark's parents come home to find the house in shambles; Evelyn puts the blame on Helen and tries to have her arrested, unaware that Mark lies dead upstairs.\"]} ]\n",
            "wrong ||  {'Correct': 43, 'Wrong': 36}\n",
            "\n",
            "##  its about a group of high school students who are constantly bullied. The Final\n",
            "\t\t\t\t\t\t\t\t Twisted\n",
            "\t\t\t\t\t\t\t\t Chatroom\n",
            "\t\t\t\t\t\t\t\t The 10th Kingdom\n",
            "\t\t\t\t\t\t\t\t The Dragon Ring\n",
            "\t\t\t\t\t\t\t\t Nowhere\n",
            "\t\t\t\t\t\t\t\t Deadend\n",
            "\t\t\t\t\t\t\t\t The Warlord\n",
            "\t\t\t\t\t\t\t\t The Final\n",
            "\t\t\t\t\t\t\t\t Tales of the Night\n",
            "\t\t\t\t\t\t\t\t The Watcher in the Woods\n"
          ]
        },
        {
          "output_type": "stream",
          "name": "stderr",
          "text": [
            "\r 63%|██████▎   | 80/126 [06:32<03:36,  4.70s/it]"
          ]
        },
        {
          "output_type": "stream",
          "name": "stdout",
          "text": [
            "\n",
            "++ [ The Final || {'the final': [0.7933080792427063, 'In high school, Ravi gets bullied by Bradley and Bernard.'], 'chatroom': [0.7752651572227478, 'Eva, a model, is constantly bullied by her co-workers for her appearance.'], 'twisted': [0.7265976071357727, 'Williams (Karl Taylor), a school jock whom Mark burned earlier in science class, comes to the Collins home out for revenge; Mark kills him with a fencing sword.']} ]\n",
            "correct ||  {'Correct': 44, 'Wrong': 36}\n",
            "\n",
            "##  at one point the bullies corner 2 guys in the bathroom and break one of their cameras. The Final\n",
            "\t\t\t\t\t\t\t\t Twisted\n",
            "\t\t\t\t\t\t\t\t Chatroom\n",
            "\t\t\t\t\t\t\t\t The 10th Kingdom\n",
            "\t\t\t\t\t\t\t\t The Dragon Ring\n",
            "\t\t\t\t\t\t\t\t Nowhere\n",
            "\t\t\t\t\t\t\t\t Deadend\n",
            "\t\t\t\t\t\t\t\t The Warlord\n",
            "\t\t\t\t\t\t\t\t The Final\n",
            "\t\t\t\t\t\t\t\t Tales of the Night\n",
            "\t\t\t\t\t\t\t\t The Watcher in the Woods\n"
          ]
        },
        {
          "output_type": "stream",
          "name": "stderr",
          "text": [
            "\r 64%|██████▍   | 81/126 [06:36<03:31,  4.71s/it]"
          ]
        },
        {
          "output_type": "stream",
          "name": "stdout",
          "text": [
            "\n",
            "++ [ The Final || {'the final': [0.8419051170349121, 'There, Bradley and Bernard insult Ravi in the restroom and break his camera.'], 'chatroom': [0.7529757618904114, 'He then falls in front of the speeding train behind the crates and is killed.'], 'twisted': [0.7319958806037903, 'Ultimately, Mark himself is killed when Helen, defending herself, knocks him onto his spiked German helmet.']} ]\n",
            "correct ||  {'Correct': 45, 'Wrong': 36}\n",
            "\n",
            "##  so they all retaliate by throwing a party, in disguise, and knocking them all out with chemicals in the punch. The Final\n",
            "\t\t\t\t\t\t\t\t Twisted\n",
            "\t\t\t\t\t\t\t\t Chatroom\n",
            "\t\t\t\t\t\t\t\t The 10th Kingdom\n",
            "\t\t\t\t\t\t\t\t The Dragon Ring\n",
            "\t\t\t\t\t\t\t\t Nowhere\n",
            "\t\t\t\t\t\t\t\t Deadend\n",
            "\t\t\t\t\t\t\t\t The Warlord\n",
            "\t\t\t\t\t\t\t\t The Final\n",
            "\t\t\t\t\t\t\t\t Tales of the Night\n",
            "\t\t\t\t\t\t\t\t The Watcher in the Woods\n"
          ]
        },
        {
          "output_type": "stream",
          "name": "stderr",
          "text": [
            "\r 65%|██████▌   | 82/126 [06:41<03:27,  4.72s/it]"
          ]
        },
        {
          "output_type": "stream",
          "name": "stdout",
          "text": [
            "\n",
            "++ [ The Final || {'the final': [0.7874370217323303, 'They lace the punch bowl with a drug, causing everyone who drinks from it to fall unconscious.'], 'deadend': [0.7641013860702515, 'He begins screaming and shooting the gun, only to be quickly dispatched in the dark.'], 'nowhere': [0.757938027381897, 'Elvis claims Handjob sold him cut drugs and beats him to death with a can of tomato soup.']} ]\n",
            "correct ||  {'Correct': 46, 'Wrong': 36}\n",
            "\n",
            "##  they all wake up chained up. The Final\n",
            "\t\t\t\t\t\t\t\t Twisted\n",
            "\t\t\t\t\t\t\t\t Chatroom\n",
            "\t\t\t\t\t\t\t\t The 10th Kingdom\n",
            "\t\t\t\t\t\t\t\t The Dragon Ring\n",
            "\t\t\t\t\t\t\t\t Nowhere\n",
            "\t\t\t\t\t\t\t\t Deadend\n",
            "\t\t\t\t\t\t\t\t The Warlord\n",
            "\t\t\t\t\t\t\t\t The Final\n",
            "\t\t\t\t\t\t\t\t Tales of the Night\n",
            "\t\t\t\t\t\t\t\t The Watcher in the Woods\n"
          ]
        },
        {
          "output_type": "stream",
          "name": "stderr",
          "text": [
            "\r 66%|██████▌   | 83/126 [06:46<03:22,  4.71s/it]"
          ]
        },
        {
          "output_type": "stream",
          "name": "stdout",
          "text": [
            "\n",
            "++ [ The Final || {'the final': [0.8525394797325134, 'When the teens wake up, they find themselves chained together.'], 'the 10th kingdom': [0.7642626166343689, 'Luckily, Wolf had switched the poison for a sleeping potion, so everyone wakes up unharmed.'], 'chatroom': [0.717134952545166, 'William sees it to himself to help them in a crude manner.']} ]\n",
            "correct ||  {'Correct': 47, 'Wrong': 36}\n",
            "\n",
            "##  at one point the black kid wants to opt out so gas mask guy stabs him and he dies. The Final\n",
            "\t\t\t\t\t\t\t\t Twisted\n",
            "\t\t\t\t\t\t\t\t Chatroom\n",
            "\t\t\t\t\t\t\t\t The 10th Kingdom\n",
            "\t\t\t\t\t\t\t\t The Dragon Ring\n",
            "\t\t\t\t\t\t\t\t Nowhere\n",
            "\t\t\t\t\t\t\t\t Deadend\n",
            "\t\t\t\t\t\t\t\t The Warlord\n",
            "\t\t\t\t\t\t\t\t The Final\n",
            "\t\t\t\t\t\t\t\t Tales of the Night\n",
            "\t\t\t\t\t\t\t\t The Watcher in the Woods\n"
          ]
        },
        {
          "output_type": "stream",
          "name": "stderr",
          "text": [
            "\r 67%|██████▋   | 84/126 [06:52<03:39,  5.22s/it]"
          ]
        },
        {
          "output_type": "stream",
          "name": "stdout",
          "text": [
            "\n",
            "++ [ The Final || {'chatroom': [0.7761377096176147, 'He tries to leave, but William chases him.'], 'twisted': [0.7652065753936768, 'Ultimately, Mark himself is killed when Helen, defending herself, knocks him onto his spiked German helmet.']} ]\n",
            "wrong ||  {'Correct': 47, 'Wrong': 37}\n",
            "\n",
            "##  the way they torture their victims include: making a fat guy chop off a girl's fingers, using a nail shooter thing (like in no country for old men) on a guy's leg and face, and putting a slowly working acid on a girlâ€™s face. The Final\n",
            "\t\t\t\t\t\t\t\t Twisted\n",
            "\t\t\t\t\t\t\t\t Chatroom\n",
            "\t\t\t\t\t\t\t\t The 10th Kingdom\n",
            "\t\t\t\t\t\t\t\t The Dragon Ring\n",
            "\t\t\t\t\t\t\t\t Nowhere\n",
            "\t\t\t\t\t\t\t\t Deadend\n",
            "\t\t\t\t\t\t\t\t The Warlord\n",
            "\t\t\t\t\t\t\t\t The Final\n",
            "\t\t\t\t\t\t\t\t Tales of the Night\n",
            "\t\t\t\t\t\t\t\t The Watcher in the Woods\n"
          ]
        },
        {
          "output_type": "stream",
          "name": "stderr",
          "text": [
            "\r 67%|██████▋   | 85/126 [06:57<03:32,  5.18s/it]"
          ]
        },
        {
          "output_type": "stream",
          "name": "stdout",
          "text": [
            "\n",
            "++ [ The Final || {'the final': [0.766288161277771, \"The torture continues with Emily smearing a corrosive compound on Heather's face.\"], 'nowhere': [0.7410390377044678, 'Elvis claims Handjob sold him cut drugs and beats him to death with a can of tomato soup.'], 'the 10th kingdom': [0.7355694770812988, \"The group travels the lands in pursuit of the mirror, facing many dangers and challenges in the process, including Virginia's hair being enchanted to an impossible length, pursuit by the Queen's Huntsman, and a conspiracy by the descendants of Little Bo Peep to control a town's wishing well.\"]} ]\n",
            "correct ||  {'Correct': 48, 'Wrong': 37}\n",
            "\n",
            "##  eventually one of them escapes (a black jock i think) and tries to get help. The Final\n",
            "\t\t\t\t\t\t\t\t Twisted\n",
            "\t\t\t\t\t\t\t\t Chatroom\n",
            "\t\t\t\t\t\t\t\t The 10th Kingdom\n",
            "\t\t\t\t\t\t\t\t The Dragon Ring\n",
            "\t\t\t\t\t\t\t\t Nowhere\n",
            "\t\t\t\t\t\t\t\t Deadend\n",
            "\t\t\t\t\t\t\t\t The Warlord\n",
            "\t\t\t\t\t\t\t\t The Final\n",
            "\t\t\t\t\t\t\t\t Tales of the Night\n",
            "\t\t\t\t\t\t\t\t The Watcher in the Woods\n"
          ]
        },
        {
          "output_type": "stream",
          "name": "stderr",
          "text": [
            "\r 68%|██████▊   | 86/126 [07:02<03:21,  5.03s/it]"
          ]
        },
        {
          "output_type": "stream",
          "name": "stdout",
          "text": [
            "\n",
            "++ [ The Final || {'the final': [0.7890795469284058, 'An insane Dane taunts Bradley, who attempts to apologize.'], 'chatroom': [0.783483624458313, 'He tries to leave, but William chases him.'], 'twisted': [0.7551411390304565, 'Ultimately, Mark himself is killed when Helen, defending herself, knocks him onto his spiked German helmet.']} ]\n",
            "correct ||  {'Correct': 49, 'Wrong': 37}\n",
            "\n",
            "##  the cop he finds gets killed and there is a quad chase. The Final\n",
            "\t\t\t\t\t\t\t\t Twisted\n",
            "\t\t\t\t\t\t\t\t Chatroom\n",
            "\t\t\t\t\t\t\t\t The 10th Kingdom\n",
            "\t\t\t\t\t\t\t\t The Dragon Ring\n",
            "\t\t\t\t\t\t\t\t Nowhere\n",
            "\t\t\t\t\t\t\t\t Deadend\n",
            "\t\t\t\t\t\t\t\t The Warlord\n",
            "\t\t\t\t\t\t\t\t The Final\n",
            "\t\t\t\t\t\t\t\t Tales of the Night\n",
            "\t\t\t\t\t\t\t\t The Watcher in the Woods\n"
          ]
        },
        {
          "output_type": "stream",
          "name": "stderr",
          "text": [
            "\r 69%|██████▉   | 87/126 [07:07<03:12,  4.92s/it]"
          ]
        },
        {
          "output_type": "stream",
          "name": "stdout",
          "text": [
            "\n",
            "++ [ The Final || {'chatroom': [0.7999311685562134, 'He then falls in front of the speeding train behind the crates and is killed.'], 'twisted': [0.766200065612793, 'Ultimately, Mark himself is killed when Helen, defending herself, knocks him onto his spiked German helmet.']} ]\n",
            "wrong ||  {'Correct': 49, 'Wrong': 38}\n",
            "\n",
            "##  when they are found by the cops they kill themselves. The Final\n",
            "\t\t\t\t\t\t\t\t Twisted\n",
            "\t\t\t\t\t\t\t\t Chatroom\n",
            "\t\t\t\t\t\t\t\t The 10th Kingdom\n",
            "\t\t\t\t\t\t\t\t The Dragon Ring\n",
            "\t\t\t\t\t\t\t\t Nowhere\n",
            "\t\t\t\t\t\t\t\t Deadend\n",
            "\t\t\t\t\t\t\t\t The Warlord\n",
            "\t\t\t\t\t\t\t\t The Final\n",
            "\t\t\t\t\t\t\t\t Tales of the Night\n",
            "\t\t\t\t\t\t\t\t The Watcher in the Woods\n"
          ]
        },
        {
          "output_type": "stream",
          "name": "stderr",
          "text": [
            "\r 70%|██████▉   | 88/126 [07:11<03:04,  4.87s/it]"
          ]
        },
        {
          "output_type": "stream",
          "name": "stdout",
          "text": [
            "\n",
            "++ [ The Final || {'the final': [0.8077586889266968, 'When the teens wake up, they find themselves chained together.'], 'the warlord': [0.7833032011985779, \"Thorpe and Maggi are nearly caught by the Warlord's henchmen, but they subdue them and eventually succeed in obtaining the goods from the treasure chest.\"], 'chatroom': [0.7788299322128296, 'When William gets it and comes back, Eva punches him and the rest of the crew comes, followed by the police.']} ]\n",
            "correct ||  {'Correct': 50, 'Wrong': 38}\n",
            "\n",
            "##  the girl they put acid on is seen in a coffee shop, scarred, in the intro and conclusion of the film.\n",
            " The Final\n",
            "\t\t\t\t\t\t\t\t Twisted\n",
            "\t\t\t\t\t\t\t\t Chatroom\n",
            "\t\t\t\t\t\t\t\t The 10th Kingdom\n",
            "\t\t\t\t\t\t\t\t The Dragon Ring\n",
            "\t\t\t\t\t\t\t\t Nowhere\n",
            "\t\t\t\t\t\t\t\t Deadend\n",
            "\t\t\t\t\t\t\t\t The Warlord\n",
            "\t\t\t\t\t\t\t\t The Final\n",
            "\t\t\t\t\t\t\t\t Tales of the Night\n",
            "\t\t\t\t\t\t\t\t The Watcher in the Woods\n"
          ]
        },
        {
          "output_type": "stream",
          "name": "stderr",
          "text": [
            "\r 71%|███████   | 89/126 [07:16<02:58,  4.84s/it]"
          ]
        },
        {
          "output_type": "stream",
          "name": "stdout",
          "text": [
            "\n",
            "++ [ The Final || {'the final': [0.806922197341919, 'The final scene reveals that Bridget is the disfigured girl from the beginning of the film.'], 'the warlord': [0.7628963589668274, 'The movie opens in the living room of a very luxurious house.'], 'deadend': [0.7558024525642395, 'The car is then seen being pulled from a wreck, and the doctor discusses the accident.']} ]\n",
            "correct ||  {'Correct': 51, 'Wrong': 38}\n",
            "\n",
            "##  The opening scene of the film has a girl with a scarred faced and it's in black and white at a diner. The Final\n",
            "\t\t\t\t\t\t\t\t Twisted\n",
            "\t\t\t\t\t\t\t\t Chatroom\n",
            "\t\t\t\t\t\t\t\t The 10th Kingdom\n",
            "\t\t\t\t\t\t\t\t The Dragon Ring\n",
            "\t\t\t\t\t\t\t\t Nowhere\n",
            "\t\t\t\t\t\t\t\t Deadend\n",
            "\t\t\t\t\t\t\t\t The Warlord\n",
            "\t\t\t\t\t\t\t\t The Final\n",
            "\t\t\t\t\t\t\t\t Tales of the Night\n",
            "\t\t\t\t\t\t\t\t The Watcher in the Woods\n"
          ]
        },
        {
          "output_type": "stream",
          "name": "stderr",
          "text": [
            "\r 71%|███████▏  | 90/126 [07:21<02:53,  4.83s/it]"
          ]
        },
        {
          "output_type": "stream",
          "name": "stdout",
          "text": [
            "\n",
            "++ [ The Final || {'the final': [0.8122444152832031, 'The final scene reveals that Bridget is the disfigured girl from the beginning of the film.'], 'the warlord': [0.7726324200630188, 'The movie opens in the living room of a very luxurious house.'], 'deadend': [0.763931930065155, 'However, the other end of the line is a woman begging for help.']} ]\n",
            "correct ||  {'Correct': 52, 'Wrong': 38}\n",
            "\n",
            "##  Everyone in the diner is disgusted by her appearance (not only her physical appearance, but her presence in the room). The Final\n",
            "\t\t\t\t\t\t\t\t Twisted\n",
            "\t\t\t\t\t\t\t\t Chatroom\n",
            "\t\t\t\t\t\t\t\t The 10th Kingdom\n",
            "\t\t\t\t\t\t\t\t The Dragon Ring\n",
            "\t\t\t\t\t\t\t\t Nowhere\n",
            "\t\t\t\t\t\t\t\t Deadend\n",
            "\t\t\t\t\t\t\t\t The Warlord\n",
            "\t\t\t\t\t\t\t\t The Final\n",
            "\t\t\t\t\t\t\t\t Tales of the Night\n",
            "\t\t\t\t\t\t\t\t The Watcher in the Woods\n"
          ]
        },
        {
          "output_type": "stream",
          "name": "stderr",
          "text": [
            "\r 72%|███████▏  | 91/126 [07:26<02:48,  4.82s/it]"
          ]
        },
        {
          "output_type": "stream",
          "name": "stdout",
          "text": [
            "\n",
            "++ [ The Final || {'chatroom': [0.767456591129303, 'Eva, a model, is constantly bullied by her co-workers for her appearance.'], 'twisted': [0.7184846997261047, 'The sensible Helen meets little Susan Collins at the discount market and likes her, so she offers to do the job.']} ]\n",
            "wrong ||  {'Correct': 52, 'Wrong': 39}\n",
            "\n",
            "##  It starts out in black and white (more of a grayish tone) at a small restaurant. The Final\n",
            "\t\t\t\t\t\t\t\t Twisted\n",
            "\t\t\t\t\t\t\t\t Chatroom\n",
            "\t\t\t\t\t\t\t\t The 10th Kingdom\n",
            "\t\t\t\t\t\t\t\t The Dragon Ring\n",
            "\t\t\t\t\t\t\t\t Nowhere\n",
            "\t\t\t\t\t\t\t\t Deadend\n",
            "\t\t\t\t\t\t\t\t The Warlord\n",
            "\t\t\t\t\t\t\t\t The Final\n",
            "\t\t\t\t\t\t\t\t Tales of the Night\n",
            "\t\t\t\t\t\t\t\t The Watcher in the Woods\n"
          ]
        },
        {
          "output_type": "stream",
          "name": "stderr",
          "text": [
            "\r 73%|███████▎  | 92/126 [07:31<02:43,  4.81s/it]"
          ]
        },
        {
          "output_type": "stream",
          "name": "stdout",
          "text": [
            "\n",
            "++ [ The Final || {'the warlord': [0.7650149464607239, 'The movie opens in the living room of a very luxurious house.'], 'chatroom': [0.7419075965881348, 'William sees it to himself to help them in a crude manner.'], 'twisted': [0.7119601964950562, 'The sensible Helen meets little Susan Collins at the discount market and likes her, so she offers to do the job.']} ]\n",
            "wrong ||  {'Correct': 52, 'Wrong': 40}\n",
            "\n",
            "##  A girl walks in with a red hoodie on (the hoodie may be the only thing in color, maybe not). The Final\n",
            "\t\t\t\t\t\t\t\t Twisted\n",
            "\t\t\t\t\t\t\t\t Chatroom\n",
            "\t\t\t\t\t\t\t\t The 10th Kingdom\n",
            "\t\t\t\t\t\t\t\t The Dragon Ring\n",
            "\t\t\t\t\t\t\t\t Nowhere\n",
            "\t\t\t\t\t\t\t\t Deadend\n",
            "\t\t\t\t\t\t\t\t The Warlord\n",
            "\t\t\t\t\t\t\t\t The Final\n",
            "\t\t\t\t\t\t\t\t Tales of the Night\n",
            "\t\t\t\t\t\t\t\t The Watcher in the Woods\n"
          ]
        },
        {
          "output_type": "stream",
          "name": "stderr",
          "text": [
            "\r 74%|███████▍  | 93/126 [07:35<02:37,  4.78s/it]"
          ]
        },
        {
          "output_type": "stream",
          "name": "stdout",
          "text": [
            "\n",
            "++ [ The Final || {'tales of the night': [0.7277958989143372, 'A girl, a boy and an old cinema technician tell stories every night in a small theater.'], 'deadend': [0.7203158140182495, 'As she cries the hearse pulls up, but the woman in white appears behind her.'], 'chatroom': [0.715026319026947, 'William walks in a chat tunnel as the light gradually fades.']} ]\n",
            "wrong ||  {'Correct': 52, 'Wrong': 41}\n",
            "\n",
            "##  Everyone in the restaurant seems to recognize her when she walks in. The Final\n",
            "\t\t\t\t\t\t\t\t Twisted\n",
            "\t\t\t\t\t\t\t\t Chatroom\n",
            "\t\t\t\t\t\t\t\t The 10th Kingdom\n",
            "\t\t\t\t\t\t\t\t The Dragon Ring\n",
            "\t\t\t\t\t\t\t\t Nowhere\n",
            "\t\t\t\t\t\t\t\t Deadend\n",
            "\t\t\t\t\t\t\t\t The Warlord\n",
            "\t\t\t\t\t\t\t\t The Final\n",
            "\t\t\t\t\t\t\t\t Tales of the Night\n",
            "\t\t\t\t\t\t\t\t The Watcher in the Woods\n"
          ]
        },
        {
          "output_type": "stream",
          "name": "stderr",
          "text": [
            "\r 75%|███████▍  | 94/126 [07:40<02:32,  4.77s/it]"
          ]
        },
        {
          "output_type": "stream",
          "name": "stdout",
          "text": [
            "\n",
            "++ [ The Final || {'the final': [0.7781517505645752, 'A disfigured teenage girl enters a restaurant and quickly draws the attention of everyone there.'], 'deadend': [0.7762647271156311, 'The woman gets into the car, and as the family ask her questions, she remains silent.'], 'the 10th kingdom': [0.748103678226471, 'They travel to the castle to stop her, but Wolf seems to have betrayed Tony and Virginia.']} ]\n",
            "correct ||  {'Correct': 53, 'Wrong': 41}\n",
            "\n",
            "##  Her face is badly disfigured. The Final\n",
            "\t\t\t\t\t\t\t\t Twisted\n",
            "\t\t\t\t\t\t\t\t Chatroom\n",
            "\t\t\t\t\t\t\t\t The 10th Kingdom\n",
            "\t\t\t\t\t\t\t\t The Dragon Ring\n",
            "\t\t\t\t\t\t\t\t Nowhere\n",
            "\t\t\t\t\t\t\t\t Deadend\n",
            "\t\t\t\t\t\t\t\t The Warlord\n",
            "\t\t\t\t\t\t\t\t The Final\n",
            "\t\t\t\t\t\t\t\t Tales of the Night\n",
            "\t\t\t\t\t\t\t\t The Watcher in the Woods\n"
          ]
        },
        {
          "output_type": "stream",
          "name": "stderr",
          "text": [
            "\r 75%|███████▌  | 95/126 [07:45<02:26,  4.71s/it]"
          ]
        },
        {
          "output_type": "stream",
          "name": "stdout",
          "text": [
            "\n",
            "++ [ The Final || {'the final': [0.7934327721595764, 'The final scene reveals that Bridget is the disfigured girl from the beginning of the film.'], 'deadend': [0.7766218781471252, 'Marion suddenly awakens in the hospital, heavily bandaged.'], 'chatroom': [0.7438593506813049, 'Eva, a model, is constantly bullied by her co-workers for her appearance.']} ]\n",
            "correct ||  {'Correct': 54, 'Wrong': 41}\n",
            "\n",
            "##  People seem to be uncomfortable with her being in the room while theyâ€™re trying to eat their meals. The Final\n",
            "\t\t\t\t\t\t\t\t Twisted\n",
            "\t\t\t\t\t\t\t\t Chatroom\n",
            "\t\t\t\t\t\t\t\t The 10th Kingdom\n",
            "\t\t\t\t\t\t\t\t The Dragon Ring\n",
            "\t\t\t\t\t\t\t\t Nowhere\n",
            "\t\t\t\t\t\t\t\t Deadend\n",
            "\t\t\t\t\t\t\t\t The Warlord\n",
            "\t\t\t\t\t\t\t\t The Final\n",
            "\t\t\t\t\t\t\t\t Tales of the Night\n",
            "\t\t\t\t\t\t\t\t The Watcher in the Woods\n"
          ]
        },
        {
          "output_type": "stream",
          "name": "stderr",
          "text": [
            "\r 76%|███████▌  | 96/126 [07:49<02:22,  4.74s/it]"
          ]
        },
        {
          "output_type": "stream",
          "name": "stdout",
          "text": [
            "\n",
            "++ [ The Final || {'chatroom': [0.7482384443283081, 'Even though they only really communicate through text, they are depicted in an old hotel-like room and actually having contact.'], 'twisted': [0.7203683257102966, 'Evidently, she had an accident; now they need a new babysitter for an upcoming party.']} ]\n",
            "wrong ||  {'Correct': 54, 'Wrong': 42}\n",
            "\n",
            "##  The people in the restaurant also seem to stare at her and whisper about her till a she gets to a point she can't stand anymore. The Final\n",
            "\t\t\t\t\t\t\t\t Twisted\n",
            "\t\t\t\t\t\t\t\t Chatroom\n",
            "\t\t\t\t\t\t\t\t The 10th Kingdom\n",
            "\t\t\t\t\t\t\t\t The Dragon Ring\n",
            "\t\t\t\t\t\t\t\t Nowhere\n",
            "\t\t\t\t\t\t\t\t Deadend\n",
            "\t\t\t\t\t\t\t\t The Warlord\n",
            "\t\t\t\t\t\t\t\t The Final\n",
            "\t\t\t\t\t\t\t\t Tales of the Night\n",
            "\t\t\t\t\t\t\t\t The Watcher in the Woods\n"
          ]
        },
        {
          "output_type": "stream",
          "name": "stderr",
          "text": [
            "\r 77%|███████▋  | 97/126 [07:54<02:18,  4.76s/it]"
          ]
        },
        {
          "output_type": "stream",
          "name": "stdout",
          "text": [
            "\n",
            "++ [ The Final || {'deadend': [0.7624248266220093, 'The woman gets into the car, and as the family ask her questions, she remains silent.'], 'nowhere': [0.7365997433662415, \"At the Baywatch star's place, he and Egg watch TV together before he tries to make a move on her.\"], 'twisted': [0.7332723140716553, 'The sensible Helen meets little Susan Collins at the discount market and likes her, so she offers to do the job.']} ]\n",
            "wrong ||  {'Correct': 54, 'Wrong': 43}\n",
            "\n",
            "##  She stands up and yells something out like â€œIs this what you wantâ€_x009d_ and takes off her hoodie to show her disfigured face, then the opening credits start to roll.\n",
            " The Final\n",
            "\t\t\t\t\t\t\t\t Twisted\n",
            "\t\t\t\t\t\t\t\t Chatroom\n",
            "\t\t\t\t\t\t\t\t The 10th Kingdom\n",
            "\t\t\t\t\t\t\t\t The Dragon Ring\n",
            "\t\t\t\t\t\t\t\t Nowhere\n",
            "\t\t\t\t\t\t\t\t Deadend\n",
            "\t\t\t\t\t\t\t\t The Warlord\n",
            "\t\t\t\t\t\t\t\t The Final\n",
            "\t\t\t\t\t\t\t\t Tales of the Night\n",
            "\t\t\t\t\t\t\t\t The Watcher in the Woods\n"
          ]
        },
        {
          "output_type": "stream",
          "name": "stderr",
          "text": [
            "\r 78%|███████▊  | 98/126 [07:59<02:15,  4.83s/it]"
          ]
        },
        {
          "output_type": "stream",
          "name": "stdout",
          "text": [
            "\n",
            "++ [ The Final || {'the final': [0.737207293510437, 'The final scene reveals that Bridget is the disfigured girl from the beginning of the film.'], 'twisted': [0.7323356866836548, \"Secretly, Susan dons her late brother's glasses and proceeds to listen to his Nazi music and the cycle begins anew.\"]} ]\n",
            "correct ||  {'Correct': 55, 'Wrong': 43}\n",
            "\n",
            "##  I think I remember a young girl who was tied to a tree in the woods. The Watcher in the Woods\n",
            "\t\t\t\t\t\t\t\t Twisted\n",
            "\t\t\t\t\t\t\t\t Chatroom\n",
            "\t\t\t\t\t\t\t\t The 10th Kingdom\n",
            "\t\t\t\t\t\t\t\t The Dragon Ring\n",
            "\t\t\t\t\t\t\t\t Nowhere\n",
            "\t\t\t\t\t\t\t\t Deadend\n",
            "\t\t\t\t\t\t\t\t The Warlord\n",
            "\t\t\t\t\t\t\t\t The Final\n",
            "\t\t\t\t\t\t\t\t Tales of the Night\n",
            "\t\t\t\t\t\t\t\t The Watcher in the Woods\n"
          ]
        },
        {
          "output_type": "stream",
          "name": "stderr",
          "text": [
            "\r 79%|███████▊  | 99/126 [08:04<02:09,  4.79s/it]"
          ]
        },
        {
          "output_type": "stream",
          "name": "stdout",
          "text": [
            "\n",
            "++ [ The Watcher in the Woods || {'deadend': [0.786616325378418, 'Shortly after, Laura talks about seeing the face of a friend who had died 20 years earlier in the woods.'], 'nowhere': [0.7237200736999512, 'While waiting at a bus stop, Dark sees three valley girls killed by an alien, which he tries to catch on video before it disappears.'], 'chatroom': [0.7138137817382812, 'William Collins is a depressed teenage boy recovering from self-harm and regularly goes online to chatrooms.']} ]\n",
            "wrong ||  {'Correct': 55, 'Wrong': 44}\n",
            "\n",
            "##  There was a blonde woman who said something about blood and Satan. The Watcher in the Woods\n",
            "\t\t\t\t\t\t\t\t Twisted\n",
            "\t\t\t\t\t\t\t\t Chatroom\n",
            "\t\t\t\t\t\t\t\t The 10th Kingdom\n",
            "\t\t\t\t\t\t\t\t The Dragon Ring\n",
            "\t\t\t\t\t\t\t\t Nowhere\n",
            "\t\t\t\t\t\t\t\t Deadend\n",
            "\t\t\t\t\t\t\t\t The Warlord\n",
            "\t\t\t\t\t\t\t\t The Final\n",
            "\t\t\t\t\t\t\t\t Tales of the Night\n",
            "\t\t\t\t\t\t\t\t The Watcher in the Woods\n"
          ]
        },
        {
          "output_type": "stream",
          "name": "stderr",
          "text": [
            "\r 79%|███████▉  | 100/126 [08:09<02:03,  4.76s/it]"
          ]
        },
        {
          "output_type": "stream",
          "name": "stdout",
          "text": [
            "\n",
            "++ [ The Watcher in the Woods || {'tales of the night': [0.76545649766922, 'A girl, a boy and an old cinema technician tell stories every night in a small theater.'], 'deadend': [0.7467590570449829, 'However, the other end of the line is a woman begging for help.'], 'nowhere': [0.743378221988678, 'Mel is dating a girl named Lucifer, who Dark hates, while Dark is interested in a mysterious boy he keeps running into named Montgomery.']} ]\n",
            "wrong ||  {'Correct': 55, 'Wrong': 45}\n",
            "\n",
            "##  There may have been a telepathic connection between her and the girl. The Watcher in the Woods\n",
            "\t\t\t\t\t\t\t\t Twisted\n",
            "\t\t\t\t\t\t\t\t Chatroom\n",
            "\t\t\t\t\t\t\t\t The 10th Kingdom\n",
            "\t\t\t\t\t\t\t\t The Dragon Ring\n",
            "\t\t\t\t\t\t\t\t Nowhere\n",
            "\t\t\t\t\t\t\t\t Deadend\n",
            "\t\t\t\t\t\t\t\t The Warlord\n",
            "\t\t\t\t\t\t\t\t The Final\n",
            "\t\t\t\t\t\t\t\t Tales of the Night\n",
            "\t\t\t\t\t\t\t\t The Watcher in the Woods\n"
          ]
        },
        {
          "output_type": "stream",
          "name": "stderr",
          "text": [
            "\r 80%|████████  | 101/126 [08:14<02:00,  4.81s/it]"
          ]
        },
        {
          "output_type": "stream",
          "name": "stdout",
          "text": [
            "\n",
            "++ [ The Watcher in the Woods || {'the 10th kingdom': [0.7338069677352905, 'They travel to the castle to stop her, but Wolf seems to have betrayed Tony and Virginia.'], 'chatroom': [0.711718738079071, 'Even though they only really communicate through text, they are depicted in an old hotel-like room and actually having contact.'], 'twisted': [0.6976441740989685, 'Evidently, she had an accident; now they need a new babysitter for an upcoming party.']} ]\n",
            "wrong ||  {'Correct': 55, 'Wrong': 46}\n",
            "\n",
            "##  Maybe the woman was trying to find her. The Watcher in the Woods\n",
            "\t\t\t\t\t\t\t\t Twisted\n",
            "\t\t\t\t\t\t\t\t Chatroom\n",
            "\t\t\t\t\t\t\t\t The 10th Kingdom\n",
            "\t\t\t\t\t\t\t\t The Dragon Ring\n",
            "\t\t\t\t\t\t\t\t Nowhere\n",
            "\t\t\t\t\t\t\t\t Deadend\n",
            "\t\t\t\t\t\t\t\t The Warlord\n",
            "\t\t\t\t\t\t\t\t The Final\n",
            "\t\t\t\t\t\t\t\t Tales of the Night\n",
            "\t\t\t\t\t\t\t\t The Watcher in the Woods\n"
          ]
        },
        {
          "output_type": "stream",
          "name": "stderr",
          "text": [
            "\r 81%|████████  | 102/126 [08:20<02:04,  5.20s/it]"
          ]
        },
        {
          "output_type": "stream",
          "name": "stdout",
          "text": [
            "\n",
            "++ [ The Watcher in the Woods || {'the watcher in the woods': [0.7417304515838623, 'Jan, realizing her sister has disappeared from the yard, goes into the woods to find her, eventually locating her at a pond.'], 'deadend': [0.7409859895706177, 'Brad and the woman are nowhere to be seen.'], 'the 10th kingdom': [0.7318247556686401, 'They travel to the castle to stop her, but Wolf seems to have betrayed Tony and Virginia.']} ]\n",
            "correct ||  {'Correct': 56, 'Wrong': 46}\n",
            "\n",
            "##  There may have also been a witch, but maybe not. The Watcher in the Woods\n",
            "\t\t\t\t\t\t\t\t Twisted\n",
            "\t\t\t\t\t\t\t\t Chatroom\n",
            "\t\t\t\t\t\t\t\t The 10th Kingdom\n",
            "\t\t\t\t\t\t\t\t The Dragon Ring\n",
            "\t\t\t\t\t\t\t\t Nowhere\n",
            "\t\t\t\t\t\t\t\t Deadend\n",
            "\t\t\t\t\t\t\t\t The Warlord\n",
            "\t\t\t\t\t\t\t\t The Final\n",
            "\t\t\t\t\t\t\t\t Tales of the Night\n",
            "\t\t\t\t\t\t\t\t The Watcher in the Woods\n"
          ]
        },
        {
          "output_type": "stream",
          "name": "stderr",
          "text": [
            "\r 82%|████████▏ | 103/126 [08:24<01:56,  5.07s/it]"
          ]
        },
        {
          "output_type": "stream",
          "name": "stdout",
          "text": [
            "\n",
            "++ [ The Watcher in the Woods || {'tales of the night': [0.7143197655677795, 'Maud is servant to a powerful but tyrannical wizard.'], 'the 10th kingdom': [0.7091411352157593, 'Luckily, Wolf had switched the poison for a sleeping potion, so everyone wakes up unharmed.'], 'twisted': [0.7012615203857422, \"Phillip has already looked in their children's rooms, presumably finding Mark's body, but instead offers Helen a ride home.\"]} ]\n",
            "wrong ||  {'Correct': 56, 'Wrong': 47}\n",
            "\n",
            "##  I believe there are two kids and they are staying ag this old house in the woods The Watcher in the Woods\n",
            "\t\t\t\t\t\t\t\t Twisted\n",
            "\t\t\t\t\t\t\t\t Chatroom\n",
            "\t\t\t\t\t\t\t\t The 10th Kingdom\n",
            "\t\t\t\t\t\t\t\t The Dragon Ring\n",
            "\t\t\t\t\t\t\t\t Nowhere\n",
            "\t\t\t\t\t\t\t\t Deadend\n",
            "\t\t\t\t\t\t\t\t The Warlord\n",
            "\t\t\t\t\t\t\t\t The Final\n",
            "\t\t\t\t\t\t\t\t Tales of the Night\n",
            "\t\t\t\t\t\t\t\t The Watcher in the Woods\n"
          ]
        },
        {
          "output_type": "stream",
          "name": "stderr",
          "text": [
            "\r 83%|████████▎ | 104/126 [08:29<01:49,  4.97s/it]"
          ]
        },
        {
          "output_type": "stream",
          "name": "stdout",
          "text": [
            "\n",
            "++ [ The Watcher in the Woods || {'the final': [0.7692245841026306, 'Dane, another outcast, has an old, secluded house in the woods which he inherited from his late uncle.'], 'chatroom': [0.7404311895370483, 'Even though they only really communicate through text, they are depicted in an old hotel-like room and actually having contact.'], 'twisted': [0.7150771021842957, 'Evidently, she had an accident; now they need a new babysitter for an upcoming party.']} ]\n",
            "wrong ||  {'Correct': 56, 'Wrong': 48}\n",
            "\n",
            "##  Not sure if they are on vacation or have parents there. The Watcher in the Woods\n",
            "\t\t\t\t\t\t\t\t Twisted\n",
            "\t\t\t\t\t\t\t\t Chatroom\n",
            "\t\t\t\t\t\t\t\t The 10th Kingdom\n",
            "\t\t\t\t\t\t\t\t The Dragon Ring\n",
            "\t\t\t\t\t\t\t\t Nowhere\n",
            "\t\t\t\t\t\t\t\t Deadend\n",
            "\t\t\t\t\t\t\t\t The Warlord\n",
            "\t\t\t\t\t\t\t\t The Final\n",
            "\t\t\t\t\t\t\t\t Tales of the Night\n",
            "\t\t\t\t\t\t\t\t The Watcher in the Woods\n"
          ]
        },
        {
          "output_type": "stream",
          "name": "stderr",
          "text": [
            "\r 83%|████████▎ | 105/126 [08:34<01:42,  4.90s/it]"
          ]
        },
        {
          "output_type": "stream",
          "name": "stdout",
          "text": [
            "\n",
            "++ [ The Watcher in the Woods || {'chatroom': [0.7190595269203186, 'Even though they only really communicate through text, they are depicted in an old hotel-like room and actually having contact.'], 'twisted': [0.7121262550354004, 'Evidently, she had an accident; now they need a new babysitter for an upcoming party.']} ]\n",
            "wrong ||  {'Correct': 56, 'Wrong': 49}\n",
            "\n",
            "##  But at one point, one kid gets trapped under water either under tree branches or under ice (but I'm pretty sure its summer so ice would be odd). The Watcher in the Woods\n",
            "\t\t\t\t\t\t\t\t Twisted\n",
            "\t\t\t\t\t\t\t\t Chatroom\n",
            "\t\t\t\t\t\t\t\t The 10th Kingdom\n",
            "\t\t\t\t\t\t\t\t The Dragon Ring\n",
            "\t\t\t\t\t\t\t\t Nowhere\n",
            "\t\t\t\t\t\t\t\t Deadend\n",
            "\t\t\t\t\t\t\t\t The Warlord\n",
            "\t\t\t\t\t\t\t\t The Final\n",
            "\t\t\t\t\t\t\t\t Tales of the Night\n",
            "\t\t\t\t\t\t\t\t The Watcher in the Woods\n"
          ]
        },
        {
          "output_type": "stream",
          "name": "stderr",
          "text": [
            "\r 84%|████████▍ | 106/126 [08:39<01:37,  4.88s/it]"
          ]
        },
        {
          "output_type": "stream",
          "name": "stdout",
          "text": [
            "\n",
            "++ [ The Watcher in the Woods || {'the final': [0.7450217604637146, 'One boy, Tommy, flees for help, but steps into a bear trap in the woods.'], 'chatroom': [0.7140468955039978, 'Even though they only really communicate through text, they are depicted in an old hotel-like room and actually having contact.'], 'twisted': [0.6972532272338867, 'The sensible Helen meets little Susan Collins at the discount market and likes her, so she offers to do the job.']} ]\n",
            "wrong ||  {'Correct': 56, 'Wrong': 50}\n",
            "\n",
            "##  I think the old woman (witch) is in the window makig this happen. The Watcher in the Woods\n",
            "\t\t\t\t\t\t\t\t Twisted\n",
            "\t\t\t\t\t\t\t\t Chatroom\n",
            "\t\t\t\t\t\t\t\t The 10th Kingdom\n",
            "\t\t\t\t\t\t\t\t The Dragon Ring\n",
            "\t\t\t\t\t\t\t\t Nowhere\n",
            "\t\t\t\t\t\t\t\t Deadend\n",
            "\t\t\t\t\t\t\t\t The Warlord\n",
            "\t\t\t\t\t\t\t\t The Final\n",
            "\t\t\t\t\t\t\t\t Tales of the Night\n",
            "\t\t\t\t\t\t\t\t The Watcher in the Woods\n"
          ]
        },
        {
          "output_type": "stream",
          "name": "stderr",
          "text": [
            "\r 85%|████████▍ | 107/126 [08:43<01:31,  4.80s/it]"
          ]
        },
        {
          "output_type": "stream",
          "name": "stdout",
          "text": [
            "\n",
            "++ [ The Watcher in the Woods || {'the watcher in the woods': [0.7589840292930603, 'On one occasion, she sees the apparition of a blindfolded girl in a mirror in front of her.'], 'deadend': [0.7573193311691284, \"The woman appears at Frank's window, holding a baby.\"], 'the 10th kingdom': [0.7385581731796265, 'Prince Wendell is captured by the Evil Queen, who is his wicked stepmother.']} ]\n",
            "correct ||  {'Correct': 57, 'Wrong': 50}\n",
            "\n",
            "##  some people took the new kid to a party or something or something and suddenly he was looking like a giant lizard please help me please Nowhere\n",
            "\t\t\t\t\t\t\t\t Twisted\n",
            "\t\t\t\t\t\t\t\t Chatroom\n",
            "\t\t\t\t\t\t\t\t The 10th Kingdom\n",
            "\t\t\t\t\t\t\t\t The Dragon Ring\n",
            "\t\t\t\t\t\t\t\t Nowhere\n",
            "\t\t\t\t\t\t\t\t Deadend\n",
            "\t\t\t\t\t\t\t\t The Warlord\n",
            "\t\t\t\t\t\t\t\t The Final\n",
            "\t\t\t\t\t\t\t\t Tales of the Night\n",
            "\t\t\t\t\t\t\t\t The Watcher in the Woods\n"
          ]
        },
        {
          "output_type": "stream",
          "name": "stderr",
          "text": [
            "\r 86%|████████▌ | 108/126 [08:48<01:26,  4.80s/it]"
          ]
        },
        {
          "output_type": "stream",
          "name": "stdout",
          "text": [
            "\n",
            "++ [ Nowhere || {'tales of the night': [0.7152528762817383, 'The shadow of an old man tells him how to defeat three monsters; a giant bee, a giant mongoose, and a giant iguana.'], 'twisted': [0.7086678743362427, 'Evidently, she had an accident; now they need a new babysitter for an upcoming party.']} ]\n",
            "wrong ||  {'Correct': 57, 'Wrong': 51}\n",
            "\n",
            "##  then the teenagers took a new kid to a party or something and suddenly the new kid turned into a giant lizard what did you mean? Nowhere\n",
            "\t\t\t\t\t\t\t\t Twisted\n",
            "\t\t\t\t\t\t\t\t Chatroom\n",
            "\t\t\t\t\t\t\t\t The 10th Kingdom\n",
            "\t\t\t\t\t\t\t\t The Dragon Ring\n",
            "\t\t\t\t\t\t\t\t Nowhere\n",
            "\t\t\t\t\t\t\t\t Deadend\n",
            "\t\t\t\t\t\t\t\t The Warlord\n",
            "\t\t\t\t\t\t\t\t The Final\n",
            "\t\t\t\t\t\t\t\t Tales of the Night\n",
            "\t\t\t\t\t\t\t\t The Watcher in the Woods\n"
          ]
        },
        {
          "output_type": "stream",
          "name": "stderr",
          "text": [
            "\r 87%|████████▋ | 109/126 [08:53<01:21,  4.81s/it]"
          ]
        },
        {
          "output_type": "stream",
          "name": "stdout",
          "text": [
            "\n",
            "++ [ Nowhere || {'twisted': [0.7187581062316895, 'Evidently, she had an accident; now they need a new babysitter for an upcoming party.']} ]\n",
            "wrong ||  {'Correct': 57, 'Wrong': 52}\n",
            "\n",
            "##  someone turns into a giant lizard or an alien and climbs out the window Nowhere\n",
            "\t\t\t\t\t\t\t\t Twisted\n",
            "\t\t\t\t\t\t\t\t Chatroom\n",
            "\t\t\t\t\t\t\t\t The 10th Kingdom\n",
            "\t\t\t\t\t\t\t\t The Dragon Ring\n",
            "\t\t\t\t\t\t\t\t Nowhere\n",
            "\t\t\t\t\t\t\t\t Deadend\n",
            "\t\t\t\t\t\t\t\t The Warlord\n",
            "\t\t\t\t\t\t\t\t The Final\n",
            "\t\t\t\t\t\t\t\t Tales of the Night\n",
            "\t\t\t\t\t\t\t\t The Watcher in the Woods\n"
          ]
        },
        {
          "output_type": "stream",
          "name": "stderr",
          "text": [
            "\r 87%|████████▋ | 110/126 [08:58<01:16,  4.77s/it]"
          ]
        },
        {
          "output_type": "stream",
          "name": "stdout",
          "text": [
            "\n",
            "++ [ Nowhere || {'tales of the night': [0.7591316103935242, 'The shadow of an old man tells him how to defeat three monsters; a giant bee, a giant mongoose, and a giant iguana.'], 'nowhere': [0.7493075132369995, 'The two close their eyes but are disturbed, as Montgomery goes into a coughing fit, then explodes into a shower of blood, leaving only a cockroach-like alien who exclaims, \"I\\'m outta here,\" before crawling out of the window.'], 'the 10th kingdom': [0.746667742729187, 'She turns him into a Golden Retriever while her very own retriever is transformed into a facsimile of Wendell.']} ]\n",
            "correct ||  {'Correct': 58, 'Wrong': 52}\n",
            "\n",
            "##  someone turns into a giant lizard or a living alien and climbs out the window Nowhere\n",
            "\t\t\t\t\t\t\t\t Twisted\n",
            "\t\t\t\t\t\t\t\t Chatroom\n",
            "\t\t\t\t\t\t\t\t The 10th Kingdom\n",
            "\t\t\t\t\t\t\t\t The Dragon Ring\n",
            "\t\t\t\t\t\t\t\t Nowhere\n",
            "\t\t\t\t\t\t\t\t Deadend\n",
            "\t\t\t\t\t\t\t\t The Warlord\n",
            "\t\t\t\t\t\t\t\t The Final\n",
            "\t\t\t\t\t\t\t\t Tales of the Night\n",
            "\t\t\t\t\t\t\t\t The Watcher in the Woods\n"
          ]
        },
        {
          "output_type": "stream",
          "name": "stderr",
          "text": [
            "\r 88%|████████▊ | 111/126 [09:02<01:11,  4.75s/it]"
          ]
        },
        {
          "output_type": "stream",
          "name": "stdout",
          "text": [
            "\n",
            "++ [ Nowhere || {'tales of the night': [0.7627356648445129, 'The shadow of an old man tells him how to defeat three monsters; a giant bee, a giant mongoose, and a giant iguana.'], 'the 10th kingdom': [0.7514956593513489, 'She turns him into a Golden Retriever while her very own retriever is transformed into a facsimile of Wendell.'], 'chatroom': [0.7351781129837036, 'He then falls in front of the speeding train behind the crates and is killed.']} ]\n",
            "wrong ||  {'Correct': 58, 'Wrong': 53}\n",
            "\n",
            "##  the plan is to murder the girl and she seems to be trying to leave her family Chatroom\n",
            "\t\t\t\t\t\t\t\t Twisted\n",
            "\t\t\t\t\t\t\t\t Chatroom\n",
            "\t\t\t\t\t\t\t\t The 10th Kingdom\n",
            "\t\t\t\t\t\t\t\t The Dragon Ring\n",
            "\t\t\t\t\t\t\t\t Nowhere\n",
            "\t\t\t\t\t\t\t\t Deadend\n",
            "\t\t\t\t\t\t\t\t The Warlord\n",
            "\t\t\t\t\t\t\t\t The Final\n",
            "\t\t\t\t\t\t\t\t Tales of the Night\n",
            "\t\t\t\t\t\t\t\t The Watcher in the Woods\n"
          ]
        },
        {
          "output_type": "stream",
          "name": "stderr",
          "text": [
            "\r 89%|████████▉ | 112/126 [09:07<01:06,  4.75s/it]"
          ]
        },
        {
          "output_type": "stream",
          "name": "stdout",
          "text": [
            "\n",
            "++ [ Chatroom || {'tales of the night': [0.7856404781341553, 'The rival king hatches a plan and enlists his daughter to seduce the boy who never lies and make him lie.'], 'deadend': [0.7818010449409485, 'Brad begins questioning the woman and telling the woman his plans to propose to Marion, meanwhile Marion walks along the road to catch up with the family and rehearses how she plans to break up with Brad.'], 'the dragon ring': [0.7803921699523926, 'But unknown to him, the jealous Selvaggia wants to beat her elder sister completely.']} ]\n",
            "wrong ||  {'Correct': 58, 'Wrong': 54}\n",
            "\n",
            "##  they are planning the murders in that room and the girl seems to be trying to escape Chatroom\n",
            "\t\t\t\t\t\t\t\t Twisted\n",
            "\t\t\t\t\t\t\t\t Chatroom\n",
            "\t\t\t\t\t\t\t\t The 10th Kingdom\n",
            "\t\t\t\t\t\t\t\t The Dragon Ring\n",
            "\t\t\t\t\t\t\t\t Nowhere\n",
            "\t\t\t\t\t\t\t\t Deadend\n",
            "\t\t\t\t\t\t\t\t The Warlord\n",
            "\t\t\t\t\t\t\t\t The Final\n",
            "\t\t\t\t\t\t\t\t Tales of the Night\n",
            "\t\t\t\t\t\t\t\t The Watcher in the Woods\n"
          ]
        },
        {
          "output_type": "stream",
          "name": "stderr",
          "text": [
            "\r 90%|████████▉ | 113/126 [09:12<01:01,  4.75s/it]"
          ]
        },
        {
          "output_type": "stream",
          "name": "stdout",
          "text": [
            "\n",
            "++ [ Chatroom || {'the 10th kingdom': [0.7668083906173706, 'They travel to the castle to stop her, but Wolf seems to have betrayed Tony and Virginia.'], 'twisted': [0.7467842102050781, \"Mark's parents come home to find the house in shambles; Evelyn puts the blame on Helen and tries to have her arrested, unaware that Mark lies dead upstairs.\"]} ]\n",
            "wrong ||  {'Correct': 58, 'Wrong': 55}\n",
            "\n",
            "##  they're plotting a murder in this room and the girl seems to be trying to get out of family Chatroom\n",
            "\t\t\t\t\t\t\t\t Twisted\n",
            "\t\t\t\t\t\t\t\t Chatroom\n",
            "\t\t\t\t\t\t\t\t The 10th Kingdom\n",
            "\t\t\t\t\t\t\t\t The Dragon Ring\n",
            "\t\t\t\t\t\t\t\t Nowhere\n",
            "\t\t\t\t\t\t\t\t Deadend\n",
            "\t\t\t\t\t\t\t\t The Warlord\n",
            "\t\t\t\t\t\t\t\t The Final\n",
            "\t\t\t\t\t\t\t\t Tales of the Night\n",
            "\t\t\t\t\t\t\t\t The Watcher in the Woods\n"
          ]
        },
        {
          "output_type": "stream",
          "name": "stderr",
          "text": [
            "\r 90%|█████████ | 114/126 [09:17<00:57,  4.76s/it]"
          ]
        },
        {
          "output_type": "stream",
          "name": "stdout",
          "text": [
            "\n",
            "++ [ Chatroom || {'chatroom': [0.7456085681915283, 'They devise ways in which Emily could be more violent and make it look like somebody is harassing her family, which makes her parents try to protect her more.'], 'twisted': [0.7379336953163147, \"Mark's parents come home to find the house in shambles; Evelyn puts the blame on Helen and tries to have her arrested, unaware that Mark lies dead upstairs.\"]} ]\n",
            "correct ||  {'Correct': 59, 'Wrong': 55}\n",
            "\n",
            "##  they plot to murder in that room and the girl seems to be trying to escape her family Chatroom\n",
            "\t\t\t\t\t\t\t\t Twisted\n",
            "\t\t\t\t\t\t\t\t Chatroom\n",
            "\t\t\t\t\t\t\t\t The 10th Kingdom\n",
            "\t\t\t\t\t\t\t\t The Dragon Ring\n",
            "\t\t\t\t\t\t\t\t Nowhere\n",
            "\t\t\t\t\t\t\t\t Deadend\n",
            "\t\t\t\t\t\t\t\t The Warlord\n",
            "\t\t\t\t\t\t\t\t The Final\n",
            "\t\t\t\t\t\t\t\t Tales of the Night\n",
            "\t\t\t\t\t\t\t\t The Watcher in the Woods\n"
          ]
        },
        {
          "output_type": "stream",
          "name": "stderr",
          "text": [
            "\r 91%|█████████▏| 115/126 [09:21<00:52,  4.75s/it]"
          ]
        },
        {
          "output_type": "stream",
          "name": "stdout",
          "text": [
            "\n",
            "++ [ Chatroom || {'the 10th kingdom': [0.777886688709259, 'They travel to the castle to stop her, but Wolf seems to have betrayed Tony and Virginia.'], 'chatroom': [0.7733076810836792, 'They devise ways in which Emily could be more violent and make it look like somebody is harassing her family, which makes her parents try to protect her more.'], 'twisted': [0.7577805519104004, \"Mark's parents come home to find the house in shambles; Evelyn puts the blame on Helen and tries to have her arrested, unaware that Mark lies dead upstairs.\"]} ]\n",
            "correct ||  {'Correct': 60, 'Wrong': 55}\n",
            "\n",
            "##  they plan the murder in that room and the girl seems to be trying to leave her family Chatroom\n",
            "\t\t\t\t\t\t\t\t Twisted\n",
            "\t\t\t\t\t\t\t\t Chatroom\n",
            "\t\t\t\t\t\t\t\t The 10th Kingdom\n",
            "\t\t\t\t\t\t\t\t The Dragon Ring\n",
            "\t\t\t\t\t\t\t\t Nowhere\n",
            "\t\t\t\t\t\t\t\t Deadend\n",
            "\t\t\t\t\t\t\t\t The Warlord\n",
            "\t\t\t\t\t\t\t\t The Final\n",
            "\t\t\t\t\t\t\t\t Tales of the Night\n",
            "\t\t\t\t\t\t\t\t The Watcher in the Woods\n"
          ]
        },
        {
          "output_type": "stream",
          "name": "stderr",
          "text": [
            "\r 92%|█████████▏| 116/126 [09:26<00:47,  4.76s/it]"
          ]
        },
        {
          "output_type": "stream",
          "name": "stdout",
          "text": [
            "\n",
            "++ [ Chatroom || {'the 10th kingdom': [0.7756710648536682, 'They travel to the castle to stop her, but Wolf seems to have betrayed Tony and Virginia.'], 'chatroom': [0.7658429145812988, 'They devise ways in which Emily could be more violent and make it look like somebody is harassing her family, which makes her parents try to protect her more.'], 'twisted': [0.7606297135353088, \"Mark's parents come home to find the house in shambles; Evelyn puts the blame on Helen and tries to have her arrested, unaware that Mark lies dead upstairs.\"]} ]\n",
            "correct ||  {'Correct': 61, 'Wrong': 55}\n",
            "\n",
            "##  they plot murder in this room and the girl seems to be trying to leave her family Chatroom\n",
            "\t\t\t\t\t\t\t\t Twisted\n",
            "\t\t\t\t\t\t\t\t Chatroom\n",
            "\t\t\t\t\t\t\t\t The 10th Kingdom\n",
            "\t\t\t\t\t\t\t\t The Dragon Ring\n",
            "\t\t\t\t\t\t\t\t Nowhere\n",
            "\t\t\t\t\t\t\t\t Deadend\n",
            "\t\t\t\t\t\t\t\t The Warlord\n",
            "\t\t\t\t\t\t\t\t The Final\n",
            "\t\t\t\t\t\t\t\t Tales of the Night\n",
            "\t\t\t\t\t\t\t\t The Watcher in the Woods\n"
          ]
        },
        {
          "output_type": "stream",
          "name": "stderr",
          "text": [
            "\r 93%|█████████▎| 117/126 [09:31<00:42,  4.75s/it]"
          ]
        },
        {
          "output_type": "stream",
          "name": "stdout",
          "text": [
            "\n",
            "++ [ Chatroom || {'chatroom': [0.7728534936904907, 'They devise ways in which Emily could be more violent and make it look like somebody is harassing her family, which makes her parents try to protect her more.'], 'twisted': [0.7560504674911499, \"Mark's parents come home to find the house in shambles; Evelyn puts the blame on Helen and tries to have her arrested, unaware that Mark lies dead upstairs.\"]} ]\n",
            "correct ||  {'Correct': 62, 'Wrong': 55}\n",
            "\n",
            "##  they're plotting murder in the room and the girl seems to be trying to leave her family Chatroom\n",
            "\t\t\t\t\t\t\t\t Twisted\n",
            "\t\t\t\t\t\t\t\t Chatroom\n",
            "\t\t\t\t\t\t\t\t The 10th Kingdom\n",
            "\t\t\t\t\t\t\t\t The Dragon Ring\n",
            "\t\t\t\t\t\t\t\t Nowhere\n",
            "\t\t\t\t\t\t\t\t Deadend\n",
            "\t\t\t\t\t\t\t\t The Warlord\n",
            "\t\t\t\t\t\t\t\t The Final\n",
            "\t\t\t\t\t\t\t\t Tales of the Night\n",
            "\t\t\t\t\t\t\t\t The Watcher in the Woods\n"
          ]
        },
        {
          "output_type": "stream",
          "name": "stderr",
          "text": [
            "\r 94%|█████████▎| 118/126 [09:36<00:37,  4.74s/it]"
          ]
        },
        {
          "output_type": "stream",
          "name": "stdout",
          "text": [
            "\n",
            "++ [ Chatroom || {'tales of the night': [0.7639944553375244, 'The younger sister figures out what her sister has done, and exposes her cruel actions.'], 'chatroom': [0.7634615898132324, 'They devise ways in which Emily could be more violent and make it look like somebody is harassing her family, which makes her parents try to protect her more.'], 'twisted': [0.7527433633804321, \"Mark's parents come home to find the house in shambles; Evelyn puts the blame on Helen and tries to have her arrested, unaware that Mark lies dead upstairs.\"]} ]\n",
            "correct ||  {'Correct': 63, 'Wrong': 55}\n",
            "\n",
            "##  another young man is apparently watching the death online at home but he can not leave the house Chatroom\n",
            "\t\t\t\t\t\t\t\t Twisted\n",
            "\t\t\t\t\t\t\t\t Chatroom\n",
            "\t\t\t\t\t\t\t\t The 10th Kingdom\n",
            "\t\t\t\t\t\t\t\t The Dragon Ring\n",
            "\t\t\t\t\t\t\t\t Nowhere\n",
            "\t\t\t\t\t\t\t\t Deadend\n",
            "\t\t\t\t\t\t\t\t The Warlord\n",
            "\t\t\t\t\t\t\t\t The Final\n",
            "\t\t\t\t\t\t\t\t Tales of the Night\n",
            "\t\t\t\t\t\t\t\t The Watcher in the Woods\n"
          ]
        },
        {
          "output_type": "stream",
          "name": "stderr",
          "text": [
            "\r 94%|█████████▍| 119/126 [09:40<00:33,  4.73s/it]"
          ]
        },
        {
          "output_type": "stream",
          "name": "stdout",
          "text": [
            "\n",
            "++ [ Chatroom || {'tales of the night': [0.7640014886856079, 'One day a stranger arrives at the city and after discovering this sinister act he resolves to break this cycle of killing.'], 'chatroom': [0.7559901475906372, 'William Collins is a depressed teenage boy recovering from self-harm and regularly goes online to chatrooms.'], 'twisted': [0.7456648349761963, \"Phillip has already looked in their children's rooms, presumably finding Mark's body, but instead offers Helen a ride home.\"]} ]\n",
            "correct ||  {'Correct': 64, 'Wrong': 55}\n",
            "\n",
            "##  another young man is apparently in his room at home watching deaths online but he can not leave his house Chatroom\n",
            "\t\t\t\t\t\t\t\t Twisted\n",
            "\t\t\t\t\t\t\t\t Chatroom\n",
            "\t\t\t\t\t\t\t\t The 10th Kingdom\n",
            "\t\t\t\t\t\t\t\t The Dragon Ring\n",
            "\t\t\t\t\t\t\t\t Nowhere\n",
            "\t\t\t\t\t\t\t\t Deadend\n",
            "\t\t\t\t\t\t\t\t The Warlord\n",
            "\t\t\t\t\t\t\t\t The Final\n",
            "\t\t\t\t\t\t\t\t Tales of the Night\n",
            "\t\t\t\t\t\t\t\t The Watcher in the Woods\n"
          ]
        },
        {
          "output_type": "stream",
          "name": "stderr",
          "text": [
            "\r 95%|█████████▌| 120/126 [09:45<00:28,  4.74s/it]"
          ]
        },
        {
          "output_type": "stream",
          "name": "stdout",
          "text": [
            "\n",
            "++ [ Chatroom || {'chatroom': [0.7613579034805298, 'William Collins is a depressed teenage boy recovering from self-harm and regularly goes online to chatrooms.'], 'twisted': [0.7453408241271973, \"Phillip has already looked in their children's rooms, presumably finding Mark's body, but instead offers Helen a ride home.\"]} ]\n",
            "correct ||  {'Correct': 65, 'Wrong': 55}\n",
            "\n",
            "##  another young man is apparently watching deaths online but he cannot leave his house Chatroom\n",
            "\t\t\t\t\t\t\t\t Twisted\n",
            "\t\t\t\t\t\t\t\t Chatroom\n",
            "\t\t\t\t\t\t\t\t The 10th Kingdom\n",
            "\t\t\t\t\t\t\t\t The Dragon Ring\n",
            "\t\t\t\t\t\t\t\t Nowhere\n",
            "\t\t\t\t\t\t\t\t Deadend\n",
            "\t\t\t\t\t\t\t\t The Warlord\n",
            "\t\t\t\t\t\t\t\t The Final\n",
            "\t\t\t\t\t\t\t\t Tales of the Night\n",
            "\t\t\t\t\t\t\t\t The Watcher in the Woods\n"
          ]
        },
        {
          "output_type": "stream",
          "name": "stderr",
          "text": [
            "\r 96%|█████████▌| 121/126 [09:51<00:24,  4.94s/it]"
          ]
        },
        {
          "output_type": "stream",
          "name": "stdout",
          "text": [
            "\n",
            "++ [ Chatroom || {'chatroom': [0.7746382355690002, 'Jim is another loner who is suffering from depression following his father leaving him and his mother.'], 'twisted': [0.7389491200447083, \"Phillip has already looked in their children's rooms, presumably finding Mark's body, but instead offers Helen a ride home.\"]} ]\n",
            "correct ||  {'Correct': 66, 'Wrong': 55}\n",
            "\n",
            "##  story takes place in a hotel or dormitory building where the doors are numbered Chatroom\n",
            "\t\t\t\t\t\t\t\t Twisted\n",
            "\t\t\t\t\t\t\t\t Chatroom\n",
            "\t\t\t\t\t\t\t\t The 10th Kingdom\n",
            "\t\t\t\t\t\t\t\t The Dragon Ring\n",
            "\t\t\t\t\t\t\t\t Nowhere\n",
            "\t\t\t\t\t\t\t\t Deadend\n",
            "\t\t\t\t\t\t\t\t The Warlord\n",
            "\t\t\t\t\t\t\t\t The Final\n",
            "\t\t\t\t\t\t\t\t Tales of the Night\n",
            "\t\t\t\t\t\t\t\t The Watcher in the Woods\n"
          ]
        },
        {
          "output_type": "stream",
          "name": "stderr",
          "text": [
            "\r 97%|█████████▋| 122/126 [09:56<00:20,  5.18s/it]"
          ]
        },
        {
          "output_type": "stream",
          "name": "stdout",
          "text": [
            "\n",
            "++ [ Chatroom || {'the warlord': [0.7914766073226929, 'The movie opens in the living room of a very luxurious house.'], 'chatroom': [0.7727043628692627, 'Even though they only really communicate through text, they are depicted in an old hotel-like room and actually having contact.'], 'twisted': [0.6993359923362732, 'The sensible Helen meets little Susan Collins at the discount market and likes her, so she offers to do the job.']} ]\n",
            "correct ||  {'Correct': 67, 'Wrong': 55}\n",
            "\n",
            "##  story takes place in a hotel or dormitory type building where doors are numbered Chatroom\n",
            "\t\t\t\t\t\t\t\t Twisted\n",
            "\t\t\t\t\t\t\t\t Chatroom\n",
            "\t\t\t\t\t\t\t\t The 10th Kingdom\n",
            "\t\t\t\t\t\t\t\t The Dragon Ring\n",
            "\t\t\t\t\t\t\t\t Nowhere\n",
            "\t\t\t\t\t\t\t\t Deadend\n",
            "\t\t\t\t\t\t\t\t The Warlord\n",
            "\t\t\t\t\t\t\t\t The Final\n",
            "\t\t\t\t\t\t\t\t Tales of the Night\n",
            "\t\t\t\t\t\t\t\t The Watcher in the Woods\n"
          ]
        },
        {
          "output_type": "stream",
          "name": "stderr",
          "text": [
            "\r 98%|█████████▊| 123/126 [10:01<00:15,  5.03s/it]"
          ]
        },
        {
          "output_type": "stream",
          "name": "stdout",
          "text": [
            "\n",
            "++ [ Chatroom || {'the warlord': [0.7865540981292725, 'The movie opens in the living room of a very luxurious house.'], 'chatroom': [0.7766844630241394, 'Even though they only really communicate through text, they are depicted in an old hotel-like room and actually having contact.'], 'twisted': [0.6911845207214355, 'The sensible Helen meets little Susan Collins at the discount market and likes her, so she offers to do the job.']} ]\n",
            "correct ||  {'Correct': 68, 'Wrong': 55}\n",
            "\n",
            "##  the story takes place in a hotel or dormitory style building where doors are numbered Chatroom\n",
            "\t\t\t\t\t\t\t\t Twisted\n",
            "\t\t\t\t\t\t\t\t Chatroom\n",
            "\t\t\t\t\t\t\t\t The 10th Kingdom\n",
            "\t\t\t\t\t\t\t\t The Dragon Ring\n",
            "\t\t\t\t\t\t\t\t Nowhere\n",
            "\t\t\t\t\t\t\t\t Deadend\n",
            "\t\t\t\t\t\t\t\t The Warlord\n",
            "\t\t\t\t\t\t\t\t The Final\n",
            "\t\t\t\t\t\t\t\t Tales of the Night\n",
            "\t\t\t\t\t\t\t\t The Watcher in the Woods\n"
          ]
        },
        {
          "output_type": "stream",
          "name": "stderr",
          "text": [
            "\r 98%|█████████▊| 124/126 [10:06<00:09,  4.94s/it]"
          ]
        },
        {
          "output_type": "stream",
          "name": "stdout",
          "text": [
            "\n",
            "++ [ Chatroom || {'the warlord': [0.8050935864448547, 'The movie opens in the living room of a very luxurious house.'], 'chatroom': [0.7757170796394348, 'Even though they only really communicate through text, they are depicted in an old hotel-like room and actually having contact.'], 'twisted': [0.6906159520149231, 'The sensible Helen meets little Susan Collins at the discount market and likes her, so she offers to do the job.']} ]\n",
            "correct ||  {'Correct': 69, 'Wrong': 55}\n",
            "\n",
            "##  story takes place in a hotel or dormitory type building where the doors are numbered Chatroom\n",
            "\t\t\t\t\t\t\t\t Twisted\n",
            "\t\t\t\t\t\t\t\t Chatroom\n",
            "\t\t\t\t\t\t\t\t The 10th Kingdom\n",
            "\t\t\t\t\t\t\t\t The Dragon Ring\n",
            "\t\t\t\t\t\t\t\t Nowhere\n",
            "\t\t\t\t\t\t\t\t Deadend\n",
            "\t\t\t\t\t\t\t\t The Warlord\n",
            "\t\t\t\t\t\t\t\t The Final\n",
            "\t\t\t\t\t\t\t\t Tales of the Night\n",
            "\t\t\t\t\t\t\t\t The Watcher in the Woods\n"
          ]
        },
        {
          "output_type": "stream",
          "name": "stderr",
          "text": [
            "\r 99%|█████████▉| 125/126 [10:10<00:04,  4.87s/it]"
          ]
        },
        {
          "output_type": "stream",
          "name": "stdout",
          "text": [
            "\n",
            "++ [ Chatroom || {'the warlord': [0.7876343727111816, 'The movie opens in the living room of a very luxurious house.'], 'chatroom': [0.7752012014389038, 'Even though they only really communicate through text, they are depicted in an old hotel-like room and actually having contact.'], 'twisted': [0.6942894458770752, 'The sensible Helen meets little Susan Collins at the discount market and likes her, so she offers to do the job.']} ]\n",
            "correct ||  {'Correct': 70, 'Wrong': 55}\n",
            "\n",
            "##  the story takes place in a hotel or dormitory type building where the doors are numbered Chatroom\n",
            "\t\t\t\t\t\t\t\t Twisted\n",
            "\t\t\t\t\t\t\t\t Chatroom\n",
            "\t\t\t\t\t\t\t\t The 10th Kingdom\n",
            "\t\t\t\t\t\t\t\t The Dragon Ring\n",
            "\t\t\t\t\t\t\t\t Nowhere\n",
            "\t\t\t\t\t\t\t\t Deadend\n",
            "\t\t\t\t\t\t\t\t The Warlord\n",
            "\t\t\t\t\t\t\t\t The Final\n",
            "\t\t\t\t\t\t\t\t Tales of the Night\n",
            "\t\t\t\t\t\t\t\t The Watcher in the Woods\n"
          ]
        },
        {
          "output_type": "stream",
          "name": "stderr",
          "text": [
            "100%|██████████| 126/126 [10:15<00:00,  4.89s/it]"
          ]
        },
        {
          "output_type": "stream",
          "name": "stdout",
          "text": [
            "\n",
            "++ [ Chatroom || {'the warlord': [0.8017410635948181, 'The movie opens in the living room of a very luxurious house.'], 'chatroom': [0.7749226689338684, 'Even though they only really communicate through text, they are depicted in an old hotel-like room and actually having contact.'], 'twisted': [0.696723461151123, 'The sensible Helen meets little Susan Collins at the discount market and likes her, so she offers to do the job.']} ]\n",
            "correct ||  {'Correct': 71, 'Wrong': 55}\n"
          ]
        },
        {
          "output_type": "stream",
          "name": "stderr",
          "text": [
            "\n"
          ]
        }
      ]
    },
    {
      "cell_type": "code",
      "source": [
        "top3_predictions"
      ],
      "metadata": {
        "colab": {
          "base_uri": "https://localhost:8080/"
        },
        "id": "0YnKLQw4jY-T",
        "outputId": "3ebd3576-0bce-4190-86aa-67d42b70a27a"
      },
      "execution_count": null,
      "outputs": [
        {
          "output_type": "execute_result",
          "data": {
            "text/plain": [
              "{'Correct': 71, 'Wrong': 55}"
            ]
          },
          "metadata": {},
          "execution_count": 27
        }
      ]
    },
    {
      "cell_type": "code",
      "source": [
        "top3_predictions['Correct']/(top3_predictions['Correct']+top3_predictions['Wrong'])"
      ],
      "metadata": {
        "colab": {
          "base_uri": "https://localhost:8080/"
        },
        "id": "1GRLM2Xdo34f",
        "outputId": "d15f8788-527d-4d80-d8d4-77caa3ca2ba1"
      },
      "execution_count": null,
      "outputs": [
        {
          "output_type": "execute_result",
          "data": {
            "text/plain": [
              "0.5634920634920635"
            ]
          },
          "metadata": {},
          "execution_count": 28
        }
      ]
    },
    {
      "cell_type": "code",
      "source": [],
      "metadata": {
        "id": "EmDepP7bjagg"
      },
      "execution_count": null,
      "outputs": []
    }
  ]
}